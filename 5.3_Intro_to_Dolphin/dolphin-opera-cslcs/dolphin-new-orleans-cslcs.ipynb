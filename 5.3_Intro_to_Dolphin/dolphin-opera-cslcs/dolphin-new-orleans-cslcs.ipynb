{
 "cells": [
  {
   "cell_type": "markdown",
   "id": "68148d83-cc69-45f8-aa27-31b0e9caf3e9",
   "metadata": {},
   "source": [
    "# Dolphin walkthrough for OPERA geocoded CSLCs\n",
    "\n",
    "This notebook demonstrates the basic usage of the `dolphin` command line tool to execute the stack-based phase linking workflow.\n",
    "In this notebook, we will\n",
    "\n",
    "- Download geocoded, co-registered single-look complex (CSLC) radar images from [ASF](https://search.asf.alaska.edu/)\n",
    "- Prepare a configuration file for a stack of coregistered single-look complex (SLC) radar images with `dolphin config`\n",
    "- Run this configuration file with `dolphin run` \n",
    "- Inspect the resulting output interferograms\n",
    "- Show the most common parameters you may want to change or customize\n"
   ]
  },
  {
   "cell_type": "markdown",
   "id": "278134de",
   "metadata": {},
   "source": [
    "\n",
    "## Setup\n",
    "\n",
    "We first need to install `dolphin` as outlined in the [Getting Started](https://dolphin-insar.readthedocs.io/en/latest/getting-started/) section of the documentation. You can install `dolphin` with either `conda` (recommended) or `pip` (if a `gdal` installation is availble to the environment)\n"
   ]
  },
  {
   "cell_type": "markdown",
   "id": "efb9c4d2",
   "metadata": {},
   "source": [
    "We can check that we have the command line tool correctly installed by running:"
   ]
  },
  {
   "cell_type": "code",
   "execution_count": 1,
   "id": "f17e1738",
   "metadata": {},
   "outputs": [
    {
     "name": "stdout",
     "output_type": "stream",
     "text": [
      "\u001b[1musage\u001b[0m: dolphin [-h] \u001b[1m{run,config,unwrap,timeseries,filter}\u001b[0m\n",
      "\n",
      "\u001b[2m╭─\u001b[0m\u001b[2m options \u001b[0m\u001b[2m─────────────────────────────────────────────────────────────────\u001b[0m\u001b[2m─╮\u001b[0m\n",
      "\u001b[2m│\u001b[0m -h, --help        \u001b[2mshow this help message and exit\u001b[0m                          \u001b[2m│\u001b[0m\n",
      "\u001b[2m╰────────────────────────────────────────────────────────────────────────────╯\u001b[0m\n",
      "\u001b[2m╭─\u001b[0m\u001b[2m subcommands \u001b[0m\u001b[2m─────────────────────────────────────────────────────────────\u001b[0m\u001b[2m─╮\u001b[0m\n",
      "\u001b[2m│\u001b[0m {run,config,unwrap,timeseries,filter}                                      \u001b[2m│\u001b[0m\n",
      "\u001b[2m│\u001b[0m     run           \u001b[2mRun the displacement workflow.\u001b[0m                           \u001b[2m│\u001b[0m\n",
      "\u001b[2m│\u001b[0m     config        \u001b[2mCreate a configuration file for a displacement workflow.\u001b[0m \u001b[2m│\u001b[0m\n",
      "\u001b[2m│\u001b[0m     unwrap        \u001b[2mRun snaphu on all interferograms in a directory.\u001b[0m         \u001b[2m│\u001b[0m\n",
      "\u001b[2m│\u001b[0m     timeseries    \u001b[2mInvert the unwrapped interferograms, estimate timeseries\u001b[0m \u001b[2m│\u001b[0m\n",
      "\u001b[2m│\u001b[0m                   \u001b[2mand phase velocity.\u001b[0m                                      \u001b[2m│\u001b[0m\n",
      "\u001b[2m│\u001b[0m     filter        \u001b[2mFilter a list of unwrapped interferogram files using a \u001b[0m  \u001b[2m│\u001b[0m\n",
      "\u001b[2m│\u001b[0m                   \u001b[2mlong-wavelength filter.\u001b[0m                                  \u001b[2m│\u001b[0m\n",
      "\u001b[2m╰────────────────────────────────────────────────────────────────────────────╯\u001b[0m\n",
      "\u001b[0m"
     ]
    }
   ],
   "source": [
    "!dolphin --help"
   ]
  },
  {
   "cell_type": "markdown",
   "id": "0aa61da3",
   "metadata": {},
   "source": [
    "or by importing dolphin in python"
   ]
  },
  {
   "cell_type": "code",
   "execution_count": 3,
   "id": "6fbdc0e5",
   "metadata": {},
   "outputs": [
    {
     "name": "stdout",
     "output_type": "stream",
     "text": [
      "dolphin version: 0.38.0.post1.dev29+g9b51f00\n",
      "\n",
      "Python deps:\n",
      "        h5py: 3.10.0\n",
      "         jax: 0.4.25\n",
      "       numba: 0.60.0\n",
      "       numpy: 1.26.4\n",
      " opera-utils: 0.23.2.post1.dev1+g0ba8dcc.d20250626\n",
      "    pydantic: 2.11.4\n",
      "      pyproj: 3.7.0\n",
      "    rasterio: 1.4.3\n",
      " ruamel_yaml: None\n",
      "       scipy: 1.14.1\n",
      "      snaphu: 0.4.1\n",
      "threadpoolctl: 3.2.0\n",
      "        tqdm: 4.66.1\n",
      "        tyro: 0.9.24\n",
      "  osgeo.gdal: 3.9.3\n",
      "\n",
      "System:\n",
      "      python: 3.11.9 | packaged by conda-forge | (main, Apr 19 2024, 18:36:13) [GCC 12.3.0]\n",
      "  executable: /u/aurora-r0/staniewi/miniconda3/envs/mapping-311/bin/python\n",
      "     machine: Linux-3.10.0-1160.119.1.el7.x86_64-x86_64-with-glibc2.17\n",
      "Unwrapping packages:\n",
      "snaphu : 0.4.1\n",
      "spurt : 0.1.dev40\n",
      "isce3 : 0.24.1\n",
      "tophu : 0.1.0\n",
      "whirlwind : 0.1.dev42+g40defb3\n",
      "      snaphu: 0.4.1\n",
      "       spurt: 0.1.dev40\n",
      "       isce3: 0.24.1\n",
      "       tophu: 0.1.0\n",
      "   whirlwind: 0.1.dev42+g40defb3\n",
      "optional GPU info:\n",
      "         jax: 0.4.25\n",
      "gpu_is_available: True\n"
     ]
    }
   ],
   "source": [
    "import dolphin\n",
    "\n",
    "dolphin.show_versions()"
   ]
  },
  {
   "cell_type": "markdown",
   "id": "8c5d63e2",
   "metadata": {},
   "source": [
    "If you have a GPU available to you, you can follow the [extra installation set up](https://dolphin-insar.readthedocs.io/en/latest/gpu-setup/) so that the GPU verion of the workflow run.\n",
    "This can be 5-20x faster than the CPU version for the phase linking portion, depending on the size of your workstation.\n",
    "Here we will be processing a relatively small area, so the CPU will suffice."
   ]
  },
  {
   "cell_type": "markdown",
   "id": "285a8f28",
   "metadata": {},
   "source": [
    "## Input dataset\n",
    "\n",
    "To find input data, you can use the [ASF search UI](https://search.asf.alaska.edu/) to explore and get a list of URLs to download; for our purposes, we will use the [OPERA Co-regisred Single-look Complex product](https://www.jpl.nasa.gov/go/opera/products/cslc-product-suite), which `dolphin` can directly process.\n",
    "\n",
    "The helper functions in the [`opera-utils`](https://github.com/opera-adt/opera-utils) library provide wrappers over the [ASF library](https://github.com/asfadmin/Discovery-asf_search) to make it easy to download OPERA CSLCs over a certain region.\n",
    "Additionally, `opera-utils` has the ability to filter queries with \"missing bursts\" (due to irregular Sentinel-1 acquisitions over North America) to ensure that all dates present have the same spatial coverage.\n",
    "\n",
    "We will search for a stack of Sentinel-1 SLCs over New Orleans (ascending track 165)."
   ]
  },
  {
   "cell_type": "markdown",
   "id": "bd430ecc",
   "metadata": {},
   "source": [
    "Since ASF requires a login to download data, you must authenticate with your Earthdata credentials.\n",
    "We will assume that a `~/.netrc` file is set up with the correct permissions."
   ]
  },
  {
   "cell_type": "code",
   "execution_count": 4,
   "id": "9c42f9f4",
   "metadata": {},
   "outputs": [
    {
     "name": "stdout",
     "output_type": "stream",
     "text": [
      "Found 44 CSLCs to download between 2022-01-01 and 2023-01-01\n"
     ]
    }
   ],
   "source": [
    "from pathlib import Path\n",
    "\n",
    "import opera_utils.download\n",
    "\n",
    "aoi = \"POLYGON((-90.3038 29.8923,-90.0278 29.8992,-90.0262 30.0538,-90.3205 30.06,-90.3038 29.8923))\"\n",
    "start = \"2022-01-01\"\n",
    "end = \"2023-01-01\"\n",
    "burst_ids = [\"T165-352434-IW2\", \"T165-352435-IW2\"]\n",
    "\n",
    "\n",
    "results, options = opera_utils.download.search_cslcs(\n",
    "    burst_ids=burst_ids,\n",
    "    start=start,\n",
    "    end=end,\n",
    "    # We want to have the same set of dates for each Burst ID (spatial footprint)\n",
    "    check_missing_data=True,\n",
    "    # We have already picked out the Burst Ids that we will use.\n",
    "    # An alternative is to use a WKT polygon, with or without a track number specified\n",
    "    # aoi_polygon=aoi,\n",
    ")\n",
    "best_option = options[0]\n",
    "print(f\"Found {len(best_option.inputs)} CSLCs to download between {start} and {end}\")\n"
   ]
  },
  {
   "cell_type": "code",
   "execution_count": 5,
   "id": "2b6dfd9a",
   "metadata": {},
   "outputs": [],
   "source": [
    "import os\n",
    "\n",
    "import asf_search as asf\n",
    "\n",
    "work_dir = Path(\"new-orleans\")\n",
    "work_dir.mkdir(parents=True, exist_ok=True)\n",
    "os.chdir(work_dir)\n",
    "\n",
    "slc_dir = Path(\"input_slcs\")\n",
    "slc_dir.mkdir(parents=True, exist_ok=True)\n",
    "asf.download_urls(best_option.inputs, path=slc_dir)"
   ]
  },
  {
   "cell_type": "markdown",
   "id": "b68bd720",
   "metadata": {},
   "source": [
    "In the `input_slcs` directory, we have stored the NetCDF-format SLCs:"
   ]
  },
  {
   "cell_type": "code",
   "execution_count": 6,
   "id": "460e3d3a",
   "metadata": {},
   "outputs": [
    {
     "name": "stdout",
     "output_type": "stream",
     "text": [
      "OPERA_L2_CSLC-S1_T165-352434-IW2_20220108T000229Z_20240731T082832Z_S1A_VV_v1.1.h5\n",
      "OPERA_L2_CSLC-S1_T165-352434-IW2_20220120T000228Z_20240731T110350Z_S1A_VV_v1.1.h5\n",
      "OPERA_L2_CSLC-S1_T165-352434-IW2_20220201T000228Z_20240731T144900Z_S1A_VV_v1.1.h5\n"
     ]
    },
    {
     "name": "stderr",
     "output_type": "stream",
     "text": [
      "/u/aurora-r0/staniewi/miniconda3/envs/mapping-311/lib/python3.11/pty.py:89: RuntimeWarning: os.fork() was called. os.fork() is incompatible with multithreaded code, and JAX is multithreaded, so this will likely lead to a deadlock.\n",
      "  pid, fd = os.forkpty()\n"
     ]
    }
   ],
   "source": [
    "!ls input_slcs | head -3"
   ]
  },
  {
   "cell_type": "markdown",
   "id": "8ec7f72a",
   "metadata": {},
   "source": [
    "See the [OPERA CSLC documentation](https://d2pn8kiwq2w21t.cloudfront.net/documents/OPERA_CSLC-S1_ProductSpec_v1.0.0_D-108278_Initial_2023-09-11_URS321269.pdf) for the full filename convention, but the main points are\n",
    "\n",
    "- `T165` is Sentinel-1 track (relative orbit) 165\n",
    "- 352434 the Burst IDs from [ESA's Burst database](https://sar-mpc.eu/test-data-sets/)\n",
    "- `IW2` indicates these are from the first subswath (since the \"Burst ID\" is repeated for subswaths IW1,2,3.)\n",
    "- `20220108T000229Z` is the acquisition datetime (in UTC)\n",
    "\n",
    "Note that we specified the data we want is in `/data/VV`. This is not necessary for other SLC formats (e.g. binary files from ISCE2) which have only one raster layer.\n",
    "\n",
    "You can process one single stack, or multiple geocoded stacks. If you have different spatial regions, as is the case with OPERA CSLCs, `dolphin` will form burst-wise interferograms and stitch them before unwrapping."
   ]
  },
  {
   "cell_type": "markdown",
   "id": "d595e716",
   "metadata": {},
   "source": [
    "Let's make a configuration file for all of the bursts:"
   ]
  },
  {
   "cell_type": "code",
   "execution_count": 7,
   "id": "79f9734d",
   "metadata": {},
   "outputs": [
    {
     "name": "stdout",
     "output_type": "stream",
     "text": [
      "Saving configuration to dolphin_config.yaml\n",
      "\u001b[0m"
     ]
    }
   ],
   "source": [
    "!dolphin config --slc-files input_slcs/*.h5 --subdataset \"/data/VV\""
   ]
  },
  {
   "cell_type": "markdown",
   "id": "34f2d018-e136-4315-800d-b2528e5885c3",
   "metadata": {},
   "source": [
    "You can inspect the YAML file to see all configuration options."
   ]
  },
  {
   "cell_type": "markdown",
   "id": "6e0839fd-a3ac-4604-b7be-d72f5002aa0c",
   "metadata": {},
   "source": [
    "### Common configuration\n",
    "\n",
    "#### Strides\n",
    "You can create a downsampled version of the output using `--output-options.strides.x` (or `--sx` for short) and `--sy`. \n",
    "This will save time/space by creation an output with coarser pixel spacing than your SLCs.\n",
    "For COMPASS outputs, adding `--sx 6 --sy 3` will convert the inputs at (5m, 10m) in `(x, y)` (aka `(easting, northing)`) to a (30 meter, 30 meter) output.\n",
    "\n",
    "\n",
    "#### Specify the working directory\n",
    "\n",
    "Use `--work-directory` to save all rasters to a different directory other than the one you call `dolphin run` from.\n",
    "\n",
    "#### Specify how many bursts, or patches, to process in parallel\n",
    "\n",
    "By adding the `--n-parallel-bursts`, you can process separate geocoded bursts at the same time (assuming sufficient resources are available). On a large single stack (like the flat binary files from isce2, or NISAR swaths), this option controls the number of parallel blocks to process during phase linking.\n",
    "\n",
    "Additionally, use `--threads-per-worker` to limit the number of CPUs you would like the workflow to use, especially on large workstations.\n",
    "\n",
    "#### Mini-stack size for phase linking\n",
    "\n",
    "When processing many (dozens to hundreds) of SLCs, `dolphin` will use the strategy of batching SLCs into \"mini-stacks\", rather than processing the entire stack at once. The default is to use batch of 15 dates at a time, but this can be changed with `--phase-linking.ministack-size` or `--ms`. For example, you may want to try processing all dates at once (likely a slower processing time), or you may want to adjust the number slightly (if, e.g., you have 46 dates and would rather not leave the last batch with one remaining).\n",
    "\n",
    "#### Phase unwrapping\n",
    "\n",
    "`dolphin` supports multiple options for phase unwrapping. Here, we will use the [Python wrapper for SNAPHU](https://github.com/isce-framework/snaphu-py), one of the most widely used phase unwrapping algorithms.\n",
    "\n",
    "#### Bounds subsetting\n",
    "\n",
    "If you are interested in a smaller subset of the area, you can specify the `--output-bounds` to force the raster boundaries."
   ]
  },
  {
   "cell_type": "code",
   "execution_count": null,
   "id": "9f793fb3-72ed-4e1c-8015-1fb2912f6f28",
   "metadata": {},
   "outputs": [],
   "source": [
    "!aws s3 cp s3://earthscope-insar2025/dolphin-opera-cslcs/water_mask.tif ./"
   ]
  },
  {
   "cell_type": "code",
   "execution_count": 13,
   "id": "fa206cad-bb7e-4519-b031-bcc7f7bb0fd8",
   "metadata": {},
   "outputs": [
    {
     "name": "stderr",
     "output_type": "stream",
     "text": [
      "Saving configuration to dolphin_config.yaml\n"
     ]
    }
   ],
   "source": [
    "%%bash\n",
    "dolphin config \\\n",
    "    --slc-files input_slcs/*.h5 \\\n",
    "    --subdataset \"/data/VV\" \\\n",
    "    --mask-file water_mask.tif \\\n",
    "    --sx 6 --sy 3 \\\n",
    "    --interferogram-network.max-bandwidth 3 \\\n",
    "    --n-parallel-bursts 2 \\\n",
    "    --ms 16 \\\n",
    "    --unwrap-options.n-parallel-jobs 3 \\\n",
    "    --output-options.bounds-wkt 'POLYGON((-90.3038 29.8923,-90.0278 29.8992,-90.0262 30.0538,-90.3205 30.06,-90.3038 29.8923))' \\\n",
    "    --unwrap-options.snaphu-options.ntiles 2 2 --unwrap-options.snaphu-options.tile-overlap 400 400 \\\n",
    "    --unwrap-options.snaphu-options.n-parallel-tiles 4 \\\n",
    "    --work-directory dolphin\n"
   ]
  },
  {
   "cell_type": "markdown",
   "id": "86b68b7c",
   "metadata": {},
   "source": [
    "## Running the workflow\n",
    "\n",
    "Now that we have created the `dolphin_config.yaml` file, we can run it using `dolphin run`"
   ]
  },
  {
   "cell_type": "code",
   "execution_count": 14,
   "id": "d2cdb4cc",
   "metadata": {
    "scrolled": true
   },
   "outputs": [
    {
     "name": "stderr",
     "output_type": "stream",
     "text": [
      "[INFO|displacement|L117] 2025-08-19T14:24:38-0700: Found SLC files from 2 bursts\n",
      "[INFO|wrapped_phase|L103] 2025-08-19T14:24:40-0700: Running wrapped phase estimation in /u/aurora-r0/staniewi/dev/notebooks/new-orleans/dolphin/t165_352434_iw2\n",
      "[INFO|wrapped_phase|L103] 2025-08-19T14:24:40-0700: Running wrapped phase estimation in /u/aurora-r0/staniewi/dev/notebooks/new-orleans/dolphin/t165_352435_iw2\n",
      "[INFO|masking|L248] 2025-08-19T14:24:47-0700: Creating mask for bounds POLYGON ((-90.3038 29.8923, -90.0278 29.8992, -90.0262 30.0538, -90.3205 30.06, -90.3038 29.8923))\n",
      "[INFO|masking|L248] 2025-08-19T14:24:47-0700: Creating mask for bounds POLYGON ((-90.3038 29.8923, -90.0278 29.8992, -90.0262 30.0538, -90.3205 30.06, -90.3038 29.8923))\n",
      "[INFO|masking|L271] 2025-08-19T14:24:47-0700: Created /u/aurora-r0/staniewi/dev/notebooks/new-orleans/dolphin/t165_352434_iw2/bounds_mask.tif\n",
      "[INFO|masking|L271] 2025-08-19T14:24:47-0700: Created /u/aurora-r0/staniewi/dev/notebooks/new-orleans/dolphin/t165_352435_iw2/bounds_mask.tif\n",
      "[INFO|wrapped_phase|L149] 2025-08-19T14:24:50-0700: Creating persistent scatterer file /u/aurora-r0/staniewi/dev/notebooks/new-orleans/dolphin/t165_352435_iw2/PS/ps_pixels.tif\n",
      "[INFO|wrapped_phase|L149] 2025-08-19T14:24:50-0700: Creating persistent scatterer file /u/aurora-r0/staniewi/dev/notebooks/new-orleans/dolphin/t165_352434_iw2/PS/ps_pixels.tif\n",
      "[INFO|_readers|L1090] 2025-08-19T14:24:50-0700: Processing (512, 512) sized blocks...\n",
      "PS (/u/aurora-r0/staniewi/dev/notebooks/new-orleans/dolphin/t165_352434_iw2/PS):   0%|          | 0/35 [00:00<?, ?it/s][INFO|_readers|L1090] 2025-08-19T14:24:50-0700: Processing (512, 512) sized blocks...\n",
      "\n",
      "PS (/u/aurora-r0/staniewi/dev/notebooks/new-orleans/dolphin/t165_352434_iw2/PS):   3%|▎         | 1/35 [00:00<00:19,  1.75it/s]\n",
      "PS (/u/aurora-r0/staniewi/dev/notebooks/new-orleans/dolphin/t165_352434_iw2/PS):   6%|▌         | 2/35 [00:01<00:17,  1.92it/s]\u001b[A\n",
      "PS (/u/aurora-r0/staniewi/dev/notebooks/new-orleans/dolphin/t165_352434_iw2/PS):   9%|▊         | 3/35 [00:01<00:16,  1.96it/s]\u001b[A\n",
      "PS (/u/aurora-r0/staniewi/dev/notebooks/new-orleans/dolphin/t165_352434_iw2/PS):  11%|█▏        | 4/35 [00:02<00:16,  1.90it/s]\u001b[A\n",
      "PS (/u/aurora-r0/staniewi/dev/notebooks/new-orleans/dolphin/t165_352434_iw2/PS):  14%|█▍        | 5/35 [00:02<00:16,  1.78it/s]\u001b[A\n",
      "PS (/u/aurora-r0/staniewi/dev/notebooks/new-orleans/dolphin/t165_352434_iw2/PS):  17%|█▋        | 6/35 [00:03<00:15,  1.90it/s]\u001b[A\n",
      "PS (/u/aurora-r0/staniewi/dev/notebooks/new-orleans/dolphin/t165_352434_iw2/PS):  20%|██        | 7/35 [00:03<00:15,  1.81it/s]\u001b[A\n",
      "PS (/u/aurora-r0/staniewi/dev/notebooks/new-orleans/dolphin/t165_352434_iw2/PS):  23%|██▎       | 8/35 [00:04<00:14,  1.82it/s]\u001b[A\n",
      "PS (/u/aurora-r0/staniewi/dev/notebooks/new-orleans/dolphin/t165_352434_iw2/PS):  26%|██▌       | 9/35 [00:04<00:14,  1.82it/s]\u001b[A\n",
      "PS (/u/aurora-r0/staniewi/dev/notebooks/new-orleans/dolphin/t165_352434_iw2/PS):  29%|██▊       | 10/35 [00:05<00:13,  1.83it/s][A\n",
      "PS (/u/aurora-r0/staniewi/dev/notebooks/new-orleans/dolphin/t165_352434_iw2/PS):  31%|███▏      | 11/35 [00:06<00:13,  1.79it/s]\u001b[A\n",
      "PS (/u/aurora-r0/staniewi/dev/notebooks/new-orleans/dolphin/t165_352434_iw2/PS):  34%|███▍      | 12/35 [00:06<00:13,  1.70it/s]\u001b[A\n",
      "PS (/u/aurora-r0/staniewi/dev/notebooks/new-orleans/dolphin/t165_352434_iw2/PS):  37%|███▋      | 13/35 [00:07<00:12,  1.74it/s]\u001b[A\n",
      "PS (/u/aurora-r0/staniewi/dev/notebooks/new-orleans/dolphin/t165_352434_iw2/PS):  40%|████      | 14/35 [00:07<00:11,  1.75it/s]\u001b[A\n",
      "PS (/u/aurora-r0/staniewi/dev/notebooks/new-orleans/dolphin/t165_352434_iw2/PS):  43%|████▎     | 15/35 [00:08<00:11,  1.77it/s]\u001b[A\n",
      "PS (/u/aurora-r0/staniewi/dev/notebooks/new-orleans/dolphin/t165_352434_iw2/PS):  46%|████▌     | 16/35 [00:08<00:10,  1.74it/s]\u001b[A\n",
      "PS (/u/aurora-r0/staniewi/dev/notebooks/new-orleans/dolphin/t165_352434_iw2/PS):  49%|████▊     | 17/35 [00:09<00:10,  1.74it/s]\u001b[A\n",
      "PS (/u/aurora-r0/staniewi/dev/notebooks/new-orleans/dolphin/t165_352434_iw2/PS):  51%|█████▏    | 18/35 [00:10<00:09,  1.70it/s]\u001b[A\n",
      "PS (/u/aurora-r0/staniewi/dev/notebooks/new-orleans/dolphin/t165_352434_iw2/PS):  54%|█████▍    | 19/35 [00:10<00:09,  1.72it/s]\u001b[A\n",
      "PS (/u/aurora-r0/staniewi/dev/notebooks/new-orleans/dolphin/t165_352434_iw2/PS):  57%|█████▋    | 20/35 [00:11<00:08,  1.72it/s]\u001b[A\n",
      "PS (/u/aurora-r0/staniewi/dev/notebooks/new-orleans/dolphin/t165_352434_iw2/PS):  60%|██████    | 21/35 [00:11<00:08,  1.71it/s]\u001b[A\n",
      "PS (/u/aurora-r0/staniewi/dev/notebooks/new-orleans/dolphin/t165_352435_iw2/PS):  45%|████▍     | 21/47 [00:11<00:14,  1.82it/s]\u001b[A\n",
      "PS (/u/aurora-r0/staniewi/dev/notebooks/new-orleans/dolphin/t165_352434_iw2/PS):  63%|██████▎   | 22/35 [00:12<00:07,  1.70it/s]\u001b[A\n",
      "PS (/u/aurora-r0/staniewi/dev/notebooks/new-orleans/dolphin/t165_352434_iw2/PS):  66%|██████▌   | 23/35 [00:13<00:07,  1.68it/s]\u001b[A\n",
      "PS (/u/aurora-r0/staniewi/dev/notebooks/new-orleans/dolphin/t165_352434_iw2/PS):  69%|██████▊   | 24/35 [00:13<00:06,  1.67it/s]\u001b[A\n",
      "PS (/u/aurora-r0/staniewi/dev/notebooks/new-orleans/dolphin/t165_352434_iw2/PS):  71%|███████▏  | 25/35 [00:14<00:06,  1.65it/s]\u001b[A\n",
      "PS (/u/aurora-r0/staniewi/dev/notebooks/new-orleans/dolphin/t165_352434_iw2/PS):  74%|███████▍  | 26/35 [00:14<00:05,  1.62it/s]\u001b[A\n",
      "PS (/u/aurora-r0/staniewi/dev/notebooks/new-orleans/dolphin/t165_352434_iw2/PS):  77%|███████▋  | 27/35 [00:15<00:04,  1.65it/s]\u001b[A\n",
      "PS (/u/aurora-r0/staniewi/dev/notebooks/new-orleans/dolphin/t165_352434_iw2/PS):  80%|████████  | 28/35 [00:16<00:04,  1.67it/s]\u001b[A\n",
      "PS (/u/aurora-r0/staniewi/dev/notebooks/new-orleans/dolphin/t165_352434_iw2/PS):  83%|████████▎ | 29/35 [00:16<00:03,  1.66it/s]\u001b[A\n",
      "PS (/u/aurora-r0/staniewi/dev/notebooks/new-orleans/dolphin/t165_352435_iw2/PS):  64%|██████▍   | 30/47 [00:16<00:09,  1.81it/s]\u001b[A\n",
      "PS (/u/aurora-r0/staniewi/dev/notebooks/new-orleans/dolphin/t165_352434_iw2/PS):  86%|████████▌ | 30/35 [00:17<00:03,  1.64it/s]\u001b[A\n",
      "PS (/u/aurora-r0/staniewi/dev/notebooks/new-orleans/dolphin/t165_352434_iw2/PS):  89%|████████▊ | 31/35 [00:17<00:02,  1.63it/s]\u001b[A\n",
      "PS (/u/aurora-r0/staniewi/dev/notebooks/new-orleans/dolphin/t165_352434_iw2/PS):  91%|█████████▏| 32/35 [00:18<00:01,  1.63it/s]\u001b[A\n",
      "PS (/u/aurora-r0/staniewi/dev/notebooks/new-orleans/dolphin/t165_352434_iw2/PS):  94%|█████████▍| 33/35 [00:19<00:01,  1.64it/s]\u001b[A\n",
      "PS (/u/aurora-r0/staniewi/dev/notebooks/new-orleans/dolphin/t165_352434_iw2/PS):  97%|█████████▋| 34/35 [00:19<00:00,  1.64it/s]\u001b[A\n",
      "PS (/u/aurora-r0/staniewi/dev/notebooks/new-orleans/dolphin/t165_352435_iw2/PS):  77%|███████▋  | 36/47 [00:19<00:05,  1.98it/s]\u001b[A\n",
      "PS (/u/aurora-r0/staniewi/dev/notebooks/new-orleans/dolphin/t165_352434_iw2/PS): 100%|██████████| 35/35 [00:20<00:00,  1.72it/s]\u001b[A\n",
      "\n",
      "PS (/u/aurora-r0/staniewi/dev/notebooks/new-orleans/dolphin/t165_352435_iw2/PS):  81%|████████  | 38/47 [00:20<00:04,  2.06it/s]\u001b[A[INFO|ps|L159] 2025-08-19T14:25:11-0700: Waiting to write 0 blocks of data.\n",
      "[INFO|ps|L162] 2025-08-19T14:25:11-0700: Repacking PS rasters for better compression\n",
      "\n",
      "PS (/u/aurora-r0/staniewi/dev/notebooks/new-orleans/dolphin/t165_352435_iw2/PS):  83%|████████▎ | 39/47 [00:21<00:03,  2.15it/s]\u001b[A\n",
      "PS (/u/aurora-r0/staniewi/dev/notebooks/new-orleans/dolphin/t165_352435_iw2/PS):  85%|████████▌ | 40/47 [00:21<00:03,  2.15it/s]\u001b[A\n",
      "PS (/u/aurora-r0/staniewi/dev/notebooks/new-orleans/dolphin/t165_352435_iw2/PS):  87%|████████▋ | 41/47 [00:22<00:02,  2.15it/s]\u001b[A\n",
      "PS (/u/aurora-r0/staniewi/dev/notebooks/new-orleans/dolphin/t165_352435_iw2/PS):  89%|████████▉ | 42/47 [00:22<00:02,  2.15it/s]\u001b[A\n",
      "PS (/u/aurora-r0/staniewi/dev/notebooks/new-orleans/dolphin/t165_352435_iw2/PS):  91%|█████████▏| 43/47 [00:23<00:01,  2.16it/s]\u001b[A\n",
      "PS (/u/aurora-r0/staniewi/dev/notebooks/new-orleans/dolphin/t165_352435_iw2/PS):  94%|█████████▎| 44/47 [00:23<00:01,  2.13it/s]\u001b[A\n",
      "PS (/u/aurora-r0/staniewi/dev/notebooks/new-orleans/dolphin/t165_352435_iw2/PS):  96%|█████████▌| 45/47 [00:23<00:00,  2.10it/s]\u001b[A\n",
      "PS (/u/aurora-r0/staniewi/dev/notebooks/new-orleans/dolphin/t165_352435_iw2/PS):  98%|█████████▊| 46/47 [00:24<00:00,  2.10it/s]\u001b[A\n",
      "PS (/u/aurora-r0/staniewi/dev/notebooks/new-orleans/dolphin/t165_352435_iw2/PS): 100%|██████████| 47/47 [00:24<00:00,  1.88it/s]\u001b[A\n",
      "[INFO|ps|L159] 2025-08-19T14:25:15-0700: Waiting to write 0 blocks of data.\n",
      "[INFO|ps|L162] 2025-08-19T14:25:16-0700: Repacking PS rasters for better compression\n",
      "[INFO|ps|L166] 2025-08-19T14:25:18-0700: Finished writing out PS files\n",
      "[INFO|ps|L306] 2025-08-19T14:25:18-0700: Saving a looked PS mask to /u/aurora-r0/staniewi/dev/notebooks/new-orleans/dolphin/t165_352434_iw2/PS/ps_pixels_looked.tif\n",
      "[INFO|ps|L166] 2025-08-19T14:25:21-0700: Finished writing out PS files\n",
      "[INFO|ps|L306] 2025-08-19T14:25:21-0700: Saving a looked PS mask to /u/aurora-r0/staniewi/dev/notebooks/new-orleans/dolphin/t165_352435_iw2/PS/ps_pixels_looked.tif\n",
      "[INFO|wrapped_phase|L207] 2025-08-19T14:25:22-0700: Running sequential EMI step in /u/aurora-r0/staniewi/dev/notebooks/new-orleans/dolphin/t165_352434_iw2/linked_phase\n",
      "[INFO|sequential|L85] 2025-08-19T14:25:22-0700: File range start: OPERA_L2_CSLC-S1_T165-352434-IW2_20220108T000229Z_20240731T082832Z_S1A_VV_v1.1.h5\n",
      "[INFO|sequential|L86] 2025-08-19T14:25:22-0700: File range end: OPERA_L2_CSLC-S1_T165-352434-IW2_20221222T000235Z_20240802T041250Z_S1A_VV_v1.1.h5\n",
      "[INFO|sequential|L87] 2025-08-19T14:25:22-0700: Output folder: /u/aurora-r0/staniewi/dev/notebooks/new-orleans/dolphin/t165_352434_iw2/linked_phase\n",
      "[INFO|sequential|L88] 2025-08-19T14:25:22-0700: Number of ministacks of size 16: 2\n",
      "[INFO|sequential|L114] 2025-08-19T14:25:22-0700: Processing 16 SLCs. Output folder: /u/aurora-r0/staniewi/dev/notebooks/new-orleans/dolphin/t165_352434_iw2/linked_phase/20220108_20221011\n",
      "[INFO|single|L89] 2025-08-19T14:25:23-0700: VRTStack(16 bands, outfile=/u/aurora-r0/staniewi/dev/notebooks/new-orleans/dolphin/t165_352434_iw2/linked_phase/20220108_20221011.vrt): from [datetime.datetime(2022, 1, 8, 0, 0)] to [datetime.datetime(2022, 10, 11, 0, 0)]\n",
      "[INFO|wrapped_phase|L207] 2025-08-19T14:25:25-0700: Running sequential EMI step in /u/aurora-r0/staniewi/dev/notebooks/new-orleans/dolphin/t165_352435_iw2/linked_phase\n",
      "[INFO|sequential|L85] 2025-08-19T14:25:25-0700: File range start: OPERA_L2_CSLC-S1_T165-352435-IW2_20220108T000232Z_20240731T082832Z_S1A_VV_v1.1.h5\n",
      "[INFO|sequential|L86] 2025-08-19T14:25:25-0700: File range end: OPERA_L2_CSLC-S1_T165-352435-IW2_20221222T000238Z_20240802T041250Z_S1A_VV_v1.1.h5\n",
      "[INFO|sequential|L87] 2025-08-19T14:25:25-0700: Output folder: /u/aurora-r0/staniewi/dev/notebooks/new-orleans/dolphin/t165_352435_iw2/linked_phase\n",
      "[INFO|sequential|L88] 2025-08-19T14:25:25-0700: Number of ministacks of size 16: 2\n",
      "[INFO|sequential|L114] 2025-08-19T14:25:25-0700: Processing 16 SLCs. Output folder: /u/aurora-r0/staniewi/dev/notebooks/new-orleans/dolphin/t165_352435_iw2/linked_phase/20220108_20221011\n",
      "[INFO|single|L89] 2025-08-19T14:25:26-0700: VRTStack(16 bands, outfile=/u/aurora-r0/staniewi/dev/notebooks/new-orleans/dolphin/t165_352435_iw2/linked_phase/20220108_20221011.vrt): from [datetime.datetime(2022, 1, 8, 0, 0)] to [datetime.datetime(2022, 10, 11, 0, 0)]\n",
      "[INFO|single|L108] 2025-08-19T14:25:28-0700: Processing 16 SLCs + 0 compressed SLCs. \n",
      "[INFO|single|L113] 2025-08-19T14:25:28-0700: Total stack size (in pixels): (16, 4494, 20598)\n",
      "Phase linking (/u/aurora-r0/staniewi/dev/notebooks/new-orleans/dolphin/t165_352434_iw2/linked_phase):   0%|          | 0/35 [00:00<?, ?it/s][INFO|single|L108] 2025-08-19T14:25:31-0700: Processing 16 SLCs + 0 compressed SLCs. \n",
      "[INFO|single|L113] 2025-08-19T14:25:31-0700: Total stack size (in pixels): (16, 4488, 20604)\n",
      "\n",
      "Phase linking (/u/aurora-r0/staniewi/dev/notebooks/new-orleans/dolphin/t165_352435_iw2/linked_phase):   0%|          | 0/48 [00:00<?, ?it/s]\u001b[A\n",
      "Phase linking (/u/aurora-r0/staniewi/dev/notebooks/new-orleans/dolphin/t165_352435_iw2/linked_phase):   2%|▏         | 1/48 [00:07<05:38,  7.21s/it]\u001b[A\n",
      "Phase linking (/u/aurora-r0/staniewi/dev/notebooks/new-orleans/dolphin/t165_352434_iw2/linked_phase):   3%|▎         | 1/35 [00:13<07:48, 13.79s/it]\u001b[A\n",
      "Phase linking (/u/aurora-r0/staniewi/dev/notebooks/new-orleans/dolphin/t165_352434_iw2/linked_phase):   6%|▌         | 2/35 [00:14<03:22,  6.14s/it]\u001b[A\n",
      "Phase linking (/u/aurora-r0/staniewi/dev/notebooks/new-orleans/dolphin/t165_352434_iw2/linked_phase):   9%|▊         | 3/35 [00:15<01:57,  3.68s/it]\u001b[A\n",
      "Phase linking (/u/aurora-r0/staniewi/dev/notebooks/new-orleans/dolphin/t165_352434_iw2/linked_phase):  11%|█▏        | 4/35 [00:16<01:18,  2.53s/it]\u001b[A\n",
      "Phase linking (/u/aurora-r0/staniewi/dev/notebooks/new-orleans/dolphin/t165_352434_iw2/linked_phase):  14%|█▍        | 5/35 [00:16<00:56,  1.89s/it]\u001b[A\n",
      "Phase linking (/u/aurora-r0/staniewi/dev/notebooks/new-orleans/dolphin/t165_352434_iw2/linked_phase):  17%|█▋        | 6/35 [00:17<00:44,  1.53s/it]\u001b[A\n",
      "Phase linking (/u/aurora-r0/staniewi/dev/notebooks/new-orleans/dolphin/t165_352434_iw2/linked_phase):  20%|██        | 7/35 [00:18<00:36,  1.29s/it]\u001b[A\n",
      "Phase linking (/u/aurora-r0/staniewi/dev/notebooks/new-orleans/dolphin/t165_352434_iw2/linked_phase):  23%|██▎       | 8/35 [00:19<00:30,  1.13s/it]\u001b[A\n",
      "Phase linking (/u/aurora-r0/staniewi/dev/notebooks/new-orleans/dolphin/t165_352434_iw2/linked_phase):  26%|██▌       | 9/35 [00:20<00:26,  1.01s/it]]\u001b[A\n",
      "Phase linking (/u/aurora-r0/staniewi/dev/notebooks/new-orleans/dolphin/t165_352434_iw2/linked_phase):  29%|██▊       | 10/35 [00:20<00:23,  1.08it/s]\u001b[A\n",
      "Phase linking (/u/aurora-r0/staniewi/dev/notebooks/new-orleans/dolphin/t165_352434_iw2/linked_phase):  31%|███▏      | 11/35 [00:21<00:20,  1.15it/s]\u001b[A\n",
      "Phase linking (/u/aurora-r0/staniewi/dev/notebooks/new-orleans/dolphin/t165_352434_iw2/linked_phase):  34%|███▍      | 12/35 [00:22<00:18,  1.21it/s]\u001b[A\n",
      "Phase linking (/u/aurora-r0/staniewi/dev/notebooks/new-orleans/dolphin/t165_352434_iw2/linked_phase):  37%|███▋      | 13/35 [00:22<00:17,  1.26it/s]\u001b[A\n",
      "Phase linking (/u/aurora-r0/staniewi/dev/notebooks/new-orleans/dolphin/t165_352434_iw2/linked_phase):  40%|████      | 14/35 [00:23<00:16,  1.28it/s]\u001b[A\n",
      "Phase linking (/u/aurora-r0/staniewi/dev/notebooks/new-orleans/dolphin/t165_352434_iw2/linked_phase):  43%|████▎     | 15/35 [00:24<00:15,  1.27it/s]\u001b[A\n",
      "Phase linking (/u/aurora-r0/staniewi/dev/notebooks/new-orleans/dolphin/t165_352434_iw2/linked_phase):  46%|████▌     | 16/35 [00:25<00:14,  1.29it/s]\u001b[A\n",
      "Phase linking (/u/aurora-r0/staniewi/dev/notebooks/new-orleans/dolphin/t165_352434_iw2/linked_phase):  49%|████▊     | 17/35 [00:26<00:14,  1.27it/s]\u001b[A\n",
      "Phase linking (/u/aurora-r0/staniewi/dev/notebooks/new-orleans/dolphin/t165_352434_iw2/linked_phase):  51%|█████▏    | 18/35 [00:26<00:14,  1.21it/s]\u001b[A\n",
      "Phase linking (/u/aurora-r0/staniewi/dev/notebooks/new-orleans/dolphin/t165_352435_iw2/linked_phase):  42%|████▏     | 20/48 [00:23<00:20,  1.35it/s]\u001b[A\n",
      "Phase linking (/u/aurora-r0/staniewi/dev/notebooks/new-orleans/dolphin/t165_352434_iw2/linked_phase):  54%|█████▍    | 19/35 [00:27<00:13,  1.21it/s]\u001b[A\n",
      "Phase linking (/u/aurora-r0/staniewi/dev/notebooks/new-orleans/dolphin/t165_352434_iw2/linked_phase):  57%|█████▋    | 20/35 [00:28<00:12,  1.22it/s]\u001b[A\n",
      "Phase linking (/u/aurora-r0/staniewi/dev/notebooks/new-orleans/dolphin/t165_352434_iw2/linked_phase):  60%|██████    | 21/35 [00:29<00:11,  1.25it/s]\u001b[A\n",
      "Phase linking (/u/aurora-r0/staniewi/dev/notebooks/new-orleans/dolphin/t165_352434_iw2/linked_phase):  63%|██████▎   | 22/35 [00:30<00:11,  1.16it/s]\u001b[A\n",
      "Phase linking (/u/aurora-r0/staniewi/dev/notebooks/new-orleans/dolphin/t165_352434_iw2/linked_phase):  66%|██████▌   | 23/35 [00:31<00:10,  1.16it/s]\u001b[A\n",
      "Phase linking (/u/aurora-r0/staniewi/dev/notebooks/new-orleans/dolphin/t165_352435_iw2/linked_phase):  54%|█████▍    | 26/48 [00:27<00:15,  1.38it/s]\u001b[A\n",
      "Phase linking (/u/aurora-r0/staniewi/dev/notebooks/new-orleans/dolphin/t165_352434_iw2/linked_phase):  69%|██████▊   | 24/35 [00:32<00:09,  1.15it/s]\u001b[A\n",
      "Phase linking (/u/aurora-r0/staniewi/dev/notebooks/new-orleans/dolphin/t165_352434_iw2/linked_phase):  71%|███████▏  | 25/35 [00:32<00:08,  1.17it/s]\u001b[A\n",
      "Phase linking (/u/aurora-r0/staniewi/dev/notebooks/new-orleans/dolphin/t165_352434_iw2/linked_phase):  74%|███████▍  | 26/35 [00:33<00:07,  1.13it/s]\u001b[A\n",
      "Phase linking (/u/aurora-r0/staniewi/dev/notebooks/new-orleans/dolphin/t165_352434_iw2/linked_phase):  77%|███████▋  | 27/35 [00:34<00:06,  1.14it/s]\u001b[A\n",
      "Phase linking (/u/aurora-r0/staniewi/dev/notebooks/new-orleans/dolphin/t165_352434_iw2/linked_phase):  80%|████████  | 28/35 [00:35<00:05,  1.20it/s]\u001b[A\n",
      "Phase linking (/u/aurora-r0/staniewi/dev/notebooks/new-orleans/dolphin/t165_352434_iw2/linked_phase):  83%|████████▎ | 29/35 [00:36<00:04,  1.24it/s]\u001b[A\n",
      "Phase linking (/u/aurora-r0/staniewi/dev/notebooks/new-orleans/dolphin/t165_352434_iw2/linked_phase):  86%|████████▌ | 30/35 [00:37<00:03,  1.25it/s]\u001b[A\n",
      "Phase linking (/u/aurora-r0/staniewi/dev/notebooks/new-orleans/dolphin/t165_352434_iw2/linked_phase):  89%|████████▊ | 31/35 [00:37<00:03,  1.31it/s][INFO|single|L376] 2025-08-19T14:26:06-0700: Waiting to write 51 blocks of data.\n",
      "[INFO|single|L378] 2025-08-19T14:26:06-0700: Finished ministack of size (16, 4494, 20598).\n",
      "\n",
      "Phase linking (/u/aurora-r0/staniewi/dev/notebooks/new-orleans/dolphin/t165_352435_iw2/linked_phase):  73%|███████▎  | 35/48 [00:34<00:09,  1.41it/s]\u001b[A[INFO|single|L381] 2025-08-19T14:26:06-0700: Repacking phase linking outputs for more compression\n",
      "\n",
      "Processing Rasters:   0%|          | 0/16 [00:00<?, ?it/s]\u001b[A\n",
      "Phase linking (/u/aurora-r0/staniewi/dev/notebooks/new-orleans/dolphin/t165_352435_iw2/linked_phase):  75%|███████▌  | 36/48 [00:35<00:08,  1.44it/s]\u001b[A\n",
      "Phase linking (/u/aurora-r0/staniewi/dev/notebooks/new-orleans/dolphin/t165_352435_iw2/linked_phase):  77%|███████▋  | 37/48 [00:35<00:07,  1.45it/s]\u001b[A\n",
      "Processing Rasters:   6%|▋         | 1/16 [00:02<00:39,  2.61s/it]\u001b[A\n",
      "Processing Rasters:  38%|███▊      | 6/16 [00:03<00:05,  1.91it/s]\u001b[A\n",
      "Phase linking (/u/aurora-r0/staniewi/dev/notebooks/new-orleans/dolphin/t165_352435_iw2/linked_phase):  79%|███████▉  | 38/48 [00:39<00:16,  1.62s/it]\u001b[A\n",
      "Processing Rasters:  44%|████▍     | 7/16 [00:04<00:05,  1.56it/s]\u001b[A\n",
      "Processing Rasters:  62%|██████▎   | 10/16 [00:05<00:02,  2.46it/s]\u001b[A\n",
      "Phase linking (/u/aurora-r0/staniewi/dev/notebooks/new-orleans/dolphin/t165_352435_iw2/linked_phase):  81%|████████▏ | 39/48 [00:40<00:11,  1.32s/it]\u001b[A\n",
      "Processing Rasters: 100%|██████████| 16/16 [00:05<00:00,  2.85it/s]\u001b[A\n",
      "[INFO|single|L384] 2025-08-19T14:26:12-0700: Creating similarity raster on outputs\n",
      "\n",
      "  0%|          | 0/21 [00:00<?, ?it/s]\u001b[A\n",
      " 10%|▉         | 2/21 [00:00<00:01, 16.09it/s]\u001b[A\n",
      " 29%|██▊       | 6/21 [00:00<00:00, 27.76it/s]\u001b[A[INFO|single|L376] 2025-08-19T14:26:16-0700: Waiting to write 0 blocks of data.\n",
      "[INFO|single|L378] 2025-08-19T14:26:16-0700: Finished ministack of size (16, 4488, 20604).\n",
      "[INFO|single|L381] 2025-08-19T14:26:16-0700: Repacking phase linking outputs for more compression\n",
      "Processing Rasters: 100%|██████████| 16/16 [00:02<00:00,  6.72it/s]\n",
      "[INFO|single|L384] 2025-08-19T14:26:18-0700: Creating similarity raster on outputs\n",
      " 29%|██▊       | 6/21 [00:00<00:00, 22.28it/s]\n",
      " 43%|████▎     | 9/21 [00:09<00:17,  1.42s/it]\u001b[A\n",
      " 52%|█████▏    | 11/21 [00:12<00:14,  1.46s/it]\u001b[A\n",
      "100%|██████████| 21/21 [00:13<00:00,  1.61it/s]\u001b[A\n",
      "[INFO|single|L395] 2025-08-19T14:26:25-0700: Repacking CRLB files for more compression\n",
      "\n",
      "Processing Rasters:   0%|          | 0/16 [00:00<?, ?it/s]\u001b[A\n",
      "Processing Rasters:   6%|▋         | 1/16 [00:00<00:06,  2.50it/s]\u001b[A\n",
      " 43%|████▎     | 9/21 [00:08<00:15,  1.29s/it]00<00:03,  4.39it/s]\u001b[A\n",
      "Processing Rasters:  31%|███▏      | 5/16 [00:01<00:03,  2.97it/s]\u001b[A\n",
      "Processing Rasters: 100%|██████████| 16/16 [00:02<00:00,  6.69it/s][A\n",
      "[INFO|single|L399] 2025-08-19T14:26:28-0700: Repacking closure phase files for more compression\n",
      "\n",
      "Processing Rasters:   0%|          | 0/14 [00:00<?, ?it/s]\u001b[A\n",
      "Processing Rasters:   7%|▋         | 1/14 [00:00<00:01,  7.31it/s]\u001b[A\n",
      "Processing Rasters:  29%|██▊       | 4/14 [00:00<00:01,  7.38it/s]\u001b[A\n",
      "Processing Rasters:  57%|█████▋    | 8/14 [00:00<00:00, 10.86it/s]\u001b[A\n",
      "Processing Rasters: 100%|██████████| 14/14 [00:01<00:00,  9.12it/s]\u001b[A\n",
      "Phase linking (/u/aurora-r0/staniewi/dev/notebooks/new-orleans/dolphin/t165_352434_iw2/linked_phase):  89%|████████▊ | 31/35 [01:01<00:07,  1.97s/it]\n",
      "[INFO|sequential|L114] 2025-08-19T14:26:30-0700: Processing 7 SLCs. Output folder: /u/aurora-r0/staniewi/dev/notebooks/new-orleans/dolphin/t165_352434_iw2/linked_phase/20221023_20221222\n",
      "[INFO|single|L89] 2025-08-19T14:26:30-0700: VRTStack(7 bands, outfile=/u/aurora-r0/staniewi/dev/notebooks/new-orleans/dolphin/t165_352434_iw2/linked_phase/20221023_20221222.vrt): from (datetime.datetime(2022, 1, 8, 0, 0), datetime.datetime(2022, 1, 8, 0, 0), datetime.datetime(2022, 10, 11, 0, 0)) to [datetime.datetime(2022, 12, 22, 0, 0)]\n",
      " 67%|██████▋   | 14/21 [00:11<00:05,  1.19it/s][INFO|single|L108] 2025-08-19T14:26:35-0700: Processing 6 SLCs + 1 compressed SLCs. \n",
      "[INFO|single|L113] 2025-08-19T14:26:35-0700: Total stack size (in pixels): (7, 4494, 20598)\n",
      "100%|██████████| 21/21 [00:22<00:00,  1.06s/it]oks/new-orleans/dolphin/t165_352434_iw2/linked_phase):  14%|█▍        | 5/35 [00:05<00:18,  1.65it/s]\n",
      "[INFO|single|L395] 2025-08-19T14:26:41-0700: Repacking CRLB files for more compression\n",
      "Processing Rasters: 100%|██████████| 16/16 [00:03<00:00,  4.67it/s]hin/t165_352434_iw2/linked_phase):  46%|████▌     | 16/35 [00:08<00:06,  3.07it/s]\n",
      "[INFO|single|L399] 2025-08-19T14:26:44-0700: Repacking closure phase files for more compression\n",
      "Processing Rasters: 100%|██████████| 14/14 [00:03<00:00,  3.85it/s]hin/t165_352434_iw2/linked_phase):  80%|████████  | 28/35 [00:12<00:02,  3.32it/s]\n",
      "Phase linking (/u/aurora-r0/staniewi/dev/notebooks/new-orleans/dolphin/t165_352435_iw2/linked_phase):  81%|████████▏ | 39/48 [01:16<00:17,  1.95s/it]\n",
      "[INFO|sequential|L114] 2025-08-19T14:26:48-0700: Processing 7 SLCs. Output folder: /u/aurora-r0/staniewi/dev/notebooks/new-orleans/dolphin/t165_352435_iw2/linked_phase/20221023_20221222\n",
      "[INFO|single|L89] 2025-08-19T14:26:48-0700: VRTStack(7 bands, outfile=/u/aurora-r0/staniewi/dev/notebooks/new-orleans/dolphin/t165_352435_iw2/linked_phase/20221023_20221222.vrt): from (datetime.datetime(2022, 1, 8, 0, 0), datetime.datetime(2022, 1, 8, 0, 0), datetime.datetime(2022, 10, 11, 0, 0)) to [datetime.datetime(2022, 12, 22, 0, 0)]\n",
      "Phase linking (/u/aurora-r0/staniewi/dev/notebooks/new-orleans/dolphin/t165_352434_iw2/linked_phase):  91%|█████████▏| 32/35 [00:13<00:00,  3.41it/s][INFO|single|L376] 2025-08-19T14:26:49-0700: Waiting to write 22 blocks of data.\n",
      "[INFO|single|L378] 2025-08-19T14:26:49-0700: Finished ministack of size (7, 4494, 20598).\n",
      "[INFO|single|L381] 2025-08-19T14:26:49-0700: Repacking phase linking outputs for more compression\n",
      "\n",
      "Processing Rasters:   0%|          | 0/6 [00:00<?, ?it/s]\u001b[A\n",
      "Processing Rasters:  17%|█▋        | 1/6 [00:01<00:07,  1.40s/it]\u001b[A\n",
      "Processing Rasters: 100%|██████████| 6/6 [00:04<00:00,  1.46it/s]\u001b[A\n",
      "[INFO|single|L384] 2025-08-19T14:26:53-0700: Creating similarity raster on outputs\n",
      "[INFO|single|L108] 2025-08-19T14:26:53-0700: Processing 6 SLCs + 1 compressed SLCs. \n",
      "[INFO|single|L113] 2025-08-19T14:26:53-0700: Total stack size (in pixels): (7, 4488, 20604)\n",
      "\n",
      "Phase linking (/u/aurora-r0/staniewi/dev/notebooks/new-orleans/dolphin/t165_352435_iw2/linked_phase):   0%|          | 0/48 [00:00<?, ?it/s]\u001b[A\n",
      "  0%|          | 0/21 [00:00<?, ?it/s]\u001b[A\n",
      " 29%|██▊       | 6/21 [00:00<00:00, 58.47it/s]\u001b[A\n",
      "Phase linking (/u/aurora-r0/staniewi/dev/notebooks/new-orleans/dolphin/t165_352435_iw2/linked_phase):   2%|▏         | 1/48 [00:04<03:28,  4.43s/it]\u001b[A\n",
      "Phase linking (/u/aurora-r0/staniewi/dev/notebooks/new-orleans/dolphin/t165_352435_iw2/linked_phase):   4%|▍         | 2/48 [00:04<01:31,  1.99s/it]\u001b[A\n",
      "Phase linking (/u/aurora-r0/staniewi/dev/notebooks/new-orleans/dolphin/t165_352435_iw2/linked_phase):   6%|▋         | 3/48 [00:04<00:54,  1.20s/it]\u001b[A\n",
      "Phase linking (/u/aurora-r0/staniewi/dev/notebooks/new-orleans/dolphin/t165_352435_iw2/linked_phase):   8%|▊         | 4/48 [00:05<00:36,  1.20it/s]\u001b[A\n",
      "Phase linking (/u/aurora-r0/staniewi/dev/notebooks/new-orleans/dolphin/t165_352435_iw2/linked_phase):  10%|█         | 5/48 [00:05<00:27,  1.58it/s]\u001b[A\n",
      "Phase linking (/u/aurora-r0/staniewi/dev/notebooks/new-orleans/dolphin/t165_352435_iw2/linked_phase):  12%|█▎        | 6/48 [00:05<00:21,  1.98it/s]\u001b[A\n",
      "Phase linking (/u/aurora-r0/staniewi/dev/notebooks/new-orleans/dolphin/t165_352435_iw2/linked_phase):  15%|█▍        | 7/48 [00:06<00:17,  2.35it/s]\u001b[A\n",
      "Phase linking (/u/aurora-r0/staniewi/dev/notebooks/new-orleans/dolphin/t165_352435_iw2/linked_phase):  17%|█▋        | 8/48 [00:06<00:14,  2.68it/s]\u001b[A\n",
      "Phase linking (/u/aurora-r0/staniewi/dev/notebooks/new-orleans/dolphin/t165_352435_iw2/linked_phase):  19%|█▉        | 9/48 [00:06<00:13,  2.90it/s]\u001b[A\n",
      "Phase linking (/u/aurora-r0/staniewi/dev/notebooks/new-orleans/dolphin/t165_352435_iw2/linked_phase):  21%|██        | 10/48 [00:06<00:12,  3.15it/s]\u001b[A\n",
      "Phase linking (/u/aurora-r0/staniewi/dev/notebooks/new-orleans/dolphin/t165_352435_iw2/linked_phase):  23%|██▎       | 11/48 [00:07<00:10,  3.37it/s]\u001b[A\n",
      "Phase linking (/u/aurora-r0/staniewi/dev/notebooks/new-orleans/dolphin/t165_352435_iw2/linked_phase):  25%|██▌       | 12/48 [00:07<00:10,  3.57it/s]\u001b[A\n",
      "Phase linking (/u/aurora-r0/staniewi/dev/notebooks/new-orleans/dolphin/t165_352435_iw2/linked_phase):  27%|██▋       | 13/48 [00:07<00:09,  3.71it/s]\u001b[A\n",
      "Phase linking (/u/aurora-r0/staniewi/dev/notebooks/new-orleans/dolphin/t165_352435_iw2/linked_phase):  29%|██▉       | 14/48 [00:07<00:09,  3.73it/s]\u001b[A\n",
      "Phase linking (/u/aurora-r0/staniewi/dev/notebooks/new-orleans/dolphin/t165_352435_iw2/linked_phase):  31%|███▏      | 15/48 [00:08<00:08,  3.71it/s]\u001b[A\n",
      "Phase linking (/u/aurora-r0/staniewi/dev/notebooks/new-orleans/dolphin/t165_352435_iw2/linked_phase):  33%|███▎      | 16/48 [00:08<00:08,  3.69it/s]\u001b[A\n",
      "Phase linking (/u/aurora-r0/staniewi/dev/notebooks/new-orleans/dolphin/t165_352435_iw2/linked_phase):  35%|███▌      | 17/48 [00:08<00:08,  3.70it/s]\u001b[A\n",
      "100%|██████████| 21/21 [00:07<00:00,  2.87it/s]\u001b[A\n",
      "[INFO|single|L395] 2025-08-19T14:27:02-0700: Repacking CRLB files for more compression\n",
      "\n",
      "Processing Rasters:   0%|          | 0/6 [00:00<?, ?it/s]\u001b[A\n",
      "Phase linking (/u/aurora-r0/staniewi/dev/notebooks/new-orleans/dolphin/t165_352435_iw2/linked_phase):  38%|███▊      | 18/48 [00:08<00:08,  3.59it/s]\u001b[A\n",
      "Phase linking (/u/aurora-r0/staniewi/dev/notebooks/new-orleans/dolphin/t165_352435_iw2/linked_phase):  40%|███▉      | 19/48 [00:09<00:08,  3.58it/s]\u001b[A\n",
      "Phase linking (/u/aurora-r0/staniewi/dev/notebooks/new-orleans/dolphin/t165_352435_iw2/linked_phase):  42%|████▏     | 20/48 [00:09<00:07,  3.54it/s]\u001b[A\n",
      "Phase linking (/u/aurora-r0/staniewi/dev/notebooks/new-orleans/dolphin/t165_352435_iw2/linked_phase):  44%|████▍     | 21/48 [00:09<00:07,  3.58it/s]\u001b[A\n",
      "Phase linking (/u/aurora-r0/staniewi/dev/notebooks/new-orleans/dolphin/t165_352435_iw2/linked_phase):  46%|████▌     | 22/48 [00:10<00:07,  3.68it/s]\u001b[A\n",
      "Phase linking (/u/aurora-r0/staniewi/dev/notebooks/new-orleans/dolphin/t165_352435_iw2/linked_phase):  48%|████▊     | 23/48 [00:10<00:06,  3.74it/s]\u001b[A\n",
      "Phase linking (/u/aurora-r0/staniewi/dev/notebooks/new-orleans/dolphin/t165_352435_iw2/linked_phase):  50%|█████     | 24/48 [00:10<00:06,  3.80it/s]\u001b[A\n",
      "Phase linking (/u/aurora-r0/staniewi/dev/notebooks/new-orleans/dolphin/t165_352435_iw2/linked_phase):  52%|█████▏    | 25/48 [00:10<00:05,  3.85it/s]\u001b[A\n",
      "Processing Rasters: 100%|██████████| 6/6 [00:02<00:00,  2.79it/s]\u001b[A\n",
      "[INFO|single|L399] 2025-08-19T14:27:04-0700: Repacking closure phase files for more compression\n",
      "\n",
      "Processing Rasters:   0%|          | 0/5 [00:00<?, ?it/s]\u001b[A\n",
      "Phase linking (/u/aurora-r0/staniewi/dev/notebooks/new-orleans/dolphin/t165_352435_iw2/linked_phase):  54%|█████▍    | 26/48 [00:11<00:05,  3.79it/s]\u001b[A\n",
      "Phase linking (/u/aurora-r0/staniewi/dev/notebooks/new-orleans/dolphin/t165_352435_iw2/linked_phase):  56%|█████▋    | 27/48 [00:11<00:05,  3.75it/s]\u001b[A\n",
      "Phase linking (/u/aurora-r0/staniewi/dev/notebooks/new-orleans/dolphin/t165_352435_iw2/linked_phase):  58%|█████▊    | 28/48 [00:11<00:05,  3.73it/s]\u001b[A\n",
      "Phase linking (/u/aurora-r0/staniewi/dev/notebooks/new-orleans/dolphin/t165_352435_iw2/linked_phase):  60%|██████    | 29/48 [00:11<00:05,  3.73it/s]\u001b[A\n",
      "Phase linking (/u/aurora-r0/staniewi/dev/notebooks/new-orleans/dolphin/t165_352435_iw2/linked_phase):  62%|██████▎   | 30/48 [00:12<00:04,  3.73it/s]\u001b[A\n",
      "Processing Rasters:  20%|██        | 1/5 [00:01<00:05,  1.31s/it]\u001b[A\n",
      "Phase linking (/u/aurora-r0/staniewi/dev/notebooks/new-orleans/dolphin/t165_352435_iw2/linked_phase):  65%|██████▍   | 31/48 [00:12<00:04,  3.73it/s]\u001b[A\n",
      "Phase linking (/u/aurora-r0/staniewi/dev/notebooks/new-orleans/dolphin/t165_352435_iw2/linked_phase):  67%|██████▋   | 32/48 [00:12<00:04,  3.75it/s]\u001b[A\n",
      "Processing Rasters: 100%|██████████| 5/5 [00:01<00:00,  3.00it/s]\u001b[A\n",
      "Phase linking (/u/aurora-r0/staniewi/dev/notebooks/new-orleans/dolphin/t165_352434_iw2/linked_phase):  91%|█████████▏| 32/35 [00:30<00:02,  1.04it/s]\n",
      "\n",
      "Phase linking (/u/aurora-r0/staniewi/dev/notebooks/new-orleans/dolphin/t165_352435_iw2/linked_phase):  69%|██████▉   | 33/48 [00:12<00:03,  3.77it/s]\u001b[A\n",
      "Phase linking (/u/aurora-r0/staniewi/dev/notebooks/new-orleans/dolphin/t165_352435_iw2/linked_phase):  71%|███████   | 34/48 [00:13<00:03,  3.86it/s]\u001b[A\n",
      "Phase linking (/u/aurora-r0/staniewi/dev/notebooks/new-orleans/dolphin/t165_352435_iw2/linked_phase):  73%|███████▎  | 35/48 [00:13<00:03,  3.94it/s]\u001b[A[INFO|sequential|L258] 2025-08-19T14:27:07-0700: Averaging 2 files into /u/aurora-r0/staniewi/dev/notebooks/new-orleans/dolphin/t165_352434_iw2/linked_phase/temporal_coherence_average_20220108_20221222.tif\n",
      "\n",
      "Phase linking (/u/aurora-r0/staniewi/dev/notebooks/new-orleans/dolphin/t165_352435_iw2/linked_phase):  75%|███████▌  | 36/48 [00:13<00:03,  3.98it/s]\u001b[A[INFO|sequential|L258] 2025-08-19T14:27:07-0700: Averaging 2 files into /u/aurora-r0/staniewi/dev/notebooks/new-orleans/dolphin/t165_352434_iw2/linked_phase/shp_counts_average_20220108_20221222.tif\n",
      "  0%|          | 0/21 [00:00<?, ?it/s]\n",
      " 14%|█▍        | 3/21 [00:00<00:00, 25.64it/s]ooks/new-orleans/dolphin/t165_352435_iw2/linked_phase):  77%|███████▋  | 37/48 [00:13<00:02,  3.96it/s]\u001b[A\n",
      " 38%|███▊      | 8/21 [00:03<00:04,  2.63it/s]ooks/new-orleans/dolphin/t165_352435_iw2/linked_phase):  79%|███████▉  | 38/48 [00:16<00:09,  1.00it/s]\u001b[A\n",
      "Phase linking (/u/aurora-r0/staniewi/dev/notebooks/new-orleans/dolphin/t165_352435_iw2/linked_phase):  81%|████████▏ | 39/48 [00:16<00:06,  1.29it/s]\u001b[A[INFO|single|L376] 2025-08-19T14:27:12-0700: Waiting to write 0 blocks of data.\n",
      "[INFO|single|L378] 2025-08-19T14:27:12-0700: Finished ministack of size (7, 4488, 20604).\n",
      "[INFO|single|L381] 2025-08-19T14:27:12-0700: Repacking phase linking outputs for more compression\n",
      "Processing Rasters: 100%|██████████| 6/6 [00:01<00:00,  5.36it/s]\n",
      "[INFO|single|L384] 2025-08-19T14:27:13-0700: Creating similarity raster on outputs\n",
      "  0%|          | 0/21 [00:00<?, ?it/s][INFO|wrapped_phase|L258] 2025-08-19T14:27:14-0700: wrapped_phase complete\n",
      "[INFO|wrapped_phase|L286] 2025-08-19T14:27:14-0700: Creating virtual interferograms from 22 files\n",
      "[INFO|_log|L102] 2025-08-19T14:27:15-0700: Total elapsed time for dolphin.workflows.wrapped_phase.run : 2.58 minutes (154.63 seconds)\n",
      "100%|██████████| 21/21 [00:13<00:00,  1.56it/s]\n",
      "[INFO|single|L395] 2025-08-19T14:27:26-0700: Repacking CRLB files for more compression\n",
      "Processing Rasters: 100%|██████████| 6/6 [00:00<00:00,  6.18it/s]\n",
      "[INFO|single|L399] 2025-08-19T14:27:27-0700: Repacking closure phase files for more compression\n",
      "Processing Rasters: 100%|██████████| 5/5 [00:01<00:00,  4.95it/s]\n",
      "Phase linking (/u/aurora-r0/staniewi/dev/notebooks/new-orleans/dolphin/t165_352435_iw2/linked_phase):  81%|████████▏ | 39/48 [00:35<00:08,  1.10it/s]\n",
      "[INFO|sequential|L258] 2025-08-19T14:27:29-0700: Averaging 2 files into /u/aurora-r0/staniewi/dev/notebooks/new-orleans/dolphin/t165_352435_iw2/linked_phase/temporal_coherence_average_20220108_20221222.tif\n",
      "[INFO|sequential|L258] 2025-08-19T14:27:29-0700: Averaging 2 files into /u/aurora-r0/staniewi/dev/notebooks/new-orleans/dolphin/t165_352435_iw2/linked_phase/shp_counts_average_20220108_20221222.tif\n",
      "100%|██████████| 21/21 [00:11<00:00,  1.77it/s]\n",
      "[INFO|wrapped_phase|L258] 2025-08-19T14:27:41-0700: wrapped_phase complete\n",
      "[INFO|wrapped_phase|L286] 2025-08-19T14:27:41-0700: Creating virtual interferograms from 22 files\n",
      "[INFO|_log|L102] 2025-08-19T14:27:43-0700: Total elapsed time for dolphin.workflows.wrapped_phase.run : 3.04 minutes (182.55 seconds)\n",
      "100%|██████████| 21/21 [00:35<00:00,  1.71s/it]\n",
      "[INFO|stitching_bursts|L108] 2025-08-19T14:27:46-0700: Stitching interferograms by date.\n",
      "[INFO|stitching|L112] 2025-08-19T14:27:46-0700: (datetime.datetime(2022, 1, 8, 0, 0), datetime.datetime(2022, 1, 20, 0, 0)): Stitching 2 images.\n",
      "[INFO|stitching|L112] 2025-08-19T14:27:46-0700: (datetime.datetime(2022, 1, 8, 0, 0), datetime.datetime(2022, 2, 1, 0, 0)): Stitching 2 images.\n",
      "[INFO|stitching|L112] 2025-08-19T14:27:46-0700: (datetime.datetime(2022, 1, 8, 0, 0), datetime.datetime(2022, 2, 13, 0, 0)): Stitching 2 images.\n",
      "[INFO|stitching|L112] 2025-08-19T14:27:46-0700: (datetime.datetime(2022, 1, 20, 0, 0), datetime.datetime(2022, 2, 1, 0, 0)): Stitching 2 images.\n",
      "[INFO|stitching|L112] 2025-08-19T14:27:46-0700: (datetime.datetime(2022, 1, 20, 0, 0), datetime.datetime(2022, 2, 13, 0, 0)): Stitching 2 images.\n",
      "[INFO|stitching|L112] 2025-08-19T14:27:46-0700: (datetime.datetime(2022, 1, 20, 0, 0), datetime.datetime(2022, 2, 25, 0, 0)): Stitching 2 images.\n",
      "[INFO|stitching|L112] 2025-08-19T14:27:46-0700: (datetime.datetime(2022, 2, 1, 0, 0), datetime.datetime(2022, 2, 13, 0, 0)): Stitching 2 images.\n",
      "[INFO|stitching|L112] 2025-08-19T14:27:46-0700: (datetime.datetime(2022, 2, 1, 0, 0), datetime.datetime(2022, 2, 25, 0, 0)): Stitching 2 images.\n",
      "[INFO|stitching|L112] 2025-08-19T14:27:46-0700: (datetime.datetime(2022, 2, 1, 0, 0), datetime.datetime(2022, 3, 9, 0, 0)): Stitching 2 images.\n",
      "[INFO|stitching|L112] 2025-08-19T14:27:46-0700: (datetime.datetime(2022, 2, 13, 0, 0), datetime.datetime(2022, 2, 25, 0, 0)): Stitching 2 images.\n",
      "[INFO|stitching|L112] 2025-08-19T14:27:46-0700: (datetime.datetime(2022, 2, 13, 0, 0), datetime.datetime(2022, 3, 9, 0, 0)): Stitching 2 images.\n",
      "[INFO|stitching|L112] 2025-08-19T14:27:46-0700: (datetime.datetime(2022, 2, 13, 0, 0), datetime.datetime(2022, 3, 21, 0, 0)): Stitching 2 images.\n",
      "[INFO|stitching|L112] 2025-08-19T14:27:46-0700: (datetime.datetime(2022, 2, 25, 0, 0), datetime.datetime(2022, 3, 9, 0, 0)): Stitching 2 images.\n",
      "[INFO|stitching|L112] 2025-08-19T14:27:46-0700: (datetime.datetime(2022, 2, 25, 0, 0), datetime.datetime(2022, 3, 21, 0, 0)): Stitching 2 images.\n",
      "[INFO|stitching|L112] 2025-08-19T14:27:46-0700: (datetime.datetime(2022, 2, 25, 0, 0), datetime.datetime(2022, 4, 2, 0, 0)): Stitching 2 images.\n",
      "[INFO|stitching|L112] 2025-08-19T14:27:46-0700: (datetime.datetime(2022, 3, 9, 0, 0), datetime.datetime(2022, 3, 21, 0, 0)): Stitching 2 images.\n",
      "[INFO|stitching|L112] 2025-08-19T14:27:46-0700: (datetime.datetime(2022, 3, 9, 0, 0), datetime.datetime(2022, 4, 2, 0, 0)): Stitching 2 images.\n",
      "[INFO|stitching|L112] 2025-08-19T14:27:46-0700: (datetime.datetime(2022, 3, 9, 0, 0), datetime.datetime(2022, 4, 26, 0, 0)): Stitching 2 images.\n",
      "[INFO|stitching|L112] 2025-08-19T14:27:46-0700: (datetime.datetime(2022, 3, 21, 0, 0), datetime.datetime(2022, 4, 2, 0, 0)): Stitching 2 images.\n",
      "[INFO|stitching|L112] 2025-08-19T14:27:46-0700: (datetime.datetime(2022, 3, 21, 0, 0), datetime.datetime(2022, 4, 26, 0, 0)): Stitching 2 images.\n",
      "[INFO|stitching|L112] 2025-08-19T14:27:46-0700: (datetime.datetime(2022, 3, 21, 0, 0), datetime.datetime(2022, 5, 8, 0, 0)): Stitching 2 images.\n",
      "[INFO|stitching|L112] 2025-08-19T14:27:46-0700: (datetime.datetime(2022, 4, 2, 0, 0), datetime.datetime(2022, 4, 26, 0, 0)): Stitching 2 images.\n",
      "[INFO|stitching|L112] 2025-08-19T14:27:46-0700: (datetime.datetime(2022, 4, 2, 0, 0), datetime.datetime(2022, 5, 8, 0, 0)): Stitching 2 images.\n",
      "[INFO|stitching|L112] 2025-08-19T14:27:46-0700: (datetime.datetime(2022, 4, 2, 0, 0), datetime.datetime(2022, 6, 1, 0, 0)): Stitching 2 images.\n",
      "[INFO|stitching|L112] 2025-08-19T14:27:46-0700: (datetime.datetime(2022, 4, 26, 0, 0), datetime.datetime(2022, 5, 8, 0, 0)): Stitching 2 images.\n",
      "[INFO|stitching|L112] 2025-08-19T14:27:46-0700: (datetime.datetime(2022, 4, 26, 0, 0), datetime.datetime(2022, 6, 1, 0, 0)): Stitching 2 images.\n",
      "[INFO|stitching|L112] 2025-08-19T14:27:46-0700: (datetime.datetime(2022, 4, 26, 0, 0), datetime.datetime(2022, 8, 12, 0, 0)): Stitching 2 images.\n",
      "[INFO|stitching|L112] 2025-08-19T14:27:46-0700: (datetime.datetime(2022, 5, 8, 0, 0), datetime.datetime(2022, 6, 1, 0, 0)): Stitching 2 images.\n",
      "[INFO|stitching|L112] 2025-08-19T14:27:46-0700: (datetime.datetime(2022, 5, 8, 0, 0), datetime.datetime(2022, 8, 12, 0, 0)): Stitching 2 images.\n",
      "[INFO|stitching|L112] 2025-08-19T14:27:46-0700: (datetime.datetime(2022, 5, 8, 0, 0), datetime.datetime(2022, 9, 5, 0, 0)): Stitching 2 images.\n",
      "[INFO|stitching|L112] 2025-08-19T14:27:46-0700: (datetime.datetime(2022, 6, 1, 0, 0), datetime.datetime(2022, 8, 12, 0, 0)): Stitching 2 images.\n",
      "[INFO|stitching|L112] 2025-08-19T14:27:46-0700: (datetime.datetime(2022, 6, 1, 0, 0), datetime.datetime(2022, 9, 5, 0, 0)): Stitching 2 images.\n",
      "[INFO|stitching|L112] 2025-08-19T14:27:46-0700: (datetime.datetime(2022, 6, 1, 0, 0), datetime.datetime(2022, 9, 17, 0, 0)): Stitching 2 images.\n",
      "[INFO|stitching|L112] 2025-08-19T14:27:46-0700: (datetime.datetime(2022, 8, 12, 0, 0), datetime.datetime(2022, 9, 5, 0, 0)): Stitching 2 images.\n",
      "[INFO|stitching|L112] 2025-08-19T14:27:46-0700: (datetime.datetime(2022, 8, 12, 0, 0), datetime.datetime(2022, 9, 17, 0, 0)): Stitching 2 images.\n",
      "[INFO|stitching|L112] 2025-08-19T14:27:46-0700: (datetime.datetime(2022, 8, 12, 0, 0), datetime.datetime(2022, 9, 29, 0, 0)): Stitching 2 images.\n",
      "[INFO|stitching|L112] 2025-08-19T14:27:46-0700: (datetime.datetime(2022, 9, 5, 0, 0), datetime.datetime(2022, 9, 17, 0, 0)): Stitching 2 images.\n",
      "[INFO|stitching|L112] 2025-08-19T14:27:46-0700: (datetime.datetime(2022, 9, 5, 0, 0), datetime.datetime(2022, 9, 29, 0, 0)): Stitching 2 images.\n",
      "[INFO|stitching|L112] 2025-08-19T14:27:46-0700: (datetime.datetime(2022, 9, 5, 0, 0), datetime.datetime(2022, 10, 11, 0, 0)): Stitching 2 images.\n",
      "[INFO|stitching|L112] 2025-08-19T14:27:46-0700: (datetime.datetime(2022, 9, 17, 0, 0), datetime.datetime(2022, 9, 29, 0, 0)): Stitching 2 images.\n",
      "[INFO|stitching|L112] 2025-08-19T14:27:46-0700: (datetime.datetime(2022, 9, 17, 0, 0), datetime.datetime(2022, 10, 11, 0, 0)): Stitching 2 images.\n",
      "[INFO|stitching|L112] 2025-08-19T14:27:46-0700: (datetime.datetime(2022, 9, 17, 0, 0), datetime.datetime(2022, 10, 23, 0, 0)): Stitching 2 images.\n",
      "[INFO|stitching|L112] 2025-08-19T14:27:46-0700: (datetime.datetime(2022, 9, 29, 0, 0), datetime.datetime(2022, 10, 11, 0, 0)): Stitching 2 images.\n",
      "[INFO|stitching|L112] 2025-08-19T14:27:46-0700: (datetime.datetime(2022, 9, 29, 0, 0), datetime.datetime(2022, 10, 23, 0, 0)): Stitching 2 images.\n",
      "[INFO|stitching|L112] 2025-08-19T14:27:46-0700: (datetime.datetime(2022, 9, 29, 0, 0), datetime.datetime(2022, 11, 4, 0, 0)): Stitching 2 images.\n",
      "[INFO|stitching|L112] 2025-08-19T14:27:46-0700: (datetime.datetime(2022, 10, 11, 0, 0), datetime.datetime(2022, 10, 23, 0, 0)): Stitching 2 images.\n",
      "[INFO|stitching|L112] 2025-08-19T14:27:46-0700: (datetime.datetime(2022, 10, 11, 0, 0), datetime.datetime(2022, 11, 4, 0, 0)): Stitching 2 images.\n",
      "[INFO|stitching|L112] 2025-08-19T14:27:46-0700: (datetime.datetime(2022, 10, 11, 0, 0), datetime.datetime(2022, 11, 16, 0, 0)): Stitching 2 images.\n",
      "[INFO|stitching|L112] 2025-08-19T14:27:46-0700: (datetime.datetime(2022, 10, 23, 0, 0), datetime.datetime(2022, 11, 4, 0, 0)): Stitching 2 images.\n",
      "[INFO|stitching|L112] 2025-08-19T14:27:46-0700: (datetime.datetime(2022, 10, 23, 0, 0), datetime.datetime(2022, 11, 16, 0, 0)): Stitching 2 images.\n",
      "[INFO|stitching|L112] 2025-08-19T14:27:46-0700: (datetime.datetime(2022, 10, 23, 0, 0), datetime.datetime(2022, 11, 28, 0, 0)): Stitching 2 images.\n",
      "[INFO|stitching|L112] 2025-08-19T14:27:46-0700: (datetime.datetime(2022, 11, 4, 0, 0), datetime.datetime(2022, 11, 16, 0, 0)): Stitching 2 images.\n",
      "[INFO|stitching|L112] 2025-08-19T14:27:46-0700: (datetime.datetime(2022, 11, 4, 0, 0), datetime.datetime(2022, 11, 28, 0, 0)): Stitching 2 images.\n",
      "[INFO|stitching|L112] 2025-08-19T14:27:46-0700: (datetime.datetime(2022, 11, 4, 0, 0), datetime.datetime(2022, 12, 10, 0, 0)): Stitching 2 images.\n",
      "[INFO|stitching|L112] 2025-08-19T14:27:46-0700: (datetime.datetime(2022, 11, 16, 0, 0), datetime.datetime(2022, 11, 28, 0, 0)): Stitching 2 images.\n",
      "[INFO|stitching|L112] 2025-08-19T14:27:46-0700: (datetime.datetime(2022, 11, 16, 0, 0), datetime.datetime(2022, 12, 10, 0, 0)): Stitching 2 images.\n",
      "[INFO|stitching|L112] 2025-08-19T14:27:46-0700: (datetime.datetime(2022, 11, 16, 0, 0), datetime.datetime(2022, 12, 22, 0, 0)): Stitching 2 images.\n",
      "[INFO|stitching|L112] 2025-08-19T14:27:46-0700: (datetime.datetime(2022, 11, 28, 0, 0), datetime.datetime(2022, 12, 10, 0, 0)): Stitching 2 images.\n",
      "[INFO|stitching|L112] 2025-08-19T14:27:46-0700: (datetime.datetime(2022, 11, 28, 0, 0), datetime.datetime(2022, 12, 22, 0, 0)): Stitching 2 images.\n",
      "[INFO|stitching|L112] 2025-08-19T14:27:46-0700: (datetime.datetime(2022, 12, 10, 0, 0), datetime.datetime(2022, 12, 22, 0, 0)): Stitching 2 images.\n"
     ]
    },
    {
     "data": {
      "application/vnd.jupyter.widget-view+json": {
       "model_id": "9b3d2c3d2e3349aaad8ace500f758e3d",
       "version_major": 2,
       "version_minor": 0
      },
      "text/plain": [
       "Merging images by date:   0%|          | 0/60 [00:00<?, ?it/s]"
      ]
     },
     "metadata": {},
     "output_type": "display_data"
    },
    {
     "data": {
      "application/vnd.jupyter.widget-view+json": {
       "model_id": "4fe1d354012c4661b66e3e48c804fa97",
       "version_major": 2,
       "version_minor": 0
      },
      "text/plain": [
       "Estimating correlations:   0%|          | 0/60 [00:00<?, ?it/s]"
      ]
     },
     "metadata": {},
     "output_type": "display_data"
    },
    {
     "name": "stderr",
     "output_type": "stream",
     "text": [
      "[INFO|stitching|L112] 2025-08-19T14:28:32-0700: (datetime.datetime(2022, 1, 8, 0, 0), datetime.datetime(2022, 10, 11, 0, 0)): Stitching 2 images.\n",
      "[INFO|stitching|L112] 2025-08-19T14:28:32-0700: (datetime.datetime(2022, 10, 23, 0, 0), datetime.datetime(2022, 12, 22, 0, 0)): Stitching 2 images.\n",
      "[INFO|stitching|L112] 2025-08-19T14:28:32-0700: (datetime.datetime(2022, 1, 8, 0, 0), datetime.datetime(2022, 12, 22, 0, 0)): Stitching 2 images.\n"
     ]
    },
    {
     "data": {
      "application/vnd.jupyter.widget-view+json": {
       "model_id": "edb998b92e1540928237f953334116e4",
       "version_major": 2,
       "version_minor": 0
      },
      "text/plain": [
       "Merging images by date:   0%|          | 0/3 [00:00<?, ?it/s]"
      ]
     },
     "metadata": {},
     "output_type": "display_data"
    },
    {
     "name": "stderr",
     "output_type": "stream",
     "text": [
      "[INFO|stitching|L112] 2025-08-19T14:28:33-0700: (datetime.datetime(2022, 1, 8, 0, 0), datetime.datetime(2022, 10, 11, 0, 0)): Stitching 2 images.\n",
      "[INFO|stitching|L112] 2025-08-19T14:28:33-0700: (datetime.datetime(2022, 10, 23, 0, 0), datetime.datetime(2022, 12, 22, 0, 0)): Stitching 2 images.\n",
      "[INFO|stitching|L112] 2025-08-19T14:28:33-0700: (datetime.datetime(2022, 1, 8, 0, 0), datetime.datetime(2022, 12, 22, 0, 0)): Stitching 2 images.\n"
     ]
    },
    {
     "data": {
      "application/vnd.jupyter.widget-view+json": {
       "model_id": "831b7aee7b4a43eea178d61df7f9defe",
       "version_major": 2,
       "version_minor": 0
      },
      "text/plain": [
       "Merging images by date:   0%|          | 0/3 [00:00<?, ?it/s]"
      ]
     },
     "metadata": {},
     "output_type": "display_data"
    },
    {
     "name": "stderr",
     "output_type": "stream",
     "text": [
      "[INFO|stitching|L112] 2025-08-19T14:28:33-0700: (datetime.datetime(2022, 1, 8, 0, 0), datetime.datetime(2022, 10, 11, 0, 0)): Stitching 2 images.\n",
      "[INFO|stitching|L112] 2025-08-19T14:28:33-0700: (datetime.datetime(2022, 10, 23, 0, 0), datetime.datetime(2022, 12, 22, 0, 0)): Stitching 2 images.\n",
      "[INFO|stitching|L112] 2025-08-19T14:28:33-0700: (datetime.datetime(2022, 1, 8, 0, 0), datetime.datetime(2022, 12, 22, 0, 0)): Stitching 2 images.\n"
     ]
    },
    {
     "data": {
      "application/vnd.jupyter.widget-view+json": {
       "model_id": "682c64de9e604f6b9f0941bddaf55d2e",
       "version_major": 2,
       "version_minor": 0
      },
      "text/plain": [
       "Merging images by date:   0%|          | 0/3 [00:00<?, ?it/s]"
      ]
     },
     "metadata": {},
     "output_type": "display_data"
    },
    {
     "name": "stderr",
     "output_type": "stream",
     "text": [
      "[INFO|stitching|L112] 2025-08-19T14:28:34-0700: (datetime.datetime(2022, 1, 8, 0, 0),): Stitching 2 images.\n",
      "[INFO|stitching|L112] 2025-08-19T14:28:34-0700: (datetime.datetime(2022, 1, 20, 0, 0),): Stitching 2 images.\n",
      "[INFO|stitching|L112] 2025-08-19T14:28:34-0700: (datetime.datetime(2022, 2, 1, 0, 0),): Stitching 2 images.\n",
      "[INFO|stitching|L112] 2025-08-19T14:28:34-0700: (datetime.datetime(2022, 2, 13, 0, 0),): Stitching 2 images.\n",
      "[INFO|stitching|L112] 2025-08-19T14:28:34-0700: (datetime.datetime(2022, 2, 25, 0, 0),): Stitching 2 images.\n",
      "[INFO|stitching|L112] 2025-08-19T14:28:34-0700: (datetime.datetime(2022, 3, 9, 0, 0),): Stitching 2 images.\n",
      "[INFO|stitching|L112] 2025-08-19T14:28:34-0700: (datetime.datetime(2022, 3, 21, 0, 0),): Stitching 2 images.\n",
      "[INFO|stitching|L112] 2025-08-19T14:28:34-0700: (datetime.datetime(2022, 4, 2, 0, 0),): Stitching 2 images.\n",
      "[INFO|stitching|L112] 2025-08-19T14:28:34-0700: (datetime.datetime(2022, 4, 26, 0, 0),): Stitching 2 images.\n",
      "[INFO|stitching|L112] 2025-08-19T14:28:34-0700: (datetime.datetime(2022, 5, 8, 0, 0),): Stitching 2 images.\n",
      "[INFO|stitching|L112] 2025-08-19T14:28:34-0700: (datetime.datetime(2022, 6, 1, 0, 0),): Stitching 2 images.\n",
      "[INFO|stitching|L112] 2025-08-19T14:28:34-0700: (datetime.datetime(2022, 8, 12, 0, 0),): Stitching 2 images.\n",
      "[INFO|stitching|L112] 2025-08-19T14:28:34-0700: (datetime.datetime(2022, 9, 5, 0, 0),): Stitching 2 images.\n",
      "[INFO|stitching|L112] 2025-08-19T14:28:34-0700: (datetime.datetime(2022, 9, 17, 0, 0),): Stitching 2 images.\n",
      "[INFO|stitching|L112] 2025-08-19T14:28:34-0700: (datetime.datetime(2022, 9, 29, 0, 0),): Stitching 2 images.\n",
      "[INFO|stitching|L112] 2025-08-19T14:28:34-0700: (datetime.datetime(2022, 10, 11, 0, 0),): Stitching 2 images.\n",
      "[INFO|stitching|L112] 2025-08-19T14:28:34-0700: (datetime.datetime(2022, 10, 23, 0, 0),): Stitching 2 images.\n",
      "[INFO|stitching|L112] 2025-08-19T14:28:34-0700: (datetime.datetime(2022, 11, 4, 0, 0),): Stitching 2 images.\n",
      "[INFO|stitching|L112] 2025-08-19T14:28:34-0700: (datetime.datetime(2022, 11, 16, 0, 0),): Stitching 2 images.\n",
      "[INFO|stitching|L112] 2025-08-19T14:28:34-0700: (datetime.datetime(2022, 11, 28, 0, 0),): Stitching 2 images.\n",
      "[INFO|stitching|L112] 2025-08-19T14:28:34-0700: (datetime.datetime(2022, 12, 10, 0, 0),): Stitching 2 images.\n",
      "[INFO|stitching|L112] 2025-08-19T14:28:34-0700: (datetime.datetime(2022, 12, 22, 0, 0),): Stitching 2 images.\n"
     ]
    },
    {
     "data": {
      "application/vnd.jupyter.widget-view+json": {
       "model_id": "4b1a3b48866549b18fbba0e638af14da",
       "version_major": 2,
       "version_minor": 0
      },
      "text/plain": [
       "Merging images by date:   0%|          | 0/22 [00:00<?, ?it/s]"
      ]
     },
     "metadata": {},
     "output_type": "display_data"
    },
    {
     "name": "stderr",
     "output_type": "stream",
     "text": [
      "[INFO|stitching|L112] 2025-08-19T14:28:41-0700: (datetime.datetime(2022, 1, 8, 0, 0), datetime.datetime(2022, 1, 20, 0, 0), datetime.datetime(2022, 2, 1, 0, 0)): Stitching 2 images.\n",
      "[INFO|stitching|L112] 2025-08-19T14:28:41-0700: (datetime.datetime(2022, 1, 20, 0, 0), datetime.datetime(2022, 2, 1, 0, 0), datetime.datetime(2022, 2, 13, 0, 0)): Stitching 2 images.\n",
      "[INFO|stitching|L112] 2025-08-19T14:28:41-0700: (datetime.datetime(2022, 2, 1, 0, 0), datetime.datetime(2022, 2, 13, 0, 0), datetime.datetime(2022, 2, 25, 0, 0)): Stitching 2 images.\n",
      "[INFO|stitching|L112] 2025-08-19T14:28:41-0700: (datetime.datetime(2022, 2, 13, 0, 0), datetime.datetime(2022, 2, 25, 0, 0), datetime.datetime(2022, 3, 9, 0, 0)): Stitching 2 images.\n",
      "[INFO|stitching|L112] 2025-08-19T14:28:41-0700: (datetime.datetime(2022, 2, 25, 0, 0), datetime.datetime(2022, 3, 9, 0, 0), datetime.datetime(2022, 3, 21, 0, 0)): Stitching 2 images.\n",
      "[INFO|stitching|L112] 2025-08-19T14:28:41-0700: (datetime.datetime(2022, 3, 9, 0, 0), datetime.datetime(2022, 3, 21, 0, 0), datetime.datetime(2022, 4, 2, 0, 0)): Stitching 2 images.\n",
      "[INFO|stitching|L112] 2025-08-19T14:28:41-0700: (datetime.datetime(2022, 3, 21, 0, 0), datetime.datetime(2022, 4, 2, 0, 0), datetime.datetime(2022, 4, 26, 0, 0)): Stitching 2 images.\n",
      "[INFO|stitching|L112] 2025-08-19T14:28:41-0700: (datetime.datetime(2022, 4, 2, 0, 0), datetime.datetime(2022, 4, 26, 0, 0), datetime.datetime(2022, 5, 8, 0, 0)): Stitching 2 images.\n",
      "[INFO|stitching|L112] 2025-08-19T14:28:41-0700: (datetime.datetime(2022, 4, 26, 0, 0), datetime.datetime(2022, 5, 8, 0, 0), datetime.datetime(2022, 6, 1, 0, 0)): Stitching 2 images.\n",
      "[INFO|stitching|L112] 2025-08-19T14:28:41-0700: (datetime.datetime(2022, 5, 8, 0, 0), datetime.datetime(2022, 6, 1, 0, 0), datetime.datetime(2022, 8, 12, 0, 0)): Stitching 2 images.\n",
      "[INFO|stitching|L112] 2025-08-19T14:28:41-0700: (datetime.datetime(2022, 6, 1, 0, 0), datetime.datetime(2022, 8, 12, 0, 0), datetime.datetime(2022, 9, 5, 0, 0)): Stitching 2 images.\n",
      "[INFO|stitching|L112] 2025-08-19T14:28:41-0700: (datetime.datetime(2022, 8, 12, 0, 0), datetime.datetime(2022, 9, 5, 0, 0), datetime.datetime(2022, 9, 17, 0, 0)): Stitching 2 images.\n",
      "[INFO|stitching|L112] 2025-08-19T14:28:41-0700: (datetime.datetime(2022, 9, 5, 0, 0), datetime.datetime(2022, 9, 17, 0, 0), datetime.datetime(2022, 9, 29, 0, 0)): Stitching 2 images.\n",
      "[INFO|stitching|L112] 2025-08-19T14:28:41-0700: (datetime.datetime(2022, 9, 17, 0, 0), datetime.datetime(2022, 9, 29, 0, 0), datetime.datetime(2022, 10, 11, 0, 0)): Stitching 2 images.\n",
      "[INFO|stitching|L112] 2025-08-19T14:28:41-0700: (datetime.datetime(2022, 1, 8, 0, 0), datetime.datetime(2022, 10, 23, 0, 0), datetime.datetime(2022, 11, 4, 0, 0)): Stitching 2 images.\n",
      "[INFO|stitching|L112] 2025-08-19T14:28:41-0700: (datetime.datetime(2022, 10, 23, 0, 0), datetime.datetime(2022, 11, 4, 0, 0), datetime.datetime(2022, 11, 16, 0, 0)): Stitching 2 images.\n",
      "[INFO|stitching|L112] 2025-08-19T14:28:41-0700: (datetime.datetime(2022, 11, 4, 0, 0), datetime.datetime(2022, 11, 16, 0, 0), datetime.datetime(2022, 11, 28, 0, 0)): Stitching 2 images.\n",
      "[INFO|stitching|L112] 2025-08-19T14:28:41-0700: (datetime.datetime(2022, 11, 16, 0, 0), datetime.datetime(2022, 11, 28, 0, 0), datetime.datetime(2022, 12, 10, 0, 0)): Stitching 2 images.\n",
      "[INFO|stitching|L112] 2025-08-19T14:28:41-0700: (datetime.datetime(2022, 11, 28, 0, 0), datetime.datetime(2022, 12, 10, 0, 0), datetime.datetime(2022, 12, 22, 0, 0)): Stitching 2 images.\n"
     ]
    },
    {
     "data": {
      "application/vnd.jupyter.widget-view+json": {
       "model_id": "410da0170ce94491a2e484fa34f05d01",
       "version_major": 2,
       "version_minor": 0
      },
      "text/plain": [
       "Merging images by date:   0%|          | 0/19 [00:00<?, ?it/s]"
      ]
     },
     "metadata": {},
     "output_type": "display_data"
    },
    {
     "name": "stderr",
     "output_type": "stream",
     "text": [
      "[INFO|stitching_bursts|L217] 2025-08-19T14:28:47-0700: Creating overviews for stitched images\n"
     ]
    },
    {
     "data": {
      "application/vnd.jupyter.widget-view+json": {
       "model_id": "adf456264afb4f8594c79a01a9597e28",
       "version_major": 2,
       "version_minor": 0
      },
      "text/plain": [
       "  0%|          | 0/60 [00:00<?, ?it/s]"
      ]
     },
     "metadata": {},
     "output_type": "display_data"
    },
    {
     "data": {
      "application/vnd.jupyter.widget-view+json": {
       "model_id": "d6eed54fcb7f43d7a1719f9eb0cad30d",
       "version_major": 2,
       "version_minor": 0
      },
      "text/plain": [
       "  0%|          | 0/60 [00:00<?, ?it/s]"
      ]
     },
     "metadata": {},
     "output_type": "display_data"
    },
    {
     "data": {
      "application/vnd.jupyter.widget-view+json": {
       "model_id": "e50b7601a5c546d582562c1c88f8376a",
       "version_major": 2,
       "version_minor": 0
      },
      "text/plain": [
       "  0%|          | 0/3 [00:00<?, ?it/s]"
      ]
     },
     "metadata": {},
     "output_type": "display_data"
    },
    {
     "data": {
      "application/vnd.jupyter.widget-view+json": {
       "model_id": "ea078f155a3e447cae97e63d19e4ab35",
       "version_major": 2,
       "version_minor": 0
      },
      "text/plain": [
       "  0%|          | 0/3 [00:00<?, ?it/s]"
      ]
     },
     "metadata": {},
     "output_type": "display_data"
    },
    {
     "data": {
      "application/vnd.jupyter.widget-view+json": {
       "model_id": "eaa52654806343faa90c5940c4f34de5",
       "version_major": 2,
       "version_minor": 0
      },
      "text/plain": [
       "  0%|          | 0/3 [00:00<?, ?it/s]"
      ]
     },
     "metadata": {},
     "output_type": "display_data"
    },
    {
     "name": "stderr",
     "output_type": "stream",
     "text": [
      "[INFO|_log|L102] 2025-08-19T14:28:51-0700: Total elapsed time for dolphin.workflows.stitching_bursts.run : 1.08 minutes (64.89 seconds)\n",
      "[INFO|stitching|L697] 2025-08-19T14:28:51-0700: Warping water_mask.tif to match size of /u/aurora-r0/staniewi/dev/notebooks/new-orleans/dolphin/interferograms/20220108_20220120.int.tif\n",
      "[INFO|unwrapping|L79] 2025-08-19T14:28:51-0700: Unwrapping 60 interferograms\n",
      "[INFO|_unwrap|L150] 2025-08-19T14:28:51-0700: 60 left to unwrap\n"
     ]
    },
    {
     "data": {
      "application/vnd.jupyter.widget-view+json": {
       "model_id": "b6fc29b90d8e4c5fb66f3fd4db5ed821",
       "version_major": 2,
       "version_minor": 0
      },
      "text/plain": [
       "0it [00:00, ?it/s]"
      ]
     },
     "metadata": {},
     "output_type": "display_data"
    },
    {
     "name": "stdout",
     "output_type": "stream",
     "text": [
      "\n",
      "snaphu v2.0.7\n",
      "23 parameters input from file /u/aurora-r0/staniewi/dev/notebooks/new-orleans/dolphin/unwrapped/scratch/scratch-20220108_20220213.int/snaphu.config.lgz4qvfm.txt (23 lines total)\n",
      "\n",
      "snaphu v2.0.7\n",
      "23 parameters input from file /u/aurora-r0/staniewi/dev/notebooks/new-orleans/dolphin/unwrapped/scratch/scratch-20220108_20220120.int/snaphu.config.hm8jb4vz.txt (23 lines total)\n",
      "\n",
      "snaphu v2.0.7\n",
      "23 parameters input from file /u/aurora-r0/staniewi/dev/notebooks/new-orleans/dolphin/unwrapped/scratch/scratch-20220108_20220201.int/snaphu.config.bkxkfd9r.txt (23 lines total)\n",
      "Creating temporary directory /u/aurora-r0/staniewi/dev/notebooks/new-orleans/dolphin/unwrapped/scratch/scratch-20220108_20220213.int/snaphu_tiles_126690\n",
      "Creating temporary directory /u/aurora-r0/staniewi/dev/notebooks/new-orleans/dolphin/unwrapped/scratch/scratch-20220108_20220201.int/snaphu_tiles_126691\n",
      "Unwrapping tile at row 0, column 0 (pid 126697)\n",
      "Unwrapping tile at row 0, column 0 (pid 126698)\n",
      "Creating temporary directory /u/aurora-r0/staniewi/dev/notebooks/new-orleans/dolphin/unwrapped/scratch/scratch-20220108_20220120.int/snaphu_tiles_126689\n",
      "Unwrapping tile at row 0, column 0 (pid 126699)\n",
      "Unwrapping tile at row 0, column 1 (pid 126705)\n",
      "Unwrapping tile at row 0, column 1 (pid 126706)\n",
      "Unwrapping tile at row 0, column 1 (pid 126707)\n",
      "Unwrapping tile at row 1, column 0 (pid 126757)\n",
      "Unwrapping tile at row 1, column 0 (pid 126758)\n",
      "Unwrapping tile at row 1, column 0 (pid 126759)\n",
      "Unwrapping tile at row 1, column 1 (pid 126763)\n",
      "Unwrapping tile at row 1, column 1 (pid 126764)\n",
      "Unwrapping tile at row 1, column 1 (pid 126765)\n",
      "Assembling tiles\n",
      "Running optimizer for secondary network\n",
      "Number of nodes in secondary network: 2128\n",
      "Flow increment: 1  (Total improvements: 0)\n",
      "Flow increment: 2  (Total improvements: 0)\n",
      "Flow increment: 3  (Total improvements: 0)\n",
      "Assembling tile connected components\n",
      "Assembled connected components (3) output written to file /u/aurora-r0/staniewi/dev/notebooks/new-orleans/dolphin/unwrapped/scratch/scratch-20220108_20220201.int/snaphu.conncomp.ejxbxidg.u4\n",
      "Integrating secondary flows\n",
      "Output written to file /u/aurora-r0/staniewi/dev/notebooks/new-orleans/dolphin/unwrapped/scratch/scratch-20220108_20220201.int/snaphu.unw.mrbpzn9b.f4\n",
      "Removing temporary directory /u/aurora-r0/staniewi/dev/notebooks/new-orleans/dolphin/unwrapped/scratch/scratch-20220108_20220201.int/snaphu_tiles_126691\n",
      "SUGGESTION: Try increasing tile overlap and/or size if solution has edge artifacts\n",
      "Program snaphu done\n",
      "Elapsed processor time:   0:03:49.17\n",
      "Elapsed wall clock time:  0:01:56\n",
      "\n",
      "snaphu v2.0.7\n",
      "15 parameters input from file /u/aurora-r0/staniewi/dev/notebooks/new-orleans/dolphin/unwrapped/scratch/scratch-20220108_20220201.int/snaphu-regrow-conncomps.config.te2pwfct.txt (15 lines total)\n",
      "Reading unwrapped phase from file /u/aurora-r0/staniewi/dev/notebooks/new-orleans/dolphin/unwrapped/scratch/scratch-20220108_20220201.int/snaphu.unw.mrbpzn9b.f4\n",
      "Reading interferogram magnitude from file /u/aurora-r0/staniewi/dev/notebooks/new-orleans/dolphin/unwrapped/scratch/scratch-20220108_20220201.int/snaphu.mag.oil0xidt.f4\n",
      "Reading byte mask from file /u/aurora-r0/staniewi/dev/notebooks/new-orleans/dolphin/unwrapped/scratch/scratch-20220108_20220201.int/snaphu.mask.kzv4_aaq.u1\n",
      "No weight file specified.  Assuming uniform weights\n",
      "Reading correlation data from file /u/aurora-r0/staniewi/dev/notebooks/new-orleans/dolphin/unwrapped/scratch/scratch-20220108_20220201.int/snaphu.corr.bgdfn1po.f4\n",
      "Calculating smooth-solution cost parameters\n",
      "Growing connected component mask\n",
      "Writing connected components to file /u/aurora-r0/staniewi/dev/notebooks/new-orleans/dolphin/unwrapped/scratch/scratch-20220108_20220201.int/snaphu.conncomp.ejxbxidg.u4 as 4-byte unsigned ints\n",
      "Program snaphu done\n",
      "Elapsed processor time:   0:00:01.80\n",
      "Elapsed wall clock time:  0:00:03\n"
     ]
    },
    {
     "name": "stderr",
     "output_type": "stream",
     "text": [
      "[INFO|_unwrap|L513] 2025-08-19T14:30:51-0700: Setting nodata values of /u/aurora-r0/staniewi/dev/notebooks/new-orleans/dolphin/unwrapped/20220108_20220201.unw.tif file\n",
      "[INFO|_unwrap|L517] 2025-08-19T14:30:51-0700: Setting nodata values of /u/aurora-r0/staniewi/dev/notebooks/new-orleans/dolphin/unwrapped/20220108_20220201.unw.conncomp.tif file\n"
     ]
    },
    {
     "name": "stdout",
     "output_type": "stream",
     "text": [
      "\n",
      "snaphu v2.0.7\n",
      "23 parameters input from file /u/aurora-r0/staniewi/dev/notebooks/new-orleans/dolphin/unwrapped/scratch/scratch-20220120_20220201.int/snaphu.config.usrwijuj.txt (23 lines total)\n",
      "Creating temporary directory /u/aurora-r0/staniewi/dev/notebooks/new-orleans/dolphin/unwrapped/scratch/scratch-20220120_20220201.int/snaphu_tiles_131100\n",
      "Unwrapping tile at row 0, column 0 (pid 131103)\n",
      "Unwrapping tile at row 0, column 1 (pid 131106)\n",
      "Unwrapping tile at row 1, column 0 (pid 131108)\n",
      "Unwrapping tile at row 1, column 1 (pid 131112)\n",
      "Assembling tiles\n",
      "Running optimizer for secondary network\n",
      "Number of nodes in secondary network: 2100\n",
      "Flow increment: 1  (Total improvements: 0)\n",
      "Flow increment: 2  (Total improvements: 0)\n",
      "Flow increment: 3  (Total improvements: 0)\n",
      "Assembling tile connected components\n",
      "Assembled connected components (3) output written to file /u/aurora-r0/staniewi/dev/notebooks/new-orleans/dolphin/unwrapped/scratch/scratch-20220108_20220120.int/snaphu.conncomp.mygfakg8.u4\n",
      "Integrating secondary flows\n",
      "Output written to file /u/aurora-r0/staniewi/dev/notebooks/new-orleans/dolphin/unwrapped/scratch/scratch-20220108_20220120.int/snaphu.unw.vr5clnxv.f4\n",
      "Removing temporary directory /u/aurora-r0/staniewi/dev/notebooks/new-orleans/dolphin/unwrapped/scratch/scratch-20220108_20220120.int/snaphu_tiles_126689\n",
      "SUGGESTION: Try increasing tile overlap and/or size if solution has edge artifacts\n",
      "Program snaphu done\n",
      "Elapsed processor time:   0:04:27.30\n",
      "Elapsed wall clock time:  0:02:17\n",
      "\n",
      "snaphu v2.0.7\n",
      "15 parameters input from file /u/aurora-r0/staniewi/dev/notebooks/new-orleans/dolphin/unwrapped/scratch/scratch-20220108_20220120.int/snaphu-regrow-conncomps.config.ox5vdqlz.txt (15 lines total)\n",
      "Reading unwrapped phase from file /u/aurora-r0/staniewi/dev/notebooks/new-orleans/dolphin/unwrapped/scratch/scratch-20220108_20220120.int/snaphu.unw.vr5clnxv.f4\n",
      "Reading interferogram magnitude from file /u/aurora-r0/staniewi/dev/notebooks/new-orleans/dolphin/unwrapped/scratch/scratch-20220108_20220120.int/snaphu.mag.4xd51cqs.f4\n",
      "Reading byte mask from file /u/aurora-r0/staniewi/dev/notebooks/new-orleans/dolphin/unwrapped/scratch/scratch-20220108_20220120.int/snaphu.mask.5t45eaxq.u1\n",
      "No weight file specified.  Assuming uniform weights\n",
      "Reading correlation data from file /u/aurora-r0/staniewi/dev/notebooks/new-orleans/dolphin/unwrapped/scratch/scratch-20220108_20220120.int/snaphu.corr.xv9vl1s0.f4\n",
      "Calculating smooth-solution cost parameters\n",
      "Growing connected component mask\n",
      "Writing connected components to file /u/aurora-r0/staniewi/dev/notebooks/new-orleans/dolphin/unwrapped/scratch/scratch-20220108_20220120.int/snaphu.conncomp.mygfakg8.u4 as 4-byte unsigned ints\n",
      "Program snaphu done\n",
      "Elapsed processor time:   0:00:01.71\n",
      "Elapsed wall clock time:  0:00:02\n"
     ]
    },
    {
     "name": "stderr",
     "output_type": "stream",
     "text": [
      "[INFO|_unwrap|L513] 2025-08-19T14:31:12-0700: Setting nodata values of /u/aurora-r0/staniewi/dev/notebooks/new-orleans/dolphin/unwrapped/20220108_20220120.unw.tif file\n",
      "[INFO|_unwrap|L517] 2025-08-19T14:31:12-0700: Setting nodata values of /u/aurora-r0/staniewi/dev/notebooks/new-orleans/dolphin/unwrapped/20220108_20220120.unw.conncomp.tif file\n"
     ]
    },
    {
     "name": "stdout",
     "output_type": "stream",
     "text": [
      "\n",
      "snaphu v2.0.7\n",
      "23 parameters input from file /u/aurora-r0/staniewi/dev/notebooks/new-orleans/dolphin/unwrapped/scratch/scratch-20220120_20220213.int/snaphu.config.dfg9vshz.txt (23 lines total)\n",
      "Creating temporary directory /u/aurora-r0/staniewi/dev/notebooks/new-orleans/dolphin/unwrapped/scratch/scratch-20220120_20220213.int/snaphu_tiles_131569\n",
      "Unwrapping tile at row 0, column 0 (pid 131928)\n",
      "Unwrapping tile at row 0, column 1 (pid 132027)\n",
      "Unwrapping tile at row 1, column 0 (pid 132030)\n",
      "Unwrapping tile at row 1, column 1 (pid 132038)\n",
      "Assembling tiles\n",
      "Running optimizer for secondary network\n",
      "Number of nodes in secondary network: 2302\n",
      "Flow increment: 1  (Total improvements: 0)\n",
      "Flow increment: 2  (Total improvements: 0)\n",
      "Flow increment: 3  (Total improvements: 0)\n",
      "Assembling tile connected components\n",
      "Assembled connected components (3) output written to file /u/aurora-r0/staniewi/dev/notebooks/new-orleans/dolphin/unwrapped/scratch/scratch-20220108_20220213.int/snaphu.conncomp.r0e3ls4u.u4\n",
      "Integrating secondary flows\n",
      "Output written to file /u/aurora-r0/staniewi/dev/notebooks/new-orleans/dolphin/unwrapped/scratch/scratch-20220108_20220213.int/snaphu.unw.ucp1wlsr.f4\n",
      "Removing temporary directory /u/aurora-r0/staniewi/dev/notebooks/new-orleans/dolphin/unwrapped/scratch/scratch-20220108_20220213.int/snaphu_tiles_126690\n",
      "SUGGESTION: Try increasing tile overlap and/or size if solution has edge artifacts\n",
      "Program snaphu done\n",
      "Elapsed processor time:   0:04:42.47\n",
      "Elapsed wall clock time:  0:02:31\n",
      "\n",
      "snaphu v2.0.7\n",
      "15 parameters input from file /u/aurora-r0/staniewi/dev/notebooks/new-orleans/dolphin/unwrapped/scratch/scratch-20220108_20220213.int/snaphu-regrow-conncomps.config.fh0wyxhw.txt (15 lines total)\n",
      "Reading unwrapped phase from file /u/aurora-r0/staniewi/dev/notebooks/new-orleans/dolphin/unwrapped/scratch/scratch-20220108_20220213.int/snaphu.unw.ucp1wlsr.f4\n",
      "Reading interferogram magnitude from file /u/aurora-r0/staniewi/dev/notebooks/new-orleans/dolphin/unwrapped/scratch/scratch-20220108_20220213.int/snaphu.mag.as7pmc5h.f4\n",
      "Reading byte mask from file /u/aurora-r0/staniewi/dev/notebooks/new-orleans/dolphin/unwrapped/scratch/scratch-20220108_20220213.int/snaphu.mask.te6kuw36.u1\n",
      "No weight file specified.  Assuming uniform weights\n",
      "Reading correlation data from file /u/aurora-r0/staniewi/dev/notebooks/new-orleans/dolphin/unwrapped/scratch/scratch-20220108_20220213.int/snaphu.corr.2xkm6nh3.f4\n",
      "Calculating smooth-solution cost parameters\n",
      "Growing connected component mask\n",
      "Writing connected components to file /u/aurora-r0/staniewi/dev/notebooks/new-orleans/dolphin/unwrapped/scratch/scratch-20220108_20220213.int/snaphu.conncomp.r0e3ls4u.u4 as 4-byte unsigned ints\n",
      "Program snaphu done\n",
      "Elapsed processor time:   0:00:01.72\n",
      "Elapsed wall clock time:  0:00:02\n"
     ]
    },
    {
     "name": "stderr",
     "output_type": "stream",
     "text": [
      "[INFO|_unwrap|L513] 2025-08-19T14:31:25-0700: Setting nodata values of /u/aurora-r0/staniewi/dev/notebooks/new-orleans/dolphin/unwrapped/20220108_20220213.unw.tif file\n",
      "[INFO|_unwrap|L517] 2025-08-19T14:31:26-0700: Setting nodata values of /u/aurora-r0/staniewi/dev/notebooks/new-orleans/dolphin/unwrapped/20220108_20220213.unw.conncomp.tif file\n"
     ]
    },
    {
     "name": "stdout",
     "output_type": "stream",
     "text": [
      "\n",
      "snaphu v2.0.7\n",
      "23 parameters input from file /u/aurora-r0/staniewi/dev/notebooks/new-orleans/dolphin/unwrapped/scratch/scratch-20220120_20220225.int/snaphu.config.omymful2.txt (23 lines total)\n",
      "Creating temporary directory /u/aurora-r0/staniewi/dev/notebooks/new-orleans/dolphin/unwrapped/scratch/scratch-20220120_20220225.int/snaphu_tiles_132046\n",
      "Unwrapping tile at row 0, column 0 (pid 132050)\n",
      "Unwrapping tile at row 0, column 1 (pid 132053)\n",
      "Unwrapping tile at row 1, column 0 (pid 132065)\n",
      "Unwrapping tile at row 1, column 1 (pid 132292)\n",
      "Assembling tiles\n",
      "Running optimizer for secondary network\n",
      "Number of nodes in secondary network: 2143\n",
      "Flow increment: 1  (Total improvements: 0)\n",
      "Flow increment: 2  (Total improvements: 0)\n",
      "Flow increment: 3  (Total improvements: 0)\n",
      "Assembling tile connected components\n",
      "Assembled connected components (3) output written to file /u/aurora-r0/staniewi/dev/notebooks/new-orleans/dolphin/unwrapped/scratch/scratch-20220120_20220201.int/snaphu.conncomp.f8hgri8s.u4\n",
      "Integrating secondary flows\n",
      "Output written to file /u/aurora-r0/staniewi/dev/notebooks/new-orleans/dolphin/unwrapped/scratch/scratch-20220120_20220201.int/snaphu.unw.drlo7yht.f4\n",
      "Removing temporary directory /u/aurora-r0/staniewi/dev/notebooks/new-orleans/dolphin/unwrapped/scratch/scratch-20220120_20220201.int/snaphu_tiles_131100\n",
      "SUGGESTION: Try increasing tile overlap and/or size if solution has edge artifacts\n",
      "Program snaphu done\n",
      "Elapsed processor time:   0:04:54.30\n",
      "Elapsed wall clock time:  0:02:32\n",
      "\n",
      "snaphu v2.0.7\n",
      "15 parameters input from file /u/aurora-r0/staniewi/dev/notebooks/new-orleans/dolphin/unwrapped/scratch/scratch-20220120_20220201.int/snaphu-regrow-conncomps.config.xpq19_r0.txt (15 lines total)\n",
      "Reading unwrapped phase from file /u/aurora-r0/staniewi/dev/notebooks/new-orleans/dolphin/unwrapped/scratch/scratch-20220120_20220201.int/snaphu.unw.drlo7yht.f4\n",
      "Reading interferogram magnitude from file /u/aurora-r0/staniewi/dev/notebooks/new-orleans/dolphin/unwrapped/scratch/scratch-20220120_20220201.int/snaphu.mag.6xqb9xzj.f4\n",
      "Reading byte mask from file /u/aurora-r0/staniewi/dev/notebooks/new-orleans/dolphin/unwrapped/scratch/scratch-20220120_20220201.int/snaphu.mask.1qksd3jl.u1\n",
      "No weight file specified.  Assuming uniform weights\n",
      "Reading correlation data from file /u/aurora-r0/staniewi/dev/notebooks/new-orleans/dolphin/unwrapped/scratch/scratch-20220120_20220201.int/snaphu.corr.3vkieewy.f4\n",
      "Calculating smooth-solution cost parameters\n",
      "Growing connected component mask\n",
      "Writing connected components to file /u/aurora-r0/staniewi/dev/notebooks/new-orleans/dolphin/unwrapped/scratch/scratch-20220120_20220201.int/snaphu.conncomp.f8hgri8s.u4 as 4-byte unsigned ints\n",
      "Program snaphu done\n",
      "Elapsed processor time:   0:00:02.09\n",
      "Elapsed wall clock time:  0:00:02\n"
     ]
    },
    {
     "name": "stderr",
     "output_type": "stream",
     "text": [
      "[INFO|_unwrap|L513] 2025-08-19T14:33:26-0700: Setting nodata values of /u/aurora-r0/staniewi/dev/notebooks/new-orleans/dolphin/unwrapped/20220120_20220201.unw.tif file\n",
      "[INFO|_unwrap|L517] 2025-08-19T14:33:27-0700: Setting nodata values of /u/aurora-r0/staniewi/dev/notebooks/new-orleans/dolphin/unwrapped/20220120_20220201.unw.conncomp.tif file\n"
     ]
    },
    {
     "name": "stdout",
     "output_type": "stream",
     "text": [
      "\n",
      "snaphu v2.0.7\n",
      "23 parameters input from file /u/aurora-r0/staniewi/dev/notebooks/new-orleans/dolphin/unwrapped/scratch/scratch-20220201_20220213.int/snaphu.config.qwvak1x6.txt (23 lines total)\n",
      "Creating temporary directory /u/aurora-r0/staniewi/dev/notebooks/new-orleans/dolphin/unwrapped/scratch/scratch-20220201_20220213.int/snaphu_tiles_134327\n",
      "Unwrapping tile at row 0, column 0 (pid 134332)\n",
      "Unwrapping tile at row 0, column 1 (pid 134347)\n",
      "Unwrapping tile at row 1, column 0 (pid 134353)\n",
      "Unwrapping tile at row 1, column 1 (pid 134357)\n",
      "Assembling tiles\n",
      "Running optimizer for secondary network\n",
      "Number of nodes in secondary network: 2179\n",
      "Flow increment: 1  (Total improvements: 0)\n",
      "Flow increment: 2  (Total improvements: 1)\n",
      "Flow increment: 3  (Total improvements: 1)\n",
      "Flow increment: 4  (Total improvements: 1)\n",
      "Assembling tile connected components\n",
      "Assembled connected components (3) output written to file /u/aurora-r0/staniewi/dev/notebooks/new-orleans/dolphin/unwrapped/scratch/scratch-20220120_20220213.int/snaphu.conncomp.h0vwqzyj.u4\n",
      "Integrating secondary flows\n",
      "Output written to file /u/aurora-r0/staniewi/dev/notebooks/new-orleans/dolphin/unwrapped/scratch/scratch-20220120_20220213.int/snaphu.unw._lc0u3q6.f4\n",
      "Removing temporary directory /u/aurora-r0/staniewi/dev/notebooks/new-orleans/dolphin/unwrapped/scratch/scratch-20220120_20220213.int/snaphu_tiles_131569\n",
      "SUGGESTION: Try increasing tile overlap and/or size if solution has edge artifacts\n",
      "Program snaphu done\n",
      "Elapsed processor time:   0:05:28.51\n",
      "Elapsed wall clock time:  0:03:00\n",
      "\n",
      "snaphu v2.0.7\n",
      "15 parameters input from file /u/aurora-r0/staniewi/dev/notebooks/new-orleans/dolphin/unwrapped/scratch/scratch-20220120_20220213.int/snaphu-regrow-conncomps.config.k4hsz1d5.txt (15 lines total)\n",
      "Reading unwrapped phase from file /u/aurora-r0/staniewi/dev/notebooks/new-orleans/dolphin/unwrapped/scratch/scratch-20220120_20220213.int/snaphu.unw._lc0u3q6.f4\n",
      "Reading interferogram magnitude from file /u/aurora-r0/staniewi/dev/notebooks/new-orleans/dolphin/unwrapped/scratch/scratch-20220120_20220213.int/snaphu.mag.smh21i3b.f4\n",
      "Reading byte mask from file /u/aurora-r0/staniewi/dev/notebooks/new-orleans/dolphin/unwrapped/scratch/scratch-20220120_20220213.int/snaphu.mask.t3rr9fqu.u1\n",
      "No weight file specified.  Assuming uniform weights\n",
      "Reading correlation data from file /u/aurora-r0/staniewi/dev/notebooks/new-orleans/dolphin/unwrapped/scratch/scratch-20220120_20220213.int/snaphu.corr.m11qji6y.f4\n",
      "Calculating smooth-solution cost parameters\n",
      "Growing connected component mask\n",
      "Writing connected components to file /u/aurora-r0/staniewi/dev/notebooks/new-orleans/dolphin/unwrapped/scratch/scratch-20220120_20220213.int/snaphu.conncomp.h0vwqzyj.u4 as 4-byte unsigned ints\n",
      "Program snaphu done\n",
      "Elapsed processor time:   0:00:01.77\n",
      "Elapsed wall clock time:  0:00:02\n"
     ]
    },
    {
     "name": "stderr",
     "output_type": "stream",
     "text": [
      "[INFO|_unwrap|L513] 2025-08-19T14:34:15-0700: Setting nodata values of /u/aurora-r0/staniewi/dev/notebooks/new-orleans/dolphin/unwrapped/20220120_20220213.unw.tif file\n",
      "[INFO|_unwrap|L517] 2025-08-19T14:34:16-0700: Setting nodata values of /u/aurora-r0/staniewi/dev/notebooks/new-orleans/dolphin/unwrapped/20220120_20220213.unw.conncomp.tif file\n"
     ]
    },
    {
     "name": "stdout",
     "output_type": "stream",
     "text": [
      "\n",
      "snaphu v2.0.7\n",
      "23 parameters input from file /u/aurora-r0/staniewi/dev/notebooks/new-orleans/dolphin/unwrapped/scratch/scratch-20220201_20220225.int/snaphu.config.iz6232fi.txt (23 lines total)\n",
      "Creating temporary directory /u/aurora-r0/staniewi/dev/notebooks/new-orleans/dolphin/unwrapped/scratch/scratch-20220201_20220225.int/snaphu_tiles_134426\n",
      "Unwrapping tile at row 0, column 0 (pid 134433)\n",
      "Unwrapping tile at row 0, column 1 (pid 134437)\n",
      "Unwrapping tile at row 1, column 0 (pid 134440)\n",
      "Unwrapping tile at row 1, column 1 (pid 134444)\n",
      "Assembling tiles\n",
      "Running optimizer for secondary network\n",
      "Number of nodes in secondary network: 2167\n",
      "Flow increment: 1  (Total improvements: 0)\n",
      "Flow increment: 2  (Total improvements: 0)\n",
      "Flow increment: 3  (Total improvements: 0)\n",
      "Assembling tile connected components\n",
      "Assembled connected components (3) output written to file /u/aurora-r0/staniewi/dev/notebooks/new-orleans/dolphin/unwrapped/scratch/scratch-20220120_20220225.int/snaphu.conncomp.4k2jh94i.u4\n",
      "Integrating secondary flows\n",
      "Output written to file /u/aurora-r0/staniewi/dev/notebooks/new-orleans/dolphin/unwrapped/scratch/scratch-20220120_20220225.int/snaphu.unw.cknry3gz.f4\n",
      "Removing temporary directory /u/aurora-r0/staniewi/dev/notebooks/new-orleans/dolphin/unwrapped/scratch/scratch-20220120_20220225.int/snaphu_tiles_132046\n",
      "SUGGESTION: Try increasing tile overlap and/or size if solution has edge artifacts\n",
      "Program snaphu done\n",
      "Elapsed processor time:   0:06:18.01\n",
      "Elapsed wall clock time:  0:03:09\n",
      "\n",
      "snaphu v2.0.7\n",
      "15 parameters input from file /u/aurora-r0/staniewi/dev/notebooks/new-orleans/dolphin/unwrapped/scratch/scratch-20220120_20220225.int/snaphu-regrow-conncomps.config.b4n4djq9.txt (15 lines total)\n",
      "Reading unwrapped phase from file /u/aurora-r0/staniewi/dev/notebooks/new-orleans/dolphin/unwrapped/scratch/scratch-20220120_20220225.int/snaphu.unw.cknry3gz.f4\n",
      "Reading interferogram magnitude from file /u/aurora-r0/staniewi/dev/notebooks/new-orleans/dolphin/unwrapped/scratch/scratch-20220120_20220225.int/snaphu.mag.g4_y19sc.f4\n",
      "Reading byte mask from file /u/aurora-r0/staniewi/dev/notebooks/new-orleans/dolphin/unwrapped/scratch/scratch-20220120_20220225.int/snaphu.mask.8995013p.u1\n",
      "No weight file specified.  Assuming uniform weights\n",
      "Reading correlation data from file /u/aurora-r0/staniewi/dev/notebooks/new-orleans/dolphin/unwrapped/scratch/scratch-20220120_20220225.int/snaphu.corr.efjsw6tf.f4\n",
      "Calculating smooth-solution cost parameters\n",
      "Growing connected component mask\n",
      "Writing connected components to file /u/aurora-r0/staniewi/dev/notebooks/new-orleans/dolphin/unwrapped/scratch/scratch-20220120_20220225.int/snaphu.conncomp.4k2jh94i.u4 as 4-byte unsigned ints\n",
      "Program snaphu done\n",
      "Elapsed processor time:   0:00:01.79\n",
      "Elapsed wall clock time:  0:00:02\n"
     ]
    },
    {
     "name": "stderr",
     "output_type": "stream",
     "text": [
      "[INFO|_unwrap|L513] 2025-08-19T14:34:38-0700: Setting nodata values of /u/aurora-r0/staniewi/dev/notebooks/new-orleans/dolphin/unwrapped/20220120_20220225.unw.tif file\n",
      "[INFO|_unwrap|L517] 2025-08-19T14:34:38-0700: Setting nodata values of /u/aurora-r0/staniewi/dev/notebooks/new-orleans/dolphin/unwrapped/20220120_20220225.unw.conncomp.tif file\n"
     ]
    },
    {
     "name": "stdout",
     "output_type": "stream",
     "text": [
      "\n",
      "snaphu v2.0.7\n",
      "23 parameters input from file /u/aurora-r0/staniewi/dev/notebooks/new-orleans/dolphin/unwrapped/scratch/scratch-20220201_20220309.int/snaphu.config.oulen_j8.txt (23 lines total)\n",
      "Creating temporary directory /u/aurora-r0/staniewi/dev/notebooks/new-orleans/dolphin/unwrapped/scratch/scratch-20220201_20220309.int/snaphu_tiles_134474\n",
      "Unwrapping tile at row 0, column 0 (pid 134478)\n",
      "Unwrapping tile at row 0, column 1 (pid 134482)\n",
      "Unwrapping tile at row 1, column 0 (pid 134486)\n",
      "Unwrapping tile at row 1, column 1 (pid 134488)\n",
      "Assembling tiles\n",
      "Running optimizer for secondary network\n",
      "Number of nodes in secondary network: 2110\n",
      "Flow increment: 1  (Total improvements: 0)\n",
      "Flow increment: 2  (Total improvements: 0)\n",
      "Flow increment: 3  (Total improvements: 0)\n",
      "Assembling tile connected components\n",
      "Assembled connected components (3) output written to file /u/aurora-r0/staniewi/dev/notebooks/new-orleans/dolphin/unwrapped/scratch/scratch-20220201_20220213.int/snaphu.conncomp.gkt3xzpf.u4\n",
      "Integrating secondary flows\n",
      "Output written to file /u/aurora-r0/staniewi/dev/notebooks/new-orleans/dolphin/unwrapped/scratch/scratch-20220201_20220213.int/snaphu.unw.pv16slkc.f4\n",
      "Removing temporary directory /u/aurora-r0/staniewi/dev/notebooks/new-orleans/dolphin/unwrapped/scratch/scratch-20220201_20220213.int/snaphu_tiles_134327\n",
      "SUGGESTION: Try increasing tile overlap and/or size if solution has edge artifacts\n",
      "Program snaphu done\n",
      "Elapsed processor time:   0:04:57.74\n",
      "Elapsed wall clock time:  0:02:39\n",
      "\n",
      "snaphu v2.0.7\n",
      "15 parameters input from file /u/aurora-r0/staniewi/dev/notebooks/new-orleans/dolphin/unwrapped/scratch/scratch-20220201_20220213.int/snaphu-regrow-conncomps.config.7xim6af7.txt (15 lines total)\n",
      "Reading unwrapped phase from file /u/aurora-r0/staniewi/dev/notebooks/new-orleans/dolphin/unwrapped/scratch/scratch-20220201_20220213.int/snaphu.unw.pv16slkc.f4\n",
      "Reading interferogram magnitude from file /u/aurora-r0/staniewi/dev/notebooks/new-orleans/dolphin/unwrapped/scratch/scratch-20220201_20220213.int/snaphu.mag.gukspusk.f4\n",
      "Reading byte mask from file /u/aurora-r0/staniewi/dev/notebooks/new-orleans/dolphin/unwrapped/scratch/scratch-20220201_20220213.int/snaphu.mask.d29meohy.u1\n",
      "No weight file specified.  Assuming uniform weights\n",
      "Reading correlation data from file /u/aurora-r0/staniewi/dev/notebooks/new-orleans/dolphin/unwrapped/scratch/scratch-20220201_20220213.int/snaphu.corr.6zu91883.f4\n",
      "Calculating smooth-solution cost parameters\n",
      "Growing connected component mask\n",
      "Writing connected components to file /u/aurora-r0/staniewi/dev/notebooks/new-orleans/dolphin/unwrapped/scratch/scratch-20220201_20220213.int/snaphu.conncomp.gkt3xzpf.u4 as 4-byte unsigned ints\n",
      "Program snaphu done\n",
      "Elapsed processor time:   0:00:01.72\n",
      "Elapsed wall clock time:  0:00:02\n"
     ]
    },
    {
     "name": "stderr",
     "output_type": "stream",
     "text": [
      "[INFO|_unwrap|L513] 2025-08-19T14:36:10-0700: Setting nodata values of /u/aurora-r0/staniewi/dev/notebooks/new-orleans/dolphin/unwrapped/20220201_20220213.unw.tif file\n",
      "[INFO|_unwrap|L517] 2025-08-19T14:36:11-0700: Setting nodata values of /u/aurora-r0/staniewi/dev/notebooks/new-orleans/dolphin/unwrapped/20220201_20220213.unw.conncomp.tif file\n"
     ]
    },
    {
     "name": "stdout",
     "output_type": "stream",
     "text": [
      "\n",
      "snaphu v2.0.7\n",
      "23 parameters input from file /u/aurora-r0/staniewi/dev/notebooks/new-orleans/dolphin/unwrapped/scratch/scratch-20220213_20220225.int/snaphu.config.9evw7ey0.txt (23 lines total)\n",
      "Creating temporary directory /u/aurora-r0/staniewi/dev/notebooks/new-orleans/dolphin/unwrapped/scratch/scratch-20220213_20220225.int/snaphu_tiles_134687\n",
      "Unwrapping tile at row 0, column 0 (pid 134690)\n",
      "Unwrapping tile at row 0, column 1 (pid 134694)\n",
      "Unwrapping tile at row 1, column 0 (pid 134697)\n",
      "Unwrapping tile at row 1, column 1 (pid 134699)\n",
      "Assembling tiles\n",
      "Running optimizer for secondary network\n",
      "Number of nodes in secondary network: 2177\n",
      "Flow increment: 1  (Total improvements: 0)\n",
      "Flow increment: 2  (Total improvements: 0)\n",
      "Flow increment: 3  (Total improvements: 0)\n",
      "Assembling tile connected components\n",
      "Assembled connected components (3) output written to file /u/aurora-r0/staniewi/dev/notebooks/new-orleans/dolphin/unwrapped/scratch/scratch-20220201_20220225.int/snaphu.conncomp.bnj6ygwo.u4\n",
      "Integrating secondary flows\n",
      "Output written to file /u/aurora-r0/staniewi/dev/notebooks/new-orleans/dolphin/unwrapped/scratch/scratch-20220201_20220225.int/snaphu.unw.nm2kzd1u.f4\n",
      "Removing temporary directory /u/aurora-r0/staniewi/dev/notebooks/new-orleans/dolphin/unwrapped/scratch/scratch-20220201_20220225.int/snaphu_tiles_134426\n",
      "SUGGESTION: Try increasing tile overlap and/or size if solution has edge artifacts\n",
      "Program snaphu done\n",
      "Elapsed processor time:   0:04:59.84\n",
      "Elapsed wall clock time:  0:02:34\n",
      "\n",
      "snaphu v2.0.7\n",
      "15 parameters input from file /u/aurora-r0/staniewi/dev/notebooks/new-orleans/dolphin/unwrapped/scratch/scratch-20220201_20220225.int/snaphu-regrow-conncomps.config.0jkm98gg.txt (15 lines total)\n",
      "Reading unwrapped phase from file /u/aurora-r0/staniewi/dev/notebooks/new-orleans/dolphin/unwrapped/scratch/scratch-20220201_20220225.int/snaphu.unw.nm2kzd1u.f4\n",
      "Reading interferogram magnitude from file /u/aurora-r0/staniewi/dev/notebooks/new-orleans/dolphin/unwrapped/scratch/scratch-20220201_20220225.int/snaphu.mag.5ry_limb.f4\n",
      "Reading byte mask from file /u/aurora-r0/staniewi/dev/notebooks/new-orleans/dolphin/unwrapped/scratch/scratch-20220201_20220225.int/snaphu.mask.5geu7qkw.u1\n",
      "No weight file specified.  Assuming uniform weights\n",
      "Reading correlation data from file /u/aurora-r0/staniewi/dev/notebooks/new-orleans/dolphin/unwrapped/scratch/scratch-20220201_20220225.int/snaphu.corr.h2vtrvm4.f4\n",
      "Calculating smooth-solution cost parameters\n",
      "Growing connected component mask\n",
      "Writing connected components to file /u/aurora-r0/staniewi/dev/notebooks/new-orleans/dolphin/unwrapped/scratch/scratch-20220201_20220225.int/snaphu.conncomp.bnj6ygwo.u4 as 4-byte unsigned ints\n",
      "Program snaphu done\n",
      "Elapsed processor time:   0:00:01.72\n",
      "Elapsed wall clock time:  0:00:02\n"
     ]
    },
    {
     "name": "stderr",
     "output_type": "stream",
     "text": [
      "[INFO|_unwrap|L513] 2025-08-19T14:36:53-0700: Setting nodata values of /u/aurora-r0/staniewi/dev/notebooks/new-orleans/dolphin/unwrapped/20220201_20220225.unw.tif file\n",
      "[INFO|_unwrap|L517] 2025-08-19T14:36:53-0700: Setting nodata values of /u/aurora-r0/staniewi/dev/notebooks/new-orleans/dolphin/unwrapped/20220201_20220225.unw.conncomp.tif file\n"
     ]
    },
    {
     "name": "stdout",
     "output_type": "stream",
     "text": [
      "\n",
      "snaphu v2.0.7\n",
      "23 parameters input from file /u/aurora-r0/staniewi/dev/notebooks/new-orleans/dolphin/unwrapped/scratch/scratch-20220213_20220309.int/snaphu.config.p_2ukq5x.txt (23 lines total)\n",
      "Creating temporary directory /u/aurora-r0/staniewi/dev/notebooks/new-orleans/dolphin/unwrapped/scratch/scratch-20220213_20220309.int/snaphu_tiles_134778\n",
      "Unwrapping tile at row 0, column 0 (pid 134784)\n",
      "Unwrapping tile at row 0, column 1 (pid 134919)\n",
      "Unwrapping tile at row 1, column 0 (pid 134926)\n",
      "Unwrapping tile at row 1, column 1 (pid 134935)\n",
      "Assembling tiles\n",
      "Running optimizer for secondary network\n",
      "Number of nodes in secondary network: 2117\n",
      "Flow increment: 1  (Total improvements: 0)\n",
      "Flow increment: 2  (Total improvements: 0)\n",
      "Flow increment: 3  (Total improvements: 0)\n",
      "Assembling tile connected components\n",
      "Assembled connected components (3) output written to file /u/aurora-r0/staniewi/dev/notebooks/new-orleans/dolphin/unwrapped/scratch/scratch-20220201_20220309.int/snaphu.conncomp.ov461g7q.u4\n",
      "Integrating secondary flows\n",
      "Output written to file /u/aurora-r0/staniewi/dev/notebooks/new-orleans/dolphin/unwrapped/scratch/scratch-20220201_20220309.int/snaphu.unw.daby06f1.f4\n",
      "Removing temporary directory /u/aurora-r0/staniewi/dev/notebooks/new-orleans/dolphin/unwrapped/scratch/scratch-20220201_20220309.int/snaphu_tiles_134474\n",
      "SUGGESTION: Try increasing tile overlap and/or size if solution has edge artifacts\n",
      "Program snaphu done\n",
      "Elapsed processor time:   0:05:01.80\n",
      "Elapsed wall clock time:  0:02:32\n",
      "\n",
      "snaphu v2.0.7\n",
      "15 parameters input from file /u/aurora-r0/staniewi/dev/notebooks/new-orleans/dolphin/unwrapped/scratch/scratch-20220201_20220309.int/snaphu-regrow-conncomps.config.277isn0e.txt (15 lines total)\n",
      "Reading unwrapped phase from file /u/aurora-r0/staniewi/dev/notebooks/new-orleans/dolphin/unwrapped/scratch/scratch-20220201_20220309.int/snaphu.unw.daby06f1.f4\n",
      "Reading interferogram magnitude from file /u/aurora-r0/staniewi/dev/notebooks/new-orleans/dolphin/unwrapped/scratch/scratch-20220201_20220309.int/snaphu.mag.3h82wlph.f4\n",
      "Reading byte mask from file /u/aurora-r0/staniewi/dev/notebooks/new-orleans/dolphin/unwrapped/scratch/scratch-20220201_20220309.int/snaphu.mask.1iq9o11t.u1\n",
      "No weight file specified.  Assuming uniform weights\n",
      "Reading correlation data from file /u/aurora-r0/staniewi/dev/notebooks/new-orleans/dolphin/unwrapped/scratch/scratch-20220201_20220309.int/snaphu.corr.twehcf9y.f4\n",
      "Calculating smooth-solution cost parameters\n",
      "Growing connected component mask\n",
      "Writing connected components to file /u/aurora-r0/staniewi/dev/notebooks/new-orleans/dolphin/unwrapped/scratch/scratch-20220201_20220309.int/snaphu.conncomp.ov461g7q.u4 as 4-byte unsigned ints\n",
      "Program snaphu done\n",
      "Elapsed processor time:   0:00:01.65\n",
      "Elapsed wall clock time:  0:00:02\n"
     ]
    },
    {
     "name": "stderr",
     "output_type": "stream",
     "text": [
      "[INFO|_unwrap|L513] 2025-08-19T14:37:13-0700: Setting nodata values of /u/aurora-r0/staniewi/dev/notebooks/new-orleans/dolphin/unwrapped/20220201_20220309.unw.tif file\n",
      "[INFO|_unwrap|L517] 2025-08-19T14:37:14-0700: Setting nodata values of /u/aurora-r0/staniewi/dev/notebooks/new-orleans/dolphin/unwrapped/20220201_20220309.unw.conncomp.tif file\n"
     ]
    },
    {
     "name": "stdout",
     "output_type": "stream",
     "text": [
      "\n",
      "snaphu v2.0.7\n",
      "23 parameters input from file /u/aurora-r0/staniewi/dev/notebooks/new-orleans/dolphin/unwrapped/scratch/scratch-20220213_20220321.int/snaphu.config.3h9pfh7s.txt (23 lines total)\n",
      "Creating temporary directory /u/aurora-r0/staniewi/dev/notebooks/new-orleans/dolphin/unwrapped/scratch/scratch-20220213_20220321.int/snaphu_tiles_134969\n",
      "Unwrapping tile at row 0, column 0 (pid 134973)\n",
      "Unwrapping tile at row 0, column 1 (pid 134976)\n",
      "Unwrapping tile at row 1, column 0 (pid 134982)\n",
      "Unwrapping tile at row 1, column 1 (pid 134987)\n",
      "Assembling tiles\n",
      "Running optimizer for secondary network\n",
      "Number of nodes in secondary network: 2255\n",
      "Flow increment: 1  (Total improvements: 0)\n",
      "Flow increment: 2  (Total improvements: 0)\n",
      "Flow increment: 3  (Total improvements: 0)\n",
      "Assembling tile connected components\n",
      "Assembled connected components (3) output written to file /u/aurora-r0/staniewi/dev/notebooks/new-orleans/dolphin/unwrapped/scratch/scratch-20220213_20220225.int/snaphu.conncomp.hzmebulm.u4\n",
      "Integrating secondary flows\n",
      "Output written to file /u/aurora-r0/staniewi/dev/notebooks/new-orleans/dolphin/unwrapped/scratch/scratch-20220213_20220225.int/snaphu.unw.cy2a5s12.f4\n",
      "Removing temporary directory /u/aurora-r0/staniewi/dev/notebooks/new-orleans/dolphin/unwrapped/scratch/scratch-20220213_20220225.int/snaphu_tiles_134687\n",
      "SUGGESTION: Try increasing tile overlap and/or size if solution has edge artifacts\n",
      "Program snaphu done\n",
      "Elapsed processor time:   0:04:30.42\n",
      "Elapsed wall clock time:  0:02:23\n",
      "\n",
      "snaphu v2.0.7\n",
      "15 parameters input from file /u/aurora-r0/staniewi/dev/notebooks/new-orleans/dolphin/unwrapped/scratch/scratch-20220213_20220225.int/snaphu-regrow-conncomps.config.ulbhoipb.txt (15 lines total)\n",
      "Reading unwrapped phase from file /u/aurora-r0/staniewi/dev/notebooks/new-orleans/dolphin/unwrapped/scratch/scratch-20220213_20220225.int/snaphu.unw.cy2a5s12.f4\n",
      "Reading interferogram magnitude from file /u/aurora-r0/staniewi/dev/notebooks/new-orleans/dolphin/unwrapped/scratch/scratch-20220213_20220225.int/snaphu.mag.d4wftayl.f4\n",
      "Reading byte mask from file /u/aurora-r0/staniewi/dev/notebooks/new-orleans/dolphin/unwrapped/scratch/scratch-20220213_20220225.int/snaphu.mask.5cq8rjqo.u1\n",
      "No weight file specified.  Assuming uniform weights\n",
      "Reading correlation data from file /u/aurora-r0/staniewi/dev/notebooks/new-orleans/dolphin/unwrapped/scratch/scratch-20220213_20220225.int/snaphu.corr.itmoeg5h.f4\n",
      "Calculating smooth-solution cost parameters\n",
      "Growing connected component mask\n",
      "Writing connected components to file /u/aurora-r0/staniewi/dev/notebooks/new-orleans/dolphin/unwrapped/scratch/scratch-20220213_20220225.int/snaphu.conncomp.hzmebulm.u4 as 4-byte unsigned ints\n",
      "Program snaphu done\n",
      "Elapsed processor time:   0:00:01.96\n",
      "Elapsed wall clock time:  0:00:02\n"
     ]
    },
    {
     "name": "stderr",
     "output_type": "stream",
     "text": [
      "[INFO|_unwrap|L513] 2025-08-19T14:38:37-0700: Setting nodata values of /u/aurora-r0/staniewi/dev/notebooks/new-orleans/dolphin/unwrapped/20220213_20220225.unw.tif file\n",
      "[INFO|_unwrap|L517] 2025-08-19T14:38:38-0700: Setting nodata values of /u/aurora-r0/staniewi/dev/notebooks/new-orleans/dolphin/unwrapped/20220213_20220225.unw.conncomp.tif file\n"
     ]
    },
    {
     "name": "stdout",
     "output_type": "stream",
     "text": [
      "\n",
      "snaphu v2.0.7\n",
      "23 parameters input from file /u/aurora-r0/staniewi/dev/notebooks/new-orleans/dolphin/unwrapped/scratch/scratch-20220225_20220309.int/snaphu.config.e4svlqzb.txt (23 lines total)\n",
      "Creating temporary directory /u/aurora-r0/staniewi/dev/notebooks/new-orleans/dolphin/unwrapped/scratch/scratch-20220225_20220309.int/snaphu_tiles_136047\n",
      "Unwrapping tile at row 0, column 0 (pid 136310)\n",
      "Unwrapping tile at row 0, column 1 (pid 136442)\n",
      "Unwrapping tile at row 1, column 0 (pid 136576)\n",
      "Unwrapping tile at row 1, column 1 (pid 136581)\n",
      "Assembling tiles\n",
      "Running optimizer for secondary network\n",
      "Number of nodes in secondary network: 2147\n",
      "Flow increment: 1  (Total improvements: 0)\n",
      "Flow increment: 2  (Total improvements: 0)\n",
      "Flow increment: 3  (Total improvements: 0)\n",
      "Assembling tile connected components\n",
      "Assembled connected components (3) output written to file /u/aurora-r0/staniewi/dev/notebooks/new-orleans/dolphin/unwrapped/scratch/scratch-20220213_20220309.int/snaphu.conncomp.6fugjap8.u4\n",
      "Integrating secondary flows\n",
      "Output written to file /u/aurora-r0/staniewi/dev/notebooks/new-orleans/dolphin/unwrapped/scratch/scratch-20220213_20220309.int/snaphu.unw.q5xtc6jd.f4\n",
      "Removing temporary directory /u/aurora-r0/staniewi/dev/notebooks/new-orleans/dolphin/unwrapped/scratch/scratch-20220213_20220309.int/snaphu_tiles_134778\n",
      "SUGGESTION: Try increasing tile overlap and/or size if solution has edge artifacts\n",
      "Program snaphu done\n",
      "Elapsed processor time:   0:04:47.85\n",
      "Elapsed wall clock time:  0:02:27\n",
      "\n",
      "snaphu v2.0.7\n",
      "15 parameters input from file /u/aurora-r0/staniewi/dev/notebooks/new-orleans/dolphin/unwrapped/scratch/scratch-20220213_20220309.int/snaphu-regrow-conncomps.config.5pkzzjvd.txt (15 lines total)\n"
     ]
    },
    {
     "name": "stderr",
     "output_type": "stream",
     "text": [
      "[INFO|_unwrap|L513] 2025-08-19T14:39:23-0700: Setting nodata values of /u/aurora-r0/staniewi/dev/notebooks/new-orleans/dolphin/unwrapped/20220213_20220309.unw.tif file\n"
     ]
    },
    {
     "name": "stdout",
     "output_type": "stream",
     "text": [
      "Reading unwrapped phase from file /u/aurora-r0/staniewi/dev/notebooks/new-orleans/dolphin/unwrapped/scratch/scratch-20220213_20220309.int/snaphu.unw.q5xtc6jd.f4\n",
      "Reading interferogram magnitude from file /u/aurora-r0/staniewi/dev/notebooks/new-orleans/dolphin/unwrapped/scratch/scratch-20220213_20220309.int/snaphu.mag.tm5wpry8.f4\n",
      "Reading byte mask from file /u/aurora-r0/staniewi/dev/notebooks/new-orleans/dolphin/unwrapped/scratch/scratch-20220213_20220309.int/snaphu.mask.ubtg3ap1.u1\n",
      "No weight file specified.  Assuming uniform weights\n",
      "Reading correlation data from file /u/aurora-r0/staniewi/dev/notebooks/new-orleans/dolphin/unwrapped/scratch/scratch-20220213_20220309.int/snaphu.corr.j8agr79e.f4\n",
      "Calculating smooth-solution cost parameters\n",
      "Growing connected component mask\n",
      "Writing connected components to file /u/aurora-r0/staniewi/dev/notebooks/new-orleans/dolphin/unwrapped/scratch/scratch-20220213_20220309.int/snaphu.conncomp.6fugjap8.u4 as 4-byte unsigned ints\n",
      "Program snaphu done\n",
      "Elapsed processor time:   0:00:01.66\n",
      "Elapsed wall clock time:  0:00:02\n"
     ]
    },
    {
     "name": "stderr",
     "output_type": "stream",
     "text": [
      "[INFO|_unwrap|L517] 2025-08-19T14:39:23-0700: Setting nodata values of /u/aurora-r0/staniewi/dev/notebooks/new-orleans/dolphin/unwrapped/20220213_20220309.unw.conncomp.tif file\n"
     ]
    },
    {
     "name": "stdout",
     "output_type": "stream",
     "text": [
      "\n",
      "snaphu v2.0.7\n",
      "23 parameters input from file /u/aurora-r0/staniewi/dev/notebooks/new-orleans/dolphin/unwrapped/scratch/scratch-20220225_20220321.int/snaphu.config.6w5hlzcw.txt (23 lines total)\n",
      "Creating temporary directory /u/aurora-r0/staniewi/dev/notebooks/new-orleans/dolphin/unwrapped/scratch/scratch-20220225_20220321.int/snaphu_tiles_137585\n",
      "Unwrapping tile at row 0, column 0 (pid 137588)\n",
      "Unwrapping tile at row 0, column 1 (pid 137800)\n",
      "Unwrapping tile at row 1, column 0 (pid 137805)\n",
      "Unwrapping tile at row 1, column 1 (pid 138039)\n",
      "Assembling tiles\n",
      "Running optimizer for secondary network\n",
      "Number of nodes in secondary network: 2130\n",
      "Flow increment: 1  (Total improvements: 0)\n",
      "Flow increment: 2  (Total improvements: 0)\n",
      "Flow increment: 3  (Total improvements: 0)\n",
      "Assembling tile connected components\n",
      "Assembled connected components (4) output written to file /u/aurora-r0/staniewi/dev/notebooks/new-orleans/dolphin/unwrapped/scratch/scratch-20220213_20220321.int/snaphu.conncomp.yk1jc8js.u4\n",
      "Integrating secondary flows\n",
      "Output written to file /u/aurora-r0/staniewi/dev/notebooks/new-orleans/dolphin/unwrapped/scratch/scratch-20220213_20220321.int/snaphu.unw.by7qnbut.f4\n",
      "Removing temporary directory /u/aurora-r0/staniewi/dev/notebooks/new-orleans/dolphin/unwrapped/scratch/scratch-20220213_20220321.int/snaphu_tiles_134969\n",
      "SUGGESTION: Try increasing tile overlap and/or size if solution has edge artifacts\n",
      "Program snaphu done\n",
      "Elapsed processor time:   0:04:46.75\n",
      "Elapsed wall clock time:  0:02:37\n",
      "\n",
      "snaphu v2.0.7\n",
      "15 parameters input from file /u/aurora-r0/staniewi/dev/notebooks/new-orleans/dolphin/unwrapped/scratch/scratch-20220213_20220321.int/snaphu-regrow-conncomps.config.a4ezyify.txt (15 lines total)\n",
      "Reading unwrapped phase from file /u/aurora-r0/staniewi/dev/notebooks/new-orleans/dolphin/unwrapped/scratch/scratch-20220213_20220321.int/snaphu.unw.by7qnbut.f4\n",
      "Reading interferogram magnitude from file /u/aurora-r0/staniewi/dev/notebooks/new-orleans/dolphin/unwrapped/scratch/scratch-20220213_20220321.int/snaphu.mag.hvk0qno9.f4\n",
      "Reading byte mask from file /u/aurora-r0/staniewi/dev/notebooks/new-orleans/dolphin/unwrapped/scratch/scratch-20220213_20220321.int/snaphu.mask.gvsxi793.u1\n",
      "No weight file specified.  Assuming uniform weights\n",
      "Reading correlation data from file /u/aurora-r0/staniewi/dev/notebooks/new-orleans/dolphin/unwrapped/scratch/scratch-20220213_20220321.int/snaphu.corr.b4u117kh.f4\n",
      "Calculating smooth-solution cost parameters\n",
      "Growing connected component mask\n",
      "Writing connected components to file /u/aurora-r0/staniewi/dev/notebooks/new-orleans/dolphin/unwrapped/scratch/scratch-20220213_20220321.int/snaphu.conncomp.yk1jc8js.u4 as 4-byte unsigned ints\n",
      "Program snaphu done\n",
      "Elapsed processor time:   0:00:01.93\n",
      "Elapsed wall clock time:  0:00:02\n"
     ]
    },
    {
     "name": "stderr",
     "output_type": "stream",
     "text": [
      "[INFO|_unwrap|L513] 2025-08-19T14:39:54-0700: Setting nodata values of /u/aurora-r0/staniewi/dev/notebooks/new-orleans/dolphin/unwrapped/20220213_20220321.unw.tif file\n",
      "[INFO|_unwrap|L517] 2025-08-19T14:39:55-0700: Setting nodata values of /u/aurora-r0/staniewi/dev/notebooks/new-orleans/dolphin/unwrapped/20220213_20220321.unw.conncomp.tif file\n"
     ]
    },
    {
     "name": "stdout",
     "output_type": "stream",
     "text": [
      "\n",
      "snaphu v2.0.7\n",
      "23 parameters input from file /u/aurora-r0/staniewi/dev/notebooks/new-orleans/dolphin/unwrapped/scratch/scratch-20220225_20220402.int/snaphu.config.77ou461l.txt (23 lines total)\n",
      "Creating temporary directory /u/aurora-r0/staniewi/dev/notebooks/new-orleans/dolphin/unwrapped/scratch/scratch-20220225_20220402.int/snaphu_tiles_138310\n",
      "Unwrapping tile at row 0, column 0 (pid 138314)\n",
      "Unwrapping tile at row 0, column 1 (pid 138318)\n",
      "Unwrapping tile at row 1, column 0 (pid 138329)\n",
      "Unwrapping tile at row 1, column 1 (pid 138560)\n",
      "Assembling tiles\n",
      "Running optimizer for secondary network\n",
      "Number of nodes in secondary network: 2225\n",
      "Flow increment: 1  (Total improvements: 0)\n",
      "Flow increment: 2  (Total improvements: 0)\n",
      "Flow increment: 3  (Total improvements: 0)\n",
      "Assembling tile connected components\n",
      "Assembled connected components (3) output written to file /u/aurora-r0/staniewi/dev/notebooks/new-orleans/dolphin/unwrapped/scratch/scratch-20220225_20220309.int/snaphu.conncomp.z_v9c6rz.u4\n",
      "Integrating secondary flows\n",
      "Output written to file /u/aurora-r0/staniewi/dev/notebooks/new-orleans/dolphin/unwrapped/scratch/scratch-20220225_20220309.int/snaphu.unw.d5fzf01p.f4\n",
      "Removing temporary directory /u/aurora-r0/staniewi/dev/notebooks/new-orleans/dolphin/unwrapped/scratch/scratch-20220225_20220309.int/snaphu_tiles_136047\n",
      "SUGGESTION: Try increasing tile overlap and/or size if solution has edge artifacts\n",
      "Program snaphu done\n",
      "Elapsed processor time:   0:04:00.66\n",
      "Elapsed wall clock time:  0:02:03\n",
      "\n",
      "snaphu v2.0.7\n",
      "15 parameters input from file /u/aurora-r0/staniewi/dev/notebooks/new-orleans/dolphin/unwrapped/scratch/scratch-20220225_20220309.int/snaphu-regrow-conncomps.config.bgl244ef.txt (15 lines total)\n",
      "Reading unwrapped phase from file /u/aurora-r0/staniewi/dev/notebooks/new-orleans/dolphin/unwrapped/scratch/scratch-20220225_20220309.int/snaphu.unw.d5fzf01p.f4\n",
      "Reading interferogram magnitude from file /u/aurora-r0/staniewi/dev/notebooks/new-orleans/dolphin/unwrapped/scratch/scratch-20220225_20220309.int/snaphu.mag.6yzn54n9.f4\n",
      "Reading byte mask from file /u/aurora-r0/staniewi/dev/notebooks/new-orleans/dolphin/unwrapped/scratch/scratch-20220225_20220309.int/snaphu.mask.lnxv4bny.u1\n",
      "No weight file specified.  Assuming uniform weights\n",
      "Reading correlation data from file /u/aurora-r0/staniewi/dev/notebooks/new-orleans/dolphin/unwrapped/scratch/scratch-20220225_20220309.int/snaphu.corr.dzp20qif.f4\n",
      "Calculating smooth-solution cost parameters\n",
      "Growing connected component mask\n",
      "Writing connected components to file /u/aurora-r0/staniewi/dev/notebooks/new-orleans/dolphin/unwrapped/scratch/scratch-20220225_20220309.int/snaphu.conncomp.z_v9c6rz.u4 as 4-byte unsigned ints\n",
      "Program snaphu done\n",
      "Elapsed processor time:   0:00:01.70\n",
      "Elapsed wall clock time:  0:00:02\n"
     ]
    },
    {
     "name": "stderr",
     "output_type": "stream",
     "text": [
      "[INFO|_unwrap|L513] 2025-08-19T14:40:44-0700: Setting nodata values of /u/aurora-r0/staniewi/dev/notebooks/new-orleans/dolphin/unwrapped/20220225_20220309.unw.tif file\n",
      "[INFO|_unwrap|L517] 2025-08-19T14:40:45-0700: Setting nodata values of /u/aurora-r0/staniewi/dev/notebooks/new-orleans/dolphin/unwrapped/20220225_20220309.unw.conncomp.tif file\n"
     ]
    },
    {
     "name": "stdout",
     "output_type": "stream",
     "text": [
      "\n",
      "snaphu v2.0.7\n",
      "23 parameters input from file /u/aurora-r0/staniewi/dev/notebooks/new-orleans/dolphin/unwrapped/scratch/scratch-20220309_20220321.int/snaphu.config.gfl0pp_q.txt (23 lines total)\n",
      "Creating temporary directory /u/aurora-r0/staniewi/dev/notebooks/new-orleans/dolphin/unwrapped/scratch/scratch-20220309_20220321.int/snaphu_tiles_138624\n",
      "Unwrapping tile at row 0, column 0 (pid 138627)\n",
      "Unwrapping tile at row 0, column 1 (pid 138630)\n",
      "Unwrapping tile at row 1, column 0 (pid 138633)\n",
      "Unwrapping tile at row 1, column 1 (pid 138636)\n",
      "Assembling tiles\n",
      "Running optimizer for secondary network\n",
      "Number of nodes in secondary network: 2142\n",
      "Flow increment: 1  (Total improvements: 0)\n",
      "Flow increment: 2  (Total improvements: 0)\n",
      "Flow increment: 3  (Total improvements: 0)\n",
      "Assembling tile connected components\n",
      "Assembled connected components (3) output written to file /u/aurora-r0/staniewi/dev/notebooks/new-orleans/dolphin/unwrapped/scratch/scratch-20220225_20220321.int/snaphu.conncomp.k4r6pu5m.u4\n",
      "Integrating secondary flows\n",
      "Output written to file /u/aurora-r0/staniewi/dev/notebooks/new-orleans/dolphin/unwrapped/scratch/scratch-20220225_20220321.int/snaphu.unw.tit8ze4m.f4\n",
      "Removing temporary directory /u/aurora-r0/staniewi/dev/notebooks/new-orleans/dolphin/unwrapped/scratch/scratch-20220225_20220321.int/snaphu_tiles_137585\n",
      "SUGGESTION: Try increasing tile overlap and/or size if solution has edge artifacts\n",
      "Program snaphu done\n",
      "Elapsed processor time:   0:03:59.87\n",
      "Elapsed wall clock time:  0:02:01\n",
      "\n",
      "snaphu v2.0.7\n",
      "15 parameters input from file /u/aurora-r0/staniewi/dev/notebooks/new-orleans/dolphin/unwrapped/scratch/scratch-20220225_20220321.int/snaphu-regrow-conncomps.config.6dmfezid.txt (15 lines total)\n",
      "Reading unwrapped phase from file /u/aurora-r0/staniewi/dev/notebooks/new-orleans/dolphin/unwrapped/scratch/scratch-20220225_20220321.int/snaphu.unw.tit8ze4m.f4\n",
      "Reading interferogram magnitude from file /u/aurora-r0/staniewi/dev/notebooks/new-orleans/dolphin/unwrapped/scratch/scratch-20220225_20220321.int/snaphu.mag.kngs8xzr.f4\n",
      "Reading byte mask from file /u/aurora-r0/staniewi/dev/notebooks/new-orleans/dolphin/unwrapped/scratch/scratch-20220225_20220321.int/snaphu.mask.b57972ub.u1\n",
      "No weight file specified.  Assuming uniform weights\n",
      "Reading correlation data from file /u/aurora-r0/staniewi/dev/notebooks/new-orleans/dolphin/unwrapped/scratch/scratch-20220225_20220321.int/snaphu.corr.nl7cbyfk.f4\n",
      "Calculating smooth-solution cost parameters\n",
      "Growing connected component mask\n",
      "Writing connected components to file /u/aurora-r0/staniewi/dev/notebooks/new-orleans/dolphin/unwrapped/scratch/scratch-20220225_20220321.int/snaphu.conncomp.k4r6pu5m.u4 as 4-byte unsigned ints\n",
      "Program snaphu done\n",
      "Elapsed processor time:   0:00:01.81\n",
      "Elapsed wall clock time:  0:00:03\n"
     ]
    },
    {
     "name": "stderr",
     "output_type": "stream",
     "text": [
      "[INFO|_unwrap|L513] 2025-08-19T14:41:29-0700: Setting nodata values of /u/aurora-r0/staniewi/dev/notebooks/new-orleans/dolphin/unwrapped/20220225_20220321.unw.tif file\n",
      "[INFO|_unwrap|L517] 2025-08-19T14:41:29-0700: Setting nodata values of /u/aurora-r0/staniewi/dev/notebooks/new-orleans/dolphin/unwrapped/20220225_20220321.unw.conncomp.tif file\n"
     ]
    },
    {
     "name": "stdout",
     "output_type": "stream",
     "text": [
      "\n",
      "snaphu v2.0.7\n",
      "23 parameters input from file /u/aurora-r0/staniewi/dev/notebooks/new-orleans/dolphin/unwrapped/scratch/scratch-20220309_20220402.int/snaphu.config.nnekcaqf.txt (23 lines total)\n",
      "Creating temporary directory /u/aurora-r0/staniewi/dev/notebooks/new-orleans/dolphin/unwrapped/scratch/scratch-20220309_20220402.int/snaphu_tiles_138713\n",
      "Unwrapping tile at row 0, column 0 (pid 138720)\n",
      "Unwrapping tile at row 0, column 1 (pid 138735)\n",
      "Unwrapping tile at row 1, column 0 (pid 138738)\n",
      "Unwrapping tile at row 1, column 1 (pid 138742)\n",
      "Assembling tiles\n",
      "Running optimizer for secondary network\n",
      "Number of nodes in secondary network: 2184\n",
      "Flow increment: 1  (Total improvements: 0)\n",
      "Flow increment: 2  (Total improvements: 0)\n",
      "Flow increment: 3  (Total improvements: 0)\n",
      "Assembling tile connected components\n",
      "Assembled connected components (3) output written to file /u/aurora-r0/staniewi/dev/notebooks/new-orleans/dolphin/unwrapped/scratch/scratch-20220225_20220402.int/snaphu.conncomp.54e3gdl0.u4\n",
      "Integrating secondary flows\n",
      "Output written to file /u/aurora-r0/staniewi/dev/notebooks/new-orleans/dolphin/unwrapped/scratch/scratch-20220225_20220402.int/snaphu.unw.0upku54e.f4\n",
      "Removing temporary directory /u/aurora-r0/staniewi/dev/notebooks/new-orleans/dolphin/unwrapped/scratch/scratch-20220225_20220402.int/snaphu_tiles_138310\n",
      "SUGGESTION: Try increasing tile overlap and/or size if solution has edge artifacts\n",
      "Program snaphu done\n",
      "Elapsed processor time:   0:04:20.75\n",
      "Elapsed wall clock time:  0:02:23\n",
      "\n",
      "snaphu v2.0.7\n",
      "15 parameters input from file /u/aurora-r0/staniewi/dev/notebooks/new-orleans/dolphin/unwrapped/scratch/scratch-20220225_20220402.int/snaphu-regrow-conncomps.config._ueqhoru.txt (15 lines total)\n"
     ]
    },
    {
     "name": "stderr",
     "output_type": "stream",
     "text": [
      "[INFO|_unwrap|L513] 2025-08-19T14:42:20-0700: Setting nodata values of /u/aurora-r0/staniewi/dev/notebooks/new-orleans/dolphin/unwrapped/20220225_20220402.unw.tif file\n"
     ]
    },
    {
     "name": "stdout",
     "output_type": "stream",
     "text": [
      "Reading unwrapped phase from file /u/aurora-r0/staniewi/dev/notebooks/new-orleans/dolphin/unwrapped/scratch/scratch-20220225_20220402.int/snaphu.unw.0upku54e.f4\n",
      "Reading interferogram magnitude from file /u/aurora-r0/staniewi/dev/notebooks/new-orleans/dolphin/unwrapped/scratch/scratch-20220225_20220402.int/snaphu.mag._f3omkgo.f4\n",
      "Reading byte mask from file /u/aurora-r0/staniewi/dev/notebooks/new-orleans/dolphin/unwrapped/scratch/scratch-20220225_20220402.int/snaphu.mask.c7o12n1u.u1\n",
      "No weight file specified.  Assuming uniform weights\n",
      "Reading correlation data from file /u/aurora-r0/staniewi/dev/notebooks/new-orleans/dolphin/unwrapped/scratch/scratch-20220225_20220402.int/snaphu.corr.i034xv7r.f4\n",
      "Calculating smooth-solution cost parameters\n",
      "Growing connected component mask\n",
      "Writing connected components to file /u/aurora-r0/staniewi/dev/notebooks/new-orleans/dolphin/unwrapped/scratch/scratch-20220225_20220402.int/snaphu.conncomp.54e3gdl0.u4 as 4-byte unsigned ints\n",
      "Program snaphu done\n",
      "Elapsed processor time:   0:00:01.69\n",
      "Elapsed wall clock time:  0:00:02\n"
     ]
    },
    {
     "name": "stderr",
     "output_type": "stream",
     "text": [
      "[INFO|_unwrap|L517] 2025-08-19T14:42:21-0700: Setting nodata values of /u/aurora-r0/staniewi/dev/notebooks/new-orleans/dolphin/unwrapped/20220225_20220402.unw.conncomp.tif file\n"
     ]
    },
    {
     "name": "stdout",
     "output_type": "stream",
     "text": [
      "\n",
      "snaphu v2.0.7\n",
      "23 parameters input from file /u/aurora-r0/staniewi/dev/notebooks/new-orleans/dolphin/unwrapped/scratch/scratch-20220309_20220426.int/snaphu.config.am9vhfzg.txt (23 lines total)\n",
      "Creating temporary directory /u/aurora-r0/staniewi/dev/notebooks/new-orleans/dolphin/unwrapped/scratch/scratch-20220309_20220426.int/snaphu_tiles_138801\n",
      "Unwrapping tile at row 0, column 0 (pid 138803)\n",
      "Unwrapping tile at row 0, column 1 (pid 138807)\n",
      "Unwrapping tile at row 1, column 0 (pid 138810)\n",
      "Unwrapping tile at row 1, column 1 (pid 138812)\n",
      "Assembling tiles\n",
      "Running optimizer for secondary network\n",
      "Number of nodes in secondary network: 2119\n",
      "Flow increment: 1  (Total improvements: 0)\n",
      "Flow increment: 2  (Total improvements: 0)\n",
      "Flow increment: 3  (Total improvements: 0)\n",
      "Assembling tile connected components\n",
      "Assembled connected components (3) output written to file /u/aurora-r0/staniewi/dev/notebooks/new-orleans/dolphin/unwrapped/scratch/scratch-20220309_20220321.int/snaphu.conncomp.ghp_zu80.u4\n",
      "Integrating secondary flows\n",
      "Output written to file /u/aurora-r0/staniewi/dev/notebooks/new-orleans/dolphin/unwrapped/scratch/scratch-20220309_20220321.int/snaphu.unw.o4mud8_h.f4\n",
      "Removing temporary directory /u/aurora-r0/staniewi/dev/notebooks/new-orleans/dolphin/unwrapped/scratch/scratch-20220309_20220321.int/snaphu_tiles_138624\n",
      "SUGGESTION: Try increasing tile overlap and/or size if solution has edge artifacts\n",
      "Program snaphu done\n",
      "Elapsed processor time:   0:04:39.35\n",
      "Elapsed wall clock time:  0:02:29\n",
      "\n",
      "snaphu v2.0.7\n",
      "15 parameters input from file /u/aurora-r0/staniewi/dev/notebooks/new-orleans/dolphin/unwrapped/scratch/scratch-20220309_20220321.int/snaphu-regrow-conncomps.config.v8ogd5f1.txt (15 lines total)\n",
      "Reading unwrapped phase from file /u/aurora-r0/staniewi/dev/notebooks/new-orleans/dolphin/unwrapped/scratch/scratch-20220309_20220321.int/snaphu.unw.o4mud8_h.f4\n",
      "Reading interferogram magnitude from file /u/aurora-r0/staniewi/dev/notebooks/new-orleans/dolphin/unwrapped/scratch/scratch-20220309_20220321.int/snaphu.mag.bbc5lbx6.f4\n",
      "Reading byte mask from file /u/aurora-r0/staniewi/dev/notebooks/new-orleans/dolphin/unwrapped/scratch/scratch-20220309_20220321.int/snaphu.mask.7jwauzke.u1\n",
      "No weight file specified.  Assuming uniform weights\n",
      "Reading correlation data from file /u/aurora-r0/staniewi/dev/notebooks/new-orleans/dolphin/unwrapped/scratch/scratch-20220309_20220321.int/snaphu.corr.pvdkrl9s.f4\n",
      "Calculating smooth-solution cost parameters\n",
      "Growing connected component mask\n",
      "Writing connected components to file /u/aurora-r0/staniewi/dev/notebooks/new-orleans/dolphin/unwrapped/scratch/scratch-20220309_20220321.int/snaphu.conncomp.ghp_zu80.u4 as 4-byte unsigned ints\n",
      "Program snaphu done\n",
      "Elapsed processor time:   0:00:01.65\n",
      "Elapsed wall clock time:  0:00:02\n"
     ]
    },
    {
     "name": "stderr",
     "output_type": "stream",
     "text": [
      "[INFO|_unwrap|L513] 2025-08-19T14:43:16-0700: Setting nodata values of /u/aurora-r0/staniewi/dev/notebooks/new-orleans/dolphin/unwrapped/20220309_20220321.unw.tif file\n",
      "[INFO|_unwrap|L517] 2025-08-19T14:43:16-0700: Setting nodata values of /u/aurora-r0/staniewi/dev/notebooks/new-orleans/dolphin/unwrapped/20220309_20220321.unw.conncomp.tif file\n"
     ]
    },
    {
     "name": "stdout",
     "output_type": "stream",
     "text": [
      "\n",
      "snaphu v2.0.7\n",
      "23 parameters input from file /u/aurora-r0/staniewi/dev/notebooks/new-orleans/dolphin/unwrapped/scratch/scratch-20220321_20220402.int/snaphu.config.x_lg0f93.txt (23 lines total)\n",
      "Creating temporary directory /u/aurora-r0/staniewi/dev/notebooks/new-orleans/dolphin/unwrapped/scratch/scratch-20220321_20220402.int/snaphu_tiles_138889\n",
      "Unwrapping tile at row 0, column 0 (pid 138895)\n",
      "Unwrapping tile at row 0, column 1 (pid 138898)\n",
      "Unwrapping tile at row 1, column 0 (pid 138900)\n",
      "Unwrapping tile at row 1, column 1 (pid 138904)\n",
      "Assembling tiles\n",
      "Running optimizer for secondary network\n",
      "Number of nodes in secondary network: 2373\n",
      "Flow increment: 1  (Total improvements: 0)\n",
      "Flow increment: 2  (Total improvements: 5)\n",
      "Flow increment: 3  (Total improvements: 5)\n",
      "Flow increment: 4  (Total improvements: 5)\n",
      "Assembling tile connected components\n",
      "Assembled connected components (3) output written to file /u/aurora-r0/staniewi/dev/notebooks/new-orleans/dolphin/unwrapped/scratch/scratch-20220309_20220402.int/snaphu.conncomp.bfceaevs.u4\n",
      "Integrating secondary flows\n",
      "Output written to file /u/aurora-r0/staniewi/dev/notebooks/new-orleans/dolphin/unwrapped/scratch/scratch-20220309_20220402.int/snaphu.unw.pyvqkrv0.f4\n",
      "Removing temporary directory /u/aurora-r0/staniewi/dev/notebooks/new-orleans/dolphin/unwrapped/scratch/scratch-20220309_20220402.int/snaphu_tiles_138713\n",
      "SUGGESTION: Try increasing tile overlap and/or size if solution has edge artifacts\n",
      "Program snaphu done\n",
      "Elapsed processor time:   0:04:15.11\n",
      "Elapsed wall clock time:  0:02:15\n",
      "\n",
      "snaphu v2.0.7\n",
      "15 parameters input from file /u/aurora-r0/staniewi/dev/notebooks/new-orleans/dolphin/unwrapped/scratch/scratch-20220309_20220402.int/snaphu-regrow-conncomps.config.tx8w_jzx.txt (15 lines total)\n",
      "Reading unwrapped phase from file /u/aurora-r0/staniewi/dev/notebooks/new-orleans/dolphin/unwrapped/scratch/scratch-20220309_20220402.int/snaphu.unw.pyvqkrv0.f4\n",
      "Reading interferogram magnitude from file /u/aurora-r0/staniewi/dev/notebooks/new-orleans/dolphin/unwrapped/scratch/scratch-20220309_20220402.int/snaphu.mag.q6ri1q1g.f4\n",
      "Reading byte mask from file /u/aurora-r0/staniewi/dev/notebooks/new-orleans/dolphin/unwrapped/scratch/scratch-20220309_20220402.int/snaphu.mask.17y8p210.u1\n",
      "No weight file specified.  Assuming uniform weights\n",
      "Reading correlation data from file /u/aurora-r0/staniewi/dev/notebooks/new-orleans/dolphin/unwrapped/scratch/scratch-20220309_20220402.int/snaphu.corr.3y__3f2h.f4\n",
      "Calculating smooth-solution cost parameters\n",
      "Growing connected component mask\n",
      "Writing connected components to file /u/aurora-r0/staniewi/dev/notebooks/new-orleans/dolphin/unwrapped/scratch/scratch-20220309_20220402.int/snaphu.conncomp.bfceaevs.u4 as 4-byte unsigned ints\n",
      "Program snaphu done\n",
      "Elapsed processor time:   0:00:01.78\n",
      "Elapsed wall clock time:  0:00:02\n"
     ]
    },
    {
     "name": "stderr",
     "output_type": "stream",
     "text": [
      "[INFO|_unwrap|L513] 2025-08-19T14:43:48-0700: Setting nodata values of /u/aurora-r0/staniewi/dev/notebooks/new-orleans/dolphin/unwrapped/20220309_20220402.unw.tif file\n",
      "[INFO|_unwrap|L517] 2025-08-19T14:43:48-0700: Setting nodata values of /u/aurora-r0/staniewi/dev/notebooks/new-orleans/dolphin/unwrapped/20220309_20220402.unw.conncomp.tif file\n"
     ]
    },
    {
     "name": "stdout",
     "output_type": "stream",
     "text": [
      "\n",
      "snaphu v2.0.7\n",
      "23 parameters input from file /u/aurora-r0/staniewi/dev/notebooks/new-orleans/dolphin/unwrapped/scratch/scratch-20220321_20220426.int/snaphu.config.8nwo_6mr.txt (23 lines total)\n",
      "Creating temporary directory /u/aurora-r0/staniewi/dev/notebooks/new-orleans/dolphin/unwrapped/scratch/scratch-20220321_20220426.int/snaphu_tiles_138974\n",
      "Unwrapping tile at row 0, column 0 (pid 138978)\n",
      "Unwrapping tile at row 0, column 1 (pid 138980)\n",
      "Unwrapping tile at row 1, column 0 (pid 139675)\n",
      "Unwrapping tile at row 1, column 1 (pid 139703)\n",
      "Assembling tiles\n",
      "Running optimizer for secondary network\n",
      "Number of nodes in secondary network: 2306\n",
      "Flow increment: 1  (Total improvements: 0)\n",
      "Flow increment: 2  (Total improvements: 6)\n",
      "Flow increment: 3  (Total improvements: 6)\n",
      "Flow increment: 4  (Total improvements: 6)\n",
      "Assembling tile connected components\n",
      "Assembled connected components (3) output written to file /u/aurora-r0/staniewi/dev/notebooks/new-orleans/dolphin/unwrapped/scratch/scratch-20220309_20220426.int/snaphu.conncomp.2823f3ug.u4\n",
      "Integrating secondary flows\n",
      "Output written to file /u/aurora-r0/staniewi/dev/notebooks/new-orleans/dolphin/unwrapped/scratch/scratch-20220309_20220426.int/snaphu.unw.zva8463b.f4\n",
      "Removing temporary directory /u/aurora-r0/staniewi/dev/notebooks/new-orleans/dolphin/unwrapped/scratch/scratch-20220309_20220426.int/snaphu_tiles_138801\n",
      "SUGGESTION: Try increasing tile overlap and/or size if solution has edge artifacts\n",
      "Program snaphu done\n",
      "Elapsed processor time:   0:03:47.46\n",
      "Elapsed wall clock time:  0:01:54\n",
      "\n",
      "snaphu v2.0.7\n",
      "15 parameters input from file /u/aurora-r0/staniewi/dev/notebooks/new-orleans/dolphin/unwrapped/scratch/scratch-20220309_20220426.int/snaphu-regrow-conncomps.config.olrct237.txt (15 lines total)\n",
      "Reading unwrapped phase from file /u/aurora-r0/staniewi/dev/notebooks/new-orleans/dolphin/unwrapped/scratch/scratch-20220309_20220426.int/snaphu.unw.zva8463b.f4\n",
      "Reading interferogram magnitude from file /u/aurora-r0/staniewi/dev/notebooks/new-orleans/dolphin/unwrapped/scratch/scratch-20220309_20220426.int/snaphu.mag.aw5qnd_j.f4\n",
      "Reading byte mask from file /u/aurora-r0/staniewi/dev/notebooks/new-orleans/dolphin/unwrapped/scratch/scratch-20220309_20220426.int/snaphu.mask.798s9vv7.u1\n",
      "No weight file specified.  Assuming uniform weights\n",
      "Reading correlation data from file /u/aurora-r0/staniewi/dev/notebooks/new-orleans/dolphin/unwrapped/scratch/scratch-20220309_20220426.int/snaphu.corr.cwy26g0p.f4\n",
      "Calculating smooth-solution cost parameters\n",
      "Growing connected component mask\n",
      "Writing connected components to file /u/aurora-r0/staniewi/dev/notebooks/new-orleans/dolphin/unwrapped/scratch/scratch-20220309_20220426.int/snaphu.conncomp.2823f3ug.u4 as 4-byte unsigned ints\n",
      "Program snaphu done\n",
      "Elapsed processor time:   0:00:01.77\n",
      "Elapsed wall clock time:  0:00:02\n"
     ]
    },
    {
     "name": "stderr",
     "output_type": "stream",
     "text": [
      "[INFO|_unwrap|L513] 2025-08-19T14:44:19-0700: Setting nodata values of /u/aurora-r0/staniewi/dev/notebooks/new-orleans/dolphin/unwrapped/20220309_20220426.unw.tif file\n",
      "[INFO|_unwrap|L517] 2025-08-19T14:44:19-0700: Setting nodata values of /u/aurora-r0/staniewi/dev/notebooks/new-orleans/dolphin/unwrapped/20220309_20220426.unw.conncomp.tif file\n"
     ]
    },
    {
     "name": "stdout",
     "output_type": "stream",
     "text": [
      "\n",
      "snaphu v2.0.7\n",
      "23 parameters input from file /u/aurora-r0/staniewi/dev/notebooks/new-orleans/dolphin/unwrapped/scratch/scratch-20220321_20220508.int/snaphu.config.bmmrwfgb.txt (23 lines total)\n",
      "Creating temporary directory /u/aurora-r0/staniewi/dev/notebooks/new-orleans/dolphin/unwrapped/scratch/scratch-20220321_20220508.int/snaphu_tiles_139889\n",
      "Unwrapping tile at row 0, column 0 (pid 139916)\n",
      "Unwrapping tile at row 0, column 1 (pid 139941)\n",
      "Unwrapping tile at row 1, column 0 (pid 139964)\n",
      "Unwrapping tile at row 1, column 1 (pid 139992)\n",
      "Assembling tiles\n",
      "Running optimizer for secondary network\n",
      "Number of nodes in secondary network: 2297\n",
      "Flow increment: 1  (Total improvements: 0)\n",
      "Flow increment: 2  (Total improvements: 0)\n",
      "Flow increment: 3  (Total improvements: 0)\n",
      "Assembling tile connected components\n",
      "Assembled connected components (3) output written to file /u/aurora-r0/staniewi/dev/notebooks/new-orleans/dolphin/unwrapped/scratch/scratch-20220321_20220402.int/snaphu.conncomp.o8yoqe5g.u4\n",
      "Integrating secondary flows\n",
      "Output written to file /u/aurora-r0/staniewi/dev/notebooks/new-orleans/dolphin/unwrapped/scratch/scratch-20220321_20220402.int/snaphu.unw.7i64myl6.f4\n",
      "Removing temporary directory /u/aurora-r0/staniewi/dev/notebooks/new-orleans/dolphin/unwrapped/scratch/scratch-20220321_20220402.int/snaphu_tiles_138889\n",
      "SUGGESTION: Try increasing tile overlap and/or size if solution has edge artifacts\n",
      "Program snaphu done\n",
      "Elapsed processor time:   0:04:01.55\n",
      "Elapsed wall clock time:  0:02:13\n",
      "\n",
      "snaphu v2.0.7\n",
      "15 parameters input from file /u/aurora-r0/staniewi/dev/notebooks/new-orleans/dolphin/unwrapped/scratch/scratch-20220321_20220402.int/snaphu-regrow-conncomps.config.e_ye6vg9.txt (15 lines total)\n",
      "Reading unwrapped phase from file /u/aurora-r0/staniewi/dev/notebooks/new-orleans/dolphin/unwrapped/scratch/scratch-20220321_20220402.int/snaphu.unw.7i64myl6.f4\n",
      "Reading interferogram magnitude from file /u/aurora-r0/staniewi/dev/notebooks/new-orleans/dolphin/unwrapped/scratch/scratch-20220321_20220402.int/snaphu.mag.9u1jb0da.f4\n",
      "Reading byte mask from file /u/aurora-r0/staniewi/dev/notebooks/new-orleans/dolphin/unwrapped/scratch/scratch-20220321_20220402.int/snaphu.mask.a4b3ger_.u1\n",
      "No weight file specified.  Assuming uniform weights\n",
      "Reading correlation data from file /u/aurora-r0/staniewi/dev/notebooks/new-orleans/dolphin/unwrapped/scratch/scratch-20220321_20220402.int/snaphu.corr.josc8j7y.f4\n",
      "Calculating smooth-solution cost parameters\n",
      "Growing connected component mask\n",
      "Writing connected components to file /u/aurora-r0/staniewi/dev/notebooks/new-orleans/dolphin/unwrapped/scratch/scratch-20220321_20220402.int/snaphu.conncomp.o8yoqe5g.u4 as 4-byte unsigned ints\n",
      "Program snaphu done\n",
      "Elapsed processor time:   0:00:01.70\n",
      "Elapsed wall clock time:  0:00:02\n"
     ]
    },
    {
     "name": "stderr",
     "output_type": "stream",
     "text": [
      "[INFO|_unwrap|L513] 2025-08-19T14:45:32-0700: Setting nodata values of /u/aurora-r0/staniewi/dev/notebooks/new-orleans/dolphin/unwrapped/20220321_20220402.unw.tif file\n",
      "[INFO|_unwrap|L517] 2025-08-19T14:45:33-0700: Setting nodata values of /u/aurora-r0/staniewi/dev/notebooks/new-orleans/dolphin/unwrapped/20220321_20220402.unw.conncomp.tif file\n"
     ]
    },
    {
     "name": "stdout",
     "output_type": "stream",
     "text": [
      "\n",
      "snaphu v2.0.7\n",
      "23 parameters input from file /u/aurora-r0/staniewi/dev/notebooks/new-orleans/dolphin/unwrapped/scratch/scratch-20220402_20220426.int/snaphu.config.5umxmamz.txt (23 lines total)\n",
      "Creating temporary directory /u/aurora-r0/staniewi/dev/notebooks/new-orleans/dolphin/unwrapped/scratch/scratch-20220402_20220426.int/snaphu_tiles_140664\n",
      "Unwrapping tile at row 0, column 0 (pid 140680)\n",
      "Unwrapping tile at row 0, column 1 (pid 140682)\n",
      "Unwrapping tile at row 1, column 0 (pid 141388)\n",
      "Unwrapping tile at row 1, column 1 (pid 141393)\n",
      "Assembling tiles\n",
      "Running optimizer for secondary network\n",
      "Number of nodes in secondary network: 2303\n",
      "Flow increment: 1  (Total improvements: 0)\n",
      "Flow increment: 2  (Total improvements: 0)\n",
      "Flow increment: 3  (Total improvements: 0)\n",
      "Assembling tile connected components\n",
      "Assembled connected components (3) output written to file /u/aurora-r0/staniewi/dev/notebooks/new-orleans/dolphin/unwrapped/scratch/scratch-20220321_20220426.int/snaphu.conncomp.gv2gppqr.u4\n",
      "Integrating secondary flows\n",
      "Output written to file /u/aurora-r0/staniewi/dev/notebooks/new-orleans/dolphin/unwrapped/scratch/scratch-20220321_20220426.int/snaphu.unw.lal03fzc.f4\n",
      "Removing temporary directory /u/aurora-r0/staniewi/dev/notebooks/new-orleans/dolphin/unwrapped/scratch/scratch-20220321_20220426.int/snaphu_tiles_138974\n",
      "SUGGESTION: Try increasing tile overlap and/or size if solution has edge artifacts\n",
      "Program snaphu done\n",
      "Elapsed processor time:   0:04:04.09\n",
      "Elapsed wall clock time:  0:02:07\n",
      "\n",
      "snaphu v2.0.7\n",
      "15 parameters input from file /u/aurora-r0/staniewi/dev/notebooks/new-orleans/dolphin/unwrapped/scratch/scratch-20220321_20220426.int/snaphu-regrow-conncomps.config.uneamw6a.txt (15 lines total)\n",
      "Reading unwrapped phase from file /u/aurora-r0/staniewi/dev/notebooks/new-orleans/dolphin/unwrapped/scratch/scratch-20220321_20220426.int/snaphu.unw.lal03fzc.f4\n",
      "Reading interferogram magnitude from file /u/aurora-r0/staniewi/dev/notebooks/new-orleans/dolphin/unwrapped/scratch/scratch-20220321_20220426.int/snaphu.mag.8mv58cu6.f4\n",
      "Reading byte mask from file /u/aurora-r0/staniewi/dev/notebooks/new-orleans/dolphin/unwrapped/scratch/scratch-20220321_20220426.int/snaphu.mask.b2a0l0k0.u1\n",
      "No weight file specified.  Assuming uniform weights\n",
      "Reading correlation data from file /u/aurora-r0/staniewi/dev/notebooks/new-orleans/dolphin/unwrapped/scratch/scratch-20220321_20220426.int/snaphu.corr.2n3burpq.f4\n",
      "Calculating smooth-solution cost parameters\n",
      "Growing connected component mask\n",
      "Writing connected components to file /u/aurora-r0/staniewi/dev/notebooks/new-orleans/dolphin/unwrapped/scratch/scratch-20220321_20220426.int/snaphu.conncomp.gv2gppqr.u4 as 4-byte unsigned ints\n",
      "Program snaphu done\n",
      "Elapsed processor time:   0:00:01.71\n",
      "Elapsed wall clock time:  0:00:02\n"
     ]
    },
    {
     "name": "stderr",
     "output_type": "stream",
     "text": [
      "[INFO|_unwrap|L513] 2025-08-19T14:45:58-0700: Setting nodata values of /u/aurora-r0/staniewi/dev/notebooks/new-orleans/dolphin/unwrapped/20220321_20220426.unw.tif file\n",
      "[INFO|_unwrap|L517] 2025-08-19T14:45:59-0700: Setting nodata values of /u/aurora-r0/staniewi/dev/notebooks/new-orleans/dolphin/unwrapped/20220321_20220426.unw.conncomp.tif file\n"
     ]
    },
    {
     "name": "stdout",
     "output_type": "stream",
     "text": [
      "\n",
      "snaphu v2.0.7\n",
      "23 parameters input from file /u/aurora-r0/staniewi/dev/notebooks/new-orleans/dolphin/unwrapped/scratch/scratch-20220402_20220508.int/snaphu.config.q62uwny3.txt (23 lines total)\n",
      "Creating temporary directory /u/aurora-r0/staniewi/dev/notebooks/new-orleans/dolphin/unwrapped/scratch/scratch-20220402_20220508.int/snaphu_tiles_141789\n",
      "Unwrapping tile at row 0, column 0 (pid 141794)\n",
      "Unwrapping tile at row 0, column 1 (pid 141797)\n",
      "Unwrapping tile at row 1, column 0 (pid 141799)\n",
      "Unwrapping tile at row 1, column 1 (pid 141803)\n",
      "Assembling tiles\n",
      "Running optimizer for secondary network\n",
      "Number of nodes in secondary network: 2216\n",
      "Flow increment: 1  (Total improvements: 0)\n",
      "Flow increment: 2  (Total improvements: 3)\n",
      "Flow increment: 3  (Total improvements: 3)\n",
      "Flow increment: 4  (Total improvements: 3)\n",
      "Assembling tile connected components\n",
      "Assembled connected components (3) output written to file /u/aurora-r0/staniewi/dev/notebooks/new-orleans/dolphin/unwrapped/scratch/scratch-20220321_20220508.int/snaphu.conncomp.tdi809c2.u4\n",
      "Integrating secondary flows\n",
      "Output written to file /u/aurora-r0/staniewi/dev/notebooks/new-orleans/dolphin/unwrapped/scratch/scratch-20220321_20220508.int/snaphu.unw.00y8bsuq.f4\n",
      "Removing temporary directory /u/aurora-r0/staniewi/dev/notebooks/new-orleans/dolphin/unwrapped/scratch/scratch-20220321_20220508.int/snaphu_tiles_139889\n",
      "SUGGESTION: Try increasing tile overlap and/or size if solution has edge artifacts\n",
      "Program snaphu done\n",
      "Elapsed processor time:   0:04:12.68\n",
      "Elapsed wall clock time:  0:02:07\n",
      "\n",
      "snaphu v2.0.7\n",
      "15 parameters input from file /u/aurora-r0/staniewi/dev/notebooks/new-orleans/dolphin/unwrapped/scratch/scratch-20220321_20220508.int/snaphu-regrow-conncomps.config.rsw8zws8.txt (15 lines total)\n",
      "Reading unwrapped phase from file /u/aurora-r0/staniewi/dev/notebooks/new-orleans/dolphin/unwrapped/scratch/scratch-20220321_20220508.int/snaphu.unw.00y8bsuq.f4\n",
      "Reading interferogram magnitude from file /u/aurora-r0/staniewi/dev/notebooks/new-orleans/dolphin/unwrapped/scratch/scratch-20220321_20220508.int/snaphu.mag.cxd3r7in.f4\n",
      "Reading byte mask from file /u/aurora-r0/staniewi/dev/notebooks/new-orleans/dolphin/unwrapped/scratch/scratch-20220321_20220508.int/snaphu.mask._qiy7z25.u1\n",
      "No weight file specified.  Assuming uniform weights\n",
      "Reading correlation data from file /u/aurora-r0/staniewi/dev/notebooks/new-orleans/dolphin/unwrapped/scratch/scratch-20220321_20220508.int/snaphu.corr.zexqy4sj.f4\n",
      "Calculating smooth-solution cost parameters\n",
      "Growing connected component mask\n",
      "Writing connected components to file /u/aurora-r0/staniewi/dev/notebooks/new-orleans/dolphin/unwrapped/scratch/scratch-20220321_20220508.int/snaphu.conncomp.tdi809c2.u4 as 4-byte unsigned ints\n",
      "Program snaphu done\n",
      "Elapsed processor time:   0:00:02.08\n",
      "Elapsed wall clock time:  0:00:02\n"
     ]
    },
    {
     "name": "stderr",
     "output_type": "stream",
     "text": [
      "[INFO|_unwrap|L513] 2025-08-19T14:46:30-0700: Setting nodata values of /u/aurora-r0/staniewi/dev/notebooks/new-orleans/dolphin/unwrapped/20220321_20220508.unw.tif file\n",
      "[INFO|_unwrap|L517] 2025-08-19T14:46:30-0700: Setting nodata values of /u/aurora-r0/staniewi/dev/notebooks/new-orleans/dolphin/unwrapped/20220321_20220508.unw.conncomp.tif file\n"
     ]
    },
    {
     "name": "stdout",
     "output_type": "stream",
     "text": [
      "\n",
      "snaphu v2.0.7\n",
      "23 parameters input from file /u/aurora-r0/staniewi/dev/notebooks/new-orleans/dolphin/unwrapped/scratch/scratch-20220402_20220601.int/snaphu.config.j80yvs81.txt (23 lines total)\n",
      "Creating temporary directory /u/aurora-r0/staniewi/dev/notebooks/new-orleans/dolphin/unwrapped/scratch/scratch-20220402_20220601.int/snaphu_tiles_142575\n",
      "Unwrapping tile at row 0, column 0 (pid 142579)\n",
      "Unwrapping tile at row 0, column 1 (pid 142590)\n",
      "Unwrapping tile at row 1, column 0 (pid 142592)\n",
      "Unwrapping tile at row 1, column 1 (pid 142597)\n",
      "Assembling tiles\n",
      "Running optimizer for secondary network\n",
      "Number of nodes in secondary network: 2378\n",
      "Flow increment: 1  (Total improvements: 0)\n",
      "Flow increment: 2  (Total improvements: 0)\n",
      "Flow increment: 3  (Total improvements: 0)\n",
      "Assembling tile connected components\n",
      "Assembled connected components (3) output written to file /u/aurora-r0/staniewi/dev/notebooks/new-orleans/dolphin/unwrapped/scratch/scratch-20220402_20220426.int/snaphu.conncomp.q11hhl_u.u4\n",
      "Integrating secondary flows\n",
      "Output written to file /u/aurora-r0/staniewi/dev/notebooks/new-orleans/dolphin/unwrapped/scratch/scratch-20220402_20220426.int/snaphu.unw.m_a8mm1b.f4\n",
      "Removing temporary directory /u/aurora-r0/staniewi/dev/notebooks/new-orleans/dolphin/unwrapped/scratch/scratch-20220402_20220426.int/snaphu_tiles_140664\n",
      "SUGGESTION: Try increasing tile overlap and/or size if solution has edge artifacts\n",
      "Program snaphu done\n",
      "Elapsed processor time:   0:04:36.37\n",
      "Elapsed wall clock time:  0:02:20\n",
      "\n",
      "snaphu v2.0.7\n",
      "15 parameters input from file /u/aurora-r0/staniewi/dev/notebooks/new-orleans/dolphin/unwrapped/scratch/scratch-20220402_20220426.int/snaphu-regrow-conncomps.config.wb48rnxk.txt (15 lines total)\n",
      "Reading unwrapped phase from file /u/aurora-r0/staniewi/dev/notebooks/new-orleans/dolphin/unwrapped/scratch/scratch-20220402_20220426.int/snaphu.unw.m_a8mm1b.f4\n",
      "Reading interferogram magnitude from file /u/aurora-r0/staniewi/dev/notebooks/new-orleans/dolphin/unwrapped/scratch/scratch-20220402_20220426.int/snaphu.mag.y53dk8ul.f4\n",
      "Reading byte mask from file /u/aurora-r0/staniewi/dev/notebooks/new-orleans/dolphin/unwrapped/scratch/scratch-20220402_20220426.int/snaphu.mask.7rp_2xve.u1\n",
      "No weight file specified.  Assuming uniform weights\n",
      "Reading correlation data from file /u/aurora-r0/staniewi/dev/notebooks/new-orleans/dolphin/unwrapped/scratch/scratch-20220402_20220426.int/snaphu.corr.abemfi3s.f4\n",
      "Calculating smooth-solution cost parameters\n",
      "Growing connected component mask\n",
      "Writing connected components to file /u/aurora-r0/staniewi/dev/notebooks/new-orleans/dolphin/unwrapped/scratch/scratch-20220402_20220426.int/snaphu.conncomp.q11hhl_u.u4 as 4-byte unsigned ints\n",
      "Program snaphu done\n",
      "Elapsed processor time:   0:00:01.68\n",
      "Elapsed wall clock time:  0:00:02\n"
     ]
    },
    {
     "name": "stderr",
     "output_type": "stream",
     "text": [
      "[INFO|_unwrap|L513] 2025-08-19T14:47:55-0700: Setting nodata values of /u/aurora-r0/staniewi/dev/notebooks/new-orleans/dolphin/unwrapped/20220402_20220426.unw.tif file\n",
      "[INFO|_unwrap|L517] 2025-08-19T14:47:55-0700: Setting nodata values of /u/aurora-r0/staniewi/dev/notebooks/new-orleans/dolphin/unwrapped/20220402_20220426.unw.conncomp.tif file\n"
     ]
    },
    {
     "name": "stdout",
     "output_type": "stream",
     "text": [
      "\n",
      "snaphu v2.0.7\n",
      "23 parameters input from file /u/aurora-r0/staniewi/dev/notebooks/new-orleans/dolphin/unwrapped/scratch/scratch-20220426_20220508.int/snaphu.config.e9r8mzuy.txt (23 lines total)\n",
      "Creating temporary directory /u/aurora-r0/staniewi/dev/notebooks/new-orleans/dolphin/unwrapped/scratch/scratch-20220426_20220508.int/snaphu_tiles_145674\n",
      "Unwrapping tile at row 0, column 0 (pid 145678)\n",
      "Unwrapping tile at row 0, column 1 (pid 145916)\n",
      "Unwrapping tile at row 1, column 0 (pid 145921)\n",
      "Unwrapping tile at row 1, column 1 (pid 145923)\n",
      "Assembling tiles\n",
      "Running optimizer for secondary network\n",
      "Number of nodes in secondary network: 2374\n",
      "Flow increment: 1  (Total improvements: 0)\n",
      "Flow increment: 2  (Total improvements: 7)\n",
      "Flow increment: 3  (Total improvements: 7)\n",
      "Flow increment: 4  (Total improvements: 7)\n",
      "Assembling tile connected components\n",
      "Assembled connected components (3) output written to file /u/aurora-r0/staniewi/dev/notebooks/new-orleans/dolphin/unwrapped/scratch/scratch-20220402_20220508.int/snaphu.conncomp.joyqmnd_.u4\n",
      "Integrating secondary flows\n",
      "Output written to file /u/aurora-r0/staniewi/dev/notebooks/new-orleans/dolphin/unwrapped/scratch/scratch-20220402_20220508.int/snaphu.unw.bu8jvnhp.f4\n",
      "Removing temporary directory /u/aurora-r0/staniewi/dev/notebooks/new-orleans/dolphin/unwrapped/scratch/scratch-20220402_20220508.int/snaphu_tiles_141789\n",
      "SUGGESTION: Try increasing tile overlap and/or size if solution has edge artifacts\n",
      "Program snaphu done\n",
      "Elapsed processor time:   0:04:21.42\n",
      "Elapsed wall clock time:  0:02:13\n",
      "\n",
      "snaphu v2.0.7\n",
      "15 parameters input from file /u/aurora-r0/staniewi/dev/notebooks/new-orleans/dolphin/unwrapped/scratch/scratch-20220402_20220508.int/snaphu-regrow-conncomps.config.h7eo8gks.txt (15 lines total)\n",
      "Reading unwrapped phase from file /u/aurora-r0/staniewi/dev/notebooks/new-orleans/dolphin/unwrapped/scratch/scratch-20220402_20220508.int/snaphu.unw.bu8jvnhp.f4\n",
      "Reading interferogram magnitude from file /u/aurora-r0/staniewi/dev/notebooks/new-orleans/dolphin/unwrapped/scratch/scratch-20220402_20220508.int/snaphu.mag.s1agctyy.f4\n",
      "Reading byte mask from file /u/aurora-r0/staniewi/dev/notebooks/new-orleans/dolphin/unwrapped/scratch/scratch-20220402_20220508.int/snaphu.mask.lo21hzjs.u1\n",
      "No weight file specified.  Assuming uniform weights\n",
      "Reading correlation data from file /u/aurora-r0/staniewi/dev/notebooks/new-orleans/dolphin/unwrapped/scratch/scratch-20220402_20220508.int/snaphu.corr.lju9wx34.f4\n",
      "Calculating smooth-solution cost parameters\n",
      "Growing connected component mask\n",
      "Writing connected components to file /u/aurora-r0/staniewi/dev/notebooks/new-orleans/dolphin/unwrapped/scratch/scratch-20220402_20220508.int/snaphu.conncomp.joyqmnd_.u4 as 4-byte unsigned ints\n",
      "Program snaphu done\n",
      "Elapsed processor time:   0:00:01.64\n",
      "Elapsed wall clock time:  0:00:02\n"
     ]
    },
    {
     "name": "stderr",
     "output_type": "stream",
     "text": [
      "[INFO|_unwrap|L513] 2025-08-19T14:48:15-0700: Setting nodata values of /u/aurora-r0/staniewi/dev/notebooks/new-orleans/dolphin/unwrapped/20220402_20220508.unw.tif file\n",
      "[INFO|_unwrap|L517] 2025-08-19T14:48:15-0700: Setting nodata values of /u/aurora-r0/staniewi/dev/notebooks/new-orleans/dolphin/unwrapped/20220402_20220508.unw.conncomp.tif file\n"
     ]
    },
    {
     "name": "stdout",
     "output_type": "stream",
     "text": [
      "\n",
      "snaphu v2.0.7\n",
      "23 parameters input from file /u/aurora-r0/staniewi/dev/notebooks/new-orleans/dolphin/unwrapped/scratch/scratch-20220426_20220601.int/snaphu.config.sq2giaue.txt (23 lines total)\n",
      "Creating temporary directory /u/aurora-r0/staniewi/dev/notebooks/new-orleans/dolphin/unwrapped/scratch/scratch-20220426_20220601.int/snaphu_tiles_146167\n",
      "Unwrapping tile at row 0, column 0 (pid 146171)\n",
      "Unwrapping tile at row 0, column 1 (pid 146174)\n",
      "Unwrapping tile at row 1, column 0 (pid 146177)\n",
      "Unwrapping tile at row 1, column 1 (pid 146180)\n",
      "Assembling tiles\n",
      "Running optimizer for secondary network\n",
      "Number of nodes in secondary network: 2245\n",
      "Flow increment: 1  (Total improvements: 0)\n",
      "Flow increment: 2  (Total improvements: 8)\n",
      "Flow increment: 3  (Total improvements: 8)\n",
      "Flow increment: 4  (Total improvements: 8)\n",
      "Assembling tile connected components\n",
      "Assembled connected components (4) output written to file /u/aurora-r0/staniewi/dev/notebooks/new-orleans/dolphin/unwrapped/scratch/scratch-20220402_20220601.int/snaphu.conncomp.gi5bcp6w.u4\n",
      "Integrating secondary flows\n",
      "Output written to file /u/aurora-r0/staniewi/dev/notebooks/new-orleans/dolphin/unwrapped/scratch/scratch-20220402_20220601.int/snaphu.unw.nm_uviut.f4\n",
      "Removing temporary directory /u/aurora-r0/staniewi/dev/notebooks/new-orleans/dolphin/unwrapped/scratch/scratch-20220402_20220601.int/snaphu_tiles_142575\n",
      "SUGGESTION: Try increasing tile overlap and/or size if solution has edge artifacts\n",
      "Program snaphu done\n",
      "Elapsed processor time:   0:04:25.77\n",
      "Elapsed wall clock time:  0:02:26\n",
      "\n",
      "snaphu v2.0.7\n",
      "15 parameters input from file /u/aurora-r0/staniewi/dev/notebooks/new-orleans/dolphin/unwrapped/scratch/scratch-20220402_20220601.int/snaphu-regrow-conncomps.config.r5gpam42.txt (15 lines total)\n",
      "Reading unwrapped phase from file /u/aurora-r0/staniewi/dev/notebooks/new-orleans/dolphin/unwrapped/scratch/scratch-20220402_20220601.int/snaphu.unw.nm_uviut.f4\n",
      "Reading interferogram magnitude from file /u/aurora-r0/staniewi/dev/notebooks/new-orleans/dolphin/unwrapped/scratch/scratch-20220402_20220601.int/snaphu.mag.v1ye5ulx.f4\n",
      "Reading byte mask from file /u/aurora-r0/staniewi/dev/notebooks/new-orleans/dolphin/unwrapped/scratch/scratch-20220402_20220601.int/snaphu.mask.t0few6ik.u1\n",
      "No weight file specified.  Assuming uniform weights\n",
      "Reading correlation data from file /u/aurora-r0/staniewi/dev/notebooks/new-orleans/dolphin/unwrapped/scratch/scratch-20220402_20220601.int/snaphu.corr.plcr8l_m.f4\n",
      "Calculating smooth-solution cost parameters\n",
      "Growing connected component mask\n",
      "Writing connected components to file /u/aurora-r0/staniewi/dev/notebooks/new-orleans/dolphin/unwrapped/scratch/scratch-20220402_20220601.int/snaphu.conncomp.gi5bcp6w.u4 as 4-byte unsigned ints\n",
      "Program snaphu done\n",
      "Elapsed processor time:   0:00:01.77\n",
      "Elapsed wall clock time:  0:00:02\n"
     ]
    },
    {
     "name": "stderr",
     "output_type": "stream",
     "text": [
      "[INFO|_unwrap|L513] 2025-08-19T14:49:00-0700: Setting nodata values of /u/aurora-r0/staniewi/dev/notebooks/new-orleans/dolphin/unwrapped/20220402_20220601.unw.tif file\n",
      "[INFO|_unwrap|L517] 2025-08-19T14:49:00-0700: Setting nodata values of /u/aurora-r0/staniewi/dev/notebooks/new-orleans/dolphin/unwrapped/20220402_20220601.unw.conncomp.tif file\n"
     ]
    },
    {
     "name": "stdout",
     "output_type": "stream",
     "text": [
      "\n",
      "snaphu v2.0.7\n",
      "23 parameters input from file /u/aurora-r0/staniewi/dev/notebooks/new-orleans/dolphin/unwrapped/scratch/scratch-20220426_20220812.int/snaphu.config.togfmclc.txt (23 lines total)\n",
      "Creating temporary directory /u/aurora-r0/staniewi/dev/notebooks/new-orleans/dolphin/unwrapped/scratch/scratch-20220426_20220812.int/snaphu_tiles_146442\n",
      "Unwrapping tile at row 0, column 0 (pid 146446)\n",
      "Unwrapping tile at row 0, column 1 (pid 146449)\n",
      "Unwrapping tile at row 1, column 0 (pid 146453)\n",
      "Unwrapping tile at row 1, column 1 (pid 146456)\n",
      "Assembling tiles\n",
      "Running optimizer for secondary network\n",
      "Number of nodes in secondary network: 2344\n",
      "Flow increment: 1  (Total improvements: 0)\n",
      "Flow increment: 2  (Total improvements: 0)\n",
      "Flow increment: 3  (Total improvements: 0)\n",
      "Assembling tile connected components\n",
      "Assembled connected components (3) output written to file /u/aurora-r0/staniewi/dev/notebooks/new-orleans/dolphin/unwrapped/scratch/scratch-20220426_20220508.int/snaphu.conncomp.12talzr9.u4\n",
      "Integrating secondary flows\n",
      "Output written to file /u/aurora-r0/staniewi/dev/notebooks/new-orleans/dolphin/unwrapped/scratch/scratch-20220426_20220508.int/snaphu.unw.eax426u2.f4\n",
      "Removing temporary directory /u/aurora-r0/staniewi/dev/notebooks/new-orleans/dolphin/unwrapped/scratch/scratch-20220426_20220508.int/snaphu_tiles_145674\n",
      "SUGGESTION: Try increasing tile overlap and/or size if solution has edge artifacts\n",
      "Program snaphu done\n",
      "Elapsed processor time:   0:03:52.97\n",
      "Elapsed wall clock time:  0:01:57\n",
      "\n",
      "snaphu v2.0.7\n",
      "15 parameters input from file /u/aurora-r0/staniewi/dev/notebooks/new-orleans/dolphin/unwrapped/scratch/scratch-20220426_20220508.int/snaphu-regrow-conncomps.config.8uxfgv3n.txt (15 lines total)\n",
      "Reading unwrapped phase from file /u/aurora-r0/staniewi/dev/notebooks/new-orleans/dolphin/unwrapped/scratch/scratch-20220426_20220508.int/snaphu.unw.eax426u2.f4\n",
      "Reading interferogram magnitude from file /u/aurora-r0/staniewi/dev/notebooks/new-orleans/dolphin/unwrapped/scratch/scratch-20220426_20220508.int/snaphu.mag.j4p1z6y2.f4\n",
      "Reading byte mask from file /u/aurora-r0/staniewi/dev/notebooks/new-orleans/dolphin/unwrapped/scratch/scratch-20220426_20220508.int/snaphu.mask._7hqukd2.u1\n",
      "No weight file specified.  Assuming uniform weights\n",
      "Reading correlation data from file /u/aurora-r0/staniewi/dev/notebooks/new-orleans/dolphin/unwrapped/scratch/scratch-20220426_20220508.int/snaphu.corr.eub_0vlb.f4\n",
      "Calculating smooth-solution cost parameters\n",
      "Growing connected component mask\n",
      "Writing connected components to file /u/aurora-r0/staniewi/dev/notebooks/new-orleans/dolphin/unwrapped/scratch/scratch-20220426_20220508.int/snaphu.conncomp.12talzr9.u4 as 4-byte unsigned ints\n",
      "Program snaphu done\n",
      "Elapsed processor time:   0:00:01.68\n",
      "Elapsed wall clock time:  0:00:02\n"
     ]
    },
    {
     "name": "stderr",
     "output_type": "stream",
     "text": [
      "[INFO|_unwrap|L513] 2025-08-19T14:49:55-0700: Setting nodata values of /u/aurora-r0/staniewi/dev/notebooks/new-orleans/dolphin/unwrapped/20220426_20220508.unw.tif file\n",
      "[INFO|_unwrap|L517] 2025-08-19T14:49:55-0700: Setting nodata values of /u/aurora-r0/staniewi/dev/notebooks/new-orleans/dolphin/unwrapped/20220426_20220508.unw.conncomp.tif file\n"
     ]
    },
    {
     "name": "stdout",
     "output_type": "stream",
     "text": [
      "\n",
      "snaphu v2.0.7\n",
      "23 parameters input from file /u/aurora-r0/staniewi/dev/notebooks/new-orleans/dolphin/unwrapped/scratch/scratch-20220508_20220601.int/snaphu.config.pcm0hp_y.txt (23 lines total)\n",
      "Creating temporary directory /u/aurora-r0/staniewi/dev/notebooks/new-orleans/dolphin/unwrapped/scratch/scratch-20220508_20220601.int/snaphu_tiles_146524\n",
      "Unwrapping tile at row 0, column 0 (pid 146528)\n",
      "Unwrapping tile at row 0, column 1 (pid 146531)\n",
      "Unwrapping tile at row 1, column 0 (pid 146543)\n",
      "Unwrapping tile at row 1, column 1 (pid 146547)\n",
      "Assembling tiles\n",
      "Running optimizer for secondary network\n",
      "Number of nodes in secondary network: 2365\n",
      "Flow increment: 1  (Total improvements: 0)\n",
      "Flow increment: 2  (Total improvements: 0)\n",
      "Flow increment: 3  (Total improvements: 0)\n",
      "Assembling tile connected components\n",
      "Assembled connected components (4) output written to file /u/aurora-r0/staniewi/dev/notebooks/new-orleans/dolphin/unwrapped/scratch/scratch-20220426_20220601.int/snaphu.conncomp.mif1s20z.u4\n",
      "Integrating secondary flows\n",
      "Output written to file /u/aurora-r0/staniewi/dev/notebooks/new-orleans/dolphin/unwrapped/scratch/scratch-20220426_20220601.int/snaphu.unw.xt42e9yi.f4\n",
      "Removing temporary directory /u/aurora-r0/staniewi/dev/notebooks/new-orleans/dolphin/unwrapped/scratch/scratch-20220426_20220601.int/snaphu_tiles_146167\n",
      "SUGGESTION: Try increasing tile overlap and/or size if solution has edge artifacts\n",
      "Program snaphu done\n",
      "Elapsed processor time:   0:04:12.48\n",
      "Elapsed wall clock time:  0:02:11\n",
      "\n",
      "snaphu v2.0.7\n",
      "15 parameters input from file /u/aurora-r0/staniewi/dev/notebooks/new-orleans/dolphin/unwrapped/scratch/scratch-20220426_20220601.int/snaphu-regrow-conncomps.config.0mjercce.txt (15 lines total)\n",
      "Reading unwrapped phase from file /u/aurora-r0/staniewi/dev/notebooks/new-orleans/dolphin/unwrapped/scratch/scratch-20220426_20220601.int/snaphu.unw.xt42e9yi.f4\n",
      "Reading interferogram magnitude from file /u/aurora-r0/staniewi/dev/notebooks/new-orleans/dolphin/unwrapped/scratch/scratch-20220426_20220601.int/snaphu.mag.lygqd3ye.f4\n",
      "Reading byte mask from file /u/aurora-r0/staniewi/dev/notebooks/new-orleans/dolphin/unwrapped/scratch/scratch-20220426_20220601.int/snaphu.mask.ln4hnxyn.u1\n",
      "No weight file specified.  Assuming uniform weights\n",
      "Reading correlation data from file /u/aurora-r0/staniewi/dev/notebooks/new-orleans/dolphin/unwrapped/scratch/scratch-20220426_20220601.int/snaphu.corr.iwzodm60.f4\n",
      "Calculating smooth-solution cost parameters\n",
      "Growing connected component mask\n",
      "Writing connected components to file /u/aurora-r0/staniewi/dev/notebooks/new-orleans/dolphin/unwrapped/scratch/scratch-20220426_20220601.int/snaphu.conncomp.mif1s20z.u4 as 4-byte unsigned ints\n",
      "Program snaphu done\n",
      "Elapsed processor time:   0:00:01.63\n",
      "Elapsed wall clock time:  0:00:02\n"
     ]
    },
    {
     "name": "stderr",
     "output_type": "stream",
     "text": [
      "[INFO|_unwrap|L513] 2025-08-19T14:50:29-0700: Setting nodata values of /u/aurora-r0/staniewi/dev/notebooks/new-orleans/dolphin/unwrapped/20220426_20220601.unw.tif file\n",
      "[INFO|_unwrap|L517] 2025-08-19T14:50:29-0700: Setting nodata values of /u/aurora-r0/staniewi/dev/notebooks/new-orleans/dolphin/unwrapped/20220426_20220601.unw.conncomp.tif file\n"
     ]
    },
    {
     "name": "stdout",
     "output_type": "stream",
     "text": [
      "\n",
      "snaphu v2.0.7\n",
      "23 parameters input from file /u/aurora-r0/staniewi/dev/notebooks/new-orleans/dolphin/unwrapped/scratch/scratch-20220508_20220812.int/snaphu.config.kscb8u7q.txt (23 lines total)\n",
      "Creating temporary directory /u/aurora-r0/staniewi/dev/notebooks/new-orleans/dolphin/unwrapped/scratch/scratch-20220508_20220812.int/snaphu_tiles_146582\n",
      "Unwrapping tile at row 0, column 0 (pid 146589)\n",
      "Unwrapping tile at row 0, column 1 (pid 146593)\n",
      "Unwrapping tile at row 1, column 0 (pid 146607)\n",
      "Unwrapping tile at row 1, column 1 (pid 146610)\n",
      "Assembling tiles\n",
      "Running optimizer for secondary network\n",
      "Number of nodes in secondary network: 2402\n",
      "Flow increment: 1  (Total improvements: 0)\n",
      "Flow increment: 2  (Total improvements: 7)\n",
      "Flow increment: 3  (Total improvements: 7)\n",
      "Flow increment: 4  (Total improvements: 7)\n",
      "Assembling tile connected components\n",
      "Assembled connected components (5) output written to file /u/aurora-r0/staniewi/dev/notebooks/new-orleans/dolphin/unwrapped/scratch/scratch-20220426_20220812.int/snaphu.conncomp.o7vs1co1.u4\n",
      "Integrating secondary flows\n",
      "Output written to file /u/aurora-r0/staniewi/dev/notebooks/new-orleans/dolphin/unwrapped/scratch/scratch-20220426_20220812.int/snaphu.unw.ut4g5sdh.f4\n",
      "Removing temporary directory /u/aurora-r0/staniewi/dev/notebooks/new-orleans/dolphin/unwrapped/scratch/scratch-20220426_20220812.int/snaphu_tiles_146442\n",
      "SUGGESTION: Try increasing tile overlap and/or size if solution has edge artifacts\n",
      "Program snaphu done\n",
      "Elapsed processor time:   0:04:18.69\n",
      "Elapsed wall clock time:  0:02:12\n",
      "\n",
      "snaphu v2.0.7\n",
      "15 parameters input from file /u/aurora-r0/staniewi/dev/notebooks/new-orleans/dolphin/unwrapped/scratch/scratch-20220426_20220812.int/snaphu-regrow-conncomps.config.0475vvk1.txt (15 lines total)\n",
      "Reading unwrapped phase from file /u/aurora-r0/staniewi/dev/notebooks/new-orleans/dolphin/unwrapped/scratch/scratch-20220426_20220812.int/snaphu.unw.ut4g5sdh.f4\n",
      "Reading interferogram magnitude from file /u/aurora-r0/staniewi/dev/notebooks/new-orleans/dolphin/unwrapped/scratch/scratch-20220426_20220812.int/snaphu.mag.1roxci_b.f4\n",
      "Reading byte mask from file /u/aurora-r0/staniewi/dev/notebooks/new-orleans/dolphin/unwrapped/scratch/scratch-20220426_20220812.int/snaphu.mask.lapgcxe3.u1\n",
      "No weight file specified.  Assuming uniform weights\n",
      "Reading correlation data from file /u/aurora-r0/staniewi/dev/notebooks/new-orleans/dolphin/unwrapped/scratch/scratch-20220426_20220812.int/snaphu.corr.l930sscd.f4\n",
      "Calculating smooth-solution cost parameters\n",
      "Growing connected component mask\n",
      "Writing connected components to file /u/aurora-r0/staniewi/dev/notebooks/new-orleans/dolphin/unwrapped/scratch/scratch-20220426_20220812.int/snaphu.conncomp.o7vs1co1.u4 as 4-byte unsigned ints\n",
      "Program snaphu done\n",
      "Elapsed processor time:   0:00:01.66\n",
      "Elapsed wall clock time:  0:00:02\n"
     ]
    },
    {
     "name": "stderr",
     "output_type": "stream",
     "text": [
      "[INFO|_unwrap|L513] 2025-08-19T14:51:16-0700: Setting nodata values of /u/aurora-r0/staniewi/dev/notebooks/new-orleans/dolphin/unwrapped/20220426_20220812.unw.tif file\n",
      "[INFO|_unwrap|L517] 2025-08-19T14:51:16-0700: Setting nodata values of /u/aurora-r0/staniewi/dev/notebooks/new-orleans/dolphin/unwrapped/20220426_20220812.unw.conncomp.tif file\n"
     ]
    },
    {
     "name": "stdout",
     "output_type": "stream",
     "text": [
      "\n",
      "snaphu v2.0.7\n",
      "23 parameters input from file /u/aurora-r0/staniewi/dev/notebooks/new-orleans/dolphin/unwrapped/scratch/scratch-20220508_20220905.int/snaphu.config.ge2k6gga.txt (23 lines total)\n",
      "Creating temporary directory /u/aurora-r0/staniewi/dev/notebooks/new-orleans/dolphin/unwrapped/scratch/scratch-20220508_20220905.int/snaphu_tiles_146692\n",
      "Unwrapping tile at row 0, column 0 (pid 146696)\n",
      "Unwrapping tile at row 0, column 1 (pid 146699)\n",
      "Unwrapping tile at row 1, column 0 (pid 146702)\n",
      "Unwrapping tile at row 1, column 1 (pid 146706)\n",
      "Assembling tiles\n",
      "Running optimizer for secondary network\n",
      "Number of nodes in secondary network: 2387\n",
      "Flow increment: 1  (Total improvements: 0)\n",
      "Flow increment: 2  (Total improvements: 0)\n",
      "Flow increment: 3  (Total improvements: 0)\n",
      "Assembling tile connected components\n",
      "Assembled connected components (3) output written to file /u/aurora-r0/staniewi/dev/notebooks/new-orleans/dolphin/unwrapped/scratch/scratch-20220508_20220601.int/snaphu.conncomp.mqjtegny.u4\n",
      "Integrating secondary flows\n",
      "Output written to file /u/aurora-r0/staniewi/dev/notebooks/new-orleans/dolphin/unwrapped/scratch/scratch-20220508_20220601.int/snaphu.unw.q_aa8vhr.f4\n",
      "Removing temporary directory /u/aurora-r0/staniewi/dev/notebooks/new-orleans/dolphin/unwrapped/scratch/scratch-20220508_20220601.int/snaphu_tiles_146524\n",
      "SUGGESTION: Try increasing tile overlap and/or size if solution has edge artifacts\n",
      "Program snaphu done\n",
      "Elapsed processor time:   0:04:07.43\n",
      "Elapsed wall clock time:  0:02:03\n",
      "\n",
      "snaphu v2.0.7\n",
      "15 parameters input from file /u/aurora-r0/staniewi/dev/notebooks/new-orleans/dolphin/unwrapped/scratch/scratch-20220508_20220601.int/snaphu-regrow-conncomps.config.3jw4x1xn.txt (15 lines total)\n",
      "Reading unwrapped phase from file /u/aurora-r0/staniewi/dev/notebooks/new-orleans/dolphin/unwrapped/scratch/scratch-20220508_20220601.int/snaphu.unw.q_aa8vhr.f4\n",
      "Reading interferogram magnitude from file /u/aurora-r0/staniewi/dev/notebooks/new-orleans/dolphin/unwrapped/scratch/scratch-20220508_20220601.int/snaphu.mag.lkhgu0fg.f4\n",
      "Reading byte mask from file /u/aurora-r0/staniewi/dev/notebooks/new-orleans/dolphin/unwrapped/scratch/scratch-20220508_20220601.int/snaphu.mask.x2sf9tbt.u1\n",
      "No weight file specified.  Assuming uniform weights\n",
      "Reading correlation data from file /u/aurora-r0/staniewi/dev/notebooks/new-orleans/dolphin/unwrapped/scratch/scratch-20220508_20220601.int/snaphu.corr.kopna13d.f4\n",
      "Calculating smooth-solution cost parameters\n",
      "Growing connected component mask\n",
      "Writing connected components to file /u/aurora-r0/staniewi/dev/notebooks/new-orleans/dolphin/unwrapped/scratch/scratch-20220508_20220601.int/snaphu.conncomp.mqjtegny.u4 as 4-byte unsigned ints\n",
      "Program snaphu done\n",
      "Elapsed processor time:   0:00:01.69\n",
      "Elapsed wall clock time:  0:00:03\n"
     ]
    },
    {
     "name": "stderr",
     "output_type": "stream",
     "text": [
      "[INFO|_unwrap|L513] 2025-08-19T14:52:02-0700: Setting nodata values of /u/aurora-r0/staniewi/dev/notebooks/new-orleans/dolphin/unwrapped/20220508_20220601.unw.tif file\n",
      "[INFO|_unwrap|L517] 2025-08-19T14:52:02-0700: Setting nodata values of /u/aurora-r0/staniewi/dev/notebooks/new-orleans/dolphin/unwrapped/20220508_20220601.unw.conncomp.tif file\n"
     ]
    },
    {
     "name": "stdout",
     "output_type": "stream",
     "text": [
      "\n",
      "snaphu v2.0.7\n",
      "23 parameters input from file /u/aurora-r0/staniewi/dev/notebooks/new-orleans/dolphin/unwrapped/scratch/scratch-20220601_20220812.int/snaphu.config.j18iq_mm.txt (23 lines total)\n",
      "Creating temporary directory /u/aurora-r0/staniewi/dev/notebooks/new-orleans/dolphin/unwrapped/scratch/scratch-20220601_20220812.int/snaphu_tiles_146925\n",
      "Unwrapping tile at row 0, column 0 (pid 146930)\n",
      "Unwrapping tile at row 0, column 1 (pid 146937)\n",
      "Unwrapping tile at row 1, column 0 (pid 146941)\n",
      "Unwrapping tile at row 1, column 1 (pid 146946)\n",
      "Assembling tiles\n",
      "Running optimizer for secondary network\n",
      "Number of nodes in secondary network: 2372\n",
      "Flow increment: 1  (Total improvements: 0)\n",
      "Flow increment: 2  (Total improvements: 8)\n",
      "Flow increment: 3  (Total improvements: 8)\n",
      "Flow increment: 4  (Total improvements: 8)\n",
      "Assembling tile connected components\n",
      "Assembled connected components (4) output written to file /u/aurora-r0/staniewi/dev/notebooks/new-orleans/dolphin/unwrapped/scratch/scratch-20220508_20220812.int/snaphu.conncomp.no1v6w7c.u4\n",
      "Integrating secondary flows\n",
      "Output written to file /u/aurora-r0/staniewi/dev/notebooks/new-orleans/dolphin/unwrapped/scratch/scratch-20220508_20220812.int/snaphu.unw.a1wsdghs.f4\n",
      "Removing temporary directory /u/aurora-r0/staniewi/dev/notebooks/new-orleans/dolphin/unwrapped/scratch/scratch-20220508_20220812.int/snaphu_tiles_146582\n",
      "SUGGESTION: Try increasing tile overlap and/or size if solution has edge artifacts\n",
      "Program snaphu done\n",
      "Elapsed processor time:   0:03:59.98\n",
      "Elapsed wall clock time:  0:02:03\n",
      "\n",
      "snaphu v2.0.7\n",
      "15 parameters input from file /u/aurora-r0/staniewi/dev/notebooks/new-orleans/dolphin/unwrapped/scratch/scratch-20220508_20220812.int/snaphu-regrow-conncomps.config.f92138iz.txt (15 lines total)\n",
      "Reading unwrapped phase from file /u/aurora-r0/staniewi/dev/notebooks/new-orleans/dolphin/unwrapped/scratch/scratch-20220508_20220812.int/snaphu.unw.a1wsdghs.f4\n",
      "Reading interferogram magnitude from file /u/aurora-r0/staniewi/dev/notebooks/new-orleans/dolphin/unwrapped/scratch/scratch-20220508_20220812.int/snaphu.mag._p5a0qe2.f4\n",
      "Reading byte mask from file /u/aurora-r0/staniewi/dev/notebooks/new-orleans/dolphin/unwrapped/scratch/scratch-20220508_20220812.int/snaphu.mask.y3yvc9_7.u1\n",
      "No weight file specified.  Assuming uniform weights\n",
      "Reading correlation data from file /u/aurora-r0/staniewi/dev/notebooks/new-orleans/dolphin/unwrapped/scratch/scratch-20220508_20220812.int/snaphu.corr.9__m20zb.f4\n",
      "Calculating smooth-solution cost parameters\n",
      "Growing connected component mask\n",
      "Writing connected components to file /u/aurora-r0/staniewi/dev/notebooks/new-orleans/dolphin/unwrapped/scratch/scratch-20220508_20220812.int/snaphu.conncomp.no1v6w7c.u4 as 4-byte unsigned ints\n",
      "Program snaphu done\n",
      "Elapsed processor time:   0:00:01.72\n",
      "Elapsed wall clock time:  0:00:03\n"
     ]
    },
    {
     "name": "stderr",
     "output_type": "stream",
     "text": [
      "[INFO|_unwrap|L513] 2025-08-19T14:52:36-0700: Setting nodata values of /u/aurora-r0/staniewi/dev/notebooks/new-orleans/dolphin/unwrapped/20220508_20220812.unw.tif file\n",
      "[INFO|_unwrap|L517] 2025-08-19T14:52:36-0700: Setting nodata values of /u/aurora-r0/staniewi/dev/notebooks/new-orleans/dolphin/unwrapped/20220508_20220812.unw.conncomp.tif file\n"
     ]
    },
    {
     "name": "stdout",
     "output_type": "stream",
     "text": [
      "\n",
      "snaphu v2.0.7\n",
      "23 parameters input from file /u/aurora-r0/staniewi/dev/notebooks/new-orleans/dolphin/unwrapped/scratch/scratch-20220601_20220905.int/snaphu.config.4ar2jka7.txt (23 lines total)\n",
      "Creating temporary directory /u/aurora-r0/staniewi/dev/notebooks/new-orleans/dolphin/unwrapped/scratch/scratch-20220601_20220905.int/snaphu_tiles_147014\n",
      "Unwrapping tile at row 0, column 0 (pid 147018)\n",
      "Unwrapping tile at row 0, column 1 (pid 147022)\n",
      "Unwrapping tile at row 1, column 0 (pid 147025)\n",
      "Unwrapping tile at row 1, column 1 (pid 147028)\n",
      "Assembling tiles\n",
      "Running optimizer for secondary network\n",
      "Number of nodes in secondary network: 2428\n",
      "Flow increment: 1  (Total improvements: 0)\n",
      "Flow increment: 2  (Total improvements: 0)\n",
      "Flow increment: 3  (Total improvements: 0)\n",
      "Assembling tile connected components\n",
      "Assembled connected components (3) output written to file /u/aurora-r0/staniewi/dev/notebooks/new-orleans/dolphin/unwrapped/scratch/scratch-20220508_20220905.int/snaphu.conncomp.42t2ju3d.u4\n",
      "Integrating secondary flows\n",
      "Output written to file /u/aurora-r0/staniewi/dev/notebooks/new-orleans/dolphin/unwrapped/scratch/scratch-20220508_20220905.int/snaphu.unw.svg3iuc8.f4\n",
      "Removing temporary directory /u/aurora-r0/staniewi/dev/notebooks/new-orleans/dolphin/unwrapped/scratch/scratch-20220508_20220905.int/snaphu_tiles_146692\n",
      "SUGGESTION: Try increasing tile overlap and/or size if solution has edge artifacts\n",
      "Program snaphu done\n",
      "Elapsed processor time:   0:03:32.02\n",
      "Elapsed wall clock time:  0:01:57\n",
      "\n",
      "snaphu v2.0.7\n",
      "15 parameters input from file /u/aurora-r0/staniewi/dev/notebooks/new-orleans/dolphin/unwrapped/scratch/scratch-20220508_20220905.int/snaphu-regrow-conncomps.config.m0lg2m5i.txt (15 lines total)\n",
      "Reading unwrapped phase from file /u/aurora-r0/staniewi/dev/notebooks/new-orleans/dolphin/unwrapped/scratch/scratch-20220508_20220905.int/snaphu.unw.svg3iuc8.f4\n",
      "Reading interferogram magnitude from file /u/aurora-r0/staniewi/dev/notebooks/new-orleans/dolphin/unwrapped/scratch/scratch-20220508_20220905.int/snaphu.mag.0eovat4_.f4\n",
      "Reading byte mask from file /u/aurora-r0/staniewi/dev/notebooks/new-orleans/dolphin/unwrapped/scratch/scratch-20220508_20220905.int/snaphu.mask.k3vr2501.u1\n",
      "No weight file specified.  Assuming uniform weights\n",
      "Reading correlation data from file /u/aurora-r0/staniewi/dev/notebooks/new-orleans/dolphin/unwrapped/scratch/scratch-20220508_20220905.int/snaphu.corr.e1x40dhp.f4\n",
      "Calculating smooth-solution cost parameters\n",
      "Growing connected component mask\n",
      "Writing connected components to file /u/aurora-r0/staniewi/dev/notebooks/new-orleans/dolphin/unwrapped/scratch/scratch-20220508_20220905.int/snaphu.conncomp.42t2ju3d.u4 as 4-byte unsigned ints\n",
      "Program snaphu done\n",
      "Elapsed processor time:   0:00:01.69\n",
      "Elapsed wall clock time:  0:00:02\n"
     ]
    },
    {
     "name": "stderr",
     "output_type": "stream",
     "text": [
      "[INFO|_unwrap|L513] 2025-08-19T14:53:16-0700: Setting nodata values of /u/aurora-r0/staniewi/dev/notebooks/new-orleans/dolphin/unwrapped/20220508_20220905.unw.tif file\n",
      "[INFO|_unwrap|L517] 2025-08-19T14:53:16-0700: Setting nodata values of /u/aurora-r0/staniewi/dev/notebooks/new-orleans/dolphin/unwrapped/20220508_20220905.unw.conncomp.tif file\n"
     ]
    },
    {
     "name": "stdout",
     "output_type": "stream",
     "text": [
      "\n",
      "snaphu v2.0.7\n",
      "23 parameters input from file /u/aurora-r0/staniewi/dev/notebooks/new-orleans/dolphin/unwrapped/scratch/scratch-20220601_20220917.int/snaphu.config.cg8oag4b.txt (23 lines total)\n",
      "Creating temporary directory /u/aurora-r0/staniewi/dev/notebooks/new-orleans/dolphin/unwrapped/scratch/scratch-20220601_20220917.int/snaphu_tiles_147485\n",
      "Unwrapping tile at row 0, column 0 (pid 147527)\n",
      "Unwrapping tile at row 0, column 1 (pid 147713)\n",
      "Unwrapping tile at row 1, column 0 (pid 147915)\n",
      "Unwrapping tile at row 1, column 1 (pid 147918)\n",
      "Assembling tiles\n",
      "Running optimizer for secondary network\n",
      "Number of nodes in secondary network: 2491\n",
      "Flow increment: 1  (Total improvements: 0)\n",
      "Flow increment: 2  (Total improvements: 0)\n",
      "Flow increment: 3  (Total improvements: 0)\n",
      "Assembling tile connected components\n",
      "Assembled connected components (4) output written to file /u/aurora-r0/staniewi/dev/notebooks/new-orleans/dolphin/unwrapped/scratch/scratch-20220601_20220812.int/snaphu.conncomp.6cwohbrn.u4\n",
      "Integrating secondary flows\n",
      "Output written to file /u/aurora-r0/staniewi/dev/notebooks/new-orleans/dolphin/unwrapped/scratch/scratch-20220601_20220812.int/snaphu.unw.4lgiyr9l.f4\n",
      "Removing temporary directory /u/aurora-r0/staniewi/dev/notebooks/new-orleans/dolphin/unwrapped/scratch/scratch-20220601_20220812.int/snaphu_tiles_146925\n",
      "SUGGESTION: Try increasing tile overlap and/or size if solution has edge artifacts\n",
      "Program snaphu done\n",
      "Elapsed processor time:   0:04:39.63\n",
      "Elapsed wall clock time:  0:02:28\n",
      "\n",
      "snaphu v2.0.7\n",
      "15 parameters input from file /u/aurora-r0/staniewi/dev/notebooks/new-orleans/dolphin/unwrapped/scratch/scratch-20220601_20220812.int/snaphu-regrow-conncomps.config.a7k8zl8k.txt (15 lines total)\n",
      "Reading unwrapped phase from file /u/aurora-r0/staniewi/dev/notebooks/new-orleans/dolphin/unwrapped/scratch/scratch-20220601_20220812.int/snaphu.unw.4lgiyr9l.f4\n",
      "Reading interferogram magnitude from file /u/aurora-r0/staniewi/dev/notebooks/new-orleans/dolphin/unwrapped/scratch/scratch-20220601_20220812.int/snaphu.mag.fk_rvnuz.f4\n",
      "Reading byte mask from file /u/aurora-r0/staniewi/dev/notebooks/new-orleans/dolphin/unwrapped/scratch/scratch-20220601_20220812.int/snaphu.mask.7aze69ra.u1\n",
      "No weight file specified.  Assuming uniform weights\n",
      "Reading correlation data from file /u/aurora-r0/staniewi/dev/notebooks/new-orleans/dolphin/unwrapped/scratch/scratch-20220601_20220812.int/snaphu.corr.n9bcjss1.f4\n",
      "Calculating smooth-solution cost parameters\n",
      "Growing connected component mask\n",
      "Writing connected components to file /u/aurora-r0/staniewi/dev/notebooks/new-orleans/dolphin/unwrapped/scratch/scratch-20220601_20220812.int/snaphu.conncomp.6cwohbrn.u4 as 4-byte unsigned ints\n",
      "Program snaphu done\n",
      "Elapsed processor time:   0:00:01.77\n",
      "Elapsed wall clock time:  0:00:02\n"
     ]
    },
    {
     "name": "stderr",
     "output_type": "stream",
     "text": [
      "[INFO|_unwrap|L513] 2025-08-19T14:54:34-0700: Setting nodata values of /u/aurora-r0/staniewi/dev/notebooks/new-orleans/dolphin/unwrapped/20220601_20220812.unw.tif file\n",
      "[INFO|_unwrap|L517] 2025-08-19T14:54:34-0700: Setting nodata values of /u/aurora-r0/staniewi/dev/notebooks/new-orleans/dolphin/unwrapped/20220601_20220812.unw.conncomp.tif file\n"
     ]
    },
    {
     "name": "stdout",
     "output_type": "stream",
     "text": [
      "\n",
      "snaphu v2.0.7\n",
      "23 parameters input from file /u/aurora-r0/staniewi/dev/notebooks/new-orleans/dolphin/unwrapped/scratch/scratch-20220812_20220905.int/snaphu.config.3rhqbxva.txt (23 lines total)\n",
      "Creating temporary directory /u/aurora-r0/staniewi/dev/notebooks/new-orleans/dolphin/unwrapped/scratch/scratch-20220812_20220905.int/snaphu_tiles_150024\n",
      "Unwrapping tile at row 0, column 0 (pid 150036)\n",
      "Unwrapping tile at row 0, column 1 (pid 150038)\n",
      "Unwrapping tile at row 1, column 0 (pid 150041)\n",
      "Unwrapping tile at row 1, column 1 (pid 150044)\n",
      "Assembling tiles\n",
      "Running optimizer for secondary network\n",
      "Number of nodes in secondary network: 2425\n",
      "Flow increment: 1  (Total improvements: 0)\n",
      "Flow increment: 2  (Total improvements: 0)\n",
      "Flow increment: 3  (Total improvements: 0)\n",
      "Assembling tile connected components\n",
      "Assembled connected components (6) output written to file /u/aurora-r0/staniewi/dev/notebooks/new-orleans/dolphin/unwrapped/scratch/scratch-20220601_20220905.int/snaphu.conncomp.imihx7yg.u4\n",
      "Integrating secondary flows\n",
      "Output written to file /u/aurora-r0/staniewi/dev/notebooks/new-orleans/dolphin/unwrapped/scratch/scratch-20220601_20220905.int/snaphu.unw.tyodoi3o.f4\n",
      "Removing temporary directory /u/aurora-r0/staniewi/dev/notebooks/new-orleans/dolphin/unwrapped/scratch/scratch-20220601_20220905.int/snaphu_tiles_147014\n",
      "SUGGESTION: Try increasing tile overlap and/or size if solution has edge artifacts\n",
      "Program snaphu done\n",
      "Elapsed processor time:   0:04:12.63\n",
      "Elapsed wall clock time:  0:02:12\n",
      "\n",
      "snaphu v2.0.7\n",
      "15 parameters input from file /u/aurora-r0/staniewi/dev/notebooks/new-orleans/dolphin/unwrapped/scratch/scratch-20220601_20220905.int/snaphu-regrow-conncomps.config.c5q558bw.txt (15 lines total)\n",
      "Reading unwrapped phase from file /u/aurora-r0/staniewi/dev/notebooks/new-orleans/dolphin/unwrapped/scratch/scratch-20220601_20220905.int/snaphu.unw.tyodoi3o.f4\n",
      "Reading interferogram magnitude from file /u/aurora-r0/staniewi/dev/notebooks/new-orleans/dolphin/unwrapped/scratch/scratch-20220601_20220905.int/snaphu.mag.yxgelh3f.f4\n",
      "Reading byte mask from file /u/aurora-r0/staniewi/dev/notebooks/new-orleans/dolphin/unwrapped/scratch/scratch-20220601_20220905.int/snaphu.mask.q8zeabbz.u1\n",
      "No weight file specified.  Assuming uniform weights\n",
      "Reading correlation data from file /u/aurora-r0/staniewi/dev/notebooks/new-orleans/dolphin/unwrapped/scratch/scratch-20220601_20220905.int/snaphu.corr.k0v_isze.f4\n",
      "Calculating smooth-solution cost parameters\n",
      "Growing connected component mask\n",
      "Writing connected components to file /u/aurora-r0/staniewi/dev/notebooks/new-orleans/dolphin/unwrapped/scratch/scratch-20220601_20220905.int/snaphu.conncomp.imihx7yg.u4 as 4-byte unsigned ints\n",
      "Program snaphu done\n",
      "Elapsed processor time:   0:00:01.72\n",
      "Elapsed wall clock time:  0:00:02\n"
     ]
    },
    {
     "name": "stderr",
     "output_type": "stream",
     "text": [
      "[INFO|_unwrap|L513] 2025-08-19T14:54:51-0700: Setting nodata values of /u/aurora-r0/staniewi/dev/notebooks/new-orleans/dolphin/unwrapped/20220601_20220905.unw.tif file\n",
      "[INFO|_unwrap|L517] 2025-08-19T14:54:52-0700: Setting nodata values of /u/aurora-r0/staniewi/dev/notebooks/new-orleans/dolphin/unwrapped/20220601_20220905.unw.conncomp.tif file\n"
     ]
    },
    {
     "name": "stdout",
     "output_type": "stream",
     "text": [
      "\n",
      "snaphu v2.0.7\n",
      "23 parameters input from file /u/aurora-r0/staniewi/dev/notebooks/new-orleans/dolphin/unwrapped/scratch/scratch-20220812_20220917.int/snaphu.config.xx_l0z91.txt (23 lines total)\n",
      "Creating temporary directory /u/aurora-r0/staniewi/dev/notebooks/new-orleans/dolphin/unwrapped/scratch/scratch-20220812_20220917.int/snaphu_tiles_150288\n",
      "Unwrapping tile at row 0, column 0 (pid 150291)\n",
      "Unwrapping tile at row 0, column 1 (pid 150295)\n",
      "Unwrapping tile at row 1, column 0 (pid 150299)\n",
      "Unwrapping tile at row 1, column 1 (pid 150531)\n",
      "Assembling tiles\n",
      "Running optimizer for secondary network\n",
      "Number of nodes in secondary network: 2390\n",
      "Flow increment: 1  (Total improvements: 0)\n",
      "Flow increment: 2  (Total improvements: 0)\n",
      "Flow increment: 3  (Total improvements: 0)\n",
      "Assembling tile connected components\n",
      "Assembled connected components (4) output written to file /u/aurora-r0/staniewi/dev/notebooks/new-orleans/dolphin/unwrapped/scratch/scratch-20220601_20220917.int/snaphu.conncomp.9e0kl7p4.u4\n",
      "Integrating secondary flows\n",
      "Output written to file /u/aurora-r0/staniewi/dev/notebooks/new-orleans/dolphin/unwrapped/scratch/scratch-20220601_20220917.int/snaphu.unw.rcg85247.f4\n",
      "Removing temporary directory /u/aurora-r0/staniewi/dev/notebooks/new-orleans/dolphin/unwrapped/scratch/scratch-20220601_20220917.int/snaphu_tiles_147485\n",
      "SUGGESTION: Try increasing tile overlap and/or size if solution has edge artifacts\n",
      "Program snaphu done\n",
      "Elapsed processor time:   0:04:13.99\n",
      "Elapsed wall clock time:  0:02:07\n",
      "\n",
      "snaphu v2.0.7\n",
      "15 parameters input from file /u/aurora-r0/staniewi/dev/notebooks/new-orleans/dolphin/unwrapped/scratch/scratch-20220601_20220917.int/snaphu-regrow-conncomps.config.n6l0_r1m.txt (15 lines total)\n"
     ]
    },
    {
     "name": "stderr",
     "output_type": "stream",
     "text": [
      "[INFO|_unwrap|L513] 2025-08-19T14:55:26-0700: Setting nodata values of /u/aurora-r0/staniewi/dev/notebooks/new-orleans/dolphin/unwrapped/20220601_20220917.unw.tif file\n"
     ]
    },
    {
     "name": "stdout",
     "output_type": "stream",
     "text": [
      "Reading unwrapped phase from file /u/aurora-r0/staniewi/dev/notebooks/new-orleans/dolphin/unwrapped/scratch/scratch-20220601_20220917.int/snaphu.unw.rcg85247.f4\n",
      "Reading interferogram magnitude from file /u/aurora-r0/staniewi/dev/notebooks/new-orleans/dolphin/unwrapped/scratch/scratch-20220601_20220917.int/snaphu.mag.pwwkau4r.f4\n",
      "Reading byte mask from file /u/aurora-r0/staniewi/dev/notebooks/new-orleans/dolphin/unwrapped/scratch/scratch-20220601_20220917.int/snaphu.mask.70o6fake.u1\n",
      "No weight file specified.  Assuming uniform weights\n",
      "Reading correlation data from file /u/aurora-r0/staniewi/dev/notebooks/new-orleans/dolphin/unwrapped/scratch/scratch-20220601_20220917.int/snaphu.corr.1n34xrak.f4\n",
      "Calculating smooth-solution cost parameters\n",
      "Growing connected component mask\n",
      "Writing connected components to file /u/aurora-r0/staniewi/dev/notebooks/new-orleans/dolphin/unwrapped/scratch/scratch-20220601_20220917.int/snaphu.conncomp.9e0kl7p4.u4 as 4-byte unsigned ints\n",
      "Program snaphu done\n",
      "Elapsed processor time:   0:00:01.67\n",
      "Elapsed wall clock time:  0:00:01\n"
     ]
    },
    {
     "name": "stderr",
     "output_type": "stream",
     "text": [
      "[INFO|_unwrap|L517] 2025-08-19T14:55:26-0700: Setting nodata values of /u/aurora-r0/staniewi/dev/notebooks/new-orleans/dolphin/unwrapped/20220601_20220917.unw.conncomp.tif file\n"
     ]
    },
    {
     "name": "stdout",
     "output_type": "stream",
     "text": [
      "\n",
      "snaphu v2.0.7\n",
      "23 parameters input from file /u/aurora-r0/staniewi/dev/notebooks/new-orleans/dolphin/unwrapped/scratch/scratch-20220812_20220929.int/snaphu.config.rr283w3y.txt (23 lines total)\n",
      "Creating temporary directory /u/aurora-r0/staniewi/dev/notebooks/new-orleans/dolphin/unwrapped/scratch/scratch-20220812_20220929.int/snaphu_tiles_150572\n",
      "Unwrapping tile at row 0, column 0 (pid 150577)\n",
      "Unwrapping tile at row 0, column 1 (pid 150580)\n",
      "Unwrapping tile at row 1, column 0 (pid 150584)\n",
      "Unwrapping tile at row 1, column 1 (pid 150587)\n",
      "Assembling tiles\n",
      "Running optimizer for secondary network\n",
      "Number of nodes in secondary network: 2374\n",
      "Flow increment: 1  (Total improvements: 0)\n",
      "Flow increment: 2  (Total improvements: 0)\n",
      "Flow increment: 3  (Total improvements: 0)\n",
      "Assembling tile connected components\n",
      "Assembled connected components (3) output written to file /u/aurora-r0/staniewi/dev/notebooks/new-orleans/dolphin/unwrapped/scratch/scratch-20220812_20220905.int/snaphu.conncomp.ow2fsjpo.u4\n",
      "Integrating secondary flows\n",
      "Output written to file /u/aurora-r0/staniewi/dev/notebooks/new-orleans/dolphin/unwrapped/scratch/scratch-20220812_20220905.int/snaphu.unw.tm_gj10a.f4\n",
      "Removing temporary directory /u/aurora-r0/staniewi/dev/notebooks/new-orleans/dolphin/unwrapped/scratch/scratch-20220812_20220905.int/snaphu_tiles_150024\n",
      "SUGGESTION: Try increasing tile overlap and/or size if solution has edge artifacts\n",
      "Program snaphu done\n",
      "Elapsed processor time:   0:04:04.51\n",
      "Elapsed wall clock time:  0:02:03\n",
      "\n",
      "snaphu v2.0.7\n",
      "15 parameters input from file /u/aurora-r0/staniewi/dev/notebooks/new-orleans/dolphin/unwrapped/scratch/scratch-20220812_20220905.int/snaphu-regrow-conncomps.config.jlej0ozk.txt (15 lines total)\n",
      "Reading unwrapped phase from file /u/aurora-r0/staniewi/dev/notebooks/new-orleans/dolphin/unwrapped/scratch/scratch-20220812_20220905.int/snaphu.unw.tm_gj10a.f4\n",
      "Reading interferogram magnitude from file /u/aurora-r0/staniewi/dev/notebooks/new-orleans/dolphin/unwrapped/scratch/scratch-20220812_20220905.int/snaphu.mag.ohgq3swf.f4\n",
      "Reading byte mask from file /u/aurora-r0/staniewi/dev/notebooks/new-orleans/dolphin/unwrapped/scratch/scratch-20220812_20220905.int/snaphu.mask._vhslfkw.u1\n",
      "No weight file specified.  Assuming uniform weights\n",
      "Reading correlation data from file /u/aurora-r0/staniewi/dev/notebooks/new-orleans/dolphin/unwrapped/scratch/scratch-20220812_20220905.int/snaphu.corr.0er77rsb.f4\n",
      "Calculating smooth-solution cost parameters\n",
      "Growing connected component mask\n",
      "Writing connected components to file /u/aurora-r0/staniewi/dev/notebooks/new-orleans/dolphin/unwrapped/scratch/scratch-20220812_20220905.int/snaphu.conncomp.ow2fsjpo.u4 as 4-byte unsigned ints\n",
      "Program snaphu done\n",
      "Elapsed processor time:   0:00:01.73\n",
      "Elapsed wall clock time:  0:00:02\n"
     ]
    },
    {
     "name": "stderr",
     "output_type": "stream",
     "text": [
      "[INFO|_unwrap|L513] 2025-08-19T14:56:41-0700: Setting nodata values of /u/aurora-r0/staniewi/dev/notebooks/new-orleans/dolphin/unwrapped/20220812_20220905.unw.tif file\n",
      "[INFO|_unwrap|L517] 2025-08-19T14:56:41-0700: Setting nodata values of /u/aurora-r0/staniewi/dev/notebooks/new-orleans/dolphin/unwrapped/20220812_20220905.unw.conncomp.tif file\n"
     ]
    },
    {
     "name": "stdout",
     "output_type": "stream",
     "text": [
      "\n",
      "snaphu v2.0.7\n",
      "23 parameters input from file /u/aurora-r0/staniewi/dev/notebooks/new-orleans/dolphin/unwrapped/scratch/scratch-20220905_20220917.int/snaphu.config.p36j0b__.txt (23 lines total)\n",
      "Creating temporary directory /u/aurora-r0/staniewi/dev/notebooks/new-orleans/dolphin/unwrapped/scratch/scratch-20220905_20220917.int/snaphu_tiles_150722\n",
      "Unwrapping tile at row 0, column 0 (pid 150726)\n",
      "Assembling tiles\n",
      "Running optimizer for secondary network\n",
      "Number of nodes in secondary network: 2398\n",
      "Flow increment: 1  (Total improvements: 0)\n",
      "Flow increment: 2  (Total improvements: 7)\n",
      "Flow increment: 3  (Total improvements: 7)\n",
      "Flow increment: 4  (Total improvements: 7)\n",
      "Assembling tile connected components\n",
      "Assembled connected components (5) output written to file /u/aurora-r0/staniewi/dev/notebooks/new-orleans/dolphin/unwrapped/scratch/scratch-20220812_20220917.int/snaphu.conncomp.8ntqh27e.u4\n",
      "Integrating secondary flows\n",
      "Output written to file /u/aurora-r0/staniewi/dev/notebooks/new-orleans/dolphin/unwrapped/scratch/scratch-20220812_20220917.int/snaphu.unw.8isyrza7.f4\n",
      "Removing temporary directory /u/aurora-r0/staniewi/dev/notebooks/new-orleans/dolphin/unwrapped/scratch/scratch-20220812_20220917.int/snaphu_tiles_150288\n",
      "SUGGESTION: Try increasing tile overlap and/or size if solution has edge artifacts\n",
      "Program snaphu done\n",
      "Elapsed processor time:   0:03:39.29\n",
      "Elapsed wall clock time:  0:01:51\n",
      "\n",
      "snaphu v2.0.7\n",
      "15 parameters input from file /u/aurora-r0/staniewi/dev/notebooks/new-orleans/dolphin/unwrapped/scratch/scratch-20220812_20220917.int/snaphu-regrow-conncomps.config.ic69e68v.txt (15 lines total)\n",
      "Unwrapping tile at row 0, column 1 (pid 150731)\n",
      "Reading unwrapped phase from file /u/aurora-r0/staniewi/dev/notebooks/new-orleans/dolphin/unwrapped/scratch/scratch-20220812_20220917.int/snaphu.unw.8isyrza7.f4\n",
      "Reading interferogram magnitude from file /u/aurora-r0/staniewi/dev/notebooks/new-orleans/dolphin/unwrapped/scratch/scratch-20220812_20220917.int/snaphu.mag.kw34_aoe.f4\n",
      "Reading byte mask from file /u/aurora-r0/staniewi/dev/notebooks/new-orleans/dolphin/unwrapped/scratch/scratch-20220812_20220917.int/snaphu.mask.oljky43c.u1\n",
      "No weight file specified.  Assuming uniform weights\n",
      "Reading correlation data from file /u/aurora-r0/staniewi/dev/notebooks/new-orleans/dolphin/unwrapped/scratch/scratch-20220812_20220917.int/snaphu.corr.l8uu8rab.f4\n",
      "Calculating smooth-solution cost parameters\n",
      "Growing connected component mask\n",
      "Writing connected components to file /u/aurora-r0/staniewi/dev/notebooks/new-orleans/dolphin/unwrapped/scratch/scratch-20220812_20220917.int/snaphu.conncomp.8ntqh27e.u4 as 4-byte unsigned ints\n",
      "Program snaphu done\n",
      "Elapsed processor time:   0:00:01.67\n",
      "Elapsed wall clock time:  0:00:02\n"
     ]
    },
    {
     "name": "stderr",
     "output_type": "stream",
     "text": [
      "[INFO|_unwrap|L513] 2025-08-19T14:56:47-0700: Setting nodata values of /u/aurora-r0/staniewi/dev/notebooks/new-orleans/dolphin/unwrapped/20220812_20220917.unw.tif file\n",
      "[INFO|_unwrap|L517] 2025-08-19T14:56:47-0700: Setting nodata values of /u/aurora-r0/staniewi/dev/notebooks/new-orleans/dolphin/unwrapped/20220812_20220917.unw.conncomp.tif file\n"
     ]
    },
    {
     "name": "stdout",
     "output_type": "stream",
     "text": [
      "\n",
      "snaphu v2.0.7\n",
      "23 parameters input from file /u/aurora-r0/staniewi/dev/notebooks/new-orleans/dolphin/unwrapped/scratch/scratch-20220905_20220929.int/snaphu.config.x5lxt5qx.txt (23 lines total)\n",
      "Unwrapping tile at row 1, column 0 (pid 150735)\n",
      "Creating temporary directory /u/aurora-r0/staniewi/dev/notebooks/new-orleans/dolphin/unwrapped/scratch/scratch-20220905_20220929.int/snaphu_tiles_150734\n",
      "Unwrapping tile at row 0, column 0 (pid 150739)\n",
      "Unwrapping tile at row 1, column 1 (pid 150740)\n",
      "Unwrapping tile at row 0, column 1 (pid 150743)\n",
      "Unwrapping tile at row 1, column 0 (pid 150746)\n",
      "Unwrapping tile at row 1, column 1 (pid 150748)\n",
      "Assembling tiles\n",
      "Running optimizer for secondary network\n",
      "Number of nodes in secondary network: 2451\n",
      "Flow increment: 1  (Total improvements: 0)\n",
      "Flow increment: 2  (Total improvements: 10)\n",
      "Flow increment: 3  (Total improvements: 10)\n",
      "Flow increment: 4  (Total improvements: 10)\n",
      "Assembling tile connected components\n",
      "Assembled connected components (3) output written to file /u/aurora-r0/staniewi/dev/notebooks/new-orleans/dolphin/unwrapped/scratch/scratch-20220812_20220929.int/snaphu.conncomp.k34p_n30.u4\n",
      "Integrating secondary flows\n",
      "Output written to file /u/aurora-r0/staniewi/dev/notebooks/new-orleans/dolphin/unwrapped/scratch/scratch-20220812_20220929.int/snaphu.unw.qe0urkme.f4\n",
      "Removing temporary directory /u/aurora-r0/staniewi/dev/notebooks/new-orleans/dolphin/unwrapped/scratch/scratch-20220812_20220929.int/snaphu_tiles_150572\n",
      "SUGGESTION: Try increasing tile overlap and/or size if solution has edge artifacts\n",
      "Program snaphu done\n",
      "Elapsed processor time:   0:03:54.45\n",
      "Elapsed wall clock time:  0:02:05\n",
      "\n",
      "snaphu v2.0.7\n",
      "15 parameters input from file /u/aurora-r0/staniewi/dev/notebooks/new-orleans/dolphin/unwrapped/scratch/scratch-20220812_20220929.int/snaphu-regrow-conncomps.config.2_k4v1hz.txt (15 lines total)\n",
      "Reading unwrapped phase from file /u/aurora-r0/staniewi/dev/notebooks/new-orleans/dolphin/unwrapped/scratch/scratch-20220812_20220929.int/snaphu.unw.qe0urkme.f4\n",
      "Reading interferogram magnitude from file /u/aurora-r0/staniewi/dev/notebooks/new-orleans/dolphin/unwrapped/scratch/scratch-20220812_20220929.int/snaphu.mag.5841jlak.f4\n",
      "Reading byte mask from file /u/aurora-r0/staniewi/dev/notebooks/new-orleans/dolphin/unwrapped/scratch/scratch-20220812_20220929.int/snaphu.mask.wo2ywpn1.u1\n",
      "No weight file specified.  Assuming uniform weights\n",
      "Reading correlation data from file /u/aurora-r0/staniewi/dev/notebooks/new-orleans/dolphin/unwrapped/scratch/scratch-20220812_20220929.int/snaphu.corr._ynscvx5.f4\n",
      "Calculating smooth-solution cost parameters\n",
      "Growing connected component mask\n",
      "Writing connected components to file /u/aurora-r0/staniewi/dev/notebooks/new-orleans/dolphin/unwrapped/scratch/scratch-20220812_20220929.int/snaphu.conncomp.k34p_n30.u4 as 4-byte unsigned ints\n",
      "Program snaphu done\n",
      "Elapsed processor time:   0:00:01.74\n",
      "Elapsed wall clock time:  0:00:01\n"
     ]
    },
    {
     "name": "stderr",
     "output_type": "stream",
     "text": [
      "[INFO|_unwrap|L513] 2025-08-19T14:57:35-0700: Setting nodata values of /u/aurora-r0/staniewi/dev/notebooks/new-orleans/dolphin/unwrapped/20220812_20220929.unw.tif file\n",
      "[INFO|_unwrap|L517] 2025-08-19T14:57:35-0700: Setting nodata values of /u/aurora-r0/staniewi/dev/notebooks/new-orleans/dolphin/unwrapped/20220812_20220929.unw.conncomp.tif file\n"
     ]
    },
    {
     "name": "stdout",
     "output_type": "stream",
     "text": [
      "\n",
      "snaphu v2.0.7\n",
      "23 parameters input from file /u/aurora-r0/staniewi/dev/notebooks/new-orleans/dolphin/unwrapped/scratch/scratch-20220905_20221011.int/snaphu.config.wzagwjqq.txt (23 lines total)\n",
      "Creating temporary directory /u/aurora-r0/staniewi/dev/notebooks/new-orleans/dolphin/unwrapped/scratch/scratch-20220905_20221011.int/snaphu_tiles_150833\n",
      "Unwrapping tile at row 0, column 0 (pid 150836)\n",
      "Unwrapping tile at row 0, column 1 (pid 150839)\n",
      "Unwrapping tile at row 1, column 0 (pid 150843)\n",
      "Unwrapping tile at row 1, column 1 (pid 150845)\n",
      "Assembling tiles\n",
      "Running optimizer for secondary network\n",
      "Number of nodes in secondary network: 2336\n",
      "Flow increment: 1  (Total improvements: 0)\n",
      "Flow increment: 2  (Total improvements: 0)\n",
      "Flow increment: 3  (Total improvements: 0)\n",
      "Assembling tile connected components\n",
      "Assembled connected components (3) output written to file /u/aurora-r0/staniewi/dev/notebooks/new-orleans/dolphin/unwrapped/scratch/scratch-20220905_20220917.int/snaphu.conncomp.14h6zzuz.u4\n",
      "Integrating secondary flows\n",
      "Output written to file /u/aurora-r0/staniewi/dev/notebooks/new-orleans/dolphin/unwrapped/scratch/scratch-20220905_20220917.int/snaphu.unw.kj83_olu.f4\n",
      "Removing temporary directory /u/aurora-r0/staniewi/dev/notebooks/new-orleans/dolphin/unwrapped/scratch/scratch-20220905_20220917.int/snaphu_tiles_150722\n",
      "SUGGESTION: Try increasing tile overlap and/or size if solution has edge artifacts\n",
      "Program snaphu done\n",
      "Elapsed processor time:   0:03:59.88\n",
      "Elapsed wall clock time:  0:02:04\n",
      "\n",
      "snaphu v2.0.7\n",
      "15 parameters input from file /u/aurora-r0/staniewi/dev/notebooks/new-orleans/dolphin/unwrapped/scratch/scratch-20220905_20220917.int/snaphu-regrow-conncomps.config.1z9ayar0.txt (15 lines total)\n",
      "Reading unwrapped phase from file /u/aurora-r0/staniewi/dev/notebooks/new-orleans/dolphin/unwrapped/scratch/scratch-20220905_20220917.int/snaphu.unw.kj83_olu.f4\n",
      "Reading interferogram magnitude from file /u/aurora-r0/staniewi/dev/notebooks/new-orleans/dolphin/unwrapped/scratch/scratch-20220905_20220917.int/snaphu.mag.hafazfc6.f4\n",
      "Reading byte mask from file /u/aurora-r0/staniewi/dev/notebooks/new-orleans/dolphin/unwrapped/scratch/scratch-20220905_20220917.int/snaphu.mask.i2ia9gb7.u1\n",
      "No weight file specified.  Assuming uniform weights\n",
      "Reading correlation data from file /u/aurora-r0/staniewi/dev/notebooks/new-orleans/dolphin/unwrapped/scratch/scratch-20220905_20220917.int/snaphu.corr.acqqohe3.f4\n",
      "Calculating smooth-solution cost parameters\n",
      "Growing connected component mask\n",
      "Writing connected components to file /u/aurora-r0/staniewi/dev/notebooks/new-orleans/dolphin/unwrapped/scratch/scratch-20220905_20220917.int/snaphu.conncomp.14h6zzuz.u4 as 4-byte unsigned ints\n",
      "Program snaphu done\n",
      "Elapsed processor time:   0:00:01.64\n",
      "Elapsed wall clock time:  0:00:02\n"
     ]
    },
    {
     "name": "stderr",
     "output_type": "stream",
     "text": [
      "[INFO|_unwrap|L513] 2025-08-19T14:58:48-0700: Setting nodata values of /u/aurora-r0/staniewi/dev/notebooks/new-orleans/dolphin/unwrapped/20220905_20220917.unw.tif file\n",
      "[INFO|_unwrap|L517] 2025-08-19T14:58:48-0700: Setting nodata values of /u/aurora-r0/staniewi/dev/notebooks/new-orleans/dolphin/unwrapped/20220905_20220917.unw.conncomp.tif file\n"
     ]
    },
    {
     "name": "stdout",
     "output_type": "stream",
     "text": [
      "\n",
      "snaphu v2.0.7\n",
      "23 parameters input from file /u/aurora-r0/staniewi/dev/notebooks/new-orleans/dolphin/unwrapped/scratch/scratch-20220917_20220929.int/snaphu.config.1gzcrfb1.txt (23 lines total)\n",
      "Creating temporary directory /u/aurora-r0/staniewi/dev/notebooks/new-orleans/dolphin/unwrapped/scratch/scratch-20220917_20220929.int/snaphu_tiles_151003\n",
      "Unwrapping tile at row 0, column 0 (pid 151011)\n",
      "Unwrapping tile at row 0, column 1 (pid 151013)\n",
      "Unwrapping tile at row 1, column 0 (pid 151016)\n",
      "Unwrapping tile at row 1, column 1 (pid 151019)\n",
      "Assembling tiles\n",
      "Running optimizer for secondary network\n",
      "Number of nodes in secondary network: 2398\n",
      "Flow increment: 1  (Total improvements: 0)\n",
      "Flow increment: 2  (Total improvements: 0)\n",
      "Flow increment: 3  (Total improvements: 0)\n",
      "Assembling tile connected components\n",
      "Assembled connected components (3) output written to file /u/aurora-r0/staniewi/dev/notebooks/new-orleans/dolphin/unwrapped/scratch/scratch-20220905_20220929.int/snaphu.conncomp.a7jds_vp.u4\n",
      "Integrating secondary flows\n",
      "Output written to file /u/aurora-r0/staniewi/dev/notebooks/new-orleans/dolphin/unwrapped/scratch/scratch-20220905_20220929.int/snaphu.unw.jfx_8o1h.f4\n",
      "Removing temporary directory /u/aurora-r0/staniewi/dev/notebooks/new-orleans/dolphin/unwrapped/scratch/scratch-20220905_20220929.int/snaphu_tiles_150734\n",
      "SUGGESTION: Try increasing tile overlap and/or size if solution has edge artifacts\n",
      "Program snaphu done\n",
      "Elapsed processor time:   0:04:28.86\n",
      "Elapsed wall clock time:  0:02:20\n",
      "\n",
      "snaphu v2.0.7\n",
      "15 parameters input from file /u/aurora-r0/staniewi/dev/notebooks/new-orleans/dolphin/unwrapped/scratch/scratch-20220905_20220929.int/snaphu-regrow-conncomps.config.wzjeiifm.txt (15 lines total)\n",
      "Reading unwrapped phase from file /u/aurora-r0/staniewi/dev/notebooks/new-orleans/dolphin/unwrapped/scratch/scratch-20220905_20220929.int/snaphu.unw.jfx_8o1h.f4\n",
      "Reading interferogram magnitude from file /u/aurora-r0/staniewi/dev/notebooks/new-orleans/dolphin/unwrapped/scratch/scratch-20220905_20220929.int/snaphu.mag.ck84hzk5.f4\n",
      "Reading byte mask from file /u/aurora-r0/staniewi/dev/notebooks/new-orleans/dolphin/unwrapped/scratch/scratch-20220905_20220929.int/snaphu.mask.bni34kyv.u1\n",
      "No weight file specified.  Assuming uniform weights\n",
      "Reading correlation data from file /u/aurora-r0/staniewi/dev/notebooks/new-orleans/dolphin/unwrapped/scratch/scratch-20220905_20220929.int/snaphu.corr.a9qwi_wd.f4\n",
      "Calculating smooth-solution cost parameters\n",
      "Growing connected component mask\n",
      "Writing connected components to file /u/aurora-r0/staniewi/dev/notebooks/new-orleans/dolphin/unwrapped/scratch/scratch-20220905_20220929.int/snaphu.conncomp.a7jds_vp.u4 as 4-byte unsigned ints\n",
      "Program snaphu done\n",
      "Elapsed processor time:   0:00:01.64\n",
      "Elapsed wall clock time:  0:00:02\n"
     ]
    },
    {
     "name": "stderr",
     "output_type": "stream",
     "text": [
      "[INFO|_unwrap|L513] 2025-08-19T14:59:10-0700: Setting nodata values of /u/aurora-r0/staniewi/dev/notebooks/new-orleans/dolphin/unwrapped/20220905_20220929.unw.tif file\n",
      "[INFO|_unwrap|L517] 2025-08-19T14:59:11-0700: Setting nodata values of /u/aurora-r0/staniewi/dev/notebooks/new-orleans/dolphin/unwrapped/20220905_20220929.unw.conncomp.tif file\n"
     ]
    },
    {
     "name": "stdout",
     "output_type": "stream",
     "text": [
      "\n",
      "snaphu v2.0.7\n",
      "23 parameters input from file /u/aurora-r0/staniewi/dev/notebooks/new-orleans/dolphin/unwrapped/scratch/scratch-20220917_20221011.int/snaphu.config.itxjjezj.txt (23 lines total)\n",
      "Creating temporary directory /u/aurora-r0/staniewi/dev/notebooks/new-orleans/dolphin/unwrapped/scratch/scratch-20220917_20221011.int/snaphu_tiles_151041\n",
      "Unwrapping tile at row 0, column 0 (pid 151044)\n",
      "Unwrapping tile at row 0, column 1 (pid 151047)\n",
      "Unwrapping tile at row 1, column 0 (pid 151050)\n",
      "Unwrapping tile at row 1, column 1 (pid 151052)\n",
      "Assembling tiles\n",
      "Running optimizer for secondary network\n",
      "Number of nodes in secondary network: 2365\n",
      "Flow increment: 1  (Total improvements: 0)\n",
      "Flow increment: 2  (Total improvements: 5)\n",
      "Flow increment: 3  (Total improvements: 5)\n",
      "Flow increment: 4  (Total improvements: 5)\n",
      "Assembling tile connected components\n",
      "Assembled connected components (4) output written to file /u/aurora-r0/staniewi/dev/notebooks/new-orleans/dolphin/unwrapped/scratch/scratch-20220905_20221011.int/snaphu.conncomp.0lvvv2ot.u4\n",
      "Integrating secondary flows\n",
      "Output written to file /u/aurora-r0/staniewi/dev/notebooks/new-orleans/dolphin/unwrapped/scratch/scratch-20220905_20221011.int/snaphu.unw.__66_116.f4\n",
      "Removing temporary directory /u/aurora-r0/staniewi/dev/notebooks/new-orleans/dolphin/unwrapped/scratch/scratch-20220905_20221011.int/snaphu_tiles_150833\n",
      "SUGGESTION: Try increasing tile overlap and/or size if solution has edge artifacts\n",
      "Program snaphu done\n",
      "Elapsed processor time:   0:04:08.04\n",
      "Elapsed wall clock time:  0:02:07\n",
      "\n",
      "snaphu v2.0.7\n",
      "15 parameters input from file /u/aurora-r0/staniewi/dev/notebooks/new-orleans/dolphin/unwrapped/scratch/scratch-20220905_20221011.int/snaphu-regrow-conncomps.config.twh8vfqd.txt (15 lines total)\n",
      "Reading unwrapped phase from file /u/aurora-r0/staniewi/dev/notebooks/new-orleans/dolphin/unwrapped/scratch/scratch-20220905_20221011.int/snaphu.unw.__66_116.f4\n",
      "Reading interferogram magnitude from file /u/aurora-r0/staniewi/dev/notebooks/new-orleans/dolphin/unwrapped/scratch/scratch-20220905_20221011.int/snaphu.mag.b2uh4k46.f4\n",
      "Reading byte mask from file /u/aurora-r0/staniewi/dev/notebooks/new-orleans/dolphin/unwrapped/scratch/scratch-20220905_20221011.int/snaphu.mask.etu_dzt8.u1\n",
      "No weight file specified.  Assuming uniform weights\n",
      "Reading correlation data from file /u/aurora-r0/staniewi/dev/notebooks/new-orleans/dolphin/unwrapped/scratch/scratch-20220905_20221011.int/snaphu.corr.9tpdd_lz.f4\n",
      "Calculating smooth-solution cost parameters\n",
      "Growing connected component mask\n",
      "Writing connected components to file /u/aurora-r0/staniewi/dev/notebooks/new-orleans/dolphin/unwrapped/scratch/scratch-20220905_20221011.int/snaphu.conncomp.0lvvv2ot.u4 as 4-byte unsigned ints\n",
      "Program snaphu done\n",
      "Elapsed processor time:   0:00:01.66\n",
      "Elapsed wall clock time:  0:00:02\n"
     ]
    },
    {
     "name": "stderr",
     "output_type": "stream",
     "text": [
      "[INFO|_unwrap|L513] 2025-08-19T14:59:45-0700: Setting nodata values of /u/aurora-r0/staniewi/dev/notebooks/new-orleans/dolphin/unwrapped/20220905_20221011.unw.tif file\n",
      "[INFO|_unwrap|L517] 2025-08-19T14:59:46-0700: Setting nodata values of /u/aurora-r0/staniewi/dev/notebooks/new-orleans/dolphin/unwrapped/20220905_20221011.unw.conncomp.tif file\n"
     ]
    },
    {
     "name": "stdout",
     "output_type": "stream",
     "text": [
      "\n",
      "snaphu v2.0.7\n",
      "23 parameters input from file /u/aurora-r0/staniewi/dev/notebooks/new-orleans/dolphin/unwrapped/scratch/scratch-20220917_20221023.int/snaphu.config._irubeao.txt (23 lines total)\n",
      "Creating temporary directory /u/aurora-r0/staniewi/dev/notebooks/new-orleans/dolphin/unwrapped/scratch/scratch-20220917_20221023.int/snaphu_tiles_151253\n",
      "Unwrapping tile at row 0, column 0 (pid 151258)\n",
      "Unwrapping tile at row 0, column 1 (pid 151263)\n",
      "Unwrapping tile at row 1, column 0 (pid 151269)\n",
      "Unwrapping tile at row 1, column 1 (pid 151275)\n",
      "Assembling tiles\n",
      "Running optimizer for secondary network\n",
      "Number of nodes in secondary network: 2357\n",
      "Flow increment: 1  (Total improvements: 0)\n",
      "Flow increment: 2  (Total improvements: 7)\n",
      "Flow increment: 3  (Total improvements: 7)\n",
      "Flow increment: 4  (Total improvements: 7)\n",
      "Assembling tile connected components\n",
      "Assembled connected components (3) output written to file /u/aurora-r0/staniewi/dev/notebooks/new-orleans/dolphin/unwrapped/scratch/scratch-20220917_20220929.int/snaphu.conncomp.8pc8yzgq.u4\n",
      "Integrating secondary flows\n",
      "Output written to file /u/aurora-r0/staniewi/dev/notebooks/new-orleans/dolphin/unwrapped/scratch/scratch-20220917_20220929.int/snaphu.unw._ilifd8i.f4\n",
      "Removing temporary directory /u/aurora-r0/staniewi/dev/notebooks/new-orleans/dolphin/unwrapped/scratch/scratch-20220917_20220929.int/snaphu_tiles_151003\n",
      "SUGGESTION: Try increasing tile overlap and/or size if solution has edge artifacts\n",
      "Program snaphu done\n",
      "Elapsed processor time:   0:03:57.82\n",
      "Elapsed wall clock time:  0:02:02\n",
      "\n",
      "snaphu v2.0.7\n",
      "15 parameters input from file /u/aurora-r0/staniewi/dev/notebooks/new-orleans/dolphin/unwrapped/scratch/scratch-20220917_20220929.int/snaphu-regrow-conncomps.config.vtnqykor.txt (15 lines total)\n",
      "Reading unwrapped phase from file /u/aurora-r0/staniewi/dev/notebooks/new-orleans/dolphin/unwrapped/scratch/scratch-20220917_20220929.int/snaphu.unw._ilifd8i.f4\n",
      "Reading interferogram magnitude from file /u/aurora-r0/staniewi/dev/notebooks/new-orleans/dolphin/unwrapped/scratch/scratch-20220917_20220929.int/snaphu.mag.xftsem5o.f4\n",
      "Reading byte mask from file /u/aurora-r0/staniewi/dev/notebooks/new-orleans/dolphin/unwrapped/scratch/scratch-20220917_20220929.int/snaphu.mask.ie52ttq4.u1\n",
      "No weight file specified.  Assuming uniform weights\n",
      "Reading correlation data from file /u/aurora-r0/staniewi/dev/notebooks/new-orleans/dolphin/unwrapped/scratch/scratch-20220917_20220929.int/snaphu.corr.1hd45n5l.f4\n",
      "Calculating smooth-solution cost parameters\n",
      "Growing connected component mask\n",
      "Writing connected components to file /u/aurora-r0/staniewi/dev/notebooks/new-orleans/dolphin/unwrapped/scratch/scratch-20220917_20220929.int/snaphu.conncomp.8pc8yzgq.u4 as 4-byte unsigned ints\n",
      "Program snaphu done\n",
      "Elapsed processor time:   0:00:01.79\n",
      "Elapsed wall clock time:  0:00:02\n"
     ]
    },
    {
     "name": "stderr",
     "output_type": "stream",
     "text": [
      "[INFO|_unwrap|L513] 2025-08-19T15:00:53-0700: Setting nodata values of /u/aurora-r0/staniewi/dev/notebooks/new-orleans/dolphin/unwrapped/20220917_20220929.unw.tif file\n",
      "[INFO|_unwrap|L517] 2025-08-19T15:00:53-0700: Setting nodata values of /u/aurora-r0/staniewi/dev/notebooks/new-orleans/dolphin/unwrapped/20220917_20220929.unw.conncomp.tif file\n"
     ]
    },
    {
     "name": "stdout",
     "output_type": "stream",
     "text": [
      "\n",
      "snaphu v2.0.7\n",
      "23 parameters input from file /u/aurora-r0/staniewi/dev/notebooks/new-orleans/dolphin/unwrapped/scratch/scratch-20220929_20221011.int/snaphu.config.ujb4np1_.txt (23 lines total)\n",
      "Creating temporary directory /u/aurora-r0/staniewi/dev/notebooks/new-orleans/dolphin/unwrapped/scratch/scratch-20220929_20221011.int/snaphu_tiles_152060\n",
      "Unwrapping tile at row 0, column 0 (pid 152064)\n",
      "Unwrapping tile at row 0, column 1 (pid 152066)\n",
      "Unwrapping tile at row 1, column 0 (pid 152069)\n",
      "Unwrapping tile at row 1, column 1 (pid 152096)\n",
      "Assembling tiles\n",
      "Running optimizer for secondary network\n",
      "Number of nodes in secondary network: 2333\n",
      "Flow increment: 1  (Total improvements: 0)\n",
      "Flow increment: 2  (Total improvements: 0)\n",
      "Flow increment: 3  (Total improvements: 0)\n",
      "Assembling tile connected components\n",
      "Assembled connected components (4) output written to file /u/aurora-r0/staniewi/dev/notebooks/new-orleans/dolphin/unwrapped/scratch/scratch-20220917_20221011.int/snaphu.conncomp.16oyf_0e.u4\n",
      "Integrating secondary flows\n",
      "Output written to file /u/aurora-r0/staniewi/dev/notebooks/new-orleans/dolphin/unwrapped/scratch/scratch-20220917_20221011.int/snaphu.unw.j_11l1wl.f4\n",
      "Removing temporary directory /u/aurora-r0/staniewi/dev/notebooks/new-orleans/dolphin/unwrapped/scratch/scratch-20220917_20221011.int/snaphu_tiles_151041\n",
      "SUGGESTION: Try increasing tile overlap and/or size if solution has edge artifacts\n",
      "Program snaphu done\n",
      "Elapsed processor time:   0:03:48.11\n",
      "Elapsed wall clock time:  0:01:55\n",
      "\n",
      "snaphu v2.0.7\n",
      "15 parameters input from file /u/aurora-r0/staniewi/dev/notebooks/new-orleans/dolphin/unwrapped/scratch/scratch-20220917_20221011.int/snaphu-regrow-conncomps.config.3uciotvx.txt (15 lines total)\n",
      "Reading unwrapped phase from file /u/aurora-r0/staniewi/dev/notebooks/new-orleans/dolphin/unwrapped/scratch/scratch-20220917_20221011.int/snaphu.unw.j_11l1wl.f4\n",
      "Reading interferogram magnitude from file /u/aurora-r0/staniewi/dev/notebooks/new-orleans/dolphin/unwrapped/scratch/scratch-20220917_20221011.int/snaphu.mag.7fw6bwfi.f4\n",
      "Reading byte mask from file /u/aurora-r0/staniewi/dev/notebooks/new-orleans/dolphin/unwrapped/scratch/scratch-20220917_20221011.int/snaphu.mask.askg6zle.u1\n",
      "No weight file specified.  Assuming uniform weights\n",
      "Reading correlation data from file /u/aurora-r0/staniewi/dev/notebooks/new-orleans/dolphin/unwrapped/scratch/scratch-20220917_20221011.int/snaphu.corr.u3hyvngw.f4\n",
      "Calculating smooth-solution cost parameters\n",
      "Growing connected component mask\n",
      "Writing connected components to file /u/aurora-r0/staniewi/dev/notebooks/new-orleans/dolphin/unwrapped/scratch/scratch-20220917_20221011.int/snaphu.conncomp.16oyf_0e.u4 as 4-byte unsigned ints\n",
      "Program snaphu done\n",
      "Elapsed processor time:   0:00:01.85\n",
      "Elapsed wall clock time:  0:00:02\n"
     ]
    },
    {
     "name": "stderr",
     "output_type": "stream",
     "text": [
      "[INFO|_unwrap|L513] 2025-08-19T15:01:09-0700: Setting nodata values of /u/aurora-r0/staniewi/dev/notebooks/new-orleans/dolphin/unwrapped/20220917_20221011.unw.tif file\n",
      "[INFO|_unwrap|L517] 2025-08-19T15:01:09-0700: Setting nodata values of /u/aurora-r0/staniewi/dev/notebooks/new-orleans/dolphin/unwrapped/20220917_20221011.unw.conncomp.tif file\n"
     ]
    },
    {
     "name": "stdout",
     "output_type": "stream",
     "text": [
      "\n",
      "snaphu v2.0.7\n",
      "23 parameters input from file /u/aurora-r0/staniewi/dev/notebooks/new-orleans/dolphin/unwrapped/scratch/scratch-20220929_20221023.int/snaphu.config.zqrmkhby.txt (23 lines total)\n",
      "Creating temporary directory /u/aurora-r0/staniewi/dev/notebooks/new-orleans/dolphin/unwrapped/scratch/scratch-20220929_20221023.int/snaphu_tiles_152506\n",
      "Unwrapping tile at row 0, column 0 (pid 152510)\n",
      "Unwrapping tile at row 0, column 1 (pid 152514)\n",
      "Unwrapping tile at row 1, column 0 (pid 152516)\n",
      "Unwrapping tile at row 1, column 1 (pid 152519)\n",
      "Assembling tiles\n",
      "Running optimizer for secondary network\n",
      "Number of nodes in secondary network: 2409\n",
      "Flow increment: 1  (Total improvements: 0)\n",
      "Flow increment: 2  (Total improvements: 6)\n",
      "Flow increment: 3  (Total improvements: 6)\n",
      "Flow increment: 4  (Total improvements: 6)\n",
      "Assembling tile connected components\n",
      "Assembled connected components (3) output written to file /u/aurora-r0/staniewi/dev/notebooks/new-orleans/dolphin/unwrapped/scratch/scratch-20220917_20221023.int/snaphu.conncomp.9pyd0lec.u4\n",
      "Integrating secondary flows\n",
      "Output written to file /u/aurora-r0/staniewi/dev/notebooks/new-orleans/dolphin/unwrapped/scratch/scratch-20220917_20221023.int/snaphu.unw.1j26fej8.f4\n",
      "Removing temporary directory /u/aurora-r0/staniewi/dev/notebooks/new-orleans/dolphin/unwrapped/scratch/scratch-20220917_20221023.int/snaphu_tiles_151253\n",
      "SUGGESTION: Try increasing tile overlap and/or size if solution has edge artifacts\n",
      "Program snaphu done\n",
      "Elapsed processor time:   0:04:10.90\n",
      "Elapsed wall clock time:  0:02:13\n",
      "\n",
      "snaphu v2.0.7\n",
      "15 parameters input from file /u/aurora-r0/staniewi/dev/notebooks/new-orleans/dolphin/unwrapped/scratch/scratch-20220917_20221023.int/snaphu-regrow-conncomps.config.xu0wn_44.txt (15 lines total)\n",
      "Reading unwrapped phase from file /u/aurora-r0/staniewi/dev/notebooks/new-orleans/dolphin/unwrapped/scratch/scratch-20220917_20221023.int/snaphu.unw.1j26fej8.f4\n",
      "Reading interferogram magnitude from file /u/aurora-r0/staniewi/dev/notebooks/new-orleans/dolphin/unwrapped/scratch/scratch-20220917_20221023.int/snaphu.mag.e8k4euke.f4\n",
      "Reading byte mask from file /u/aurora-r0/staniewi/dev/notebooks/new-orleans/dolphin/unwrapped/scratch/scratch-20220917_20221023.int/snaphu.mask.q72rek3p.u1\n",
      "No weight file specified.  Assuming uniform weights\n",
      "Reading correlation data from file /u/aurora-r0/staniewi/dev/notebooks/new-orleans/dolphin/unwrapped/scratch/scratch-20220917_20221023.int/snaphu.corr.6gv7sd6y.f4\n",
      "Calculating smooth-solution cost parameters\n",
      "Growing connected component mask\n",
      "Writing connected components to file /u/aurora-r0/staniewi/dev/notebooks/new-orleans/dolphin/unwrapped/scratch/scratch-20220917_20221023.int/snaphu.conncomp.9pyd0lec.u4 as 4-byte unsigned ints\n",
      "Program snaphu done\n",
      "Elapsed processor time:   0:00:01.71\n",
      "Elapsed wall clock time:  0:00:02\n"
     ]
    },
    {
     "name": "stderr",
     "output_type": "stream",
     "text": [
      "[INFO|_unwrap|L513] 2025-08-19T15:02:02-0700: Setting nodata values of /u/aurora-r0/staniewi/dev/notebooks/new-orleans/dolphin/unwrapped/20220917_20221023.unw.tif file\n",
      "[INFO|_unwrap|L517] 2025-08-19T15:02:02-0700: Setting nodata values of /u/aurora-r0/staniewi/dev/notebooks/new-orleans/dolphin/unwrapped/20220917_20221023.unw.conncomp.tif file\n"
     ]
    },
    {
     "name": "stdout",
     "output_type": "stream",
     "text": [
      "\n",
      "snaphu v2.0.7\n",
      "23 parameters input from file /u/aurora-r0/staniewi/dev/notebooks/new-orleans/dolphin/unwrapped/scratch/scratch-20220929_20221104.int/snaphu.config.l45gbf0w.txt (23 lines total)\n",
      "Creating temporary directory /u/aurora-r0/staniewi/dev/notebooks/new-orleans/dolphin/unwrapped/scratch/scratch-20220929_20221104.int/snaphu_tiles_154139\n",
      "Unwrapping tile at row 0, column 0 (pid 154143)\n",
      "Unwrapping tile at row 0, column 1 (pid 154145)\n",
      "Unwrapping tile at row 1, column 0 (pid 154148)\n",
      "Unwrapping tile at row 1, column 1 (pid 154151)\n",
      "Assembling tiles\n",
      "Running optimizer for secondary network\n",
      "Number of nodes in secondary network: 2272\n",
      "Flow increment: 1  (Total improvements: 0)\n",
      "Flow increment: 2  (Total improvements: 0)\n",
      "Flow increment: 3  (Total improvements: 0)\n",
      "Assembling tile connected components\n",
      "Assembled connected components (3) output written to file /u/aurora-r0/staniewi/dev/notebooks/new-orleans/dolphin/unwrapped/scratch/scratch-20220929_20221011.int/snaphu.conncomp.qpjjpoo1.u4\n",
      "Integrating secondary flows\n",
      "Output written to file /u/aurora-r0/staniewi/dev/notebooks/new-orleans/dolphin/unwrapped/scratch/scratch-20220929_20221011.int/snaphu.unw._bfz9drn.f4\n",
      "Removing temporary directory /u/aurora-r0/staniewi/dev/notebooks/new-orleans/dolphin/unwrapped/scratch/scratch-20220929_20221011.int/snaphu_tiles_152060\n",
      "SUGGESTION: Try increasing tile overlap and/or size if solution has edge artifacts\n",
      "Program snaphu done\n",
      "Elapsed processor time:   0:04:19.21\n",
      "Elapsed wall clock time:  0:02:16\n",
      "\n",
      "snaphu v2.0.7\n",
      "15 parameters input from file /u/aurora-r0/staniewi/dev/notebooks/new-orleans/dolphin/unwrapped/scratch/scratch-20220929_20221011.int/snaphu-regrow-conncomps.config.iqgcca7p.txt (15 lines total)\n",
      "Reading unwrapped phase from file /u/aurora-r0/staniewi/dev/notebooks/new-orleans/dolphin/unwrapped/scratch/scratch-20220929_20221011.int/snaphu.unw._bfz9drn.f4\n",
      "Reading interferogram magnitude from file /u/aurora-r0/staniewi/dev/notebooks/new-orleans/dolphin/unwrapped/scratch/scratch-20220929_20221011.int/snaphu.mag.kgjn7y7p.f4\n",
      "Reading byte mask from file /u/aurora-r0/staniewi/dev/notebooks/new-orleans/dolphin/unwrapped/scratch/scratch-20220929_20221011.int/snaphu.mask.j26bw5dq.u1\n",
      "No weight file specified.  Assuming uniform weights\n",
      "Reading correlation data from file /u/aurora-r0/staniewi/dev/notebooks/new-orleans/dolphin/unwrapped/scratch/scratch-20220929_20221011.int/snaphu.corr.d03lf69m.f4\n",
      "Calculating smooth-solution cost parameters\n",
      "Growing connected component mask\n",
      "Writing connected components to file /u/aurora-r0/staniewi/dev/notebooks/new-orleans/dolphin/unwrapped/scratch/scratch-20220929_20221011.int/snaphu.conncomp.qpjjpoo1.u4 as 4-byte unsigned ints\n",
      "Program snaphu done\n",
      "Elapsed processor time:   0:00:01.80\n",
      "Elapsed wall clock time:  0:00:02\n"
     ]
    },
    {
     "name": "stderr",
     "output_type": "stream",
     "text": [
      "[INFO|_unwrap|L513] 2025-08-19T15:03:12-0700: Setting nodata values of /u/aurora-r0/staniewi/dev/notebooks/new-orleans/dolphin/unwrapped/20220929_20221011.unw.tif file\n",
      "[INFO|_unwrap|L517] 2025-08-19T15:03:13-0700: Setting nodata values of /u/aurora-r0/staniewi/dev/notebooks/new-orleans/dolphin/unwrapped/20220929_20221011.unw.conncomp.tif file\n"
     ]
    },
    {
     "name": "stdout",
     "output_type": "stream",
     "text": [
      "\n",
      "snaphu v2.0.7\n",
      "23 parameters input from file /u/aurora-r0/staniewi/dev/notebooks/new-orleans/dolphin/unwrapped/scratch/scratch-20221011_20221023.int/snaphu.config.2xhcl0q2.txt (23 lines total)\n",
      "Creating temporary directory /u/aurora-r0/staniewi/dev/notebooks/new-orleans/dolphin/unwrapped/scratch/scratch-20221011_20221023.int/snaphu_tiles_155184\n",
      "Unwrapping tile at row 0, column 0 (pid 155188)\n",
      "Unwrapping tile at row 0, column 1 (pid 155191)\n",
      "Unwrapping tile at row 1, column 0 (pid 155194)\n",
      "Unwrapping tile at row 1, column 1 (pid 155196)\n",
      "Assembling tiles\n",
      "Running optimizer for secondary network\n",
      "Number of nodes in secondary network: 2651\n",
      "Flow increment: 1  (Total improvements: 0)\n",
      "Flow increment: 2  (Total improvements: 0)\n",
      "Flow increment: 3  (Total improvements: 0)\n",
      "Assembling tile connected components\n",
      "Assembled connected components (4) output written to file /u/aurora-r0/staniewi/dev/notebooks/new-orleans/dolphin/unwrapped/scratch/scratch-20220929_20221023.int/snaphu.conncomp.mxq2rmla.u4\n",
      "Integrating secondary flows\n",
      "Output written to file /u/aurora-r0/staniewi/dev/notebooks/new-orleans/dolphin/unwrapped/scratch/scratch-20220929_20221023.int/snaphu.unw.ybl2uwyg.f4\n",
      "Removing temporary directory /u/aurora-r0/staniewi/dev/notebooks/new-orleans/dolphin/unwrapped/scratch/scratch-20220929_20221023.int/snaphu_tiles_152506\n",
      "SUGGESTION: Try increasing tile overlap and/or size if solution has edge artifacts\n",
      "Program snaphu done\n",
      "Elapsed processor time:   0:04:29.65\n",
      "Elapsed wall clock time:  0:02:22\n",
      "\n",
      "snaphu v2.0.7\n",
      "15 parameters input from file /u/aurora-r0/staniewi/dev/notebooks/new-orleans/dolphin/unwrapped/scratch/scratch-20220929_20221023.int/snaphu-regrow-conncomps.config.iqr68qem.txt (15 lines total)\n"
     ]
    },
    {
     "name": "stderr",
     "output_type": "stream",
     "text": [
      "[INFO|_unwrap|L513] 2025-08-19T15:03:35-0700: Setting nodata values of /u/aurora-r0/staniewi/dev/notebooks/new-orleans/dolphin/unwrapped/20220929_20221023.unw.tif file\n"
     ]
    },
    {
     "name": "stdout",
     "output_type": "stream",
     "text": [
      "Reading unwrapped phase from file /u/aurora-r0/staniewi/dev/notebooks/new-orleans/dolphin/unwrapped/scratch/scratch-20220929_20221023.int/snaphu.unw.ybl2uwyg.f4\n",
      "Reading interferogram magnitude from file /u/aurora-r0/staniewi/dev/notebooks/new-orleans/dolphin/unwrapped/scratch/scratch-20220929_20221023.int/snaphu.mag.307ax3xy.f4\n",
      "Reading byte mask from file /u/aurora-r0/staniewi/dev/notebooks/new-orleans/dolphin/unwrapped/scratch/scratch-20220929_20221023.int/snaphu.mask.p_v4qxeg.u1\n",
      "No weight file specified.  Assuming uniform weights\n",
      "Reading correlation data from file /u/aurora-r0/staniewi/dev/notebooks/new-orleans/dolphin/unwrapped/scratch/scratch-20220929_20221023.int/snaphu.corr.3e3n955o.f4\n",
      "Calculating smooth-solution cost parameters\n",
      "Growing connected component mask\n",
      "Writing connected components to file /u/aurora-r0/staniewi/dev/notebooks/new-orleans/dolphin/unwrapped/scratch/scratch-20220929_20221023.int/snaphu.conncomp.mxq2rmla.u4 as 4-byte unsigned ints\n",
      "Program snaphu done\n",
      "Elapsed processor time:   0:00:01.75\n",
      "Elapsed wall clock time:  0:00:03\n"
     ]
    },
    {
     "name": "stderr",
     "output_type": "stream",
     "text": [
      "[INFO|_unwrap|L517] 2025-08-19T15:03:36-0700: Setting nodata values of /u/aurora-r0/staniewi/dev/notebooks/new-orleans/dolphin/unwrapped/20220929_20221023.unw.conncomp.tif file\n"
     ]
    },
    {
     "name": "stdout",
     "output_type": "stream",
     "text": [
      "\n",
      "snaphu v2.0.7\n",
      "23 parameters input from file /u/aurora-r0/staniewi/dev/notebooks/new-orleans/dolphin/unwrapped/scratch/scratch-20221011_20221104.int/snaphu.config.eogj7j52.txt (23 lines total)\n",
      "Creating temporary directory /u/aurora-r0/staniewi/dev/notebooks/new-orleans/dolphin/unwrapped/scratch/scratch-20221011_20221104.int/snaphu_tiles_155228\n",
      "Unwrapping tile at row 0, column 0 (pid 155232)\n",
      "Unwrapping tile at row 0, column 1 (pid 155234)\n",
      "Unwrapping tile at row 1, column 0 (pid 155237)\n",
      "Unwrapping tile at row 1, column 1 (pid 155240)\n",
      "Assembling tiles\n",
      "Running optimizer for secondary network\n",
      "Number of nodes in secondary network: 2422\n",
      "Flow increment: 1  (Total improvements: 0)\n",
      "Flow increment: 2  (Total improvements: 0)\n",
      "Flow increment: 3  (Total improvements: 0)\n",
      "Assembling tile connected components\n",
      "Assembled connected components (4) output written to file /u/aurora-r0/staniewi/dev/notebooks/new-orleans/dolphin/unwrapped/scratch/scratch-20220929_20221104.int/snaphu.conncomp.5upo58i6.u4\n",
      "Integrating secondary flows\n",
      "Output written to file /u/aurora-r0/staniewi/dev/notebooks/new-orleans/dolphin/unwrapped/scratch/scratch-20220929_20221104.int/snaphu.unw.2ab4o6r7.f4\n",
      "Removing temporary directory /u/aurora-r0/staniewi/dev/notebooks/new-orleans/dolphin/unwrapped/scratch/scratch-20220929_20221104.int/snaphu_tiles_154139\n",
      "SUGGESTION: Try increasing tile overlap and/or size if solution has edge artifacts\n",
      "Program snaphu done\n",
      "Elapsed processor time:   0:04:29.24\n",
      "Elapsed wall clock time:  0:02:18\n",
      "\n",
      "snaphu v2.0.7\n",
      "15 parameters input from file /u/aurora-r0/staniewi/dev/notebooks/new-orleans/dolphin/unwrapped/scratch/scratch-20220929_20221104.int/snaphu-regrow-conncomps.config.kqr0wsje.txt (15 lines total)\n"
     ]
    },
    {
     "name": "stderr",
     "output_type": "stream",
     "text": [
      "[INFO|_unwrap|L513] 2025-08-19T15:04:23-0700: Setting nodata values of /u/aurora-r0/staniewi/dev/notebooks/new-orleans/dolphin/unwrapped/20220929_20221104.unw.tif file\n"
     ]
    },
    {
     "name": "stdout",
     "output_type": "stream",
     "text": [
      "Reading unwrapped phase from file /u/aurora-r0/staniewi/dev/notebooks/new-orleans/dolphin/unwrapped/scratch/scratch-20220929_20221104.int/snaphu.unw.2ab4o6r7.f4\n",
      "Reading interferogram magnitude from file /u/aurora-r0/staniewi/dev/notebooks/new-orleans/dolphin/unwrapped/scratch/scratch-20220929_20221104.int/snaphu.mag.7qmv4lnk.f4\n",
      "Reading byte mask from file /u/aurora-r0/staniewi/dev/notebooks/new-orleans/dolphin/unwrapped/scratch/scratch-20220929_20221104.int/snaphu.mask.s5tenfr1.u1\n",
      "No weight file specified.  Assuming uniform weights\n",
      "Reading correlation data from file /u/aurora-r0/staniewi/dev/notebooks/new-orleans/dolphin/unwrapped/scratch/scratch-20220929_20221104.int/snaphu.corr.a7nttyvg.f4\n",
      "Calculating smooth-solution cost parameters\n",
      "Growing connected component mask\n",
      "Writing connected components to file /u/aurora-r0/staniewi/dev/notebooks/new-orleans/dolphin/unwrapped/scratch/scratch-20220929_20221104.int/snaphu.conncomp.5upo58i6.u4 as 4-byte unsigned ints\n",
      "Program snaphu done\n",
      "Elapsed processor time:   0:00:01.64\n",
      "Elapsed wall clock time:  0:00:02\n"
     ]
    },
    {
     "name": "stderr",
     "output_type": "stream",
     "text": [
      "[INFO|_unwrap|L517] 2025-08-19T15:04:24-0700: Setting nodata values of /u/aurora-r0/staniewi/dev/notebooks/new-orleans/dolphin/unwrapped/20220929_20221104.unw.conncomp.tif file\n"
     ]
    },
    {
     "name": "stdout",
     "output_type": "stream",
     "text": [
      "\n",
      "snaphu v2.0.7\n",
      "23 parameters input from file /u/aurora-r0/staniewi/dev/notebooks/new-orleans/dolphin/unwrapped/scratch/scratch-20221011_20221116.int/snaphu.config.9rdh8yye.txt (23 lines total)\n",
      "Creating temporary directory /u/aurora-r0/staniewi/dev/notebooks/new-orleans/dolphin/unwrapped/scratch/scratch-20221011_20221116.int/snaphu_tiles_155307\n",
      "Unwrapping tile at row 0, column 0 (pid 155312)\n",
      "Unwrapping tile at row 0, column 1 (pid 155314)\n",
      "Unwrapping tile at row 1, column 0 (pid 155317)\n",
      "Unwrapping tile at row 1, column 1 (pid 155322)\n",
      "Assembling tiles\n",
      "Running optimizer for secondary network\n",
      "Number of nodes in secondary network: 2431\n",
      "Flow increment: 1  (Total improvements: 0)\n",
      "Flow increment: 2  (Total improvements: 6)\n",
      "Flow increment: 3  (Total improvements: 6)\n",
      "Flow increment: 4  (Total improvements: 6)\n",
      "Assembling tile connected components\n",
      "Assembled connected components (4) output written to file /u/aurora-r0/staniewi/dev/notebooks/new-orleans/dolphin/unwrapped/scratch/scratch-20221011_20221023.int/snaphu.conncomp.wrsymrbd.u4\n",
      "Integrating secondary flows\n",
      "Output written to file /u/aurora-r0/staniewi/dev/notebooks/new-orleans/dolphin/unwrapped/scratch/scratch-20221011_20221023.int/snaphu.unw.xgkrumjq.f4\n",
      "Removing temporary directory /u/aurora-r0/staniewi/dev/notebooks/new-orleans/dolphin/unwrapped/scratch/scratch-20221011_20221023.int/snaphu_tiles_155184\n",
      "SUGGESTION: Try increasing tile overlap and/or size if solution has edge artifacts\n",
      "Program snaphu done\n",
      "Elapsed processor time:   0:04:28.57\n",
      "Elapsed wall clock time:  0:02:34\n",
      "\n",
      "snaphu v2.0.7\n",
      "15 parameters input from file /u/aurora-r0/staniewi/dev/notebooks/new-orleans/dolphin/unwrapped/scratch/scratch-20221011_20221023.int/snaphu-regrow-conncomps.config.8mib_0kj.txt (15 lines total)\n",
      "Reading unwrapped phase from file /u/aurora-r0/staniewi/dev/notebooks/new-orleans/dolphin/unwrapped/scratch/scratch-20221011_20221023.int/snaphu.unw.xgkrumjq.f4\n",
      "Reading interferogram magnitude from file /u/aurora-r0/staniewi/dev/notebooks/new-orleans/dolphin/unwrapped/scratch/scratch-20221011_20221023.int/snaphu.mag.lnh70byv.f4\n",
      "Reading byte mask from file /u/aurora-r0/staniewi/dev/notebooks/new-orleans/dolphin/unwrapped/scratch/scratch-20221011_20221023.int/snaphu.mask.8pjclyam.u1\n",
      "No weight file specified.  Assuming uniform weights\n",
      "Reading correlation data from file /u/aurora-r0/staniewi/dev/notebooks/new-orleans/dolphin/unwrapped/scratch/scratch-20221011_20221023.int/snaphu.corr._sih2vyk.f4\n",
      "Calculating smooth-solution cost parameters\n",
      "Growing connected component mask\n",
      "Writing connected components to file /u/aurora-r0/staniewi/dev/notebooks/new-orleans/dolphin/unwrapped/scratch/scratch-20221011_20221023.int/snaphu.conncomp.wrsymrbd.u4 as 4-byte unsigned ints\n",
      "Program snaphu done\n",
      "Elapsed processor time:   0:00:01.63\n",
      "Elapsed wall clock time:  0:00:02\n"
     ]
    },
    {
     "name": "stderr",
     "output_type": "stream",
     "text": [
      "[INFO|_unwrap|L513] 2025-08-19T15:05:49-0700: Setting nodata values of /u/aurora-r0/staniewi/dev/notebooks/new-orleans/dolphin/unwrapped/20221011_20221023.unw.tif file\n",
      "[INFO|_unwrap|L517] 2025-08-19T15:05:49-0700: Setting nodata values of /u/aurora-r0/staniewi/dev/notebooks/new-orleans/dolphin/unwrapped/20221011_20221023.unw.conncomp.tif file\n"
     ]
    },
    {
     "name": "stdout",
     "output_type": "stream",
     "text": [
      "\n",
      "snaphu v2.0.7\n",
      "23 parameters input from file /u/aurora-r0/staniewi/dev/notebooks/new-orleans/dolphin/unwrapped/scratch/scratch-20221023_20221104.int/snaphu.config.gleew5a3.txt (23 lines total)\n",
      "Creating temporary directory /u/aurora-r0/staniewi/dev/notebooks/new-orleans/dolphin/unwrapped/scratch/scratch-20221023_20221104.int/snaphu_tiles_155513\n",
      "Unwrapping tile at row 0, column 0 (pid 155521)\n",
      "Unwrapping tile at row 0, column 1 (pid 155524)\n",
      "Unwrapping tile at row 1, column 0 (pid 155526)\n",
      "Unwrapping tile at row 1, column 1 (pid 155530)\n",
      "Assembling tiles\n",
      "Running optimizer for secondary network\n",
      "Number of nodes in secondary network: 2364\n",
      "Flow increment: 1  (Total improvements: 0)\n",
      "Flow increment: 2  (Total improvements: 4)\n",
      "Flow increment: 3  (Total improvements: 4)\n",
      "Flow increment: 4  (Total improvements: 4)\n",
      "Assembling tile connected components\n",
      "Assembled connected components (4) output written to file /u/aurora-r0/staniewi/dev/notebooks/new-orleans/dolphin/unwrapped/scratch/scratch-20221011_20221104.int/snaphu.conncomp.q4f6742u.u4\n",
      "Integrating secondary flows\n",
      "Output written to file /u/aurora-r0/staniewi/dev/notebooks/new-orleans/dolphin/unwrapped/scratch/scratch-20221011_20221104.int/snaphu.unw.r0rbdj83.f4\n",
      "Removing temporary directory /u/aurora-r0/staniewi/dev/notebooks/new-orleans/dolphin/unwrapped/scratch/scratch-20221011_20221104.int/snaphu_tiles_155228\n",
      "SUGGESTION: Try increasing tile overlap and/or size if solution has edge artifacts\n",
      "Program snaphu done\n",
      "Elapsed processor time:   0:04:26.98\n",
      "Elapsed wall clock time:  0:02:35\n",
      "\n",
      "snaphu v2.0.7\n",
      "15 parameters input from file /u/aurora-r0/staniewi/dev/notebooks/new-orleans/dolphin/unwrapped/scratch/scratch-20221011_20221104.int/snaphu-regrow-conncomps.config.wgxjrkk8.txt (15 lines total)\n",
      "Reading unwrapped phase from file /u/aurora-r0/staniewi/dev/notebooks/new-orleans/dolphin/unwrapped/scratch/scratch-20221011_20221104.int/snaphu.unw.r0rbdj83.f4\n",
      "Reading interferogram magnitude from file /u/aurora-r0/staniewi/dev/notebooks/new-orleans/dolphin/unwrapped/scratch/scratch-20221011_20221104.int/snaphu.mag.cel3hzj3.f4\n",
      "Reading byte mask from file /u/aurora-r0/staniewi/dev/notebooks/new-orleans/dolphin/unwrapped/scratch/scratch-20221011_20221104.int/snaphu.mask.o3htmbi8.u1\n",
      "No weight file specified.  Assuming uniform weights\n",
      "Reading correlation data from file /u/aurora-r0/staniewi/dev/notebooks/new-orleans/dolphin/unwrapped/scratch/scratch-20221011_20221104.int/snaphu.corr.eeo_3b2j.f4\n",
      "Calculating smooth-solution cost parameters\n",
      "Growing connected component mask\n",
      "Writing connected components to file /u/aurora-r0/staniewi/dev/notebooks/new-orleans/dolphin/unwrapped/scratch/scratch-20221011_20221104.int/snaphu.conncomp.q4f6742u.u4 as 4-byte unsigned ints\n",
      "Program snaphu done\n",
      "Elapsed processor time:   0:00:01.67\n",
      "Elapsed wall clock time:  0:00:02\n"
     ]
    },
    {
     "name": "stderr",
     "output_type": "stream",
     "text": [
      "[INFO|_unwrap|L513] 2025-08-19T15:06:13-0700: Setting nodata values of /u/aurora-r0/staniewi/dev/notebooks/new-orleans/dolphin/unwrapped/20221011_20221104.unw.tif file\n",
      "[INFO|_unwrap|L517] 2025-08-19T15:06:14-0700: Setting nodata values of /u/aurora-r0/staniewi/dev/notebooks/new-orleans/dolphin/unwrapped/20221011_20221104.unw.conncomp.tif file\n"
     ]
    },
    {
     "name": "stdout",
     "output_type": "stream",
     "text": [
      "\n",
      "snaphu v2.0.7\n",
      "23 parameters input from file /u/aurora-r0/staniewi/dev/notebooks/new-orleans/dolphin/unwrapped/scratch/scratch-20221023_20221116.int/snaphu.config.du7c1k3i.txt (23 lines total)\n",
      "Assembling tiles\n",
      "Running optimizer for secondary network\n",
      "Number of nodes in secondary network: 2653\n",
      "Flow increment: 1  (Total improvements: 0)\n",
      "Flow increment: 2  (Total improvements: 0)\n",
      "Flow increment: 3  (Total improvements: 0)\n",
      "Assembling tile connected components\n",
      "Assembled connected components (4) output written to file /u/aurora-r0/staniewi/dev/notebooks/new-orleans/dolphin/unwrapped/scratch/scratch-20221011_20221116.int/snaphu.conncomp.6q612tqv.u4\n",
      "Integrating secondary flows\n",
      "Output written to file /u/aurora-r0/staniewi/dev/notebooks/new-orleans/dolphin/unwrapped/scratch/scratch-20221011_20221116.int/snaphu.unw.f2ocw9v_.f4\n",
      "Removing temporary directory /u/aurora-r0/staniewi/dev/notebooks/new-orleans/dolphin/unwrapped/scratch/scratch-20221011_20221116.int/snaphu_tiles_155307\n",
      "SUGGESTION: Try increasing tile overlap and/or size if solution has edge artifacts\n",
      "Program snaphu done\n",
      "Elapsed processor time:   0:03:46.88\n",
      "Elapsed wall clock time:  0:01:52\n",
      "\n",
      "snaphu v2.0.7\n",
      "15 parameters input from file /u/aurora-r0/staniewi/dev/notebooks/new-orleans/dolphin/unwrapped/scratch/scratch-20221011_20221116.int/snaphu-regrow-conncomps.config.jb6krik9.txt (15 lines total)\n",
      "Creating temporary directory /u/aurora-r0/staniewi/dev/notebooks/new-orleans/dolphin/unwrapped/scratch/scratch-20221023_20221116.int/snaphu_tiles_155552\n",
      "Unwrapping tile at row 0, column 0 (pid 155559)\n",
      "Reading unwrapped phase from file /u/aurora-r0/staniewi/dev/notebooks/new-orleans/dolphin/unwrapped/scratch/scratch-20221011_20221116.int/snaphu.unw.f2ocw9v_.f4\n",
      "Reading interferogram magnitude from file /u/aurora-r0/staniewi/dev/notebooks/new-orleans/dolphin/unwrapped/scratch/scratch-20221011_20221116.int/snaphu.mag.z4ikt31z.f4\n",
      "Reading byte mask from file /u/aurora-r0/staniewi/dev/notebooks/new-orleans/dolphin/unwrapped/scratch/scratch-20221011_20221116.int/snaphu.mask.5_d5apd1.u1\n",
      "No weight file specified.  Assuming uniform weights\n",
      "Reading correlation data from file /u/aurora-r0/staniewi/dev/notebooks/new-orleans/dolphin/unwrapped/scratch/scratch-20221011_20221116.int/snaphu.corr.7p378ukb.f4\n",
      "Calculating smooth-solution cost parameters\n",
      "Growing connected component mask\n",
      "Writing connected components to file /u/aurora-r0/staniewi/dev/notebooks/new-orleans/dolphin/unwrapped/scratch/scratch-20221011_20221116.int/snaphu.conncomp.6q612tqv.u4 as 4-byte unsigned ints\n",
      "Program snaphu done\n",
      "Elapsed processor time:   0:00:01.61\n",
      "Elapsed wall clock time:  0:00:02\n"
     ]
    },
    {
     "name": "stderr",
     "output_type": "stream",
     "text": [
      "[INFO|_unwrap|L513] 2025-08-19T15:06:18-0700: Setting nodata values of /u/aurora-r0/staniewi/dev/notebooks/new-orleans/dolphin/unwrapped/20221011_20221116.unw.tif file\n",
      "[INFO|_unwrap|L517] 2025-08-19T15:06:18-0700: Setting nodata values of /u/aurora-r0/staniewi/dev/notebooks/new-orleans/dolphin/unwrapped/20221011_20221116.unw.conncomp.tif file\n"
     ]
    },
    {
     "name": "stdout",
     "output_type": "stream",
     "text": [
      "Unwrapping tile at row 0, column 1 (pid 155562)\n",
      "\n",
      "snaphu v2.0.7\n",
      "23 parameters input from file /u/aurora-r0/staniewi/dev/notebooks/new-orleans/dolphin/unwrapped/scratch/scratch-20221023_20221128.int/snaphu.config.5gk0vqqp.txt (23 lines total)\n",
      "Unwrapping tile at row 1, column 0 (pid 155567)\n",
      "Creating temporary directory /u/aurora-r0/staniewi/dev/notebooks/new-orleans/dolphin/unwrapped/scratch/scratch-20221023_20221128.int/snaphu_tiles_155564\n",
      "Unwrapping tile at row 0, column 0 (pid 155568)\n",
      "Unwrapping tile at row 1, column 1 (pid 155570)\n",
      "Unwrapping tile at row 0, column 1 (pid 155572)\n",
      "Unwrapping tile at row 1, column 0 (pid 155576)\n",
      "Unwrapping tile at row 1, column 1 (pid 155579)\n",
      "Assembling tiles\n",
      "Running optimizer for secondary network\n",
      "Number of nodes in secondary network: 2214\n",
      "Flow increment: 1  (Total improvements: 0)\n",
      "Flow increment: 2  (Total improvements: 0)\n",
      "Flow increment: 3  (Total improvements: 0)\n",
      "Assembling tile connected components\n",
      "Assembled connected components (3) output written to file /u/aurora-r0/staniewi/dev/notebooks/new-orleans/dolphin/unwrapped/scratch/scratch-20221023_20221104.int/snaphu.conncomp._seonjdn.u4\n",
      "Integrating secondary flows\n",
      "Output written to file /u/aurora-r0/staniewi/dev/notebooks/new-orleans/dolphin/unwrapped/scratch/scratch-20221023_20221104.int/snaphu.unw.x2bdiwia.f4\n",
      "Removing temporary directory /u/aurora-r0/staniewi/dev/notebooks/new-orleans/dolphin/unwrapped/scratch/scratch-20221023_20221104.int/snaphu_tiles_155513\n",
      "SUGGESTION: Try increasing tile overlap and/or size if solution has edge artifacts\n",
      "Program snaphu done\n",
      "Elapsed processor time:   0:04:01.50\n",
      "Elapsed wall clock time:  0:02:01\n",
      "\n",
      "snaphu v2.0.7\n",
      "15 parameters input from file /u/aurora-r0/staniewi/dev/notebooks/new-orleans/dolphin/unwrapped/scratch/scratch-20221023_20221104.int/snaphu-regrow-conncomps.config.5h746oe4.txt (15 lines total)\n"
     ]
    },
    {
     "name": "stderr",
     "output_type": "stream",
     "text": [
      "[INFO|_unwrap|L513] 2025-08-19T15:07:54-0700: Setting nodata values of /u/aurora-r0/staniewi/dev/notebooks/new-orleans/dolphin/unwrapped/20221023_20221104.unw.tif file\n"
     ]
    },
    {
     "name": "stdout",
     "output_type": "stream",
     "text": [
      "Reading unwrapped phase from file /u/aurora-r0/staniewi/dev/notebooks/new-orleans/dolphin/unwrapped/scratch/scratch-20221023_20221104.int/snaphu.unw.x2bdiwia.f4\n",
      "Reading interferogram magnitude from file /u/aurora-r0/staniewi/dev/notebooks/new-orleans/dolphin/unwrapped/scratch/scratch-20221023_20221104.int/snaphu.mag.1vdd7eby.f4\n",
      "Reading byte mask from file /u/aurora-r0/staniewi/dev/notebooks/new-orleans/dolphin/unwrapped/scratch/scratch-20221023_20221104.int/snaphu.mask.htm8nrih.u1\n",
      "No weight file specified.  Assuming uniform weights\n",
      "Reading correlation data from file /u/aurora-r0/staniewi/dev/notebooks/new-orleans/dolphin/unwrapped/scratch/scratch-20221023_20221104.int/snaphu.corr.w3pr7drm.f4\n",
      "Calculating smooth-solution cost parameters\n",
      "Growing connected component mask\n",
      "Writing connected components to file /u/aurora-r0/staniewi/dev/notebooks/new-orleans/dolphin/unwrapped/scratch/scratch-20221023_20221104.int/snaphu.conncomp._seonjdn.u4 as 4-byte unsigned ints\n",
      "Program snaphu done\n",
      "Elapsed processor time:   0:00:01.64\n",
      "Elapsed wall clock time:  0:00:02\n"
     ]
    },
    {
     "name": "stderr",
     "output_type": "stream",
     "text": [
      "[INFO|_unwrap|L517] 2025-08-19T15:07:54-0700: Setting nodata values of /u/aurora-r0/staniewi/dev/notebooks/new-orleans/dolphin/unwrapped/20221023_20221104.unw.conncomp.tif file\n"
     ]
    },
    {
     "name": "stdout",
     "output_type": "stream",
     "text": [
      "\n",
      "snaphu v2.0.7\n",
      "23 parameters input from file /u/aurora-r0/staniewi/dev/notebooks/new-orleans/dolphin/unwrapped/scratch/scratch-20221104_20221116.int/snaphu.config.oq77gwc1.txt (23 lines total)\n",
      "Creating temporary directory /u/aurora-r0/staniewi/dev/notebooks/new-orleans/dolphin/unwrapped/scratch/scratch-20221104_20221116.int/snaphu_tiles_155746\n",
      "Unwrapping tile at row 0, column 0 (pid 155753)\n",
      "Unwrapping tile at row 0, column 1 (pid 155756)\n",
      "Unwrapping tile at row 1, column 0 (pid 155759)\n",
      "Unwrapping tile at row 1, column 1 (pid 155764)\n",
      "Assembling tiles\n",
      "Running optimizer for secondary network\n",
      "Number of nodes in secondary network: 2187\n",
      "Flow increment: 1  (Total improvements: 0)\n",
      "Flow increment: 2  (Total improvements: 0)\n",
      "Flow increment: 3  (Total improvements: 0)\n",
      "Assembling tile connected components\n",
      "Assembled connected components (3) output written to file /u/aurora-r0/staniewi/dev/notebooks/new-orleans/dolphin/unwrapped/scratch/scratch-20221023_20221116.int/snaphu.conncomp.emw47vv3.u4\n",
      "Integrating secondary flows\n",
      "Output written to file /u/aurora-r0/staniewi/dev/notebooks/new-orleans/dolphin/unwrapped/scratch/scratch-20221023_20221116.int/snaphu.unw.4ypt2l98.f4\n",
      "Removing temporary directory /u/aurora-r0/staniewi/dev/notebooks/new-orleans/dolphin/unwrapped/scratch/scratch-20221023_20221116.int/snaphu_tiles_155552\n",
      "SUGGESTION: Try increasing tile overlap and/or size if solution has edge artifacts\n",
      "Program snaphu done\n",
      "Elapsed processor time:   0:03:36.37\n",
      "Elapsed wall clock time:  0:01:51\n",
      "\n",
      "snaphu v2.0.7\n",
      "15 parameters input from file /u/aurora-r0/staniewi/dev/notebooks/new-orleans/dolphin/unwrapped/scratch/scratch-20221023_20221116.int/snaphu-regrow-conncomps.config.dltiqz87.txt (15 lines total)\n",
      "Reading unwrapped phase from file /u/aurora-r0/staniewi/dev/notebooks/new-orleans/dolphin/unwrapped/scratch/scratch-20221023_20221116.int/snaphu.unw.4ypt2l98.f4\n",
      "Reading interferogram magnitude from file /u/aurora-r0/staniewi/dev/notebooks/new-orleans/dolphin/unwrapped/scratch/scratch-20221023_20221116.int/snaphu.mag.mk7c46_2.f4\n",
      "Reading byte mask from file /u/aurora-r0/staniewi/dev/notebooks/new-orleans/dolphin/unwrapped/scratch/scratch-20221023_20221116.int/snaphu.mask.h3f7l_t_.u1\n",
      "No weight file specified.  Assuming uniform weights\n",
      "Reading correlation data from file /u/aurora-r0/staniewi/dev/notebooks/new-orleans/dolphin/unwrapped/scratch/scratch-20221023_20221116.int/snaphu.corr.gipi0byu.f4\n",
      "Calculating smooth-solution cost parameters\n",
      "Growing connected component mask\n",
      "Writing connected components to file /u/aurora-r0/staniewi/dev/notebooks/new-orleans/dolphin/unwrapped/scratch/scratch-20221023_20221116.int/snaphu.conncomp.emw47vv3.u4 as 4-byte unsigned ints\n",
      "Program snaphu done\n",
      "Elapsed processor time:   0:00:01.77\n",
      "Elapsed wall clock time:  0:00:02\n"
     ]
    },
    {
     "name": "stderr",
     "output_type": "stream",
     "text": [
      "[INFO|_unwrap|L513] 2025-08-19T15:08:09-0700: Setting nodata values of /u/aurora-r0/staniewi/dev/notebooks/new-orleans/dolphin/unwrapped/20221023_20221116.unw.tif file\n",
      "[INFO|_unwrap|L517] 2025-08-19T15:08:09-0700: Setting nodata values of /u/aurora-r0/staniewi/dev/notebooks/new-orleans/dolphin/unwrapped/20221023_20221116.unw.conncomp.tif file\n"
     ]
    },
    {
     "name": "stdout",
     "output_type": "stream",
     "text": [
      "\n",
      "snaphu v2.0.7\n",
      "23 parameters input from file /u/aurora-r0/staniewi/dev/notebooks/new-orleans/dolphin/unwrapped/scratch/scratch-20221104_20221128.int/snaphu.config.54gisea9.txt (23 lines total)\n",
      "Creating temporary directory /u/aurora-r0/staniewi/dev/notebooks/new-orleans/dolphin/unwrapped/scratch/scratch-20221104_20221128.int/snaphu_tiles_155773\n",
      "Unwrapping tile at row 0, column 0 (pid 155777)\n",
      "Unwrapping tile at row 0, column 1 (pid 155781)\n",
      "Unwrapping tile at row 1, column 0 (pid 155784)\n",
      "Unwrapping tile at row 1, column 1 (pid 155789)\n",
      "Assembling tiles\n",
      "Running optimizer for secondary network\n",
      "Number of nodes in secondary network: 2413\n",
      "Flow increment: 1  (Total improvements: 0)\n",
      "Flow increment: 2  (Total improvements: 4)\n",
      "Flow increment: 3  (Total improvements: 4)\n",
      "Flow increment: 4  (Total improvements: 4)\n",
      "Assembling tile connected components\n",
      "Assembled connected components (3) output written to file /u/aurora-r0/staniewi/dev/notebooks/new-orleans/dolphin/unwrapped/scratch/scratch-20221023_20221128.int/snaphu.conncomp._ar1yzlf.u4\n",
      "Integrating secondary flows\n",
      "Output written to file /u/aurora-r0/staniewi/dev/notebooks/new-orleans/dolphin/unwrapped/scratch/scratch-20221023_20221128.int/snaphu.unw.r3yalog7.f4\n",
      "Removing temporary directory /u/aurora-r0/staniewi/dev/notebooks/new-orleans/dolphin/unwrapped/scratch/scratch-20221023_20221128.int/snaphu_tiles_155564\n",
      "SUGGESTION: Try increasing tile overlap and/or size if solution has edge artifacts\n",
      "Program snaphu done\n",
      "Elapsed processor time:   0:04:11.95\n",
      "Elapsed wall clock time:  0:02:11\n",
      "\n",
      "snaphu v2.0.7\n",
      "15 parameters input from file /u/aurora-r0/staniewi/dev/notebooks/new-orleans/dolphin/unwrapped/scratch/scratch-20221023_20221128.int/snaphu-regrow-conncomps.config.xzksqkif.txt (15 lines total)\n",
      "Reading unwrapped phase from file /u/aurora-r0/staniewi/dev/notebooks/new-orleans/dolphin/unwrapped/scratch/scratch-20221023_20221128.int/snaphu.unw.r3yalog7.f4\n",
      "Reading interferogram magnitude from file /u/aurora-r0/staniewi/dev/notebooks/new-orleans/dolphin/unwrapped/scratch/scratch-20221023_20221128.int/snaphu.mag.7bwpvovt.f4\n",
      "Reading byte mask from file /u/aurora-r0/staniewi/dev/notebooks/new-orleans/dolphin/unwrapped/scratch/scratch-20221023_20221128.int/snaphu.mask.cqpkmyzo.u1\n",
      "No weight file specified.  Assuming uniform weights\n",
      "Reading correlation data from file /u/aurora-r0/staniewi/dev/notebooks/new-orleans/dolphin/unwrapped/scratch/scratch-20221023_20221128.int/snaphu.corr.b9xkqqnm.f4\n",
      "Calculating smooth-solution cost parameters\n",
      "Growing connected component mask\n",
      "Writing connected components to file /u/aurora-r0/staniewi/dev/notebooks/new-orleans/dolphin/unwrapped/scratch/scratch-20221023_20221128.int/snaphu.conncomp._ar1yzlf.u4 as 4-byte unsigned ints\n",
      "Program snaphu done\n",
      "Elapsed processor time:   0:00:01.67\n",
      "Elapsed wall clock time:  0:00:03\n"
     ]
    },
    {
     "name": "stderr",
     "output_type": "stream",
     "text": [
      "[INFO|_unwrap|L513] 2025-08-19T15:08:33-0700: Setting nodata values of /u/aurora-r0/staniewi/dev/notebooks/new-orleans/dolphin/unwrapped/20221023_20221128.unw.tif file\n",
      "[INFO|_unwrap|L517] 2025-08-19T15:08:33-0700: Setting nodata values of /u/aurora-r0/staniewi/dev/notebooks/new-orleans/dolphin/unwrapped/20221023_20221128.unw.conncomp.tif file\n"
     ]
    },
    {
     "name": "stdout",
     "output_type": "stream",
     "text": [
      "\n",
      "snaphu v2.0.7\n",
      "23 parameters input from file /u/aurora-r0/staniewi/dev/notebooks/new-orleans/dolphin/unwrapped/scratch/scratch-20221104_20221210.int/snaphu.config.7ji4v13m.txt (23 lines total)\n",
      "Creating temporary directory /u/aurora-r0/staniewi/dev/notebooks/new-orleans/dolphin/unwrapped/scratch/scratch-20221104_20221210.int/snaphu_tiles_155830\n",
      "Unwrapping tile at row 0, column 0 (pid 155834)\n",
      "Unwrapping tile at row 0, column 1 (pid 155849)\n",
      "Unwrapping tile at row 1, column 0 (pid 155852)\n",
      "Unwrapping tile at row 1, column 1 (pid 155855)\n",
      "Assembling tiles\n",
      "Running optimizer for secondary network\n",
      "Number of nodes in secondary network: 2335\n",
      "Flow increment: 1  (Total improvements: 0)\n",
      "Flow increment: 2  (Total improvements: 0)\n",
      "Flow increment: 3  (Total improvements: 0)\n",
      "Assembling tile connected components\n",
      "Assembled connected components (3) output written to file /u/aurora-r0/staniewi/dev/notebooks/new-orleans/dolphin/unwrapped/scratch/scratch-20221104_20221116.int/snaphu.conncomp.20606o1z.u4\n",
      "Integrating secondary flows\n",
      "Output written to file /u/aurora-r0/staniewi/dev/notebooks/new-orleans/dolphin/unwrapped/scratch/scratch-20221104_20221116.int/snaphu.unw.8byat7hl.f4\n",
      "Removing temporary directory /u/aurora-r0/staniewi/dev/notebooks/new-orleans/dolphin/unwrapped/scratch/scratch-20221104_20221116.int/snaphu_tiles_155746\n",
      "SUGGESTION: Try increasing tile overlap and/or size if solution has edge artifacts\n",
      "Program snaphu done\n",
      "Elapsed processor time:   0:03:50.72\n",
      "Elapsed wall clock time:  0:01:56\n",
      "\n",
      "snaphu v2.0.7\n",
      "15 parameters input from file /u/aurora-r0/staniewi/dev/notebooks/new-orleans/dolphin/unwrapped/scratch/scratch-20221104_20221116.int/snaphu-regrow-conncomps.config.56t76oz9.txt (15 lines total)\n",
      "Reading unwrapped phase from file /u/aurora-r0/staniewi/dev/notebooks/new-orleans/dolphin/unwrapped/scratch/scratch-20221104_20221116.int/snaphu.unw.8byat7hl.f4\n",
      "Reading interferogram magnitude from file /u/aurora-r0/staniewi/dev/notebooks/new-orleans/dolphin/unwrapped/scratch/scratch-20221104_20221116.int/snaphu.mag.meddkvas.f4\n",
      "Reading byte mask from file /u/aurora-r0/staniewi/dev/notebooks/new-orleans/dolphin/unwrapped/scratch/scratch-20221104_20221116.int/snaphu.mask.vmr8hnui.u1\n",
      "No weight file specified.  Assuming uniform weights\n",
      "Reading correlation data from file /u/aurora-r0/staniewi/dev/notebooks/new-orleans/dolphin/unwrapped/scratch/scratch-20221104_20221116.int/snaphu.corr.e29rgtog.f4\n",
      "Calculating smooth-solution cost parameters\n",
      "Growing connected component mask\n",
      "Writing connected components to file /u/aurora-r0/staniewi/dev/notebooks/new-orleans/dolphin/unwrapped/scratch/scratch-20221104_20221116.int/snaphu.conncomp.20606o1z.u4 as 4-byte unsigned ints\n",
      "Program snaphu done\n",
      "Elapsed processor time:   0:00:01.66\n",
      "Elapsed wall clock time:  0:00:02\n"
     ]
    },
    {
     "name": "stderr",
     "output_type": "stream",
     "text": [
      "[INFO|_unwrap|L513] 2025-08-19T15:09:53-0700: Setting nodata values of /u/aurora-r0/staniewi/dev/notebooks/new-orleans/dolphin/unwrapped/20221104_20221116.unw.tif file\n",
      "[INFO|_unwrap|L517] 2025-08-19T15:09:54-0700: Setting nodata values of /u/aurora-r0/staniewi/dev/notebooks/new-orleans/dolphin/unwrapped/20221104_20221116.unw.conncomp.tif file\n"
     ]
    },
    {
     "name": "stdout",
     "output_type": "stream",
     "text": [
      "\n",
      "snaphu v2.0.7\n",
      "23 parameters input from file /u/aurora-r0/staniewi/dev/notebooks/new-orleans/dolphin/unwrapped/scratch/scratch-20221116_20221128.int/snaphu.config.eir21ko3.txt (23 lines total)\n",
      "Creating temporary directory /u/aurora-r0/staniewi/dev/notebooks/new-orleans/dolphin/unwrapped/scratch/scratch-20221116_20221128.int/snaphu_tiles_155996\n",
      "Unwrapping tile at row 0, column 0 (pid 156002)\n",
      "Unwrapping tile at row 0, column 1 (pid 156008)\n",
      "Unwrapping tile at row 1, column 0 (pid 156013)\n",
      "Unwrapping tile at row 1, column 1 (pid 156034)\n",
      "Assembling tiles\n",
      "Running optimizer for secondary network\n",
      "Number of nodes in secondary network: 2212\n",
      "Flow increment: 1  (Total improvements: 0)\n",
      "Flow increment: 2  (Total improvements: 0)\n",
      "Flow increment: 3  (Total improvements: 0)\n",
      "Assembling tile connected components\n",
      "Assembled connected components (3) output written to file /u/aurora-r0/staniewi/dev/notebooks/new-orleans/dolphin/unwrapped/scratch/scratch-20221104_20221128.int/snaphu.conncomp.oegfg31r.u4\n",
      "Integrating secondary flows\n",
      "Output written to file /u/aurora-r0/staniewi/dev/notebooks/new-orleans/dolphin/unwrapped/scratch/scratch-20221104_20221128.int/snaphu.unw.46lg418_.f4\n",
      "Removing temporary directory /u/aurora-r0/staniewi/dev/notebooks/new-orleans/dolphin/unwrapped/scratch/scratch-20221104_20221128.int/snaphu_tiles_155773\n",
      "SUGGESTION: Try increasing tile overlap and/or size if solution has edge artifacts\n",
      "Program snaphu done\n",
      "Elapsed processor time:   0:04:08.65\n",
      "Elapsed wall clock time:  0:02:08\n",
      "\n",
      "snaphu v2.0.7\n",
      "15 parameters input from file /u/aurora-r0/staniewi/dev/notebooks/new-orleans/dolphin/unwrapped/scratch/scratch-20221104_20221128.int/snaphu-regrow-conncomps.config.oi0tiwrd.txt (15 lines total)\n",
      "Reading unwrapped phase from file /u/aurora-r0/staniewi/dev/notebooks/new-orleans/dolphin/unwrapped/scratch/scratch-20221104_20221128.int/snaphu.unw.46lg418_.f4\n",
      "Reading interferogram magnitude from file /u/aurora-r0/staniewi/dev/notebooks/new-orleans/dolphin/unwrapped/scratch/scratch-20221104_20221128.int/snaphu.mag.naisjm0w.f4\n",
      "Reading byte mask from file /u/aurora-r0/staniewi/dev/notebooks/new-orleans/dolphin/unwrapped/scratch/scratch-20221104_20221128.int/snaphu.mask.kcm3ceus.u1\n",
      "No weight file specified.  Assuming uniform weights\n",
      "Reading correlation data from file /u/aurora-r0/staniewi/dev/notebooks/new-orleans/dolphin/unwrapped/scratch/scratch-20221104_20221128.int/snaphu.corr.t5pa798p.f4\n",
      "Calculating smooth-solution cost parameters\n",
      "Growing connected component mask\n",
      "Writing connected components to file /u/aurora-r0/staniewi/dev/notebooks/new-orleans/dolphin/unwrapped/scratch/scratch-20221104_20221128.int/snaphu.conncomp.oegfg31r.u4 as 4-byte unsigned ints\n",
      "Program snaphu done\n",
      "Elapsed processor time:   0:00:01.69\n",
      "Elapsed wall clock time:  0:00:02\n"
     ]
    },
    {
     "name": "stderr",
     "output_type": "stream",
     "text": [
      "[INFO|_unwrap|L513] 2025-08-19T15:10:20-0700: Setting nodata values of /u/aurora-r0/staniewi/dev/notebooks/new-orleans/dolphin/unwrapped/20221104_20221128.unw.tif file\n",
      "[INFO|_unwrap|L517] 2025-08-19T15:10:20-0700: Setting nodata values of /u/aurora-r0/staniewi/dev/notebooks/new-orleans/dolphin/unwrapped/20221104_20221128.unw.conncomp.tif file\n"
     ]
    },
    {
     "name": "stdout",
     "output_type": "stream",
     "text": [
      "\n",
      "snaphu v2.0.7\n",
      "23 parameters input from file /u/aurora-r0/staniewi/dev/notebooks/new-orleans/dolphin/unwrapped/scratch/scratch-20221116_20221210.int/snaphu.config.6g150k4c.txt (23 lines total)\n",
      "Creating temporary directory /u/aurora-r0/staniewi/dev/notebooks/new-orleans/dolphin/unwrapped/scratch/scratch-20221116_20221210.int/snaphu_tiles_156083\n",
      "Unwrapping tile at row 0, column 0 (pid 156087)\n",
      "Unwrapping tile at row 0, column 1 (pid 156093)\n",
      "Unwrapping tile at row 1, column 0 (pid 156096)\n",
      "Unwrapping tile at row 1, column 1 (pid 156099)\n",
      "Assembling tiles\n",
      "Running optimizer for secondary network\n",
      "Number of nodes in secondary network: 2262\n",
      "Flow increment: 1  (Total improvements: 0)\n",
      "Flow increment: 2  (Total improvements: 0)\n",
      "Flow increment: 3  (Total improvements: 0)\n",
      "Assembling tile connected components\n",
      "Assembled connected components (4) output written to file /u/aurora-r0/staniewi/dev/notebooks/new-orleans/dolphin/unwrapped/scratch/scratch-20221104_20221210.int/snaphu.conncomp.qcmaj5zx.u4\n",
      "Integrating secondary flows\n",
      "Output written to file /u/aurora-r0/staniewi/dev/notebooks/new-orleans/dolphin/unwrapped/scratch/scratch-20221104_20221210.int/snaphu.unw.4uypml4h.f4\n",
      "Removing temporary directory /u/aurora-r0/staniewi/dev/notebooks/new-orleans/dolphin/unwrapped/scratch/scratch-20221104_20221210.int/snaphu_tiles_155830\n",
      "SUGGESTION: Try increasing tile overlap and/or size if solution has edge artifacts\n",
      "Program snaphu done\n",
      "Elapsed processor time:   0:04:07.48\n",
      "Elapsed wall clock time:  0:02:18\n",
      "\n",
      "snaphu v2.0.7\n",
      "15 parameters input from file /u/aurora-r0/staniewi/dev/notebooks/new-orleans/dolphin/unwrapped/scratch/scratch-20221104_20221210.int/snaphu-regrow-conncomps.config.mmta8s13.txt (15 lines total)\n",
      "Reading unwrapped phase from file /u/aurora-r0/staniewi/dev/notebooks/new-orleans/dolphin/unwrapped/scratch/scratch-20221104_20221210.int/snaphu.unw.4uypml4h.f4\n",
      "Reading interferogram magnitude from file /u/aurora-r0/staniewi/dev/notebooks/new-orleans/dolphin/unwrapped/scratch/scratch-20221104_20221210.int/snaphu.mag.ov1dk3qc.f4\n",
      "Reading byte mask from file /u/aurora-r0/staniewi/dev/notebooks/new-orleans/dolphin/unwrapped/scratch/scratch-20221104_20221210.int/snaphu.mask.zc7rb5al.u1\n",
      "No weight file specified.  Assuming uniform weights\n",
      "Reading correlation data from file /u/aurora-r0/staniewi/dev/notebooks/new-orleans/dolphin/unwrapped/scratch/scratch-20221104_20221210.int/snaphu.corr.dn4tx460.f4\n",
      "Calculating smooth-solution cost parameters\n",
      "Growing connected component mask\n",
      "Writing connected components to file /u/aurora-r0/staniewi/dev/notebooks/new-orleans/dolphin/unwrapped/scratch/scratch-20221104_20221210.int/snaphu.conncomp.qcmaj5zx.u4 as 4-byte unsigned ints\n",
      "Program snaphu done\n",
      "Elapsed processor time:   0:00:01.74\n",
      "Elapsed wall clock time:  0:00:02\n"
     ]
    },
    {
     "name": "stderr",
     "output_type": "stream",
     "text": [
      "[INFO|_unwrap|L513] 2025-08-19T15:10:54-0700: Setting nodata values of /u/aurora-r0/staniewi/dev/notebooks/new-orleans/dolphin/unwrapped/20221104_20221210.unw.tif file\n",
      "[INFO|_unwrap|L517] 2025-08-19T15:10:54-0700: Setting nodata values of /u/aurora-r0/staniewi/dev/notebooks/new-orleans/dolphin/unwrapped/20221104_20221210.unw.conncomp.tif file\n"
     ]
    },
    {
     "name": "stdout",
     "output_type": "stream",
     "text": [
      "\n",
      "snaphu v2.0.7\n",
      "23 parameters input from file /u/aurora-r0/staniewi/dev/notebooks/new-orleans/dolphin/unwrapped/scratch/scratch-20221116_20221222.int/snaphu.config.mdzpb6c_.txt (23 lines total)\n",
      "Creating temporary directory /u/aurora-r0/staniewi/dev/notebooks/new-orleans/dolphin/unwrapped/scratch/scratch-20221116_20221222.int/snaphu_tiles_156183\n",
      "Unwrapping tile at row 0, column 0 (pid 156194)\n",
      "Unwrapping tile at row 0, column 1 (pid 156196)\n",
      "Unwrapping tile at row 1, column 0 (pid 156202)\n",
      "Unwrapping tile at row 1, column 1 (pid 156205)\n",
      "Assembling tiles\n",
      "Running optimizer for secondary network\n",
      "Number of nodes in secondary network: 2343\n",
      "Flow increment: 1  (Total improvements: 0)\n",
      "Flow increment: 2  (Total improvements: 0)\n",
      "Flow increment: 3  (Total improvements: 0)\n",
      "Assembling tile connected components\n",
      "Assembled connected components (3) output written to file /u/aurora-r0/staniewi/dev/notebooks/new-orleans/dolphin/unwrapped/scratch/scratch-20221116_20221128.int/snaphu.conncomp.2q9alv2n.u4\n",
      "Integrating secondary flows\n",
      "Output written to file /u/aurora-r0/staniewi/dev/notebooks/new-orleans/dolphin/unwrapped/scratch/scratch-20221116_20221128.int/snaphu.unw.njqtkluc.f4\n",
      "Removing temporary directory /u/aurora-r0/staniewi/dev/notebooks/new-orleans/dolphin/unwrapped/scratch/scratch-20221116_20221128.int/snaphu_tiles_155996\n",
      "SUGGESTION: Try increasing tile overlap and/or size if solution has edge artifacts\n",
      "Program snaphu done\n",
      "Elapsed processor time:   0:03:48.41\n",
      "Elapsed wall clock time:  0:01:58\n",
      "\n",
      "snaphu v2.0.7\n",
      "15 parameters input from file /u/aurora-r0/staniewi/dev/notebooks/new-orleans/dolphin/unwrapped/scratch/scratch-20221116_20221128.int/snaphu-regrow-conncomps.config.osph3ae4.txt (15 lines total)\n",
      "Reading unwrapped phase from file /u/aurora-r0/staniewi/dev/notebooks/new-orleans/dolphin/unwrapped/scratch/scratch-20221116_20221128.int/snaphu.unw.njqtkluc.f4\n",
      "Reading interferogram magnitude from file /u/aurora-r0/staniewi/dev/notebooks/new-orleans/dolphin/unwrapped/scratch/scratch-20221116_20221128.int/snaphu.mag.dqlf6nye.f4\n",
      "Reading byte mask from file /u/aurora-r0/staniewi/dev/notebooks/new-orleans/dolphin/unwrapped/scratch/scratch-20221116_20221128.int/snaphu.mask.f79kfdhe.u1\n",
      "No weight file specified.  Assuming uniform weights\n",
      "Reading correlation data from file /u/aurora-r0/staniewi/dev/notebooks/new-orleans/dolphin/unwrapped/scratch/scratch-20221116_20221128.int/snaphu.corr.nront9e7.f4\n",
      "Calculating smooth-solution cost parameters\n",
      "Growing connected component mask\n",
      "Writing connected components to file /u/aurora-r0/staniewi/dev/notebooks/new-orleans/dolphin/unwrapped/scratch/scratch-20221116_20221128.int/snaphu.conncomp.2q9alv2n.u4 as 4-byte unsigned ints\n",
      "Program snaphu done\n",
      "Elapsed processor time:   0:00:01.72\n",
      "Elapsed wall clock time:  0:00:03\n"
     ]
    },
    {
     "name": "stderr",
     "output_type": "stream",
     "text": [
      "[INFO|_unwrap|L513] 2025-08-19T15:11:56-0700: Setting nodata values of /u/aurora-r0/staniewi/dev/notebooks/new-orleans/dolphin/unwrapped/20221116_20221128.unw.tif file\n",
      "[INFO|_unwrap|L517] 2025-08-19T15:11:56-0700: Setting nodata values of /u/aurora-r0/staniewi/dev/notebooks/new-orleans/dolphin/unwrapped/20221116_20221128.unw.conncomp.tif file\n"
     ]
    },
    {
     "name": "stdout",
     "output_type": "stream",
     "text": [
      "\n",
      "snaphu v2.0.7\n",
      "23 parameters input from file /u/aurora-r0/staniewi/dev/notebooks/new-orleans/dolphin/unwrapped/scratch/scratch-20221128_20221210.int/snaphu.config.o4lhih1k.txt (23 lines total)\n",
      "Creating temporary directory /u/aurora-r0/staniewi/dev/notebooks/new-orleans/dolphin/unwrapped/scratch/scratch-20221128_20221210.int/snaphu_tiles_156358\n",
      "Unwrapping tile at row 0, column 0 (pid 156366)\n",
      "Unwrapping tile at row 0, column 1 (pid 156369)\n",
      "Unwrapping tile at row 1, column 0 (pid 156374)\n",
      "Unwrapping tile at row 1, column 1 (pid 156378)\n",
      "Assembling tiles\n",
      "Running optimizer for secondary network\n",
      "Number of nodes in secondary network: 2199\n",
      "Flow increment: 1  (Total improvements: 0)\n",
      "Flow increment: 2  (Total improvements: 0)\n",
      "Flow increment: 3  (Total improvements: 0)\n",
      "Assembling tile connected components\n",
      "Assembled connected components (3) output written to file /u/aurora-r0/staniewi/dev/notebooks/new-orleans/dolphin/unwrapped/scratch/scratch-20221116_20221210.int/snaphu.conncomp.bu1232x0.u4\n",
      "Integrating secondary flows\n",
      "Output written to file /u/aurora-r0/staniewi/dev/notebooks/new-orleans/dolphin/unwrapped/scratch/scratch-20221116_20221210.int/snaphu.unw.n8rr9z6m.f4\n",
      "Removing temporary directory /u/aurora-r0/staniewi/dev/notebooks/new-orleans/dolphin/unwrapped/scratch/scratch-20221116_20221210.int/snaphu_tiles_156083\n",
      "SUGGESTION: Try increasing tile overlap and/or size if solution has edge artifacts\n",
      "Program snaphu done\n",
      "Elapsed processor time:   0:03:59.03\n",
      "Elapsed wall clock time:  0:02:03\n",
      "\n",
      "snaphu v2.0.7\n",
      "15 parameters input from file /u/aurora-r0/staniewi/dev/notebooks/new-orleans/dolphin/unwrapped/scratch/scratch-20221116_20221210.int/snaphu-regrow-conncomps.config.ne73cske.txt (15 lines total)\n",
      "Reading unwrapped phase from file /u/aurora-r0/staniewi/dev/notebooks/new-orleans/dolphin/unwrapped/scratch/scratch-20221116_20221210.int/snaphu.unw.n8rr9z6m.f4\n",
      "Reading interferogram magnitude from file /u/aurora-r0/staniewi/dev/notebooks/new-orleans/dolphin/unwrapped/scratch/scratch-20221116_20221210.int/snaphu.mag.zrmzwx5u.f4\n",
      "Reading byte mask from file /u/aurora-r0/staniewi/dev/notebooks/new-orleans/dolphin/unwrapped/scratch/scratch-20221116_20221210.int/snaphu.mask.ea31p910.u1\n",
      "No weight file specified.  Assuming uniform weights\n",
      "Reading correlation data from file /u/aurora-r0/staniewi/dev/notebooks/new-orleans/dolphin/unwrapped/scratch/scratch-20221116_20221210.int/snaphu.corr.2rj8nkzv.f4\n",
      "Calculating smooth-solution cost parameters\n",
      "Growing connected component mask\n",
      "Writing connected components to file /u/aurora-r0/staniewi/dev/notebooks/new-orleans/dolphin/unwrapped/scratch/scratch-20221116_20221210.int/snaphu.conncomp.bu1232x0.u4 as 4-byte unsigned ints\n",
      "Program snaphu done\n",
      "Elapsed processor time:   0:00:01.64\n",
      "Elapsed wall clock time:  0:00:02\n"
     ]
    },
    {
     "name": "stderr",
     "output_type": "stream",
     "text": [
      "[INFO|_unwrap|L513] 2025-08-19T15:12:26-0700: Setting nodata values of /u/aurora-r0/staniewi/dev/notebooks/new-orleans/dolphin/unwrapped/20221116_20221210.unw.tif file\n",
      "[INFO|_unwrap|L517] 2025-08-19T15:12:26-0700: Setting nodata values of /u/aurora-r0/staniewi/dev/notebooks/new-orleans/dolphin/unwrapped/20221116_20221210.unw.conncomp.tif file\n"
     ]
    },
    {
     "name": "stdout",
     "output_type": "stream",
     "text": [
      "\n",
      "snaphu v2.0.7\n",
      "23 parameters input from file /u/aurora-r0/staniewi/dev/notebooks/new-orleans/dolphin/unwrapped/scratch/scratch-20221128_20221222.int/snaphu.config.poqnbq4i.txt (23 lines total)\n",
      "Creating temporary directory /u/aurora-r0/staniewi/dev/notebooks/new-orleans/dolphin/unwrapped/scratch/scratch-20221128_20221222.int/snaphu_tiles_156426\n",
      "Unwrapping tile at row 0, column 0 (pid 156430)\n",
      "Unwrapping tile at row 0, column 1 (pid 156434)\n",
      "Unwrapping tile at row 1, column 0 (pid 156438)\n",
      "Unwrapping tile at row 1, column 1 (pid 156442)\n",
      "Assembling tiles\n",
      "Running optimizer for secondary network\n",
      "Number of nodes in secondary network: 2275\n",
      "Flow increment: 1  (Total improvements: 0)\n",
      "Flow increment: 2  (Total improvements: 5)\n",
      "Flow increment: 3  (Total improvements: 5)\n",
      "Flow increment: 4  (Total improvements: 5)\n",
      "Assembling tile connected components\n",
      "Assembled connected components (3) output written to file /u/aurora-r0/staniewi/dev/notebooks/new-orleans/dolphin/unwrapped/scratch/scratch-20221116_20221222.int/snaphu.conncomp.fdgxuxde.u4\n",
      "Integrating secondary flows\n",
      "Output written to file /u/aurora-r0/staniewi/dev/notebooks/new-orleans/dolphin/unwrapped/scratch/scratch-20221116_20221222.int/snaphu.unw._p6tyrfy.f4\n",
      "Removing temporary directory /u/aurora-r0/staniewi/dev/notebooks/new-orleans/dolphin/unwrapped/scratch/scratch-20221116_20221222.int/snaphu_tiles_156183\n",
      "SUGGESTION: Try increasing tile overlap and/or size if solution has edge artifacts\n",
      "Program snaphu done\n",
      "Elapsed processor time:   0:03:36.82\n",
      "Elapsed wall clock time:  0:01:53\n",
      "\n",
      "snaphu v2.0.7\n",
      "15 parameters input from file /u/aurora-r0/staniewi/dev/notebooks/new-orleans/dolphin/unwrapped/scratch/scratch-20221116_20221222.int/snaphu-regrow-conncomps.config.mztqc4fp.txt (15 lines total)\n"
     ]
    },
    {
     "name": "stderr",
     "output_type": "stream",
     "text": [
      "[INFO|_unwrap|L513] 2025-08-19T15:12:50-0700: Setting nodata values of /u/aurora-r0/staniewi/dev/notebooks/new-orleans/dolphin/unwrapped/20221116_20221222.unw.tif file\n"
     ]
    },
    {
     "name": "stdout",
     "output_type": "stream",
     "text": [
      "Reading unwrapped phase from file /u/aurora-r0/staniewi/dev/notebooks/new-orleans/dolphin/unwrapped/scratch/scratch-20221116_20221222.int/snaphu.unw._p6tyrfy.f4\n",
      "Reading interferogram magnitude from file /u/aurora-r0/staniewi/dev/notebooks/new-orleans/dolphin/unwrapped/scratch/scratch-20221116_20221222.int/snaphu.mag.3kyll9c7.f4\n",
      "Reading byte mask from file /u/aurora-r0/staniewi/dev/notebooks/new-orleans/dolphin/unwrapped/scratch/scratch-20221116_20221222.int/snaphu.mask.e49ba1x0.u1\n",
      "No weight file specified.  Assuming uniform weights\n",
      "Reading correlation data from file /u/aurora-r0/staniewi/dev/notebooks/new-orleans/dolphin/unwrapped/scratch/scratch-20221116_20221222.int/snaphu.corr.fc31lchf.f4\n",
      "Calculating smooth-solution cost parameters\n",
      "Growing connected component mask\n",
      "Writing connected components to file /u/aurora-r0/staniewi/dev/notebooks/new-orleans/dolphin/unwrapped/scratch/scratch-20221116_20221222.int/snaphu.conncomp.fdgxuxde.u4 as 4-byte unsigned ints\n",
      "Program snaphu done\n",
      "Elapsed processor time:   0:00:01.62\n",
      "Elapsed wall clock time:  0:00:02\n"
     ]
    },
    {
     "name": "stderr",
     "output_type": "stream",
     "text": [
      "[INFO|_unwrap|L517] 2025-08-19T15:12:50-0700: Setting nodata values of /u/aurora-r0/staniewi/dev/notebooks/new-orleans/dolphin/unwrapped/20221116_20221222.unw.conncomp.tif file\n"
     ]
    },
    {
     "name": "stdout",
     "output_type": "stream",
     "text": [
      "\n",
      "snaphu v2.0.7\n",
      "23 parameters input from file /u/aurora-r0/staniewi/dev/notebooks/new-orleans/dolphin/unwrapped/scratch/scratch-20221210_20221222.int/snaphu.config.az31mtja.txt (23 lines total)\n",
      "Creating temporary directory /u/aurora-r0/staniewi/dev/notebooks/new-orleans/dolphin/unwrapped/scratch/scratch-20221210_20221222.int/snaphu_tiles_156472\n",
      "Unwrapping tile at row 0, column 0 (pid 156484)\n",
      "Unwrapping tile at row 0, column 1 (pid 156487)\n",
      "Unwrapping tile at row 1, column 0 (pid 156490)\n",
      "Unwrapping tile at row 1, column 1 (pid 156493)\n",
      "Assembling tiles\n",
      "Running optimizer for secondary network\n",
      "Number of nodes in secondary network: 2156\n",
      "Flow increment: 1  (Total improvements: 0)\n",
      "Flow increment: 2  (Total improvements: 0)\n",
      "Flow increment: 3  (Total improvements: 0)\n",
      "Assembling tile connected components\n",
      "Assembled connected components (3) output written to file /u/aurora-r0/staniewi/dev/notebooks/new-orleans/dolphin/unwrapped/scratch/scratch-20221128_20221210.int/snaphu.conncomp.rxub91ln.u4\n",
      "Integrating secondary flows\n",
      "Output written to file /u/aurora-r0/staniewi/dev/notebooks/new-orleans/dolphin/unwrapped/scratch/scratch-20221128_20221210.int/snaphu.unw.6cftg1pg.f4\n",
      "Removing temporary directory /u/aurora-r0/staniewi/dev/notebooks/new-orleans/dolphin/unwrapped/scratch/scratch-20221128_20221210.int/snaphu_tiles_156358\n",
      "SUGGESTION: Try increasing tile overlap and/or size if solution has edge artifacts\n",
      "Program snaphu done\n",
      "Elapsed processor time:   0:03:54.89\n",
      "Elapsed wall clock time:  0:02:06\n",
      "\n",
      "snaphu v2.0.7\n",
      "15 parameters input from file /u/aurora-r0/staniewi/dev/notebooks/new-orleans/dolphin/unwrapped/scratch/scratch-20221128_20221210.int/snaphu-regrow-conncomps.config.v4c4wa67.txt (15 lines total)\n",
      "Reading unwrapped phase from file /u/aurora-r0/staniewi/dev/notebooks/new-orleans/dolphin/unwrapped/scratch/scratch-20221128_20221210.int/snaphu.unw.6cftg1pg.f4\n",
      "Reading interferogram magnitude from file /u/aurora-r0/staniewi/dev/notebooks/new-orleans/dolphin/unwrapped/scratch/scratch-20221128_20221210.int/snaphu.mag.gsoi8y7k.f4\n",
      "Reading byte mask from file /u/aurora-r0/staniewi/dev/notebooks/new-orleans/dolphin/unwrapped/scratch/scratch-20221128_20221210.int/snaphu.mask.gbweosi8.u1\n",
      "No weight file specified.  Assuming uniform weights\n",
      "Reading correlation data from file /u/aurora-r0/staniewi/dev/notebooks/new-orleans/dolphin/unwrapped/scratch/scratch-20221128_20221210.int/snaphu.corr.rf8qakb8.f4\n",
      "Calculating smooth-solution cost parameters\n",
      "Growing connected component mask\n",
      "Writing connected components to file /u/aurora-r0/staniewi/dev/notebooks/new-orleans/dolphin/unwrapped/scratch/scratch-20221128_20221210.int/snaphu.conncomp.rxub91ln.u4 as 4-byte unsigned ints\n",
      "Program snaphu done\n",
      "Elapsed processor time:   0:00:01.66\n",
      "Elapsed wall clock time:  0:00:02\n"
     ]
    },
    {
     "name": "stderr",
     "output_type": "stream",
     "text": [
      "[INFO|_unwrap|L513] 2025-08-19T15:14:05-0700: Setting nodata values of /u/aurora-r0/staniewi/dev/notebooks/new-orleans/dolphin/unwrapped/20221128_20221210.unw.tif file\n",
      "[INFO|_unwrap|L517] 2025-08-19T15:14:05-0700: Setting nodata values of /u/aurora-r0/staniewi/dev/notebooks/new-orleans/dolphin/unwrapped/20221128_20221210.unw.conncomp.tif file\n"
     ]
    },
    {
     "name": "stdout",
     "output_type": "stream",
     "text": [
      "Assembling tiles\n",
      "Running optimizer for secondary network\n",
      "Number of nodes in secondary network: 2203\n",
      "Flow increment: 1  (Total improvements: 0)\n",
      "Flow increment: 2  (Total improvements: 0)\n",
      "Flow increment: 3  (Total improvements: 0)\n",
      "Assembling tile connected components\n",
      "Assembled connected components (3) output written to file /u/aurora-r0/staniewi/dev/notebooks/new-orleans/dolphin/unwrapped/scratch/scratch-20221128_20221222.int/snaphu.conncomp.55k49ekv.u4\n",
      "Integrating secondary flows\n",
      "Output written to file /u/aurora-r0/staniewi/dev/notebooks/new-orleans/dolphin/unwrapped/scratch/scratch-20221128_20221222.int/snaphu.unw.072qkbt1.f4\n",
      "Removing temporary directory /u/aurora-r0/staniewi/dev/notebooks/new-orleans/dolphin/unwrapped/scratch/scratch-20221128_20221222.int/snaphu_tiles_156426\n",
      "SUGGESTION: Try increasing tile overlap and/or size if solution has edge artifacts\n",
      "Program snaphu done\n",
      "Elapsed processor time:   0:03:50.89\n",
      "Elapsed wall clock time:  0:01:59\n",
      "\n",
      "snaphu v2.0.7\n",
      "15 parameters input from file /u/aurora-r0/staniewi/dev/notebooks/new-orleans/dolphin/unwrapped/scratch/scratch-20221128_20221222.int/snaphu-regrow-conncomps.config.5wsqlvd8.txt (15 lines total)\n"
     ]
    },
    {
     "name": "stderr",
     "output_type": "stream",
     "text": [
      "[INFO|_unwrap|L513] 2025-08-19T15:14:28-0700: Setting nodata values of /u/aurora-r0/staniewi/dev/notebooks/new-orleans/dolphin/unwrapped/20221128_20221222.unw.tif file\n"
     ]
    },
    {
     "name": "stdout",
     "output_type": "stream",
     "text": [
      "Reading unwrapped phase from file /u/aurora-r0/staniewi/dev/notebooks/new-orleans/dolphin/unwrapped/scratch/scratch-20221128_20221222.int/snaphu.unw.072qkbt1.f4\n",
      "Reading interferogram magnitude from file /u/aurora-r0/staniewi/dev/notebooks/new-orleans/dolphin/unwrapped/scratch/scratch-20221128_20221222.int/snaphu.mag.ol967z0k.f4\n",
      "Reading byte mask from file /u/aurora-r0/staniewi/dev/notebooks/new-orleans/dolphin/unwrapped/scratch/scratch-20221128_20221222.int/snaphu.mask.22pr5cr5.u1\n",
      "No weight file specified.  Assuming uniform weights\n",
      "Reading correlation data from file /u/aurora-r0/staniewi/dev/notebooks/new-orleans/dolphin/unwrapped/scratch/scratch-20221128_20221222.int/snaphu.corr.emfvt3ty.f4\n",
      "Calculating smooth-solution cost parameters\n",
      "Growing connected component mask\n",
      "Writing connected components to file /u/aurora-r0/staniewi/dev/notebooks/new-orleans/dolphin/unwrapped/scratch/scratch-20221128_20221222.int/snaphu.conncomp.55k49ekv.u4 as 4-byte unsigned ints\n",
      "Program snaphu done\n",
      "Elapsed processor time:   0:00:01.65\n",
      "Elapsed wall clock time:  0:00:01\n"
     ]
    },
    {
     "name": "stderr",
     "output_type": "stream",
     "text": [
      "[INFO|_unwrap|L517] 2025-08-19T15:14:28-0700: Setting nodata values of /u/aurora-r0/staniewi/dev/notebooks/new-orleans/dolphin/unwrapped/20221128_20221222.unw.conncomp.tif file\n"
     ]
    },
    {
     "name": "stdout",
     "output_type": "stream",
     "text": [
      "Assembling tiles\n",
      "Running optimizer for secondary network\n",
      "Number of nodes in secondary network: 2197\n",
      "Flow increment: 1  (Total improvements: 0)\n",
      "Flow increment: 2  (Total improvements: 0)\n",
      "Flow increment: 3  (Total improvements: 0)\n",
      "Assembling tile connected components\n",
      "Assembled connected components (3) output written to file /u/aurora-r0/staniewi/dev/notebooks/new-orleans/dolphin/unwrapped/scratch/scratch-20221210_20221222.int/snaphu.conncomp.byg64kxk.u4\n",
      "Integrating secondary flows\n",
      "Output written to file /u/aurora-r0/staniewi/dev/notebooks/new-orleans/dolphin/unwrapped/scratch/scratch-20221210_20221222.int/snaphu.unw.wyapimtq.f4\n",
      "Removing temporary directory /u/aurora-r0/staniewi/dev/notebooks/new-orleans/dolphin/unwrapped/scratch/scratch-20221210_20221222.int/snaphu_tiles_156472\n",
      "SUGGESTION: Try increasing tile overlap and/or size if solution has edge artifacts\n",
      "Program snaphu done\n",
      "Elapsed processor time:   0:03:38.19\n",
      "Elapsed wall clock time:  0:02:01\n",
      "\n",
      "snaphu v2.0.7\n",
      "15 parameters input from file /u/aurora-r0/staniewi/dev/notebooks/new-orleans/dolphin/unwrapped/scratch/scratch-20221210_20221222.int/snaphu-regrow-conncomps.config.x5lamqvw.txt (15 lines total)\n",
      "Reading unwrapped phase from file /u/aurora-r0/staniewi/dev/notebooks/new-orleans/dolphin/unwrapped/scratch/scratch-20221210_20221222.int/snaphu.unw.wyapimtq.f4\n",
      "Reading interferogram magnitude from file /u/aurora-r0/staniewi/dev/notebooks/new-orleans/dolphin/unwrapped/scratch/scratch-20221210_20221222.int/snaphu.mag.dz1r6ptx.f4\n",
      "Reading byte mask from file /u/aurora-r0/staniewi/dev/notebooks/new-orleans/dolphin/unwrapped/scratch/scratch-20221210_20221222.int/snaphu.mask.a0p62tgm.u1\n",
      "No weight file specified.  Assuming uniform weights\n",
      "Reading correlation data from file /u/aurora-r0/staniewi/dev/notebooks/new-orleans/dolphin/unwrapped/scratch/scratch-20221210_20221222.int/snaphu.corr.efawdyel.f4\n",
      "Calculating smooth-solution cost parameters\n",
      "Growing connected component mask\n",
      "Writing connected components to file /u/aurora-r0/staniewi/dev/notebooks/new-orleans/dolphin/unwrapped/scratch/scratch-20221210_20221222.int/snaphu.conncomp.byg64kxk.u4 as 4-byte unsigned ints\n",
      "Program snaphu done\n",
      "Elapsed processor time:   0:00:01.64\n",
      "Elapsed wall clock time:  0:00:02\n"
     ]
    },
    {
     "name": "stderr",
     "output_type": "stream",
     "text": [
      "[INFO|_unwrap|L513] 2025-08-19T15:14:54-0700: Setting nodata values of /u/aurora-r0/staniewi/dev/notebooks/new-orleans/dolphin/unwrapped/20221210_20221222.unw.tif file\n",
      "[INFO|_unwrap|L517] 2025-08-19T15:14:54-0700: Setting nodata values of /u/aurora-r0/staniewi/dev/notebooks/new-orleans/dolphin/unwrapped/20221210_20221222.unw.conncomp.tif file\n",
      "[INFO|unwrapping|L98] 2025-08-19T15:14:55-0700: Creating overviews for unwrapped images\n"
     ]
    },
    {
     "data": {
      "application/vnd.jupyter.widget-view+json": {
       "model_id": "afa921c19d234ab2a8566a3384782f20",
       "version_major": 2,
       "version_minor": 0
      },
      "text/plain": [
       "  0%|          | 0/60 [00:00<?, ?it/s]"
      ]
     },
     "metadata": {},
     "output_type": "display_data"
    },
    {
     "data": {
      "application/vnd.jupyter.widget-view+json": {
       "model_id": "e8adf2eaad1a4096910736db7a49aa39",
       "version_major": 2,
       "version_minor": 0
      },
      "text/plain": [
       "  0%|          | 0/60 [00:00<?, ?it/s]"
      ]
     },
     "metadata": {},
     "output_type": "display_data"
    },
    {
     "name": "stderr",
     "output_type": "stream",
     "text": [
      "[INFO|unwrapping|L103] 2025-08-19T15:14:55-0700: unwrapping complete\n",
      "[INFO|_log|L102] 2025-08-19T15:14:55-0700: Total elapsed time for dolphin.workflows.unwrapping.run : 46.08 minutes (2764.86 seconds)\n",
      "[INFO|timeseries|L153] 2025-08-19T15:14:55-0700: Selecting a reference point for unwrapped interferograms\n",
      "[INFO|timeseries|L1313] 2025-08-19T15:14:55-0700: Selecting reference point\n",
      "[INFO|timeseries|L1395] 2025-08-19T15:14:56-0700: Creating intersection of connected components\n"
     ]
    },
    {
     "data": {
      "application/vnd.jupyter.widget-view+json": {
       "model_id": "644473eea16b4f71a2e0bc1b466eae25",
       "version_major": 2,
       "version_minor": 0
      },
      "text/plain": [
       "  0%|          | 0/126 [00:00<?, ?it/s]"
      ]
     },
     "metadata": {},
     "output_type": "display_data"
    },
    {
     "name": "stderr",
     "output_type": "stream",
     "text": [
      "[INFO|timeseries|L1415] 2025-08-19T15:15:00-0700: Found 73 connected components in intersection\n",
      "[INFO|timeseries|L1363] 2025-08-19T15:15:00-0700: Saving ReferencePoint(row=1216, col=815) to /u/aurora-r0/staniewi/dev/notebooks/new-orleans/dolphin/timeseries/reference_point.txt\n",
      "[INFO|stitching|L697] 2025-08-19T15:15:00-0700: Warping water_mask.tif to match size of /u/aurora-r0/staniewi/dev/notebooks/new-orleans/dolphin/unwrapped/20220108_20220120.unw.tif\n",
      "[INFO|timeseries|L207] 2025-08-19T15:15:00-0700: Inverting network of 60 unwrapped ifgs\n",
      "[INFO|timeseries|L1060] 2025-08-19T15:15:00-0700: Inverting network using L1-norm minimization\n",
      "[INFO|timeseries|L1095] 2025-08-19T15:15:00-0700: Using unweighted unw inversion\n"
     ]
    },
    {
     "data": {
      "application/vnd.jupyter.widget-view+json": {
       "model_id": "7f9492d727c8441890f63942cb25dcea",
       "version_major": 2,
       "version_minor": 0
      },
      "text/plain": [
       "  0%|          | 0/126 [00:00<?, ?it/s]"
      ]
     },
     "metadata": {},
     "output_type": "display_data"
    },
    {
     "name": "stderr",
     "output_type": "stream",
     "text": [
      "Numba: Attempted to fork from a non-main thread, the TBB library may be in an invalid state in the child process.\n",
      "Numba: Attempted to fork from a non-main thread, the TBB library may be in an invalid state in the child process.\n",
      "Numba: Attempted to fork from a non-main thread, the TBB library may be in an invalid state in the child process.\n",
      "Numba: Attempted to fork from a non-main thread, the TBB library may be in an invalid state in the child process.\n",
      "Numba: Attempted to fork from a non-main thread, the TBB library may be in an invalid state in the child process.\n",
      "Numba: Attempted to fork from a non-main thread, the TBB library may be in an invalid state in the child process.\n",
      "Numba: Attempted to fork from a non-main thread, the TBB library may be in an invalid state in the child process.\n",
      "Numba: Attempted to fork from a non-main thread, the TBB library may be in an invalid state in the child process.\n",
      "Numba: Attempted to fork from a non-main thread, the TBB library may be in an invalid state in the child process.\n",
      "Numba: Attempted to fork from a non-main thread, the TBB library may be in an invalid state in the child process.\n",
      "Numba: Attempted to fork from a non-main thread, the TBB library may be in an invalid state in the child process.\n",
      "Numba: Attempted to fork from a non-main thread, the TBB library may be in an invalid state in the child process.\n",
      "Numba: Attempted to fork from a non-main thread, the TBB library may be in an invalid state in the child process.\n",
      "Numba: Attempted to fork from a non-main thread, the TBB library may be in an invalid state in the child process.\n",
      "Numba: Attempted to fork from a non-main thread, the TBB library may be in an invalid state in the child process.\n",
      "Numba: Attempted to fork from a non-main thread, the TBB library may be in an invalid state in the child process.\n",
      "Numba: Attempted to fork from a non-main thread, the TBB library may be in an invalid state in the child process.\n",
      "Numba: Attempted to fork from a non-main thread, the TBB library may be in an invalid state in the child process.\n",
      "Numba: Attempted to fork from a non-main thread, the TBB library may be in an invalid state in the child process.\n",
      "Numba: Attempted to fork from a non-main thread, the TBB library may be in an invalid state in the child process.\n",
      "Numba: Attempted to fork from a non-main thread, the TBB library may be in an invalid state in the child process.\n",
      "Numba: Attempted to fork from a non-main thread, the TBB library may be in an invalid state in the child process.\n",
      "Numba: Attempted to fork from a non-main thread, the TBB library may be in an invalid state in the child process.\n",
      "Numba: Attempted to fork from a non-main thread, the TBB library may be in an invalid state in the child process.\n",
      "Numba: Attempted to fork from a non-main thread, the TBB library may be in an invalid state in the child process.\n",
      "Numba: Attempted to fork from a non-main thread, the TBB library may be in an invalid state in the child process.\n",
      "Numba: Attempted to fork from a non-main thread, the TBB library may be in an invalid state in the child process.\n",
      "Numba: Attempted to fork from a non-main thread, the TBB library may be in an invalid state in the child process.\n",
      "Numba: Attempted to fork from a non-main thread, the TBB library may be in an invalid state in the child process.\n",
      "Numba: Attempted to fork from a non-main thread, the TBB library may be in an invalid state in the child process.\n",
      "Numba: Attempted to fork from a non-main thread, the TBB library may be in an invalid state in the child process.\n",
      "Numba: Attempted to fork from a non-main thread, the TBB library may be in an invalid state in the child process.\n",
      "Numba: Attempted to fork from a non-main thread, the TBB library may be in an invalid state in the child process.\n",
      "Numba: Attempted to fork from a non-main thread, the TBB library may be in an invalid state in the child process.\n",
      "Numba: Attempted to fork from a non-main thread, the TBB library may be in an invalid state in the child process.\n",
      "Numba: Attempted to fork from a non-main thread, the TBB library may be in an invalid state in the child process.\n",
      "Numba: Attempted to fork from a non-main thread, the TBB library may be in an invalid state in the child process.\n",
      "Numba: Attempted to fork from a non-main thread, the TBB library may be in an invalid state in the child process.\n",
      "Numba: Attempted to fork from a non-main thread, the TBB library may be in an invalid state in the child process.\n",
      "Numba: Attempted to fork from a non-main thread, the TBB library may be in an invalid state in the child process.\n",
      "Numba: Attempted to fork from a non-main thread, the TBB library may be in an invalid state in the child process.\n",
      "Numba: Attempted to fork from a non-main thread, the TBB library may be in an invalid state in the child process.\n",
      "Numba: Attempted to fork from a non-main thread, the TBB library may be in an invalid state in the child process.\n",
      "Numba: Attempted to fork from a non-main thread, the TBB library may be in an invalid state in the child process.\n",
      "Numba: Attempted to fork from a non-main thread, the TBB library may be in an invalid state in the child process.\n",
      "Numba: Attempted to fork from a non-main thread, the TBB library may be in an invalid state in the child process.\n",
      "Numba: Attempted to fork from a non-main thread, the TBB library may be in an invalid state in the child process.\n",
      "Numba: Attempted to fork from a non-main thread, the TBB library may be in an invalid state in the child process.\n",
      "Numba: Attempted to fork from a non-main thread, the TBB library may be in an invalid state in the child process.\n",
      "Numba: Attempted to fork from a non-main thread, the TBB library may be in an invalid state in the child process.\n",
      "Numba: Attempted to fork from a non-main thread, the TBB library may be in an invalid state in the child process.\n",
      "Numba: Attempted to fork from a non-main thread, the TBB library may be in an invalid state in the child process.\n",
      "Numba: Attempted to fork from a non-main thread, the TBB library may be in an invalid state in the child process.\n",
      "Numba: Attempted to fork from a non-main thread, the TBB library may be in an invalid state in the child process.\n",
      "Numba: Attempted to fork from a non-main thread, the TBB library may be in an invalid state in the child process.\n",
      "Numba: Attempted to fork from a non-main thread, the TBB library may be in an invalid state in the child process.\n",
      "Numba: Attempted to fork from a non-main thread, the TBB library may be in an invalid state in the child process.\n",
      "Numba: Attempted to fork from a non-main thread, the TBB library may be in an invalid state in the child process.\n",
      "Numba: Attempted to fork from a non-main thread, the TBB library may be in an invalid state in the child process.\n",
      "Numba: Attempted to fork from a non-main thread, the TBB library may be in an invalid state in the child process.\n",
      "Numba: Attempted to fork from a non-main thread, the TBB library may be in an invalid state in the child process.\n",
      "Numba: Attempted to fork from a non-main thread, the TBB library may be in an invalid state in the child process.\n",
      "Numba: Attempted to fork from a non-main thread, the TBB library may be in an invalid state in the child process.\n",
      "Numba: Attempted to fork from a non-main thread, the TBB library may be in an invalid state in the child process.\n",
      "Numba: Attempted to fork from a non-main thread, the TBB library may be in an invalid state in the child process.\n",
      "Numba: Attempted to fork from a non-main thread, the TBB library may be in an invalid state in the child process.\n",
      "Numba: Attempted to fork from a non-main thread, the TBB library may be in an invalid state in the child process.\n",
      "Numba: Attempted to fork from a non-main thread, the TBB library may be in an invalid state in the child process.\n",
      "Numba: Attempted to fork from a non-main thread, the TBB library may be in an invalid state in the child process.\n",
      "Numba: Attempted to fork from a non-main thread, the TBB library may be in an invalid state in the child process.\n",
      "Numba: Attempted to fork from a non-main thread, the TBB library may be in an invalid state in the child process.\n",
      "Numba: Attempted to fork from a non-main thread, the TBB library may be in an invalid state in the child process.\n",
      "Numba: Attempted to fork from a non-main thread, the TBB library may be in an invalid state in the child process.\n",
      "Numba: Attempted to fork from a non-main thread, the TBB library may be in an invalid state in the child process.\n",
      "Numba: Attempted to fork from a non-main thread, the TBB library may be in an invalid state in the child process.\n",
      "Numba: Attempted to fork from a non-main thread, the TBB library may be in an invalid state in the child process.\n",
      "Numba: Attempted to fork from a non-main thread, the TBB library may be in an invalid state in the child process.\n",
      "Numba: Attempted to fork from a non-main thread, the TBB library may be in an invalid state in the child process.\n",
      "Numba: Attempted to fork from a non-main thread, the TBB library may be in an invalid state in the child process.\n",
      "Numba: Attempted to fork from a non-main thread, the TBB library may be in an invalid state in the child process.\n",
      "Numba: Attempted to fork from a non-main thread, the TBB library may be in an invalid state in the child process.\n",
      "Numba: Attempted to fork from a non-main thread, the TBB library may be in an invalid state in the child process.\n",
      "Numba: Attempted to fork from a non-main thread, the TBB library may be in an invalid state in the child process.\n",
      "Numba: Attempted to fork from a non-main thread, the TBB library may be in an invalid state in the child process.\n",
      "Numba: Attempted to fork from a non-main thread, the TBB library may be in an invalid state in the child process.\n",
      "Numba: Attempted to fork from a non-main thread, the TBB library may be in an invalid state in the child process.\n",
      "Numba: Attempted to fork from a non-main thread, the TBB library may be in an invalid state in the child process.\n",
      "Numba: Attempted to fork from a non-main thread, the TBB library may be in an invalid state in the child process.\n",
      "Numba: Attempted to fork from a non-main thread, the TBB library may be in an invalid state in the child process.\n",
      "Numba: Attempted to fork from a non-main thread, the TBB library may be in an invalid state in the child process.\n",
      "Numba: Attempted to fork from a non-main thread, the TBB library may be in an invalid state in the child process.\n",
      "Numba: Attempted to fork from a non-main thread, the TBB library may be in an invalid state in the child process.\n",
      "Numba: Attempted to fork from a non-main thread, the TBB library may be in an invalid state in the child process.\n",
      "Numba: Attempted to fork from a non-main thread, the TBB library may be in an invalid state in the child process.\n",
      "Numba: Attempted to fork from a non-main thread, the TBB library may be in an invalid state in the child process.\n",
      "Numba: Attempted to fork from a non-main thread, the TBB library may be in an invalid state in the child process.\n",
      "Numba: Attempted to fork from a non-main thread, the TBB library may be in an invalid state in the child process.\n",
      "Numba: Attempted to fork from a non-main thread, the TBB library may be in an invalid state in the child process.\n",
      "Numba: Attempted to fork from a non-main thread, the TBB library may be in an invalid state in the child process.\n",
      "Numba: Attempted to fork from a non-main thread, the TBB library may be in an invalid state in the child process.\n",
      "Numba: Attempted to fork from a non-main thread, the TBB library may be in an invalid state in the child process.\n",
      "Numba: Attempted to fork from a non-main thread, the TBB library may be in an invalid state in the child process.\n",
      "Numba: Attempted to fork from a non-main thread, the TBB library may be in an invalid state in the child process.\n",
      "Numba: Attempted to fork from a non-main thread, the TBB library may be in an invalid state in the child process.\n",
      "Numba: Attempted to fork from a non-main thread, the TBB library may be in an invalid state in the child process.\n",
      "Numba: Attempted to fork from a non-main thread, the TBB library may be in an invalid state in the child process.\n",
      "Numba: Attempted to fork from a non-main thread, the TBB library may be in an invalid state in the child process.\n",
      "Numba: Attempted to fork from a non-main thread, the TBB library may be in an invalid state in the child process.\n",
      "Numba: Attempted to fork from a non-main thread, the TBB library may be in an invalid state in the child process.\n",
      "Numba: Attempted to fork from a non-main thread, the TBB library may be in an invalid state in the child process.\n",
      "Numba: Attempted to fork from a non-main thread, the TBB library may be in an invalid state in the child process.\n",
      "Numba: Attempted to fork from a non-main thread, the TBB library may be in an invalid state in the child process.\n",
      "Numba: Attempted to fork from a non-main thread, the TBB library may be in an invalid state in the child process.\n",
      "Numba: Attempted to fork from a non-main thread, the TBB library may be in an invalid state in the child process.\n",
      "Numba: Attempted to fork from a non-main thread, the TBB library may be in an invalid state in the child process.\n",
      "Numba: Attempted to fork from a non-main thread, the TBB library may be in an invalid state in the child process.\n",
      "Numba: Attempted to fork from a non-main thread, the TBB library may be in an invalid state in the child process.\n",
      "Numba: Attempted to fork from a non-main thread, the TBB library may be in an invalid state in the child process.\n",
      "Numba: Attempted to fork from a non-main thread, the TBB library may be in an invalid state in the child process.\n",
      "Numba: Attempted to fork from a non-main thread, the TBB library may be in an invalid state in the child process.\n",
      "Numba: Attempted to fork from a non-main thread, the TBB library may be in an invalid state in the child process.\n",
      "Numba: Attempted to fork from a non-main thread, the TBB library may be in an invalid state in the child process.\n",
      "Numba: Attempted to fork from a non-main thread, the TBB library may be in an invalid state in the child process.\n",
      "Numba: Attempted to fork from a non-main thread, the TBB library may be in an invalid state in the child process.\n",
      "Numba: Attempted to fork from a non-main thread, the TBB library may be in an invalid state in the child process.\n",
      "Numba: Attempted to fork from a non-main thread, the TBB library may be in an invalid state in the child process.\n",
      "Numba: Attempted to fork from a non-main thread, the TBB library may be in an invalid state in the child process.\n",
      "Numba: Attempted to fork from a non-main thread, the TBB library may be in an invalid state in the child process.\n",
      "Numba: Attempted to fork from a non-main thread, the TBB library may be in an invalid state in the child process.\n",
      "Numba: Attempted to fork from a non-main thread, the TBB library may be in an invalid state in the child process.\n",
      "Numba: Attempted to fork from a non-main thread, the TBB library may be in an invalid state in the child process.\n",
      "Numba: Attempted to fork from a non-main thread, the TBB library may be in an invalid state in the child process.\n",
      "Numba: Attempted to fork from a non-main thread, the TBB library may be in an invalid state in the child process.\n",
      "Numba: Attempted to fork from a non-main thread, the TBB library may be in an invalid state in the child process.\n",
      "Numba: Attempted to fork from a non-main thread, the TBB library may be in an invalid state in the child process.\n",
      "Numba: Attempted to fork from a non-main thread, the TBB library may be in an invalid state in the child process.\n",
      "Numba: Attempted to fork from a non-main thread, the TBB library may be in an invalid state in the child process.\n",
      "Numba: Attempted to fork from a non-main thread, the TBB library may be in an invalid state in the child process.\n",
      "Numba: Attempted to fork from a non-main thread, the TBB library may be in an invalid state in the child process.\n",
      "Numba: Attempted to fork from a non-main thread, the TBB library may be in an invalid state in the child process.\n",
      "Numba: Attempted to fork from a non-main thread, the TBB library may be in an invalid state in the child process.\n",
      "Numba: Attempted to fork from a non-main thread, the TBB library may be in an invalid state in the child process.\n",
      "Numba: Attempted to fork from a non-main thread, the TBB library may be in an invalid state in the child process.\n",
      "Numba: Attempted to fork from a non-main thread, the TBB library may be in an invalid state in the child process.\n",
      "Numba: Attempted to fork from a non-main thread, the TBB library may be in an invalid state in the child process.\n",
      "Numba: Attempted to fork from a non-main thread, the TBB library may be in an invalid state in the child process.\n",
      "Numba: Attempted to fork from a non-main thread, the TBB library may be in an invalid state in the child process.\n",
      "Numba: Attempted to fork from a non-main thread, the TBB library may be in an invalid state in the child process.\n",
      "Numba: Attempted to fork from a non-main thread, the TBB library may be in an invalid state in the child process.\n",
      "Numba: Attempted to fork from a non-main thread, the TBB library may be in an invalid state in the child process.\n",
      "Numba: Attempted to fork from a non-main thread, the TBB library may be in an invalid state in the child process.\n",
      "Numba: Attempted to fork from a non-main thread, the TBB library may be in an invalid state in the child process.\n",
      "Numba: Attempted to fork from a non-main thread, the TBB library may be in an invalid state in the child process.\n",
      "Numba: Attempted to fork from a non-main thread, the TBB library may be in an invalid state in the child process.\n",
      "Numba: Attempted to fork from a non-main thread, the TBB library may be in an invalid state in the child process.\n",
      "Numba: Attempted to fork from a non-main thread, the TBB library may be in an invalid state in the child process.\n",
      "Numba: Attempted to fork from a non-main thread, the TBB library may be in an invalid state in the child process.\n",
      "Numba: Attempted to fork from a non-main thread, the TBB library may be in an invalid state in the child process.\n",
      "Numba: Attempted to fork from a non-main thread, the TBB library may be in an invalid state in the child process.\n",
      "Numba: Attempted to fork from a non-main thread, the TBB library may be in an invalid state in the child process.\n",
      "Numba: Attempted to fork from a non-main thread, the TBB library may be in an invalid state in the child process.\n",
      "Numba: Attempted to fork from a non-main thread, the TBB library may be in an invalid state in the child process.\n",
      "Numba: Attempted to fork from a non-main thread, the TBB library may be in an invalid state in the child process.\n",
      "Numba: Attempted to fork from a non-main thread, the TBB library may be in an invalid state in the child process.\n",
      "Numba: Attempted to fork from a non-main thread, the TBB library may be in an invalid state in the child process.\n",
      "Numba: Attempted to fork from a non-main thread, the TBB library may be in an invalid state in the child process.\n",
      "Numba: Attempted to fork from a non-main thread, the TBB library may be in an invalid state in the child process.\n",
      "Numba: Attempted to fork from a non-main thread, the TBB library may be in an invalid state in the child process.\n",
      "Numba: Attempted to fork from a non-main thread, the TBB library may be in an invalid state in the child process.\n",
      "Numba: Attempted to fork from a non-main thread, the TBB library may be in an invalid state in the child process.\n",
      "Numba: Attempted to fork from a non-main thread, the TBB library may be in an invalid state in the child process.\n",
      "Numba: Attempted to fork from a non-main thread, the TBB library may be in an invalid state in the child process.\n",
      "Numba: Attempted to fork from a non-main thread, the TBB library may be in an invalid state in the child process.\n",
      "Numba: Attempted to fork from a non-main thread, the TBB library may be in an invalid state in the child process.\n",
      "Numba: Attempted to fork from a non-main thread, the TBB library may be in an invalid state in the child process.\n",
      "Numba: Attempted to fork from a non-main thread, the TBB library may be in an invalid state in the child process.\n",
      "Numba: Attempted to fork from a non-main thread, the TBB library may be in an invalid state in the child process.\n",
      "Numba: Attempted to fork from a non-main thread, the TBB library may be in an invalid state in the child process.\n",
      "Numba: Attempted to fork from a non-main thread, the TBB library may be in an invalid state in the child process.\n",
      "Numba: Attempted to fork from a non-main thread, the TBB library may be in an invalid state in the child process.\n",
      "Numba: Attempted to fork from a non-main thread, the TBB library may be in an invalid state in the child process.\n",
      "Numba: Attempted to fork from a non-main thread, the TBB library may be in an invalid state in the child process.\n",
      "Numba: Attempted to fork from a non-main thread, the TBB library may be in an invalid state in the child process.\n",
      "Numba: Attempted to fork from a non-main thread, the TBB library may be in an invalid state in the child process.\n",
      "Numba: Attempted to fork from a non-main thread, the TBB library may be in an invalid state in the child process.\n",
      "Numba: Attempted to fork from a non-main thread, the TBB library may be in an invalid state in the child process.\n",
      "Numba: Attempted to fork from a non-main thread, the TBB library may be in an invalid state in the child process.\n",
      "Numba: Attempted to fork from a non-main thread, the TBB library may be in an invalid state in the child process.\n",
      "Numba: Attempted to fork from a non-main thread, the TBB library may be in an invalid state in the child process.\n",
      "Numba: Attempted to fork from a non-main thread, the TBB library may be in an invalid state in the child process.\n",
      "Numba: Attempted to fork from a non-main thread, the TBB library may be in an invalid state in the child process.\n",
      "Numba: Attempted to fork from a non-main thread, the TBB library may be in an invalid state in the child process.\n",
      "Numba: Attempted to fork from a non-main thread, the TBB library may be in an invalid state in the child process.\n",
      "Numba: Attempted to fork from a non-main thread, the TBB library may be in an invalid state in the child process.\n",
      "Numba: Attempted to fork from a non-main thread, the TBB library may be in an invalid state in the child process.\n",
      "[INFO|timeseries|L1197] 2025-08-19T15:15:31-0700: Completed invert_unw_network\n",
      "[INFO|timeseries|L232] 2025-08-19T15:15:31-0700: Creating overviews for timeseries images\n"
     ]
    },
    {
     "data": {
      "application/vnd.jupyter.widget-view+json": {
       "model_id": "f64f06da122f4f0e900e002d250facaf",
       "version_major": 2,
       "version_minor": 0
      },
      "text/plain": [
       "  0%|          | 0/21 [00:00<?, ?it/s]"
      ]
     },
     "metadata": {},
     "output_type": "display_data"
    },
    {
     "name": "stderr",
     "output_type": "stream",
     "text": [
      "[INFO|timeseries|L236] 2025-08-19T15:15:32-0700: Estimating phase velocity\n",
      "[INFO|timeseries|L828] 2025-08-19T15:15:32-0700: Using unweighted fit for velocity.\n",
      "[INFO|timeseries|L834] 2025-08-19T15:15:32-0700: Reading phase reference pixel ReferencePoint(row=1216, col=815)\n"
     ]
    },
    {
     "data": {
      "application/vnd.jupyter.widget-view+json": {
       "model_id": "393066df34d24129bc8cff53d037ba96",
       "version_major": 2,
       "version_minor": 0
      },
      "text/plain": [
       "  0%|          | 0/126 [00:00<?, ?it/s]"
      ]
     },
     "metadata": {},
     "output_type": "display_data"
    },
    {
     "name": "stderr",
     "output_type": "stream",
     "text": [
      "Numba: Attempted to fork from a non-main thread, the TBB library may be in an invalid state in the child process.\n",
      "Numba: Attempted to fork from a non-main thread, the TBB library may be in an invalid state in the child process.\n",
      "Numba: Attempted to fork from a non-main thread, the TBB library may be in an invalid state in the child process.\n",
      "Numba: Attempted to fork from a non-main thread, the TBB library may be in an invalid state in the child process.\n",
      "[INFO|timeseries|L877] 2025-08-19T15:15:38-0700: Creating overviews for velocity image\n"
     ]
    },
    {
     "data": {
      "application/vnd.jupyter.widget-view+json": {
       "model_id": "3b81d6533710451089b833660d23098b",
       "version_major": 2,
       "version_minor": 0
      },
      "text/plain": [
       "  0%|          | 0/1 [00:00<?, ?it/s]"
      ]
     },
     "metadata": {},
     "output_type": "display_data"
    },
    {
     "name": "stderr",
     "output_type": "stream",
     "text": [
      "[INFO|timeseries|L892] 2025-08-19T15:15:38-0700: Completed create_velocity\n",
      "[INFO|displacement|L333] 2025-08-19T15:15:38-0700: Maximum memory usage: 6.74 GB\n",
      "[INFO|displacement|L334] 2025-08-19T15:15:38-0700: Config file dolphin version: 0.38.0.post1.dev29+g9b51f00\n",
      "[INFO|displacement|L335] 2025-08-19T15:15:38-0700: Current running dolphin version: 0.38.0.post1.dev29+g9b51f00\n",
      "[INFO|_log|L102] 2025-08-19T15:15:38-0700: Total elapsed time for dolphin.workflows.displacement.run : 50.99 minutes (3059.57 seconds)\n"
     ]
    },
    {
     "data": {
      "text/plain": [
       "OutputPaths(comp_slc_dict={'t165_352434_iw2': [PosixPath('/u/aurora-r0/staniewi/dev/notebooks/new-orleans/dolphin/t165_352434_iw2/linked_phase/compressed_20220108_20220108_20221011.tif'), PosixPath('/u/aurora-r0/staniewi/dev/notebooks/new-orleans/dolphin/t165_352434_iw2/linked_phase/compressed_20220108_20221023_20221222.tif')], 't165_352435_iw2': [PosixPath('/u/aurora-r0/staniewi/dev/notebooks/new-orleans/dolphin/t165_352435_iw2/linked_phase/compressed_20220108_20220108_20221011.tif'), PosixPath('/u/aurora-r0/staniewi/dev/notebooks/new-orleans/dolphin/t165_352435_iw2/linked_phase/compressed_20220108_20221023_20221222.tif')]}, stitched_ifg_paths=[PosixPath('/u/aurora-r0/staniewi/dev/notebooks/new-orleans/dolphin/interferograms/20220108_20220120.int.tif'), PosixPath('/u/aurora-r0/staniewi/dev/notebooks/new-orleans/dolphin/interferograms/20220108_20220201.int.tif'), PosixPath('/u/aurora-r0/staniewi/dev/notebooks/new-orleans/dolphin/interferograms/20220108_20220213.int.tif'), PosixPath('/u/aurora-r0/staniewi/dev/notebooks/new-orleans/dolphin/interferograms/20220120_20220201.int.tif'), PosixPath('/u/aurora-r0/staniewi/dev/notebooks/new-orleans/dolphin/interferograms/20220120_20220213.int.tif'), PosixPath('/u/aurora-r0/staniewi/dev/notebooks/new-orleans/dolphin/interferograms/20220120_20220225.int.tif'), PosixPath('/u/aurora-r0/staniewi/dev/notebooks/new-orleans/dolphin/interferograms/20220201_20220213.int.tif'), PosixPath('/u/aurora-r0/staniewi/dev/notebooks/new-orleans/dolphin/interferograms/20220201_20220225.int.tif'), PosixPath('/u/aurora-r0/staniewi/dev/notebooks/new-orleans/dolphin/interferograms/20220201_20220309.int.tif'), PosixPath('/u/aurora-r0/staniewi/dev/notebooks/new-orleans/dolphin/interferograms/20220213_20220225.int.tif'), PosixPath('/u/aurora-r0/staniewi/dev/notebooks/new-orleans/dolphin/interferograms/20220213_20220309.int.tif'), PosixPath('/u/aurora-r0/staniewi/dev/notebooks/new-orleans/dolphin/interferograms/20220213_20220321.int.tif'), PosixPath('/u/aurora-r0/staniewi/dev/notebooks/new-orleans/dolphin/interferograms/20220225_20220309.int.tif'), PosixPath('/u/aurora-r0/staniewi/dev/notebooks/new-orleans/dolphin/interferograms/20220225_20220321.int.tif'), PosixPath('/u/aurora-r0/staniewi/dev/notebooks/new-orleans/dolphin/interferograms/20220225_20220402.int.tif'), PosixPath('/u/aurora-r0/staniewi/dev/notebooks/new-orleans/dolphin/interferograms/20220309_20220321.int.tif'), PosixPath('/u/aurora-r0/staniewi/dev/notebooks/new-orleans/dolphin/interferograms/20220309_20220402.int.tif'), PosixPath('/u/aurora-r0/staniewi/dev/notebooks/new-orleans/dolphin/interferograms/20220309_20220426.int.tif'), PosixPath('/u/aurora-r0/staniewi/dev/notebooks/new-orleans/dolphin/interferograms/20220321_20220402.int.tif'), PosixPath('/u/aurora-r0/staniewi/dev/notebooks/new-orleans/dolphin/interferograms/20220321_20220426.int.tif'), PosixPath('/u/aurora-r0/staniewi/dev/notebooks/new-orleans/dolphin/interferograms/20220321_20220508.int.tif'), PosixPath('/u/aurora-r0/staniewi/dev/notebooks/new-orleans/dolphin/interferograms/20220402_20220426.int.tif'), PosixPath('/u/aurora-r0/staniewi/dev/notebooks/new-orleans/dolphin/interferograms/20220402_20220508.int.tif'), PosixPath('/u/aurora-r0/staniewi/dev/notebooks/new-orleans/dolphin/interferograms/20220402_20220601.int.tif'), PosixPath('/u/aurora-r0/staniewi/dev/notebooks/new-orleans/dolphin/interferograms/20220426_20220508.int.tif'), PosixPath('/u/aurora-r0/staniewi/dev/notebooks/new-orleans/dolphin/interferograms/20220426_20220601.int.tif'), PosixPath('/u/aurora-r0/staniewi/dev/notebooks/new-orleans/dolphin/interferograms/20220426_20220812.int.tif'), PosixPath('/u/aurora-r0/staniewi/dev/notebooks/new-orleans/dolphin/interferograms/20220508_20220601.int.tif'), PosixPath('/u/aurora-r0/staniewi/dev/notebooks/new-orleans/dolphin/interferograms/20220508_20220812.int.tif'), PosixPath('/u/aurora-r0/staniewi/dev/notebooks/new-orleans/dolphin/interferograms/20220508_20220905.int.tif'), PosixPath('/u/aurora-r0/staniewi/dev/notebooks/new-orleans/dolphin/interferograms/20220601_20220812.int.tif'), PosixPath('/u/aurora-r0/staniewi/dev/notebooks/new-orleans/dolphin/interferograms/20220601_20220905.int.tif'), PosixPath('/u/aurora-r0/staniewi/dev/notebooks/new-orleans/dolphin/interferograms/20220601_20220917.int.tif'), PosixPath('/u/aurora-r0/staniewi/dev/notebooks/new-orleans/dolphin/interferograms/20220812_20220905.int.tif'), PosixPath('/u/aurora-r0/staniewi/dev/notebooks/new-orleans/dolphin/interferograms/20220812_20220917.int.tif'), PosixPath('/u/aurora-r0/staniewi/dev/notebooks/new-orleans/dolphin/interferograms/20220812_20220929.int.tif'), PosixPath('/u/aurora-r0/staniewi/dev/notebooks/new-orleans/dolphin/interferograms/20220905_20220917.int.tif'), PosixPath('/u/aurora-r0/staniewi/dev/notebooks/new-orleans/dolphin/interferograms/20220905_20220929.int.tif'), PosixPath('/u/aurora-r0/staniewi/dev/notebooks/new-orleans/dolphin/interferograms/20220905_20221011.int.tif'), PosixPath('/u/aurora-r0/staniewi/dev/notebooks/new-orleans/dolphin/interferograms/20220917_20220929.int.tif'), PosixPath('/u/aurora-r0/staniewi/dev/notebooks/new-orleans/dolphin/interferograms/20220917_20221011.int.tif'), PosixPath('/u/aurora-r0/staniewi/dev/notebooks/new-orleans/dolphin/interferograms/20220917_20221023.int.tif'), PosixPath('/u/aurora-r0/staniewi/dev/notebooks/new-orleans/dolphin/interferograms/20220929_20221011.int.tif'), PosixPath('/u/aurora-r0/staniewi/dev/notebooks/new-orleans/dolphin/interferograms/20220929_20221023.int.tif'), PosixPath('/u/aurora-r0/staniewi/dev/notebooks/new-orleans/dolphin/interferograms/20220929_20221104.int.tif'), PosixPath('/u/aurora-r0/staniewi/dev/notebooks/new-orleans/dolphin/interferograms/20221011_20221023.int.tif'), PosixPath('/u/aurora-r0/staniewi/dev/notebooks/new-orleans/dolphin/interferograms/20221011_20221104.int.tif'), PosixPath('/u/aurora-r0/staniewi/dev/notebooks/new-orleans/dolphin/interferograms/20221011_20221116.int.tif'), PosixPath('/u/aurora-r0/staniewi/dev/notebooks/new-orleans/dolphin/interferograms/20221023_20221104.int.tif'), PosixPath('/u/aurora-r0/staniewi/dev/notebooks/new-orleans/dolphin/interferograms/20221023_20221116.int.tif'), PosixPath('/u/aurora-r0/staniewi/dev/notebooks/new-orleans/dolphin/interferograms/20221023_20221128.int.tif'), PosixPath('/u/aurora-r0/staniewi/dev/notebooks/new-orleans/dolphin/interferograms/20221104_20221116.int.tif'), PosixPath('/u/aurora-r0/staniewi/dev/notebooks/new-orleans/dolphin/interferograms/20221104_20221128.int.tif'), PosixPath('/u/aurora-r0/staniewi/dev/notebooks/new-orleans/dolphin/interferograms/20221104_20221210.int.tif'), PosixPath('/u/aurora-r0/staniewi/dev/notebooks/new-orleans/dolphin/interferograms/20221116_20221128.int.tif'), PosixPath('/u/aurora-r0/staniewi/dev/notebooks/new-orleans/dolphin/interferograms/20221116_20221210.int.tif'), PosixPath('/u/aurora-r0/staniewi/dev/notebooks/new-orleans/dolphin/interferograms/20221116_20221222.int.tif'), PosixPath('/u/aurora-r0/staniewi/dev/notebooks/new-orleans/dolphin/interferograms/20221128_20221210.int.tif'), PosixPath('/u/aurora-r0/staniewi/dev/notebooks/new-orleans/dolphin/interferograms/20221128_20221222.int.tif'), PosixPath('/u/aurora-r0/staniewi/dev/notebooks/new-orleans/dolphin/interferograms/20221210_20221222.int.tif')], stitched_cor_paths=[PosixPath('/u/aurora-r0/staniewi/dev/notebooks/new-orleans/dolphin/interferograms/20220108_20220120.int.cor.tif'), PosixPath('/u/aurora-r0/staniewi/dev/notebooks/new-orleans/dolphin/interferograms/20220108_20220201.int.cor.tif'), PosixPath('/u/aurora-r0/staniewi/dev/notebooks/new-orleans/dolphin/interferograms/20220108_20220213.int.cor.tif'), PosixPath('/u/aurora-r0/staniewi/dev/notebooks/new-orleans/dolphin/interferograms/20220120_20220201.int.cor.tif'), PosixPath('/u/aurora-r0/staniewi/dev/notebooks/new-orleans/dolphin/interferograms/20220120_20220213.int.cor.tif'), PosixPath('/u/aurora-r0/staniewi/dev/notebooks/new-orleans/dolphin/interferograms/20220120_20220225.int.cor.tif'), PosixPath('/u/aurora-r0/staniewi/dev/notebooks/new-orleans/dolphin/interferograms/20220201_20220213.int.cor.tif'), PosixPath('/u/aurora-r0/staniewi/dev/notebooks/new-orleans/dolphin/interferograms/20220201_20220225.int.cor.tif'), PosixPath('/u/aurora-r0/staniewi/dev/notebooks/new-orleans/dolphin/interferograms/20220201_20220309.int.cor.tif'), PosixPath('/u/aurora-r0/staniewi/dev/notebooks/new-orleans/dolphin/interferograms/20220213_20220225.int.cor.tif'), PosixPath('/u/aurora-r0/staniewi/dev/notebooks/new-orleans/dolphin/interferograms/20220213_20220309.int.cor.tif'), PosixPath('/u/aurora-r0/staniewi/dev/notebooks/new-orleans/dolphin/interferograms/20220213_20220321.int.cor.tif'), PosixPath('/u/aurora-r0/staniewi/dev/notebooks/new-orleans/dolphin/interferograms/20220225_20220309.int.cor.tif'), PosixPath('/u/aurora-r0/staniewi/dev/notebooks/new-orleans/dolphin/interferograms/20220225_20220321.int.cor.tif'), PosixPath('/u/aurora-r0/staniewi/dev/notebooks/new-orleans/dolphin/interferograms/20220225_20220402.int.cor.tif'), PosixPath('/u/aurora-r0/staniewi/dev/notebooks/new-orleans/dolphin/interferograms/20220309_20220321.int.cor.tif'), PosixPath('/u/aurora-r0/staniewi/dev/notebooks/new-orleans/dolphin/interferograms/20220309_20220402.int.cor.tif'), PosixPath('/u/aurora-r0/staniewi/dev/notebooks/new-orleans/dolphin/interferograms/20220309_20220426.int.cor.tif'), PosixPath('/u/aurora-r0/staniewi/dev/notebooks/new-orleans/dolphin/interferograms/20220321_20220402.int.cor.tif'), PosixPath('/u/aurora-r0/staniewi/dev/notebooks/new-orleans/dolphin/interferograms/20220321_20220426.int.cor.tif'), PosixPath('/u/aurora-r0/staniewi/dev/notebooks/new-orleans/dolphin/interferograms/20220321_20220508.int.cor.tif'), PosixPath('/u/aurora-r0/staniewi/dev/notebooks/new-orleans/dolphin/interferograms/20220402_20220426.int.cor.tif'), PosixPath('/u/aurora-r0/staniewi/dev/notebooks/new-orleans/dolphin/interferograms/20220402_20220508.int.cor.tif'), PosixPath('/u/aurora-r0/staniewi/dev/notebooks/new-orleans/dolphin/interferograms/20220402_20220601.int.cor.tif'), PosixPath('/u/aurora-r0/staniewi/dev/notebooks/new-orleans/dolphin/interferograms/20220426_20220508.int.cor.tif'), PosixPath('/u/aurora-r0/staniewi/dev/notebooks/new-orleans/dolphin/interferograms/20220426_20220601.int.cor.tif'), PosixPath('/u/aurora-r0/staniewi/dev/notebooks/new-orleans/dolphin/interferograms/20220426_20220812.int.cor.tif'), PosixPath('/u/aurora-r0/staniewi/dev/notebooks/new-orleans/dolphin/interferograms/20220508_20220601.int.cor.tif'), PosixPath('/u/aurora-r0/staniewi/dev/notebooks/new-orleans/dolphin/interferograms/20220508_20220812.int.cor.tif'), PosixPath('/u/aurora-r0/staniewi/dev/notebooks/new-orleans/dolphin/interferograms/20220508_20220905.int.cor.tif'), PosixPath('/u/aurora-r0/staniewi/dev/notebooks/new-orleans/dolphin/interferograms/20220601_20220812.int.cor.tif'), PosixPath('/u/aurora-r0/staniewi/dev/notebooks/new-orleans/dolphin/interferograms/20220601_20220905.int.cor.tif'), PosixPath('/u/aurora-r0/staniewi/dev/notebooks/new-orleans/dolphin/interferograms/20220601_20220917.int.cor.tif'), PosixPath('/u/aurora-r0/staniewi/dev/notebooks/new-orleans/dolphin/interferograms/20220812_20220905.int.cor.tif'), PosixPath('/u/aurora-r0/staniewi/dev/notebooks/new-orleans/dolphin/interferograms/20220812_20220917.int.cor.tif'), PosixPath('/u/aurora-r0/staniewi/dev/notebooks/new-orleans/dolphin/interferograms/20220812_20220929.int.cor.tif'), PosixPath('/u/aurora-r0/staniewi/dev/notebooks/new-orleans/dolphin/interferograms/20220905_20220917.int.cor.tif'), PosixPath('/u/aurora-r0/staniewi/dev/notebooks/new-orleans/dolphin/interferograms/20220905_20220929.int.cor.tif'), PosixPath('/u/aurora-r0/staniewi/dev/notebooks/new-orleans/dolphin/interferograms/20220905_20221011.int.cor.tif'), PosixPath('/u/aurora-r0/staniewi/dev/notebooks/new-orleans/dolphin/interferograms/20220917_20220929.int.cor.tif'), PosixPath('/u/aurora-r0/staniewi/dev/notebooks/new-orleans/dolphin/interferograms/20220917_20221011.int.cor.tif'), PosixPath('/u/aurora-r0/staniewi/dev/notebooks/new-orleans/dolphin/interferograms/20220917_20221023.int.cor.tif'), PosixPath('/u/aurora-r0/staniewi/dev/notebooks/new-orleans/dolphin/interferograms/20220929_20221011.int.cor.tif'), PosixPath('/u/aurora-r0/staniewi/dev/notebooks/new-orleans/dolphin/interferograms/20220929_20221023.int.cor.tif'), PosixPath('/u/aurora-r0/staniewi/dev/notebooks/new-orleans/dolphin/interferograms/20220929_20221104.int.cor.tif'), PosixPath('/u/aurora-r0/staniewi/dev/notebooks/new-orleans/dolphin/interferograms/20221011_20221023.int.cor.tif'), PosixPath('/u/aurora-r0/staniewi/dev/notebooks/new-orleans/dolphin/interferograms/20221011_20221104.int.cor.tif'), PosixPath('/u/aurora-r0/staniewi/dev/notebooks/new-orleans/dolphin/interferograms/20221011_20221116.int.cor.tif'), PosixPath('/u/aurora-r0/staniewi/dev/notebooks/new-orleans/dolphin/interferograms/20221023_20221104.int.cor.tif'), PosixPath('/u/aurora-r0/staniewi/dev/notebooks/new-orleans/dolphin/interferograms/20221023_20221116.int.cor.tif'), PosixPath('/u/aurora-r0/staniewi/dev/notebooks/new-orleans/dolphin/interferograms/20221023_20221128.int.cor.tif'), PosixPath('/u/aurora-r0/staniewi/dev/notebooks/new-orleans/dolphin/interferograms/20221104_20221116.int.cor.tif'), PosixPath('/u/aurora-r0/staniewi/dev/notebooks/new-orleans/dolphin/interferograms/20221104_20221128.int.cor.tif'), PosixPath('/u/aurora-r0/staniewi/dev/notebooks/new-orleans/dolphin/interferograms/20221104_20221210.int.cor.tif'), PosixPath('/u/aurora-r0/staniewi/dev/notebooks/new-orleans/dolphin/interferograms/20221116_20221128.int.cor.tif'), PosixPath('/u/aurora-r0/staniewi/dev/notebooks/new-orleans/dolphin/interferograms/20221116_20221210.int.cor.tif'), PosixPath('/u/aurora-r0/staniewi/dev/notebooks/new-orleans/dolphin/interferograms/20221116_20221222.int.cor.tif'), PosixPath('/u/aurora-r0/staniewi/dev/notebooks/new-orleans/dolphin/interferograms/20221128_20221210.int.cor.tif'), PosixPath('/u/aurora-r0/staniewi/dev/notebooks/new-orleans/dolphin/interferograms/20221128_20221222.int.cor.tif'), PosixPath('/u/aurora-r0/staniewi/dev/notebooks/new-orleans/dolphin/interferograms/20221210_20221222.int.cor.tif')], stitched_temp_coh_files=[PosixPath('/u/aurora-r0/staniewi/dev/notebooks/new-orleans/dolphin/interferograms/temporal_coherence_20220108_20221011.tif'), PosixPath('/u/aurora-r0/staniewi/dev/notebooks/new-orleans/dolphin/interferograms/temporal_coherence_20221023_20221222.tif'), PosixPath('/u/aurora-r0/staniewi/dev/notebooks/new-orleans/dolphin/interferograms/temporal_coherence_average_20220108_20221222.tif')], stitched_shp_count_files=[PosixPath('/u/aurora-r0/staniewi/dev/notebooks/new-orleans/dolphin/interferograms/shp_counts_20220108_20221011.tif'), PosixPath('/u/aurora-r0/staniewi/dev/notebooks/new-orleans/dolphin/interferograms/shp_counts_20221023_20221222.tif'), PosixPath('/u/aurora-r0/staniewi/dev/notebooks/new-orleans/dolphin/interferograms/shp_counts_average_20220108_20221222.tif')], stitched_similarity_files=[PosixPath('/u/aurora-r0/staniewi/dev/notebooks/new-orleans/dolphin/interferograms/similarity_20220108_20221011.tif'), PosixPath('/u/aurora-r0/staniewi/dev/notebooks/new-orleans/dolphin/interferograms/similarity_20221023_20221222.tif'), PosixPath('/u/aurora-r0/staniewi/dev/notebooks/new-orleans/dolphin/interferograms/similarity_full_20220108_20221222.tif')], stitched_crlb_files=[PosixPath('/u/aurora-r0/staniewi/dev/notebooks/new-orleans/dolphin/interferograms/crlb_20220108.tif'), PosixPath('/u/aurora-r0/staniewi/dev/notebooks/new-orleans/dolphin/interferograms/crlb_20220120.tif'), PosixPath('/u/aurora-r0/staniewi/dev/notebooks/new-orleans/dolphin/interferograms/crlb_20220201.tif'), PosixPath('/u/aurora-r0/staniewi/dev/notebooks/new-orleans/dolphin/interferograms/crlb_20220213.tif'), PosixPath('/u/aurora-r0/staniewi/dev/notebooks/new-orleans/dolphin/interferograms/crlb_20220225.tif'), PosixPath('/u/aurora-r0/staniewi/dev/notebooks/new-orleans/dolphin/interferograms/crlb_20220309.tif'), PosixPath('/u/aurora-r0/staniewi/dev/notebooks/new-orleans/dolphin/interferograms/crlb_20220321.tif'), PosixPath('/u/aurora-r0/staniewi/dev/notebooks/new-orleans/dolphin/interferograms/crlb_20220402.tif'), PosixPath('/u/aurora-r0/staniewi/dev/notebooks/new-orleans/dolphin/interferograms/crlb_20220426.tif'), PosixPath('/u/aurora-r0/staniewi/dev/notebooks/new-orleans/dolphin/interferograms/crlb_20220508.tif'), PosixPath('/u/aurora-r0/staniewi/dev/notebooks/new-orleans/dolphin/interferograms/crlb_20220601.tif'), PosixPath('/u/aurora-r0/staniewi/dev/notebooks/new-orleans/dolphin/interferograms/crlb_20220812.tif'), PosixPath('/u/aurora-r0/staniewi/dev/notebooks/new-orleans/dolphin/interferograms/crlb_20220905.tif'), PosixPath('/u/aurora-r0/staniewi/dev/notebooks/new-orleans/dolphin/interferograms/crlb_20220917.tif'), PosixPath('/u/aurora-r0/staniewi/dev/notebooks/new-orleans/dolphin/interferograms/crlb_20220929.tif'), PosixPath('/u/aurora-r0/staniewi/dev/notebooks/new-orleans/dolphin/interferograms/crlb_20221011.tif'), PosixPath('/u/aurora-r0/staniewi/dev/notebooks/new-orleans/dolphin/interferograms/crlb_20221023.tif'), PosixPath('/u/aurora-r0/staniewi/dev/notebooks/new-orleans/dolphin/interferograms/crlb_20221104.tif'), PosixPath('/u/aurora-r0/staniewi/dev/notebooks/new-orleans/dolphin/interferograms/crlb_20221116.tif'), PosixPath('/u/aurora-r0/staniewi/dev/notebooks/new-orleans/dolphin/interferograms/crlb_20221128.tif'), PosixPath('/u/aurora-r0/staniewi/dev/notebooks/new-orleans/dolphin/interferograms/crlb_20221210.tif'), PosixPath('/u/aurora-r0/staniewi/dev/notebooks/new-orleans/dolphin/interferograms/crlb_20221222.tif')], stitched_closure_phase_files=[PosixPath('/u/aurora-r0/staniewi/dev/notebooks/new-orleans/dolphin/interferograms/closure_phase_20220108_20220120_20220201.tif'), PosixPath('/u/aurora-r0/staniewi/dev/notebooks/new-orleans/dolphin/interferograms/closure_phase_20220120_20220201_20220213.tif'), PosixPath('/u/aurora-r0/staniewi/dev/notebooks/new-orleans/dolphin/interferograms/closure_phase_20220201_20220213_20220225.tif'), PosixPath('/u/aurora-r0/staniewi/dev/notebooks/new-orleans/dolphin/interferograms/closure_phase_20220213_20220225_20220309.tif'), PosixPath('/u/aurora-r0/staniewi/dev/notebooks/new-orleans/dolphin/interferograms/closure_phase_20220225_20220309_20220321.tif'), PosixPath('/u/aurora-r0/staniewi/dev/notebooks/new-orleans/dolphin/interferograms/closure_phase_20220309_20220321_20220402.tif'), PosixPath('/u/aurora-r0/staniewi/dev/notebooks/new-orleans/dolphin/interferograms/closure_phase_20220321_20220402_20220426.tif'), PosixPath('/u/aurora-r0/staniewi/dev/notebooks/new-orleans/dolphin/interferograms/closure_phase_20220402_20220426_20220508.tif'), PosixPath('/u/aurora-r0/staniewi/dev/notebooks/new-orleans/dolphin/interferograms/closure_phase_20220426_20220508_20220601.tif'), PosixPath('/u/aurora-r0/staniewi/dev/notebooks/new-orleans/dolphin/interferograms/closure_phase_20220508_20220601_20220812.tif'), PosixPath('/u/aurora-r0/staniewi/dev/notebooks/new-orleans/dolphin/interferograms/closure_phase_20220601_20220812_20220905.tif'), PosixPath('/u/aurora-r0/staniewi/dev/notebooks/new-orleans/dolphin/interferograms/closure_phase_20220812_20220905_20220917.tif'), PosixPath('/u/aurora-r0/staniewi/dev/notebooks/new-orleans/dolphin/interferograms/closure_phase_20220905_20220917_20220929.tif'), PosixPath('/u/aurora-r0/staniewi/dev/notebooks/new-orleans/dolphin/interferograms/closure_phase_20220917_20220929_20221011.tif'), PosixPath('/u/aurora-r0/staniewi/dev/notebooks/new-orleans/dolphin/interferograms/closure_phase_20220108_20221023_20221104.tif'), PosixPath('/u/aurora-r0/staniewi/dev/notebooks/new-orleans/dolphin/interferograms/closure_phase_20221023_20221104_20221116.tif'), PosixPath('/u/aurora-r0/staniewi/dev/notebooks/new-orleans/dolphin/interferograms/closure_phase_20221104_20221116_20221128.tif'), PosixPath('/u/aurora-r0/staniewi/dev/notebooks/new-orleans/dolphin/interferograms/closure_phase_20221116_20221128_20221210.tif'), PosixPath('/u/aurora-r0/staniewi/dev/notebooks/new-orleans/dolphin/interferograms/closure_phase_20221128_20221210_20221222.tif')], stitched_ps_file=PosixPath('/u/aurora-r0/staniewi/dev/notebooks/new-orleans/dolphin/interferograms/ps_mask_looked.tif'), stitched_amp_dispersion_file=PosixPath('/u/aurora-r0/staniewi/dev/notebooks/new-orleans/dolphin/interferograms/amp_dispersion_looked.tif'), unwrapped_paths=[PosixPath('/u/aurora-r0/staniewi/dev/notebooks/new-orleans/dolphin/unwrapped/20220108_20220120.unw.tif'), PosixPath('/u/aurora-r0/staniewi/dev/notebooks/new-orleans/dolphin/unwrapped/20220108_20220201.unw.tif'), PosixPath('/u/aurora-r0/staniewi/dev/notebooks/new-orleans/dolphin/unwrapped/20220108_20220213.unw.tif'), PosixPath('/u/aurora-r0/staniewi/dev/notebooks/new-orleans/dolphin/unwrapped/20220120_20220201.unw.tif'), PosixPath('/u/aurora-r0/staniewi/dev/notebooks/new-orleans/dolphin/unwrapped/20220120_20220213.unw.tif'), PosixPath('/u/aurora-r0/staniewi/dev/notebooks/new-orleans/dolphin/unwrapped/20220120_20220225.unw.tif'), PosixPath('/u/aurora-r0/staniewi/dev/notebooks/new-orleans/dolphin/unwrapped/20220201_20220213.unw.tif'), PosixPath('/u/aurora-r0/staniewi/dev/notebooks/new-orleans/dolphin/unwrapped/20220201_20220225.unw.tif'), PosixPath('/u/aurora-r0/staniewi/dev/notebooks/new-orleans/dolphin/unwrapped/20220201_20220309.unw.tif'), PosixPath('/u/aurora-r0/staniewi/dev/notebooks/new-orleans/dolphin/unwrapped/20220213_20220225.unw.tif'), PosixPath('/u/aurora-r0/staniewi/dev/notebooks/new-orleans/dolphin/unwrapped/20220213_20220309.unw.tif'), PosixPath('/u/aurora-r0/staniewi/dev/notebooks/new-orleans/dolphin/unwrapped/20220213_20220321.unw.tif'), PosixPath('/u/aurora-r0/staniewi/dev/notebooks/new-orleans/dolphin/unwrapped/20220225_20220309.unw.tif'), PosixPath('/u/aurora-r0/staniewi/dev/notebooks/new-orleans/dolphin/unwrapped/20220225_20220321.unw.tif'), PosixPath('/u/aurora-r0/staniewi/dev/notebooks/new-orleans/dolphin/unwrapped/20220225_20220402.unw.tif'), PosixPath('/u/aurora-r0/staniewi/dev/notebooks/new-orleans/dolphin/unwrapped/20220309_20220321.unw.tif'), PosixPath('/u/aurora-r0/staniewi/dev/notebooks/new-orleans/dolphin/unwrapped/20220309_20220402.unw.tif'), PosixPath('/u/aurora-r0/staniewi/dev/notebooks/new-orleans/dolphin/unwrapped/20220309_20220426.unw.tif'), PosixPath('/u/aurora-r0/staniewi/dev/notebooks/new-orleans/dolphin/unwrapped/20220321_20220402.unw.tif'), PosixPath('/u/aurora-r0/staniewi/dev/notebooks/new-orleans/dolphin/unwrapped/20220321_20220426.unw.tif'), PosixPath('/u/aurora-r0/staniewi/dev/notebooks/new-orleans/dolphin/unwrapped/20220321_20220508.unw.tif'), PosixPath('/u/aurora-r0/staniewi/dev/notebooks/new-orleans/dolphin/unwrapped/20220402_20220426.unw.tif'), PosixPath('/u/aurora-r0/staniewi/dev/notebooks/new-orleans/dolphin/unwrapped/20220402_20220508.unw.tif'), PosixPath('/u/aurora-r0/staniewi/dev/notebooks/new-orleans/dolphin/unwrapped/20220402_20220601.unw.tif'), PosixPath('/u/aurora-r0/staniewi/dev/notebooks/new-orleans/dolphin/unwrapped/20220426_20220508.unw.tif'), PosixPath('/u/aurora-r0/staniewi/dev/notebooks/new-orleans/dolphin/unwrapped/20220426_20220601.unw.tif'), PosixPath('/u/aurora-r0/staniewi/dev/notebooks/new-orleans/dolphin/unwrapped/20220426_20220812.unw.tif'), PosixPath('/u/aurora-r0/staniewi/dev/notebooks/new-orleans/dolphin/unwrapped/20220508_20220601.unw.tif'), PosixPath('/u/aurora-r0/staniewi/dev/notebooks/new-orleans/dolphin/unwrapped/20220508_20220812.unw.tif'), PosixPath('/u/aurora-r0/staniewi/dev/notebooks/new-orleans/dolphin/unwrapped/20220508_20220905.unw.tif'), PosixPath('/u/aurora-r0/staniewi/dev/notebooks/new-orleans/dolphin/unwrapped/20220601_20220812.unw.tif'), PosixPath('/u/aurora-r0/staniewi/dev/notebooks/new-orleans/dolphin/unwrapped/20220601_20220905.unw.tif'), PosixPath('/u/aurora-r0/staniewi/dev/notebooks/new-orleans/dolphin/unwrapped/20220601_20220917.unw.tif'), PosixPath('/u/aurora-r0/staniewi/dev/notebooks/new-orleans/dolphin/unwrapped/20220812_20220905.unw.tif'), PosixPath('/u/aurora-r0/staniewi/dev/notebooks/new-orleans/dolphin/unwrapped/20220812_20220917.unw.tif'), PosixPath('/u/aurora-r0/staniewi/dev/notebooks/new-orleans/dolphin/unwrapped/20220812_20220929.unw.tif'), PosixPath('/u/aurora-r0/staniewi/dev/notebooks/new-orleans/dolphin/unwrapped/20220905_20220917.unw.tif'), PosixPath('/u/aurora-r0/staniewi/dev/notebooks/new-orleans/dolphin/unwrapped/20220905_20220929.unw.tif'), PosixPath('/u/aurora-r0/staniewi/dev/notebooks/new-orleans/dolphin/unwrapped/20220905_20221011.unw.tif'), PosixPath('/u/aurora-r0/staniewi/dev/notebooks/new-orleans/dolphin/unwrapped/20220917_20220929.unw.tif'), PosixPath('/u/aurora-r0/staniewi/dev/notebooks/new-orleans/dolphin/unwrapped/20220917_20221011.unw.tif'), PosixPath('/u/aurora-r0/staniewi/dev/notebooks/new-orleans/dolphin/unwrapped/20220917_20221023.unw.tif'), PosixPath('/u/aurora-r0/staniewi/dev/notebooks/new-orleans/dolphin/unwrapped/20220929_20221011.unw.tif'), PosixPath('/u/aurora-r0/staniewi/dev/notebooks/new-orleans/dolphin/unwrapped/20220929_20221023.unw.tif'), PosixPath('/u/aurora-r0/staniewi/dev/notebooks/new-orleans/dolphin/unwrapped/20220929_20221104.unw.tif'), PosixPath('/u/aurora-r0/staniewi/dev/notebooks/new-orleans/dolphin/unwrapped/20221011_20221023.unw.tif'), PosixPath('/u/aurora-r0/staniewi/dev/notebooks/new-orleans/dolphin/unwrapped/20221011_20221104.unw.tif'), PosixPath('/u/aurora-r0/staniewi/dev/notebooks/new-orleans/dolphin/unwrapped/20221011_20221116.unw.tif'), PosixPath('/u/aurora-r0/staniewi/dev/notebooks/new-orleans/dolphin/unwrapped/20221023_20221104.unw.tif'), PosixPath('/u/aurora-r0/staniewi/dev/notebooks/new-orleans/dolphin/unwrapped/20221023_20221116.unw.tif'), PosixPath('/u/aurora-r0/staniewi/dev/notebooks/new-orleans/dolphin/unwrapped/20221023_20221128.unw.tif'), PosixPath('/u/aurora-r0/staniewi/dev/notebooks/new-orleans/dolphin/unwrapped/20221104_20221116.unw.tif'), PosixPath('/u/aurora-r0/staniewi/dev/notebooks/new-orleans/dolphin/unwrapped/20221104_20221128.unw.tif'), PosixPath('/u/aurora-r0/staniewi/dev/notebooks/new-orleans/dolphin/unwrapped/20221104_20221210.unw.tif'), PosixPath('/u/aurora-r0/staniewi/dev/notebooks/new-orleans/dolphin/unwrapped/20221116_20221128.unw.tif'), PosixPath('/u/aurora-r0/staniewi/dev/notebooks/new-orleans/dolphin/unwrapped/20221116_20221210.unw.tif'), PosixPath('/u/aurora-r0/staniewi/dev/notebooks/new-orleans/dolphin/unwrapped/20221116_20221222.unw.tif'), PosixPath('/u/aurora-r0/staniewi/dev/notebooks/new-orleans/dolphin/unwrapped/20221128_20221210.unw.tif'), PosixPath('/u/aurora-r0/staniewi/dev/notebooks/new-orleans/dolphin/unwrapped/20221128_20221222.unw.tif'), PosixPath('/u/aurora-r0/staniewi/dev/notebooks/new-orleans/dolphin/unwrapped/20221210_20221222.unw.tif')], conncomp_paths=[PosixPath('/u/aurora-r0/staniewi/dev/notebooks/new-orleans/dolphin/unwrapped/20220108_20220120.unw.conncomp.tif'), PosixPath('/u/aurora-r0/staniewi/dev/notebooks/new-orleans/dolphin/unwrapped/20220108_20220201.unw.conncomp.tif'), PosixPath('/u/aurora-r0/staniewi/dev/notebooks/new-orleans/dolphin/unwrapped/20220108_20220213.unw.conncomp.tif'), PosixPath('/u/aurora-r0/staniewi/dev/notebooks/new-orleans/dolphin/unwrapped/20220120_20220201.unw.conncomp.tif'), PosixPath('/u/aurora-r0/staniewi/dev/notebooks/new-orleans/dolphin/unwrapped/20220120_20220213.unw.conncomp.tif'), PosixPath('/u/aurora-r0/staniewi/dev/notebooks/new-orleans/dolphin/unwrapped/20220120_20220225.unw.conncomp.tif'), PosixPath('/u/aurora-r0/staniewi/dev/notebooks/new-orleans/dolphin/unwrapped/20220201_20220213.unw.conncomp.tif'), PosixPath('/u/aurora-r0/staniewi/dev/notebooks/new-orleans/dolphin/unwrapped/20220201_20220225.unw.conncomp.tif'), PosixPath('/u/aurora-r0/staniewi/dev/notebooks/new-orleans/dolphin/unwrapped/20220201_20220309.unw.conncomp.tif'), PosixPath('/u/aurora-r0/staniewi/dev/notebooks/new-orleans/dolphin/unwrapped/20220213_20220225.unw.conncomp.tif'), PosixPath('/u/aurora-r0/staniewi/dev/notebooks/new-orleans/dolphin/unwrapped/20220213_20220309.unw.conncomp.tif'), PosixPath('/u/aurora-r0/staniewi/dev/notebooks/new-orleans/dolphin/unwrapped/20220213_20220321.unw.conncomp.tif'), PosixPath('/u/aurora-r0/staniewi/dev/notebooks/new-orleans/dolphin/unwrapped/20220225_20220309.unw.conncomp.tif'), PosixPath('/u/aurora-r0/staniewi/dev/notebooks/new-orleans/dolphin/unwrapped/20220225_20220321.unw.conncomp.tif'), PosixPath('/u/aurora-r0/staniewi/dev/notebooks/new-orleans/dolphin/unwrapped/20220225_20220402.unw.conncomp.tif'), PosixPath('/u/aurora-r0/staniewi/dev/notebooks/new-orleans/dolphin/unwrapped/20220309_20220321.unw.conncomp.tif'), PosixPath('/u/aurora-r0/staniewi/dev/notebooks/new-orleans/dolphin/unwrapped/20220309_20220402.unw.conncomp.tif'), PosixPath('/u/aurora-r0/staniewi/dev/notebooks/new-orleans/dolphin/unwrapped/20220309_20220426.unw.conncomp.tif'), PosixPath('/u/aurora-r0/staniewi/dev/notebooks/new-orleans/dolphin/unwrapped/20220321_20220402.unw.conncomp.tif'), PosixPath('/u/aurora-r0/staniewi/dev/notebooks/new-orleans/dolphin/unwrapped/20220321_20220426.unw.conncomp.tif'), PosixPath('/u/aurora-r0/staniewi/dev/notebooks/new-orleans/dolphin/unwrapped/20220321_20220508.unw.conncomp.tif'), PosixPath('/u/aurora-r0/staniewi/dev/notebooks/new-orleans/dolphin/unwrapped/20220402_20220426.unw.conncomp.tif'), PosixPath('/u/aurora-r0/staniewi/dev/notebooks/new-orleans/dolphin/unwrapped/20220402_20220508.unw.conncomp.tif'), PosixPath('/u/aurora-r0/staniewi/dev/notebooks/new-orleans/dolphin/unwrapped/20220402_20220601.unw.conncomp.tif'), PosixPath('/u/aurora-r0/staniewi/dev/notebooks/new-orleans/dolphin/unwrapped/20220426_20220508.unw.conncomp.tif'), PosixPath('/u/aurora-r0/staniewi/dev/notebooks/new-orleans/dolphin/unwrapped/20220426_20220601.unw.conncomp.tif'), PosixPath('/u/aurora-r0/staniewi/dev/notebooks/new-orleans/dolphin/unwrapped/20220426_20220812.unw.conncomp.tif'), PosixPath('/u/aurora-r0/staniewi/dev/notebooks/new-orleans/dolphin/unwrapped/20220508_20220601.unw.conncomp.tif'), PosixPath('/u/aurora-r0/staniewi/dev/notebooks/new-orleans/dolphin/unwrapped/20220508_20220812.unw.conncomp.tif'), PosixPath('/u/aurora-r0/staniewi/dev/notebooks/new-orleans/dolphin/unwrapped/20220508_20220905.unw.conncomp.tif'), PosixPath('/u/aurora-r0/staniewi/dev/notebooks/new-orleans/dolphin/unwrapped/20220601_20220812.unw.conncomp.tif'), PosixPath('/u/aurora-r0/staniewi/dev/notebooks/new-orleans/dolphin/unwrapped/20220601_20220905.unw.conncomp.tif'), PosixPath('/u/aurora-r0/staniewi/dev/notebooks/new-orleans/dolphin/unwrapped/20220601_20220917.unw.conncomp.tif'), PosixPath('/u/aurora-r0/staniewi/dev/notebooks/new-orleans/dolphin/unwrapped/20220812_20220905.unw.conncomp.tif'), PosixPath('/u/aurora-r0/staniewi/dev/notebooks/new-orleans/dolphin/unwrapped/20220812_20220917.unw.conncomp.tif'), PosixPath('/u/aurora-r0/staniewi/dev/notebooks/new-orleans/dolphin/unwrapped/20220812_20220929.unw.conncomp.tif'), PosixPath('/u/aurora-r0/staniewi/dev/notebooks/new-orleans/dolphin/unwrapped/20220905_20220917.unw.conncomp.tif'), PosixPath('/u/aurora-r0/staniewi/dev/notebooks/new-orleans/dolphin/unwrapped/20220905_20220929.unw.conncomp.tif'), PosixPath('/u/aurora-r0/staniewi/dev/notebooks/new-orleans/dolphin/unwrapped/20220905_20221011.unw.conncomp.tif'), PosixPath('/u/aurora-r0/staniewi/dev/notebooks/new-orleans/dolphin/unwrapped/20220917_20220929.unw.conncomp.tif'), PosixPath('/u/aurora-r0/staniewi/dev/notebooks/new-orleans/dolphin/unwrapped/20220917_20221011.unw.conncomp.tif'), PosixPath('/u/aurora-r0/staniewi/dev/notebooks/new-orleans/dolphin/unwrapped/20220917_20221023.unw.conncomp.tif'), PosixPath('/u/aurora-r0/staniewi/dev/notebooks/new-orleans/dolphin/unwrapped/20220929_20221011.unw.conncomp.tif'), PosixPath('/u/aurora-r0/staniewi/dev/notebooks/new-orleans/dolphin/unwrapped/20220929_20221023.unw.conncomp.tif'), PosixPath('/u/aurora-r0/staniewi/dev/notebooks/new-orleans/dolphin/unwrapped/20220929_20221104.unw.conncomp.tif'), PosixPath('/u/aurora-r0/staniewi/dev/notebooks/new-orleans/dolphin/unwrapped/20221011_20221023.unw.conncomp.tif'), PosixPath('/u/aurora-r0/staniewi/dev/notebooks/new-orleans/dolphin/unwrapped/20221011_20221104.unw.conncomp.tif'), PosixPath('/u/aurora-r0/staniewi/dev/notebooks/new-orleans/dolphin/unwrapped/20221011_20221116.unw.conncomp.tif'), PosixPath('/u/aurora-r0/staniewi/dev/notebooks/new-orleans/dolphin/unwrapped/20221023_20221104.unw.conncomp.tif'), PosixPath('/u/aurora-r0/staniewi/dev/notebooks/new-orleans/dolphin/unwrapped/20221023_20221116.unw.conncomp.tif'), PosixPath('/u/aurora-r0/staniewi/dev/notebooks/new-orleans/dolphin/unwrapped/20221023_20221128.unw.conncomp.tif'), PosixPath('/u/aurora-r0/staniewi/dev/notebooks/new-orleans/dolphin/unwrapped/20221104_20221116.unw.conncomp.tif'), PosixPath('/u/aurora-r0/staniewi/dev/notebooks/new-orleans/dolphin/unwrapped/20221104_20221128.unw.conncomp.tif'), PosixPath('/u/aurora-r0/staniewi/dev/notebooks/new-orleans/dolphin/unwrapped/20221104_20221210.unw.conncomp.tif'), PosixPath('/u/aurora-r0/staniewi/dev/notebooks/new-orleans/dolphin/unwrapped/20221116_20221128.unw.conncomp.tif'), PosixPath('/u/aurora-r0/staniewi/dev/notebooks/new-orleans/dolphin/unwrapped/20221116_20221210.unw.conncomp.tif'), PosixPath('/u/aurora-r0/staniewi/dev/notebooks/new-orleans/dolphin/unwrapped/20221116_20221222.unw.conncomp.tif'), PosixPath('/u/aurora-r0/staniewi/dev/notebooks/new-orleans/dolphin/unwrapped/20221128_20221210.unw.conncomp.tif'), PosixPath('/u/aurora-r0/staniewi/dev/notebooks/new-orleans/dolphin/unwrapped/20221128_20221222.unw.conncomp.tif'), PosixPath('/u/aurora-r0/staniewi/dev/notebooks/new-orleans/dolphin/unwrapped/20221210_20221222.unw.conncomp.tif')], timeseries_paths=[PosixPath('/u/aurora-r0/staniewi/dev/notebooks/new-orleans/dolphin/timeseries/20220108_20220120.tif'), PosixPath('/u/aurora-r0/staniewi/dev/notebooks/new-orleans/dolphin/timeseries/20220108_20220201.tif'), PosixPath('/u/aurora-r0/staniewi/dev/notebooks/new-orleans/dolphin/timeseries/20220108_20220213.tif'), PosixPath('/u/aurora-r0/staniewi/dev/notebooks/new-orleans/dolphin/timeseries/20220108_20220225.tif'), PosixPath('/u/aurora-r0/staniewi/dev/notebooks/new-orleans/dolphin/timeseries/20220108_20220309.tif'), PosixPath('/u/aurora-r0/staniewi/dev/notebooks/new-orleans/dolphin/timeseries/20220108_20220321.tif'), PosixPath('/u/aurora-r0/staniewi/dev/notebooks/new-orleans/dolphin/timeseries/20220108_20220402.tif'), PosixPath('/u/aurora-r0/staniewi/dev/notebooks/new-orleans/dolphin/timeseries/20220108_20220426.tif'), PosixPath('/u/aurora-r0/staniewi/dev/notebooks/new-orleans/dolphin/timeseries/20220108_20220508.tif'), PosixPath('/u/aurora-r0/staniewi/dev/notebooks/new-orleans/dolphin/timeseries/20220108_20220601.tif'), PosixPath('/u/aurora-r0/staniewi/dev/notebooks/new-orleans/dolphin/timeseries/20220108_20220812.tif'), PosixPath('/u/aurora-r0/staniewi/dev/notebooks/new-orleans/dolphin/timeseries/20220108_20220905.tif'), PosixPath('/u/aurora-r0/staniewi/dev/notebooks/new-orleans/dolphin/timeseries/20220108_20220917.tif'), PosixPath('/u/aurora-r0/staniewi/dev/notebooks/new-orleans/dolphin/timeseries/20220108_20220929.tif'), PosixPath('/u/aurora-r0/staniewi/dev/notebooks/new-orleans/dolphin/timeseries/20220108_20221011.tif'), PosixPath('/u/aurora-r0/staniewi/dev/notebooks/new-orleans/dolphin/timeseries/20220108_20221023.tif'), PosixPath('/u/aurora-r0/staniewi/dev/notebooks/new-orleans/dolphin/timeseries/20220108_20221104.tif'), PosixPath('/u/aurora-r0/staniewi/dev/notebooks/new-orleans/dolphin/timeseries/20220108_20221116.tif'), PosixPath('/u/aurora-r0/staniewi/dev/notebooks/new-orleans/dolphin/timeseries/20220108_20221128.tif'), PosixPath('/u/aurora-r0/staniewi/dev/notebooks/new-orleans/dolphin/timeseries/20220108_20221210.tif'), PosixPath('/u/aurora-r0/staniewi/dev/notebooks/new-orleans/dolphin/timeseries/20220108_20221222.tif')], timeseries_residual_paths=[PosixPath('/u/aurora-r0/staniewi/dev/notebooks/new-orleans/dolphin/timeseries/residuals_20220108_20220120.tif'), PosixPath('/u/aurora-r0/staniewi/dev/notebooks/new-orleans/dolphin/timeseries/residuals_20220108_20220201.tif'), PosixPath('/u/aurora-r0/staniewi/dev/notebooks/new-orleans/dolphin/timeseries/residuals_20220108_20220213.tif'), PosixPath('/u/aurora-r0/staniewi/dev/notebooks/new-orleans/dolphin/timeseries/residuals_20220108_20220225.tif'), PosixPath('/u/aurora-r0/staniewi/dev/notebooks/new-orleans/dolphin/timeseries/residuals_20220108_20220309.tif'), PosixPath('/u/aurora-r0/staniewi/dev/notebooks/new-orleans/dolphin/timeseries/residuals_20220108_20220321.tif'), PosixPath('/u/aurora-r0/staniewi/dev/notebooks/new-orleans/dolphin/timeseries/residuals_20220108_20220402.tif'), PosixPath('/u/aurora-r0/staniewi/dev/notebooks/new-orleans/dolphin/timeseries/residuals_20220108_20220426.tif'), PosixPath('/u/aurora-r0/staniewi/dev/notebooks/new-orleans/dolphin/timeseries/residuals_20220108_20220508.tif'), PosixPath('/u/aurora-r0/staniewi/dev/notebooks/new-orleans/dolphin/timeseries/residuals_20220108_20220601.tif'), PosixPath('/u/aurora-r0/staniewi/dev/notebooks/new-orleans/dolphin/timeseries/residuals_20220108_20220812.tif'), PosixPath('/u/aurora-r0/staniewi/dev/notebooks/new-orleans/dolphin/timeseries/residuals_20220108_20220905.tif'), PosixPath('/u/aurora-r0/staniewi/dev/notebooks/new-orleans/dolphin/timeseries/residuals_20220108_20220917.tif'), PosixPath('/u/aurora-r0/staniewi/dev/notebooks/new-orleans/dolphin/timeseries/residuals_20220108_20220929.tif'), PosixPath('/u/aurora-r0/staniewi/dev/notebooks/new-orleans/dolphin/timeseries/residuals_20220108_20221011.tif'), PosixPath('/u/aurora-r0/staniewi/dev/notebooks/new-orleans/dolphin/timeseries/residuals_20220108_20221023.tif'), PosixPath('/u/aurora-r0/staniewi/dev/notebooks/new-orleans/dolphin/timeseries/residuals_20220108_20221104.tif'), PosixPath('/u/aurora-r0/staniewi/dev/notebooks/new-orleans/dolphin/timeseries/residuals_20220108_20221116.tif'), PosixPath('/u/aurora-r0/staniewi/dev/notebooks/new-orleans/dolphin/timeseries/residuals_20220108_20221128.tif'), PosixPath('/u/aurora-r0/staniewi/dev/notebooks/new-orleans/dolphin/timeseries/residuals_20220108_20221210.tif'), PosixPath('/u/aurora-r0/staniewi/dev/notebooks/new-orleans/dolphin/timeseries/residuals_20220108_20221222.tif')], reference_point=ReferencePoint(row=1216, col=815))"
      ]
     },
     "execution_count": 14,
     "metadata": {},
     "output_type": "execute_result"
    }
   ],
   "source": [
    "# %%capture outputs\n",
    "\n",
    "# To see all the output logging, remove the line above\n",
    "\n",
    "import os\n",
    "\n",
    "# TQDM doesn't play nicely with notebook outputs, not like terminal\n",
    "# os.environ[\"TQDM_DISABLE\"] = \"1\"\n",
    "os.environ[\"XLA_PYTHON_CLIENT_MEM_FRACTION\"] = \".15\"\n",
    "\n",
    "# Running from the command line\n",
    "# !dolphin run dolphin_config.yaml\n",
    "\n",
    "# Running within python:\n",
    "from dolphin.workflows import displacement, DisplacementWorkflow\n",
    "cfg = DisplacementWorkflow.from_yaml(\"dolphin_config.yaml\")\n",
    "displacement.run(cfg)"
   ]
  },
  {
   "cell_type": "code",
   "execution_count": 15,
   "id": "54781c6d-394b-42d6-81c3-be62a61a733c",
   "metadata": {},
   "outputs": [
    {
     "name": "stdout",
     "output_type": "stream",
     "text": [
      "dolphin  dolphin_config.yaml  input_slcs  water_mask.tif\n"
     ]
    },
    {
     "name": "stderr",
     "output_type": "stream",
     "text": [
      "/u/aurora-r0/staniewi/miniconda3/envs/mapping-311/lib/python3.11/pty.py:89: RuntimeWarning: os.fork() was called. os.fork() is incompatible with multithreaded code, and JAX is multithreaded, so this will likely lead to a deadlock.\n",
      "  pid, fd = os.forkpty()\n"
     ]
    }
   ],
   "source": [
    "!ls "
   ]
  },
  {
   "cell_type": "markdown",
   "id": "5df612a3-8568-4743-aa0b-9bf3f7e1ed27",
   "metadata": {},
   "source": [
    "## Visualization the displacement\n",
    "\n",
    "The outputs can be plotted using any tool capable of reading GDAL-compatible rasters. You can also use the `dolphin.io.load_gdal` function for convenience.\n"
   ]
  },
  {
   "cell_type": "code",
   "execution_count": 16,
   "id": "682685f0-7e45-4cf0-80b8-6ee18da73de0",
   "metadata": {},
   "outputs": [
    {
     "name": "stdout",
     "output_type": "stream",
     "text": [
      "Found 21 timeseries files\n"
     ]
    }
   ],
   "source": [
    "file_list = sorted(Path(\"dolphin/timeseries/\").glob(\"2*.tif\"))\n",
    "print(f\"Found {len(file_list)} timeseries files\")"
   ]
  },
  {
   "cell_type": "code",
   "execution_count": 17,
   "id": "eff42555-1417-48db-a7c6-e46ecd310b52",
   "metadata": {},
   "outputs": [],
   "source": [
    "import matplotlib.pyplot as plt\n",
    "import numpy as np\n",
    "from opera_utils import get_dates\n",
    "\n",
    "from dolphin.io import load_gdal\n",
    "\n",
    "%matplotlib inline"
   ]
  },
  {
   "cell_type": "code",
   "execution_count": 24,
   "id": "fa550fdb-a862-4b50-b37b-a755d13bc9c3",
   "metadata": {},
   "outputs": [],
   "source": [
    "fig, ax = plt.subplots(figsize=(6, 5))\n",
    "\n",
    "last_displacement = load_gdal(file_list[-1], masked=True)\n",
    "\n",
    "axim = ax.imshow(\n",
    "    last_displacement - np.ma.median(last_displacement),\n",
    "    cmap=\"RdBu_r\",\n",
    "    vmax=0.15,\n",
    "    vmin=-0.15,\n",
    ")\n",
    "fig.colorbar(axim, label=\"LOS [meters]\")\n",
    "\n",
    "fig.tight_layout()"
   ]
  },
  {
   "cell_type": "markdown",
   "id": "afb59985-b2d7-47ea-a5c6-8ef0aeb2da71",
   "metadata": {},
   "source": [
    "### Apppendix: More on the output folders\n",
    "\n",
    "For each stack of SLCs (which may be > 1 when processing OPERA geocoded burst SLCs), the workflow creates a folder for\n",
    "1. persistent scatter outputs (`PS`)\n",
    "2. linked phase optimized SLCs (`linked_phase`)\n",
    "3. (virtual) interferograms formed using the optimized SLCs (`interferograms`)\n",
    "\n",
    "Here we have two of these subdirectories named `t042_088905_iw1` and `t042_088906_iw1`.\n",
    "At the top level, we have\n",
    "- The `slc_stack.vrt` is a VRT file pointing to the input SLCs for that burst stack.\n",
    "- The `nodata_mask.tif` has been created from the OPERA CSLC metadata to skip over the nan regions\n",
    "- The `bounds_mask.tif` was created to more quickly process a subset of the CSLCS.\n",
    "\n",
    "Last, there are a top-level directorie for `interferograms` that have been stitched together, `unwrapped` folder for the outputs of phase unwrapping, and `timeseries` for the result of inverting in unwrapped interferograms (if a network of redundant interferograms were created).\n",
    "\n",
    "```\n",
    "$ tree -L 1 work-walkthrough/\n",
    "work-walkthrough/\n",
    "├── dolphin.log\n",
    "├── interferograms\n",
    "├── t078_165573_iw2\n",
    "├── t078_165574_iw2\n",
    "├── timeseries\n",
    "└── unwrapped\n",
    "\n",
    "$ tree -L 1 work-walkthrough/t078_165574_iw2/\n",
    "work-walkthrough/t078_165574_iw2/\n",
    "├── PS\n",
    "├── bounds_mask.tif\n",
    "├── combined_mask.tif\n",
    "├── interferograms\n",
    "├── linked_phase\n",
    "├── nodata_mask.tif\n",
    "├── slc_stack.vrt\n",
    "├── timeseries\n",
    "└── unwrapped\n",
    "    \n",
    "```"
   ]
  },
  {
   "cell_type": "code",
   "execution_count": null,
   "id": "92157827-09d3-49ee-b834-99cd617fde17",
   "metadata": {},
   "outputs": [],
   "source": []
  }
 ],
 "metadata": {
  "kernelspec": {
   "display_name": "Python 3 (ipykernel)",
   "language": "python",
   "name": "python3"
  },
  "language_info": {
   "codemirror_mode": {
    "name": "ipython",
    "version": 3
   },
   "file_extension": ".py",
   "mimetype": "text/x-python",
   "name": "python",
   "nbconvert_exporter": "python",
   "pygments_lexer": "ipython3",
   "version": "3.11.9"
  }
 },
 "nbformat": 4,
 "nbformat_minor": 5
}